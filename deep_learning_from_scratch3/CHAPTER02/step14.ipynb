{
 "cells": [
  {
   "cell_type": "code",
   "execution_count": 1,
   "id": "4cdd8dc4",
   "metadata": {},
   "outputs": [],
   "source": [
    "import sys\n",
    "sys.path.append('..')\n",
    "from dezero import *"
   ]
  },
  {
   "cell_type": "code",
   "execution_count": 2,
   "id": "757024ed",
   "metadata": {},
   "outputs": [
    {
     "name": "stdout",
     "output_type": "stream",
     "text": [
      "y  6.0\n"
     ]
    }
   ],
   "source": [
    "x = Variable(np.array(3.0))\n",
    "y = add(x, x)\n",
    "print('y ', y.data)"
   ]
  },
  {
   "cell_type": "code",
   "execution_count": 3,
   "id": "51673ccf",
   "metadata": {},
   "outputs": [
    {
     "name": "stdout",
     "output_type": "stream",
     "text": [
      "y.grad  1.0\n"
     ]
    }
   ],
   "source": [
    "y.backward()\n",
    "print('y.grad ', y.grad)"
   ]
  },
  {
   "cell_type": "code",
   "execution_count": 4,
   "id": "bcb53509",
   "metadata": {},
   "outputs": [],
   "source": [
    "from dezero import *"
   ]
  },
  {
   "cell_type": "code",
   "execution_count": 5,
   "id": "260f1036",
   "metadata": {},
   "outputs": [
    {
     "name": "stdout",
     "output_type": "stream",
     "text": [
      "y  6.0\n",
      "y.grad  1.0\n"
     ]
    }
   ],
   "source": [
    "x = Variable(np.array(3.0))\n",
    "y = add(x, x)\n",
    "print('y ', y.data)\n",
    "y.backward()\n",
    "print('y.grad ', y.grad)"
   ]
  },
  {
   "cell_type": "code",
   "execution_count": 6,
   "id": "c6d142bd",
   "metadata": {},
   "outputs": [
    {
     "name": "stdout",
     "output_type": "stream",
     "text": [
      "5.0\n"
     ]
    }
   ],
   "source": [
    "y = add(add(x, x), x)\n",
    "y.backward()\n",
    "print(x.grad)"
   ]
  },
  {
   "cell_type": "code",
   "execution_count": 7,
   "id": "7bbc097b",
   "metadata": {},
   "outputs": [
    {
     "name": "stdout",
     "output_type": "stream",
     "text": [
      "3.0\n"
     ]
    }
   ],
   "source": [
    "x.cleargrad()\n",
    "y = add(add(x, x), x)\n",
    "y.backward()\n",
    "print(x.grad)"
   ]
  },
  {
   "cell_type": "code",
   "execution_count": null,
   "id": "1b3814e3",
   "metadata": {},
   "outputs": [],
   "source": []
  }
 ],
 "metadata": {
  "kernelspec": {
   "display_name": "Python 3",
   "language": "python",
   "name": "python3"
  },
  "language_info": {
   "codemirror_mode": {
    "name": "ipython",
    "version": 3
   },
   "file_extension": ".py",
   "mimetype": "text/x-python",
   "name": "python",
   "nbconvert_exporter": "python",
   "pygments_lexer": "ipython3",
   "version": "3.8.2"
  }
 },
 "nbformat": 4,
 "nbformat_minor": 5
}
