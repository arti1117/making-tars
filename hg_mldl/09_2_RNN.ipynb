{
  "nbformat": 4,
  "nbformat_minor": 0,
  "metadata": {
    "colab": {
      "name": "09_2_RNN.ipynb",
      "provenance": [],
      "collapsed_sections": [],
      "authorship_tag": "ABX9TyNbLPs5rOwvzBwBoDKrwGMe",
      "include_colab_link": true
    },
    "kernelspec": {
      "name": "python3",
      "display_name": "Python 3"
    },
    "language_info": {
      "name": "python"
    },
    "accelerator": "GPU"
  },
  "cells": [
    {
      "cell_type": "markdown",
      "metadata": {
        "id": "view-in-github",
        "colab_type": "text"
      },
      "source": [
        "<a href=\"https://colab.research.google.com/github/arti1117/making-tars/blob/main/hg-mldl/09_2_RNN.ipynb\" target=\"_parent\"><img src=\"https://colab.research.google.com/assets/colab-badge.svg\" alt=\"Open In Colab\"/></a>"
      ]
    },
    {
      "cell_type": "code",
      "execution_count": 1,
      "metadata": {
        "id": "CrByfIhKTw7v",
        "colab": {
          "base_uri": "https://localhost:8080/"
        },
        "outputId": "e74c70de-23e5-45f8-e5b7-ef41539952de"
      },
      "outputs": [
        {
          "output_type": "stream",
          "name": "stdout",
          "text": [
            "Downloading data from https://storage.googleapis.com/tensorflow/tf-keras-datasets/imdb.npz\n",
            "17465344/17464789 [==============================] - 0s 0us/step\n",
            "17473536/17464789 [==============================] - 0s 0us/step\n"
          ]
        }
      ],
      "source": [
        "from tensorflow.keras.datasets import imdb\n",
        "(train_input, train_target), (test_input, test_target) = imdb.load_data(\n",
        "    num_words=500\n",
        ")"
      ]
    },
    {
      "cell_type": "code",
      "source": [
        "print(train_input.shape, test_input.shape)"
      ],
      "metadata": {
        "colab": {
          "base_uri": "https://localhost:8080/"
        },
        "id": "s_7D8LrsC25k",
        "outputId": "3bb1e37c-021f-4113-dc84-8065290140e9"
      },
      "execution_count": 2,
      "outputs": [
        {
          "output_type": "stream",
          "name": "stdout",
          "text": [
            "(25000,) (25000,)\n"
          ]
        }
      ]
    },
    {
      "cell_type": "code",
      "source": [
        "print(train_input[0])"
      ],
      "metadata": {
        "colab": {
          "base_uri": "https://localhost:8080/"
        },
        "id": "ryStF2ytC6HN",
        "outputId": "f7d7d8e7-5688-4305-bd8c-54c6119b9e04"
      },
      "execution_count": 3,
      "outputs": [
        {
          "output_type": "stream",
          "name": "stdout",
          "text": [
            "[1, 14, 22, 16, 43, 2, 2, 2, 2, 65, 458, 2, 66, 2, 4, 173, 36, 256, 5, 25, 100, 43, 2, 112, 50, 2, 2, 9, 35, 480, 284, 5, 150, 4, 172, 112, 167, 2, 336, 385, 39, 4, 172, 2, 2, 17, 2, 38, 13, 447, 4, 192, 50, 16, 6, 147, 2, 19, 14, 22, 4, 2, 2, 469, 4, 22, 71, 87, 12, 16, 43, 2, 38, 76, 15, 13, 2, 4, 22, 17, 2, 17, 12, 16, 2, 18, 2, 5, 62, 386, 12, 8, 316, 8, 106, 5, 4, 2, 2, 16, 480, 66, 2, 33, 4, 130, 12, 16, 38, 2, 5, 25, 124, 51, 36, 135, 48, 25, 2, 33, 6, 22, 12, 215, 28, 77, 52, 5, 14, 407, 16, 82, 2, 8, 4, 107, 117, 2, 15, 256, 4, 2, 7, 2, 5, 2, 36, 71, 43, 2, 476, 26, 400, 317, 46, 7, 4, 2, 2, 13, 104, 88, 4, 381, 15, 297, 98, 32, 2, 56, 26, 141, 6, 194, 2, 18, 4, 226, 22, 21, 134, 476, 26, 480, 5, 144, 30, 2, 18, 51, 36, 28, 224, 92, 25, 104, 4, 226, 65, 16, 38, 2, 88, 12, 16, 283, 5, 16, 2, 113, 103, 32, 15, 16, 2, 19, 178, 32]\n"
          ]
        }
      ]
    },
    {
      "cell_type": "code",
      "source": [
        "print(len(train_input[0]))"
      ],
      "metadata": {
        "colab": {
          "base_uri": "https://localhost:8080/"
        },
        "id": "o2LLlrOeDIzl",
        "outputId": "28772eed-3107-43f5-934d-31b5a6d2913d"
      },
      "execution_count": 4,
      "outputs": [
        {
          "output_type": "stream",
          "name": "stdout",
          "text": [
            "218\n"
          ]
        }
      ]
    },
    {
      "cell_type": "code",
      "source": [
        "type(train_input[0])"
      ],
      "metadata": {
        "colab": {
          "base_uri": "https://localhost:8080/"
        },
        "id": "ylCBJin_DMnt",
        "outputId": "6fc4b5cc-7083-4d90-b05c-fe760b7e2ce0"
      },
      "execution_count": 5,
      "outputs": [
        {
          "output_type": "execute_result",
          "data": {
            "text/plain": [
              "list"
            ]
          },
          "metadata": {},
          "execution_count": 5
        }
      ]
    },
    {
      "cell_type": "code",
      "source": [
        "print(train_target[:20])"
      ],
      "metadata": {
        "colab": {
          "base_uri": "https://localhost:8080/"
        },
        "id": "-KxOv-RuDUbd",
        "outputId": "64e62703-764c-4cf9-ace8-e6e542b27ee8"
      },
      "execution_count": 6,
      "outputs": [
        {
          "output_type": "stream",
          "name": "stdout",
          "text": [
            "[1 0 0 1 0 0 1 0 1 0 1 0 0 0 0 0 1 1 0 1]\n"
          ]
        }
      ]
    },
    {
      "cell_type": "code",
      "source": [
        "from sklearn.model_selection import train_test_split\n",
        "train_input, val_input, train_target, val_target = train_test_split(\n",
        "    train_input, train_target, test_size=0.2, random_state=42\n",
        ")"
      ],
      "metadata": {
        "id": "Z9P2pf95DaxE"
      },
      "execution_count": 7,
      "outputs": []
    },
    {
      "cell_type": "code",
      "source": [
        "import numpy as np\n",
        "lengths = np.array([len(x) for x in train_input])"
      ],
      "metadata": {
        "id": "Tx12lB6vDnPT"
      },
      "execution_count": 8,
      "outputs": []
    },
    {
      "cell_type": "code",
      "source": [
        "print(np.mean(lengths), np.median(lengths))"
      ],
      "metadata": {
        "colab": {
          "base_uri": "https://localhost:8080/"
        },
        "id": "32ySeKX-Dxoj",
        "outputId": "b78bf19e-75e1-487a-e5dd-a6fc80013af8"
      },
      "execution_count": 9,
      "outputs": [
        {
          "output_type": "stream",
          "name": "stdout",
          "text": [
            "239.00925 178.0\n"
          ]
        }
      ]
    },
    {
      "cell_type": "code",
      "source": [
        "import matplotlib.pyplot as plt\n",
        "plt.hist(lengths)\n",
        "plt.xlabel('length')\n",
        "plt.ylabel('frequency')\n",
        "plt.show()"
      ],
      "metadata": {
        "colab": {
          "base_uri": "https://localhost:8080/",
          "height": 279
        },
        "id": "UPo3hlMbD0x0",
        "outputId": "502c7d49-ecb6-42ab-f8fe-25a244f0c5a2"
      },
      "execution_count": 10,
      "outputs": [
        {
          "output_type": "display_data",
          "data": {
            "text/plain": [
              "<Figure size 432x288 with 1 Axes>"
            ],
            "image/png": "[encoded data removed]"
          },
          "metadata": {
            "needs_background": "light"
          }
        }
      ]
    },
    {
      "cell_type": "code",
      "source": [
        "from tensorflow.keras.preprocessing.sequence import pad_sequences\n",
        "train_seq = pad_sequences(train_input, maxlen=100)"
      ],
      "metadata": {
        "id": "-es8R7UHD_-F"
      },
      "execution_count": 11,
      "outputs": []
    },
    {
      "cell_type": "code",
      "source": [
        "print(train_seq.shape)"
      ],
      "metadata": {
        "colab": {
          "base_uri": "https://localhost:8080/"
        },
        "id": "PF0YPgwSEeS1",
        "outputId": "bb935d6d-1bd4-4b3d-c24c-0b0914dee10e"
      },
      "execution_count": 12,
      "outputs": [
        {
          "output_type": "stream",
          "name": "stdout",
          "text": [
            "(20000, 100)\n"
          ]
        }
      ]
    },
    {
      "cell_type": "code",
      "source": [
        "print(train_seq[0])"
      ],
      "metadata": {
        "colab": {
          "base_uri": "https://localhost:8080/"
        },
        "id": "-EVr_tLoEh08",
        "outputId": "edb2cc19-c5ab-4f26-bf06-66f8e4493c14"
      },
      "execution_count": 13,
      "outputs": [
        {
          "output_type": "stream",
          "name": "stdout",
          "text": [
            "[ 10   4  20   9   2 364 352   5  45   6   2   2  33 269   8   2 142   2\n",
            "   5   2  17  73  17 204   5   2  19  55   2   2  92  66 104  14  20  93\n",
            "  76   2 151  33   4  58  12 188   2 151  12 215  69 224 142  73 237   6\n",
            "   2   7   2   2 188   2 103  14  31  10  10 451   7   2   5   2  80  91\n",
            "   2  30   2  34  14  20 151  50  26 131  49   2  84  46  50  37  80  79\n",
            "   6   2  46   7  14  20  10  10 470 158]\n"
          ]
        }
      ]
    },
    {
      "cell_type": "code",
      "source": [
        "print(train_input[0][-10:])"
      ],
      "metadata": {
        "colab": {
          "base_uri": "https://localhost:8080/"
        },
        "id": "NWUITzIdElB9",
        "outputId": "b10fb3d2-b8a9-4d37-f1d0-d72b89663e74"
      },
      "execution_count": 14,
      "outputs": [
        {
          "output_type": "stream",
          "name": "stdout",
          "text": [
            "[6, 2, 46, 7, 14, 20, 10, 10, 470, 158]\n"
          ]
        }
      ]
    },
    {
      "cell_type": "code",
      "source": [
        "print(train_seq[5])"
      ],
      "metadata": {
        "colab": {
          "base_uri": "https://localhost:8080/"
        },
        "id": "aMGVo3c5Epw0",
        "outputId": "243b8d2e-d7b2-448a-c761-ded4598e4dbb"
      },
      "execution_count": 15,
      "outputs": [
        {
          "output_type": "stream",
          "name": "stdout",
          "text": [
            "[  0   0   0   0   1   2 195  19  49   2   2 190   4   2 352   2 183  10\n",
            "  10  13  82  79   4   2  36  71 269   8   2  25  19  49   7   4   2   2\n",
            "   2   2   2  10  10  48  25  40   2  11   2   2  40   2   2   5   4   2\n",
            "   2  95  14 238  56 129   2  10  10  21   2  94 364 352   2   2  11 190\n",
            "  24 484   2   7  94 205 405  10  10  87   2  34  49   2   7   2   2   2\n",
            "   2   2 290   2  46  48  64  18   4   2]\n"
          ]
        }
      ]
    },
    {
      "cell_type": "code",
      "source": [
        "val_seq = pad_sequences(val_input, maxlen=100)"
      ],
      "metadata": {
        "id": "jHTDJD_2E8sl"
      },
      "execution_count": 16,
      "outputs": []
    },
    {
      "cell_type": "code",
      "source": [
        "from tensorflow import keras\n",
        "model = keras.Sequential()\n",
        "model.add(keras.layers.SimpleRNN(8, input_shape=(100, 500)))\n",
        "model.add(keras.layers.Dense(1, activation='sigmoid'))"
      ],
      "metadata": {
        "id": "AOZT6Fh1FBlk"
      },
      "execution_count": 17,
      "outputs": []
    },
    {
      "cell_type": "code",
      "source": [
        "train_oh = keras.utils.to_categorical(train_seq)\n",
        "print(train_oh.shape)"
      ],
      "metadata": {
        "colab": {
          "base_uri": "https://localhost:8080/"
        },
        "id": "CCLZTEK8Fj_u",
        "outputId": "6bf96b33-ad1c-46cd-b980-f06c5016f9af"
      },
      "execution_count": 18,
      "outputs": [
        {
          "output_type": "stream",
          "name": "stdout",
          "text": [
            "(20000, 100, 500)\n"
          ]
        }
      ]
    },
    {
      "cell_type": "code",
      "source": [
        "print(train_oh[0][0][:12])"
      ],
      "metadata": {
        "colab": {
          "base_uri": "https://localhost:8080/"
        },
        "id": "jySAUCV-GbNl",
        "outputId": "c53946b6-e69f-4266-af56-f18920db3ba4"
      },
      "execution_count": 19,
      "outputs": [
        {
          "output_type": "stream",
          "name": "stdout",
          "text": [
            "[0. 0. 0. 0. 0. 0. 0. 0. 0. 0. 1. 0.]\n"
          ]
        }
      ]
    },
    {
      "cell_type": "code",
      "source": [
        "print(np.sum(train_oh[0][0]))"
      ],
      "metadata": {
        "colab": {
          "base_uri": "https://localhost:8080/"
        },
        "id": "IgDEL_kQGg5U",
        "outputId": "ecc0e715-e1af-4a33-d723-c47739fe4ec3"
      },
      "execution_count": 20,
      "outputs": [
        {
          "output_type": "stream",
          "name": "stdout",
          "text": [
            "1.0\n"
          ]
        }
      ]
    },
    {
      "cell_type": "code",
      "source": [
        "val_oh = keras.utils.to_categorical(val_seq)"
      ],
      "metadata": {
        "id": "Mud3tYv2GlI8"
      },
      "execution_count": 21,
      "outputs": []
    },
    {
      "cell_type": "code",
      "source": [
        "model.summary()"
      ],
      "metadata": {
        "colab": {
          "base_uri": "https://localhost:8080/"
        },
        "id": "CkkmJSiGGpes",
        "outputId": "9ee4d675-0ed5-4dc5-c1f9-795b040cace6"
      },
      "execution_count": 22,
      "outputs": [
        {
          "output_type": "stream",
          "name": "stdout",
          "text": [
            "Model: \"sequential\"\n",
            "_________________________________________________________________\n",
            " Layer (type)                Output Shape              Param #   \n",
            "=================================================================\n",
            " simple_rnn (SimpleRNN)      (None, 8)                 4072      \n",
            "                                                                 \n",
            " dense (Dense)               (None, 1)                 9         \n",
            "                                                                 \n",
            "=================================================================\n",
            "Total params: 4,081\n",
            "Trainable params: 4,081\n",
            "Non-trainable params: 0\n",
            "_________________________________________________________________\n"
          ]
        }
      ]
    },
    {
      "cell_type": "code",
      "source": [
        "rmsprop = keras.optimizers.RMSprop(learning_rate=1e-4)\n",
        "model.compile(optimizer=rmsprop, loss='binary_crossentropy',\n",
        "              metrics=['accuracy'])\n",
        "checkpoint_cb = keras.callbacks.ModelCheckpoint('best-simplernn-model.h5',\n",
        "                                                save_best_only=True)\n",
        "early_stopping_cb = keras.callbacks.EarlyStopping(patience=3,\n",
        "                                                  restore_best_weights=True)"
      ],
      "metadata": {
        "id": "cUVukYddGsDd"
      },
      "execution_count": 23,
      "outputs": []
    },
    {
      "cell_type": "code",
      "source": [
        "history = model.fit(train_oh, train_target, epochs=100, batch_size=64,\n",
        "                    validation_data=(val_oh, val_target),\n",
        "                    callbacks=[checkpoint_cb, early_stopping_cb])"
      ],
      "metadata": {
        "colab": {
          "base_uri": "https://localhost:8080/"
        },
        "id": "ClMBPYsBK0pu",
        "outputId": "958ac78a-e4d9-4f05-95b8-ec897dbd202c"
      },
      "execution_count": 24,
      "outputs": [
        {
          "output_type": "stream",
          "name": "stdout",
          "text": [
            "Epoch 1/100\n",
            "313/313 [==============================] - 48s 130ms/step - loss: 0.7035 - accuracy: 0.5000 - val_loss: 0.6985 - val_accuracy: 0.4988\n",
            "Epoch 2/100\n",
            "313/313 [==============================] - 34s 110ms/step - loss: 0.6895 - accuracy: 0.5391 - val_loss: 0.6809 - val_accuracy: 0.5650\n",
            "Epoch 3/100\n",
            "313/313 [==============================] - 35s 113ms/step - loss: 0.6688 - accuracy: 0.6040 - val_loss: 0.6598 - val_accuracy: 0.6292\n",
            "Epoch 4/100\n",
            "313/313 [==============================] - 34s 109ms/step - loss: 0.6484 - accuracy: 0.6550 - val_loss: 0.6438 - val_accuracy: 0.6642\n",
            "Epoch 5/100\n",
            "313/313 [==============================] - 33s 106ms/step - loss: 0.6320 - accuracy: 0.6816 - val_loss: 0.6266 - val_accuracy: 0.6922\n",
            "Epoch 6/100\n",
            "313/313 [==============================] - 33s 106ms/step - loss: 0.6161 - accuracy: 0.7020 - val_loss: 0.6117 - val_accuracy: 0.7074\n",
            "Epoch 7/100\n",
            "313/313 [==============================] - 33s 105ms/step - loss: 0.6009 - accuracy: 0.7185 - val_loss: 0.6005 - val_accuracy: 0.7164\n",
            "Epoch 8/100\n",
            "313/313 [==============================] - 34s 109ms/step - loss: 0.5863 - accuracy: 0.7315 - val_loss: 0.5861 - val_accuracy: 0.7308\n",
            "Epoch 9/100\n",
            "313/313 [==============================] - 34s 108ms/step - loss: 0.5723 - accuracy: 0.7405 - val_loss: 0.5718 - val_accuracy: 0.7388\n",
            "Epoch 10/100\n",
            "313/313 [==============================] - 34s 108ms/step - loss: 0.5593 - accuracy: 0.7513 - val_loss: 0.5612 - val_accuracy: 0.7494\n",
            "Epoch 11/100\n",
            "313/313 [==============================] - 33s 107ms/step - loss: 0.5470 - accuracy: 0.7595 - val_loss: 0.5523 - val_accuracy: 0.7514\n",
            "Epoch 12/100\n",
            "313/313 [==============================] - 33s 105ms/step - loss: 0.5355 - accuracy: 0.7653 - val_loss: 0.5406 - val_accuracy: 0.7604\n",
            "Epoch 13/100\n",
            "313/313 [==============================] - 34s 109ms/step - loss: 0.5249 - accuracy: 0.7717 - val_loss: 0.5319 - val_accuracy: 0.7612\n",
            "Epoch 14/100\n",
            "313/313 [==============================] - 33s 106ms/step - loss: 0.5151 - accuracy: 0.7781 - val_loss: 0.5233 - val_accuracy: 0.7710\n",
            "Epoch 15/100\n",
            "313/313 [==============================] - 34s 108ms/step - loss: 0.5055 - accuracy: 0.7829 - val_loss: 0.5157 - val_accuracy: 0.7758\n",
            "Epoch 16/100\n",
            "313/313 [==============================] - 34s 110ms/step - loss: 0.4969 - accuracy: 0.7865 - val_loss: 0.5125 - val_accuracy: 0.7704\n",
            "Epoch 17/100\n",
            "313/313 [==============================] - 35s 110ms/step - loss: 0.4896 - accuracy: 0.7873 - val_loss: 0.5026 - val_accuracy: 0.7826\n",
            "Epoch 18/100\n",
            "313/313 [==============================] - 33s 106ms/step - loss: 0.4823 - accuracy: 0.7925 - val_loss: 0.4968 - val_accuracy: 0.7826\n",
            "Epoch 19/100\n",
            "313/313 [==============================] - 35s 111ms/step - loss: 0.4754 - accuracy: 0.7949 - val_loss: 0.4921 - val_accuracy: 0.7828\n",
            "Epoch 20/100\n",
            "313/313 [==============================] - 34s 107ms/step - loss: 0.4695 - accuracy: 0.7990 - val_loss: 0.4897 - val_accuracy: 0.7792\n",
            "Epoch 21/100\n",
            "313/313 [==============================] - 33s 107ms/step - loss: 0.4638 - accuracy: 0.8008 - val_loss: 0.4890 - val_accuracy: 0.7772\n",
            "Epoch 22/100\n",
            "313/313 [==============================] - 33s 106ms/step - loss: 0.4583 - accuracy: 0.8047 - val_loss: 0.4835 - val_accuracy: 0.7856\n",
            "Epoch 23/100\n",
            "313/313 [==============================] - 34s 108ms/step - loss: 0.4537 - accuracy: 0.8047 - val_loss: 0.4788 - val_accuracy: 0.7862\n",
            "Epoch 24/100\n",
            "313/313 [==============================] - 33s 107ms/step - loss: 0.4490 - accuracy: 0.8070 - val_loss: 0.4752 - val_accuracy: 0.7864\n",
            "Epoch 25/100\n",
            "313/313 [==============================] - 35s 111ms/step - loss: 0.4448 - accuracy: 0.8091 - val_loss: 0.4723 - val_accuracy: 0.7892\n",
            "Epoch 26/100\n",
            "313/313 [==============================] - 34s 108ms/step - loss: 0.4414 - accuracy: 0.8104 - val_loss: 0.4713 - val_accuracy: 0.7888\n",
            "Epoch 27/100\n",
            "313/313 [==============================] - 34s 107ms/step - loss: 0.4369 - accuracy: 0.8123 - val_loss: 0.4730 - val_accuracy: 0.7844\n",
            "Epoch 28/100\n",
            "313/313 [==============================] - 35s 113ms/step - loss: 0.4342 - accuracy: 0.8133 - val_loss: 0.4686 - val_accuracy: 0.7890\n",
            "Epoch 29/100\n",
            "313/313 [==============================] - 34s 109ms/step - loss: 0.4309 - accuracy: 0.8152 - val_loss: 0.4664 - val_accuracy: 0.7882\n",
            "Epoch 30/100\n",
            "313/313 [==============================] - 34s 108ms/step - loss: 0.4282 - accuracy: 0.8165 - val_loss: 0.4652 - val_accuracy: 0.7920\n",
            "Epoch 31/100\n",
            "313/313 [==============================] - 35s 111ms/step - loss: 0.4256 - accuracy: 0.8170 - val_loss: 0.4671 - val_accuracy: 0.7878\n",
            "Epoch 32/100\n",
            "313/313 [==============================] - 35s 112ms/step - loss: 0.4230 - accuracy: 0.8184 - val_loss: 0.4652 - val_accuracy: 0.7894\n",
            "Epoch 33/100\n",
            "313/313 [==============================] - 35s 112ms/step - loss: 0.4203 - accuracy: 0.8193 - val_loss: 0.4630 - val_accuracy: 0.7872\n",
            "Epoch 34/100\n",
            "313/313 [==============================] - 34s 108ms/step - loss: 0.4184 - accuracy: 0.8192 - val_loss: 0.4622 - val_accuracy: 0.7948\n",
            "Epoch 35/100\n",
            "313/313 [==============================] - 34s 108ms/step - loss: 0.4161 - accuracy: 0.8196 - val_loss: 0.4629 - val_accuracy: 0.7872\n",
            "Epoch 36/100\n",
            "313/313 [==============================] - 34s 108ms/step - loss: 0.4140 - accuracy: 0.8219 - val_loss: 0.4620 - val_accuracy: 0.7928\n",
            "Epoch 37/100\n",
            "313/313 [==============================] - 35s 111ms/step - loss: 0.4121 - accuracy: 0.8224 - val_loss: 0.4598 - val_accuracy: 0.7930\n",
            "Epoch 38/100\n",
            "313/313 [==============================] - 34s 108ms/step - loss: 0.4107 - accuracy: 0.8221 - val_loss: 0.4599 - val_accuracy: 0.7884\n",
            "Epoch 39/100\n",
            "313/313 [==============================] - 36s 115ms/step - loss: 0.4087 - accuracy: 0.8231 - val_loss: 0.4651 - val_accuracy: 0.7866\n",
            "Epoch 40/100\n",
            "313/313 [==============================] - 65s 207ms/step - loss: 0.4068 - accuracy: 0.8244 - val_loss: 0.4585 - val_accuracy: 0.7922\n",
            "Epoch 41/100\n",
            "313/313 [==============================] - 42s 134ms/step - loss: 0.4053 - accuracy: 0.8257 - val_loss: 0.4596 - val_accuracy: 0.7924\n",
            "Epoch 42/100\n",
            "313/313 [==============================] - 55s 175ms/step - loss: 0.4040 - accuracy: 0.8259 - val_loss: 0.4608 - val_accuracy: 0.7912\n",
            "Epoch 43/100\n",
            "313/313 [==============================] - 37s 117ms/step - loss: 0.4023 - accuracy: 0.8257 - val_loss: 0.4603 - val_accuracy: 0.7928\n"
          ]
        }
      ]
    },
    {
      "cell_type": "code",
      "source": [
        "plt.plot(history.history['loss'])\n",
        "plt.plot(history.history['val_loss'])\n",
        "plt.xlabel('epoch')\n",
        "plt.ylabel('loss')\n",
        "plt.legend(['train', 'val'])\n",
        "plt.show"
      ],
      "metadata": {
        "id": "YkWdrF_tLBnO",
        "colab": {
          "base_uri": "https://localhost:8080/",
          "height": 296
        },
        "outputId": "2269724a-7f74-414e-8411-cf0914b65ac5"
      },
      "execution_count": 26,
      "outputs": [
        {
          "output_type": "execute_result",
          "data": {
            "text/plain": [
              "<function matplotlib.pyplot.show>"
            ]
          },
          "metadata": {},
          "execution_count": 26
        },
        {
          "output_type": "display_data",
          "data": {
            "text/plain": [
              "<Figure size 432x288 with 1 Axes>"
            ],
            "image/png": "[encoded data removed]"
          },
          "metadata": {
            "needs_background": "light"
          }
        }
      ]
    },
    {
      "cell_type": "code",
      "source": [
        "print(train_seq.nbytes, train_oh.nbytes)"
      ],
      "metadata": {
        "colab": {
          "base_uri": "https://localhost:8080/"
        },
        "id": "fE6SYO0BKZu_",
        "outputId": "ee3eef4b-f624-4a2d-fccf-1e65f86852e2"
      },
      "execution_count": 25,
      "outputs": [
        {
          "output_type": "stream",
          "name": "stdout",
          "text": [
            "8000000 4000000000\n"
          ]
        }
      ]
    },
    {
      "cell_type": "code",
      "source": [
        "model2 = keras.Sequential()\n",
        "model2.add(keras.layers.Embedding(500, 16, input_length=100))\n",
        "model2.add(keras.layers.SimpleRNN(8))\n",
        "model2.add(keras.layers.Dense(1, activation='sigmoid'))"
      ],
      "metadata": {
        "id": "d6TEOxuHKoFj"
      },
      "execution_count": 27,
      "outputs": []
    },
    {
      "cell_type": "code",
      "source": [
        "model2.summary()"
      ],
      "metadata": {
        "colab": {
          "base_uri": "https://localhost:8080/"
        },
        "id": "CPud015SLgo4",
        "outputId": "4d36ee05-7e95-42f8-fb9d-d9ce15b88711"
      },
      "execution_count": 28,
      "outputs": [
        {
          "output_type": "stream",
          "name": "stdout",
          "text": [
            "Model: \"sequential_1\"\n",
            "_________________________________________________________________\n",
            " Layer (type)                Output Shape              Param #   \n",
            "=================================================================\n",
            " embedding (Embedding)       (None, 100, 16)           8000      \n",
            "                                                                 \n",
            " simple_rnn_1 (SimpleRNN)    (None, 8)                 200       \n",
            "                                                                 \n",
            " dense_1 (Dense)             (None, 1)                 9         \n",
            "                                                                 \n",
            "=================================================================\n",
            "Total params: 8,209\n",
            "Trainable params: 8,209\n",
            "Non-trainable params: 0\n",
            "_________________________________________________________________\n"
          ]
        }
      ]
    },
    {
      "cell_type": "code",
      "source": [
        "rmsprop = keras.optimizers.RMSprop(learning_rate=1e-4)\n",
        "model2.compile(optimizer=rmsprop, loss='binary_crossentropy',\n",
        "              metrics=['accuracy'])\n",
        "checkpoint_cb = keras.callbacks.ModelCheckpoint('best-embedding-model.h5',\n",
        "                                                save_best_only=True)\n",
        "early_stopping_cb = keras.callbacks.EarlyStopping(patience=3,\n",
        "                                                  restore_best_weights=True)"
      ],
      "metadata": {
        "id": "bE6rlz57NbIC"
      },
      "execution_count": 29,
      "outputs": []
    },
    {
      "cell_type": "code",
      "source": [
        "history = model2.fit(train_seq, train_target, epochs=100, batch_size=64,\n",
        "                    validation_data=(val_seq, val_target),\n",
        "                    callbacks=[checkpoint_cb, early_stopping_cb])"
      ],
      "metadata": {
        "colab": {
          "base_uri": "https://localhost:8080/"
        },
        "id": "axO_kaPMN0T3",
        "outputId": "e302e8ac-9a9d-4501-f29c-e7aa7121c612"
      },
      "execution_count": 30,
      "outputs": [
        {
          "output_type": "stream",
          "name": "stdout",
          "text": [
            "Epoch 1/100\n",
            "313/313 [==============================] - 46s 141ms/step - loss: 0.6947 - accuracy: 0.5002 - val_loss: 0.6923 - val_accuracy: 0.5152\n",
            "Epoch 2/100\n",
            "313/313 [==============================] - 42s 134ms/step - loss: 0.6918 - accuracy: 0.5214 - val_loss: 0.6915 - val_accuracy: 0.5246\n",
            "Epoch 3/100\n",
            "313/313 [==============================] - 42s 135ms/step - loss: 0.6896 - accuracy: 0.5390 - val_loss: 0.6913 - val_accuracy: 0.5218\n",
            "Epoch 4/100\n",
            "313/313 [==============================] - 42s 133ms/step - loss: 0.6871 - accuracy: 0.5537 - val_loss: 0.6914 - val_accuracy: 0.5166\n",
            "Epoch 5/100\n",
            "313/313 [==============================] - 43s 137ms/step - loss: 0.6840 - accuracy: 0.5640 - val_loss: 0.6885 - val_accuracy: 0.5314\n",
            "Epoch 6/100\n",
            "313/313 [==============================] - 41s 132ms/step - loss: 0.6733 - accuracy: 0.6155 - val_loss: 0.6713 - val_accuracy: 0.6258\n",
            "Epoch 7/100\n",
            "313/313 [==============================] - 42s 133ms/step - loss: 0.6540 - accuracy: 0.6768 - val_loss: 0.6526 - val_accuracy: 0.6670\n",
            "Epoch 8/100\n",
            "313/313 [==============================] - 42s 136ms/step - loss: 0.6323 - accuracy: 0.7082 - val_loss: 0.6333 - val_accuracy: 0.6956\n",
            "Epoch 9/100\n",
            "313/313 [==============================] - 42s 135ms/step - loss: 0.6105 - accuracy: 0.7302 - val_loss: 0.6173 - val_accuracy: 0.7074\n",
            "Epoch 10/100\n",
            "313/313 [==============================] - 41s 133ms/step - loss: 0.5900 - accuracy: 0.7470 - val_loss: 0.5969 - val_accuracy: 0.7316\n",
            "Epoch 11/100\n",
            "313/313 [==============================] - 41s 132ms/step - loss: 0.5711 - accuracy: 0.7569 - val_loss: 0.5809 - val_accuracy: 0.7372\n",
            "Epoch 12/100\n",
            "313/313 [==============================] - 41s 132ms/step - loss: 0.5535 - accuracy: 0.7667 - val_loss: 0.5653 - val_accuracy: 0.7448\n",
            "Epoch 13/100\n",
            "313/313 [==============================] - 42s 134ms/step - loss: 0.5371 - accuracy: 0.7755 - val_loss: 0.5540 - val_accuracy: 0.7454\n",
            "Epoch 14/100\n",
            "313/313 [==============================] - 42s 133ms/step - loss: 0.5219 - accuracy: 0.7819 - val_loss: 0.5401 - val_accuracy: 0.7582\n",
            "Epoch 15/100\n",
            "313/313 [==============================] - 42s 134ms/step - loss: 0.5075 - accuracy: 0.7879 - val_loss: 0.5296 - val_accuracy: 0.7606\n",
            "Epoch 16/100\n",
            "313/313 [==============================] - 42s 135ms/step - loss: 0.4946 - accuracy: 0.7927 - val_loss: 0.5309 - val_accuracy: 0.7480\n",
            "Epoch 17/100\n",
            "313/313 [==============================] - 42s 134ms/step - loss: 0.4829 - accuracy: 0.7964 - val_loss: 0.5116 - val_accuracy: 0.7658\n",
            "Epoch 18/100\n",
            "313/313 [==============================] - 42s 133ms/step - loss: 0.4716 - accuracy: 0.8025 - val_loss: 0.5061 - val_accuracy: 0.7718\n",
            "Epoch 19/100\n",
            "313/313 [==============================] - 47s 150ms/step - loss: 0.4621 - accuracy: 0.8045 - val_loss: 0.4970 - val_accuracy: 0.7726\n",
            "Epoch 20/100\n",
            "313/313 [==============================] - 41s 132ms/step - loss: 0.4525 - accuracy: 0.8073 - val_loss: 0.4913 - val_accuracy: 0.7728\n",
            "Epoch 21/100\n",
            "313/313 [==============================] - 42s 133ms/step - loss: 0.4438 - accuracy: 0.8130 - val_loss: 0.4870 - val_accuracy: 0.7758\n",
            "Epoch 22/100\n",
            "313/313 [==============================] - 42s 133ms/step - loss: 0.4369 - accuracy: 0.8141 - val_loss: 0.4819 - val_accuracy: 0.7772\n",
            "Epoch 23/100\n",
            "313/313 [==============================] - 42s 134ms/step - loss: 0.4298 - accuracy: 0.8163 - val_loss: 0.4802 - val_accuracy: 0.7754\n",
            "Epoch 24/100\n",
            "313/313 [==============================] - 42s 134ms/step - loss: 0.4230 - accuracy: 0.8198 - val_loss: 0.4770 - val_accuracy: 0.7770\n",
            "Epoch 25/100\n",
            "313/313 [==============================] - 42s 135ms/step - loss: 0.4173 - accuracy: 0.8227 - val_loss: 0.4758 - val_accuracy: 0.7812\n",
            "Epoch 26/100\n",
            "313/313 [==============================] - 42s 135ms/step - loss: 0.4124 - accuracy: 0.8241 - val_loss: 0.4749 - val_accuracy: 0.7768\n",
            "Epoch 27/100\n",
            "313/313 [==============================] - 42s 134ms/step - loss: 0.4083 - accuracy: 0.8253 - val_loss: 0.4742 - val_accuracy: 0.7760\n",
            "Epoch 28/100\n",
            "313/313 [==============================] - 42s 133ms/step - loss: 0.4036 - accuracy: 0.8260 - val_loss: 0.4726 - val_accuracy: 0.7772\n",
            "Epoch 29/100\n",
            "313/313 [==============================] - 42s 133ms/step - loss: 0.4007 - accuracy: 0.8275 - val_loss: 0.4776 - val_accuracy: 0.7740\n",
            "Epoch 30/100\n",
            "313/313 [==============================] - 41s 132ms/step - loss: 0.3971 - accuracy: 0.8289 - val_loss: 0.4683 - val_accuracy: 0.7800\n",
            "Epoch 31/100\n",
            "313/313 [==============================] - 41s 132ms/step - loss: 0.3941 - accuracy: 0.8307 - val_loss: 0.4680 - val_accuracy: 0.7812\n",
            "Epoch 32/100\n",
            "313/313 [==============================] - 42s 133ms/step - loss: 0.3910 - accuracy: 0.8316 - val_loss: 0.4722 - val_accuracy: 0.7762\n",
            "Epoch 33/100\n",
            "313/313 [==============================] - 42s 133ms/step - loss: 0.3879 - accuracy: 0.8332 - val_loss: 0.4704 - val_accuracy: 0.7782\n",
            "Epoch 34/100\n",
            "313/313 [==============================] - 42s 133ms/step - loss: 0.3854 - accuracy: 0.8340 - val_loss: 0.4717 - val_accuracy: 0.7794\n"
          ]
        }
      ]
    },
    {
      "cell_type": "code",
      "source": [
        "plt.plot(history.history['loss'])\n",
        "plt.plot(history.history['val_loss'])\n",
        "plt.xlabel('epoch')\n",
        "plt.ylabel('loss')\n",
        "plt.legend(['train', 'val'])\n",
        "plt.show()"
      ],
      "metadata": {
        "colab": {
          "base_uri": "https://localhost:8080/",
          "height": 279
        },
        "id": "bY3P82wQN8ay",
        "outputId": "8da17002-e8e0-4a7c-fa09-972ab4c60ab0"
      },
      "execution_count": 31,
      "outputs": [
        {
          "output_type": "display_data",
          "data": {
            "text/plain": [
              "<Figure size 432x288 with 1 Axes>"
            ],
            "image/png": "[encoded data removed]"
          },
          "metadata": {
            "needs_background": "light"
          }
        }
      ]
    },
    {
      "cell_type": "code",
      "source": [
        ""
      ],
      "metadata": {
        "id": "Ey6HcF-PQ62-"
      },
      "execution_count": null,
      "outputs": []
    }
  ]
}