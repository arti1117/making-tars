{
 "cells": [
  {
   "cell_type": "code",
   "execution_count": 1,
   "id": "a84ffcc7",
   "metadata": {},
   "outputs": [],
   "source": [
    "import numpy as np\n",
    "import pandas as pd\n",
    "from sklearn.metrics import f1_score\n",
    "from scipy.optimize import minimize"
   ]
  },
  {
   "cell_type": "code",
   "execution_count": 2,
   "id": "e407f9db",
   "metadata": {},
   "outputs": [],
   "source": [
    "rand = np.random.RandomState(seed=71)\n",
    "train_y_prob = np.linspace(0, 1, 100000)"
   ]
  },
  {
   "cell_type": "code",
   "execution_count": 3,
   "id": "aac087a0",
   "metadata": {},
   "outputs": [],
   "source": [
    "train_y = pd.Series(rand.uniform(0, 1, train_y_prob.size) < train_y_prob)\n",
    "train_pred_prob = np.clip(train_y_prob * np.exp(rand.standard_normal(train_y_prob.shape) * 0.3), 0, 1)"
   ]
  },
  {
   "cell_type": "code",
   "execution_count": 4,
   "id": "e7dd37d3",
   "metadata": {},
   "outputs": [
    {
     "name": "stdout",
     "output_type": "stream",
     "text": [
      "0.5 0.7218593656066272\n"
     ]
    }
   ],
   "source": [
    "init_threshold = 0.5\n",
    "init_score = f1_score(train_y, train_pred_prob >= init_threshold)\n",
    "print(init_threshold, init_score)"
   ]
  },
  {
   "cell_type": "code",
   "execution_count": 5,
   "id": "45695a2a",
   "metadata": {},
   "outputs": [],
   "source": [
    "def f1_opt(x):\n",
    "    return -f1_score(train_y, train_pred_prob >= x)"
   ]
  },
  {
   "cell_type": "code",
   "execution_count": 6,
   "id": "e088c5f8",
   "metadata": {},
   "outputs": [
    {
     "name": "stdout",
     "output_type": "stream",
     "text": [
      "0.3190429687499998 0.7553844837909502\n"
     ]
    }
   ],
   "source": [
    "result = minimize(f1_opt, x0=np.array([0.5]), method=\"Nelder-Mead\")\n",
    "best_threshold = result['x'].item()\n",
    "best_score = f1_score(train_y, train_pred_prob >= best_threshold)\n",
    "print(best_threshold, best_score)"
   ]
  },
  {
   "cell_type": "code",
   "execution_count": null,
   "id": "c9615db2",
   "metadata": {},
   "outputs": [],
   "source": []
  }
 ],
 "metadata": {
  "kernelspec": {
   "display_name": "Python 3",
   "language": "python",
   "name": "python3"
  },
  "language_info": {
   "codemirror_mode": {
    "name": "ipython",
    "version": 3
   },
   "file_extension": ".py",
   "mimetype": "text/x-python",
   "name": "python",
   "nbconvert_exporter": "python",
   "pygments_lexer": "ipython3",
   "version": "3.8.2"
  }
 },
 "nbformat": 4,
 "nbformat_minor": 5
}
