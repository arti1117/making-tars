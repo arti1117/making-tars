{
 "cells": [
  {
   "cell_type": "code",
   "execution_count": 1,
   "id": "d09f836d",
   "metadata": {},
   "outputs": [],
   "source": [
    "import sys\n",
    "sys.path.append('..')\n",
    "from dezero import *"
   ]
  },
  {
   "cell_type": "code",
   "execution_count": 2,
   "id": "c98a85b4",
   "metadata": {},
   "outputs": [
    {
     "name": "stdout",
     "output_type": "stream",
     "text": [
      "[[-0.04416612]\n",
      " [ 0.84776471]\n",
      " [-0.83577495]]\n",
      "--------------------\n",
      "[[-0.01179375]\n",
      " [ 0.90403958]\n",
      " [-0.85228149]]\n"
     ]
    }
   ],
   "source": [
    "train_set = datasets.SinCurve(train=True)\n",
    "dataloader = dataloaders.SeqDataLoader(train_set, batch_size=3)\n",
    "x, t = next(dataloader)\n",
    "print(x)\n",
    "print('-' * 20)\n",
    "print(t)"
   ]
  },
  {
   "cell_type": "code",
   "execution_count": 3,
   "id": "30bbdb6d",
   "metadata": {},
   "outputs": [],
   "source": [
    "import numpy as np"
   ]
  },
  {
   "cell_type": "code",
   "execution_count": 4,
   "id": "e6560c62",
   "metadata": {},
   "outputs": [],
   "source": [
    "max_epoch = 100\n",
    "batch_size = 30\n",
    "hidden_size = 100\n",
    "bptt_length = 30\n",
    "train_set = datasets.SinCurve(train=True)\n",
    "dataloader = dataloaders.SeqDataLoader(train_set, batch_size=batch_size)\n",
    "seqlen = len(train_set)"
   ]
  },
  {
   "cell_type": "code",
   "execution_count": 5,
   "id": "ec847ca9",
   "metadata": {},
   "outputs": [],
   "source": [
    "class BetterRNN(Model):\n",
    "    def __init__(self, hidden_size, out_size):\n",
    "        super().__init__()\n",
    "        self.rnn = L.LSTM(hidden_size)\n",
    "        self.fc = L.Linear(out_size)\n",
    "        \n",
    "    def reset_state(self):\n",
    "        self.rnn.reset_state()\n",
    "        \n",
    "    def forward(self, x):\n",
    "        y = self.rnn(x)\n",
    "        return self.fc(y)"
   ]
  },
  {
   "cell_type": "code",
   "execution_count": 6,
   "id": "5a267641",
   "metadata": {},
   "outputs": [],
   "source": [
    "model = BetterRNN(hidden_size, 1)\n",
    "optimizer = optimizers.Adam().setup(model)"
   ]
  },
  {
   "cell_type": "code",
   "execution_count": 7,
   "id": "66523014",
   "metadata": {
    "scrolled": true
   },
   "outputs": [
    {
     "name": "stdout",
     "output_type": "stream",
     "text": [
      "epoch 1 | loss 0.245850\n",
      "epoch 2 | loss 0.176721\n",
      "epoch 3 | loss 0.121830\n",
      "epoch 4 | loss 0.080704\n",
      "epoch 5 | loss 0.052650\n",
      "epoch 6 | loss 0.036523\n",
      "epoch 7 | loss 0.030449\n",
      "epoch 8 | loss 0.031703\n",
      "epoch 9 | loss 0.036961\n",
      "epoch 10 | loss 0.042971\n",
      "epoch 11 | loss 0.047308\n",
      "epoch 12 | loss 0.048759\n",
      "epoch 13 | loss 0.047213\n",
      "epoch 14 | loss 0.043264\n",
      "epoch 15 | loss 0.037828\n",
      "epoch 16 | loss 0.031855\n",
      "epoch 17 | loss 0.026163\n",
      "epoch 18 | loss 0.021349\n",
      "epoch 19 | loss 0.017769\n",
      "epoch 20 | loss 0.015543\n",
      "epoch 21 | loss 0.014578\n",
      "epoch 22 | loss 0.014615\n",
      "epoch 23 | loss 0.015284\n",
      "epoch 24 | loss 0.016172\n",
      "epoch 25 | loss 0.016917\n",
      "epoch 26 | loss 0.017272\n",
      "epoch 27 | loss 0.017137\n",
      "epoch 28 | loss 0.016547\n",
      "epoch 29 | loss 0.015623\n",
      "epoch 30 | loss 0.014530\n",
      "epoch 31 | loss 0.013426\n",
      "epoch 32 | loss 0.012444\n",
      "epoch 33 | loss 0.011675\n",
      "epoch 34 | loss 0.011162\n",
      "epoch 35 | loss 0.010903\n",
      "epoch 36 | loss 0.010860\n",
      "epoch 37 | loss 0.010965\n",
      "epoch 38 | loss 0.011136\n",
      "epoch 39 | loss 0.011293\n",
      "epoch 40 | loss 0.011370\n",
      "epoch 41 | loss 0.011327\n",
      "epoch 42 | loss 0.011153\n",
      "epoch 43 | loss 0.010869\n",
      "epoch 44 | loss 0.010515\n",
      "epoch 45 | loss 0.010142\n",
      "epoch 46 | loss 0.009799\n",
      "epoch 47 | loss 0.009523\n",
      "epoch 48 | loss 0.009330\n",
      "epoch 49 | loss 0.009220\n",
      "epoch 50 | loss 0.009173\n",
      "epoch 51 | loss 0.009160\n",
      "epoch 52 | loss 0.009150\n",
      "epoch 53 | loss 0.009118\n",
      "epoch 54 | loss 0.009048\n",
      "epoch 55 | loss 0.008937\n",
      "epoch 56 | loss 0.008792\n",
      "epoch 57 | loss 0.008629\n",
      "epoch 58 | loss 0.008466\n",
      "epoch 59 | loss 0.008319\n",
      "epoch 60 | loss 0.008198\n",
      "epoch 61 | loss 0.008105\n",
      "epoch 62 | loss 0.008036\n",
      "epoch 63 | loss 0.007981\n",
      "epoch 64 | loss 0.007930\n",
      "epoch 65 | loss 0.007872\n",
      "epoch 66 | loss 0.007801\n",
      "epoch 67 | loss 0.007717\n",
      "epoch 68 | loss 0.007622\n",
      "epoch 69 | loss 0.007524\n",
      "epoch 70 | loss 0.007427\n",
      "epoch 71 | loss 0.007339\n",
      "epoch 72 | loss 0.007262\n",
      "epoch 73 | loss 0.007197\n",
      "epoch 74 | loss 0.007140\n",
      "epoch 75 | loss 0.007089\n",
      "epoch 76 | loss 0.007038\n",
      "epoch 77 | loss 0.006984\n",
      "epoch 78 | loss 0.006926\n",
      "epoch 79 | loss 0.006864\n",
      "epoch 80 | loss 0.006800\n",
      "epoch 81 | loss 0.006737\n",
      "epoch 82 | loss 0.006676\n",
      "epoch 83 | loss 0.006621\n",
      "epoch 84 | loss 0.006569\n",
      "epoch 85 | loss 0.006522\n",
      "epoch 86 | loss 0.006476\n",
      "epoch 87 | loss 0.006431\n",
      "epoch 88 | loss 0.006385\n",
      "epoch 89 | loss 0.006338\n",
      "epoch 90 | loss 0.006290\n",
      "epoch 91 | loss 0.006243\n",
      "epoch 92 | loss 0.006198\n",
      "epoch 93 | loss 0.006154\n",
      "epoch 94 | loss 0.006112\n",
      "epoch 95 | loss 0.006073\n",
      "epoch 96 | loss 0.006034\n",
      "epoch 97 | loss 0.005995\n",
      "epoch 98 | loss 0.005956\n",
      "epoch 99 | loss 0.005917\n",
      "epoch 100 | loss 0.005877\n"
     ]
    }
   ],
   "source": [
    "for epoch in range(max_epoch):\n",
    "    model.reset_state()\n",
    "    loss, count = 0, 0\n",
    "    \n",
    "    for x, t in dataloader:\n",
    "        y = model(x)\n",
    "        loss += F.mean_squared_error(y, t)\n",
    "        count += 1\n",
    "        if count % bptt_length == 0 or count == seqlen:\n",
    "            model.cleargrads()\n",
    "            loss.backward()\n",
    "            loss.unchain_backward()\n",
    "            optimizer.update()\n",
    "            \n",
    "    avg_loss = float(loss.data) / count\n",
    "    print('epoch %d | loss %f' % (epoch + 1, avg_loss))"
   ]
  },
  {
   "cell_type": "code",
   "execution_count": 8,
   "id": "60096bb1",
   "metadata": {},
   "outputs": [
    {
     "data": {
      "image/png": "[encoded data removed]",
      "text/plain": [
       "<Figure size 432x288 with 1 Axes>"
      ]
     },
     "metadata": {
      "needs_background": "light"
     },
     "output_type": "display_data"
    }
   ],
   "source": [
    "xs = np.cos(np.linspace(0, 4 * np.pi, 1000))\n",
    "model.reset_state()\n",
    "pred_list = []\n",
    "\n",
    "import dezero\n",
    "import matplotlib.pyplot as plt\n",
    "\n",
    "with dezero.no_grad():\n",
    "    for x in xs:\n",
    "        x = np.array(x).reshape(1, 1)\n",
    "        y = model(x)\n",
    "        pred_list.append(float(y.data))\n",
    "        \n",
    "plt.plot(np.arange(len(xs)), xs, label='y=cos(x)')\n",
    "plt.plot(np.arange(len(xs)), pred_list, label='predict')\n",
    "plt.xlabel('x')\n",
    "plt.ylabel('y')\n",
    "plt.legend()\n",
    "plt.show()"
   ]
  },
  {
   "cell_type": "code",
   "execution_count": null,
   "id": "2acb907d",
   "metadata": {},
   "outputs": [],
   "source": []
  }
 ],
 "metadata": {
  "kernelspec": {
   "display_name": "Python 3",
   "language": "python",
   "name": "python3"
  },
  "language_info": {
   "codemirror_mode": {
    "name": "ipython",
    "version": 3
   },
   "file_extension": ".py",
   "mimetype": "text/x-python",
   "name": "python",
   "nbconvert_exporter": "python",
   "pygments_lexer": "ipython3",
   "version": "3.8.2"
  }
 },
 "nbformat": 4,
 "nbformat_minor": 5
}
