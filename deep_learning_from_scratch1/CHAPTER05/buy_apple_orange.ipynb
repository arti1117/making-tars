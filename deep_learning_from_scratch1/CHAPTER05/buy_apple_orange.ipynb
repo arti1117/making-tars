{
 "cells": [
  {
   "cell_type": "code",
   "execution_count": 1,
   "id": "faced-fever",
   "metadata": {},
   "outputs": [],
   "source": [
    "from layer_naive import MulLayer, AddLayer\n",
    "\n",
    "apple = 100\n",
    "apple_num = 2\n",
    "orange = 150\n",
    "orange_num = 3\n",
    "tax = 1.1\n",
    "\n",
    "mul_apple = MulLayer()\n",
    "mul_orange = MulLayer()\n",
    "add_apple_ornage = AddLayer()\n",
    "mul_tax = MulLayer()"
   ]
  },
  {
   "cell_type": "code",
   "execution_count": 2,
   "id": "jewish-champion",
   "metadata": {},
   "outputs": [
    {
     "name": "stdout",
     "output_type": "stream",
     "text": [
      "715.0000000000001\n"
     ]
    }
   ],
   "source": [
    "apple_price = mul_apple.forward(apple, apple_num)\n",
    "orange_price = mul_orange.forward(orange, orange_num)\n",
    "all_price = add_apple_ornage.forward(apple_price, orange_price)\n",
    "price = mul_tax.forward(all_price, tax)\n",
    "\n",
    "print(price)"
   ]
  },
  {
   "cell_type": "code",
   "execution_count": 3,
   "id": "assigned-spray",
   "metadata": {},
   "outputs": [
    {
     "name": "stdout",
     "output_type": "stream",
     "text": [
      "110.00000000000001 2.2\n",
      "165.0 3.3000000000000003\n",
      "650\n"
     ]
    }
   ],
   "source": [
    "dprice = 1\n",
    "dall_price, dtax = mul_tax.backward(dprice)\n",
    "dapple_price, dorange_price = add_apple_ornage.backward(dall_price)\n",
    "dornage, dorange_num = mul_orange.backward(dorange_price)\n",
    "dapple, dapple_num = mul_apple.backward(dapple_price)\n",
    "print(dapple_num, dapple)\n",
    "print(dorange_num, dornage)\n",
    "print(dtax)"
   ]
  },
  {
   "cell_type": "code",
   "execution_count": null,
   "id": "parental-finance",
   "metadata": {},
   "outputs": [],
   "source": []
  }
 ],
 "metadata": {
  "kernelspec": {
   "display_name": "Python 3",
   "language": "python",
   "name": "python3"
  },
  "language_info": {
   "codemirror_mode": {
    "name": "ipython",
    "version": 3
   },
   "file_extension": ".py",
   "mimetype": "text/x-python",
   "name": "python",
   "nbconvert_exporter": "python",
   "pygments_lexer": "ipython3",
   "version": "3.8.8"
  }
 },
 "nbformat": 4,
 "nbformat_minor": 5
}
