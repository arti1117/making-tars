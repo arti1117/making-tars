{
 "cells": [
  {
   "cell_type": "code",
   "execution_count": 1,
   "id": "60d0da70",
   "metadata": {},
   "outputs": [],
   "source": [
    "import sys\n",
    "sys.path.append('..')\n",
    "import numpy as np\n",
    "from dezero import *"
   ]
  },
  {
   "cell_type": "code",
   "execution_count": 2,
   "id": "4db8f8fe",
   "metadata": {},
   "outputs": [
    {
     "name": "stdout",
     "output_type": "stream",
     "text": [
      "(1, 10)\n"
     ]
    }
   ],
   "source": [
    "rnn = RNN(10)\n",
    "x = np.random.rand(1, 1)\n",
    "h = rnn(x)\n",
    "print(h.shape)"
   ]
  },
  {
   "cell_type": "code",
   "execution_count": 3,
   "id": "dd594e34",
   "metadata": {},
   "outputs": [],
   "source": [
    "class SimpleRNN(Model):\n",
    "    def __init__(self, hidden_size, out_size):\n",
    "        super().__init__()\n",
    "        self.rnn = L.RNN(hidden_size)\n",
    "        self.fc = L.Linear(out_size)\n",
    "        \n",
    "    def reset_state(self):\n",
    "        self.rnn.reset_state()\n",
    "        \n",
    "    def forward(self, x):\n",
    "        h = self.rnn(x)\n",
    "        return self.fc(h)"
   ]
  },
  {
   "cell_type": "code",
   "execution_count": 4,
   "id": "0076e0ee",
   "metadata": {},
   "outputs": [],
   "source": [
    "seq_data = [np.random.randn(1, 1) for _ in range(1000)]\n",
    "xs = seq_data[0:-1]\n",
    "ts = seq_data[1:]\n",
    "\n",
    "model = SimpleRNN(10, 1)\n",
    "\n",
    "loss, cnt = 0, 0\n",
    "for x, t in zip(xs, ts):\n",
    "    y = model(x)\n",
    "    loss += F.mean_squared_error(y, t)\n",
    "    \n",
    "    cnt += 1\n",
    "    \n",
    "    if cnt == 2:\n",
    "        model.cleargrads()\n",
    "        loss.backward()\n",
    "        break"
   ]
  },
  {
   "cell_type": "code",
   "execution_count": 5,
   "id": "0a4d550c",
   "metadata": {},
   "outputs": [
    {
     "name": "stdout",
     "output_type": "stream",
     "text": [
      "<memory at 0x7f24df30c930>\n"
     ]
    }
   ],
   "source": [
    "print(x.data)"
   ]
  },
  {
   "cell_type": "code",
   "execution_count": 6,
   "id": "3614b742",
   "metadata": {},
   "outputs": [
    {
     "name": "stdout",
     "output_type": "stream",
     "text": [
      "[[-0.45154605]]\n"
     ]
    }
   ],
   "source": [
    "print(y.data)"
   ]
  },
  {
   "cell_type": "code",
   "execution_count": 7,
   "id": "324ff6f5",
   "metadata": {},
   "outputs": [
    {
     "name": "stdout",
     "output_type": "stream",
     "text": [
      "999\n",
      "(array([-0.03841698]), array([0.04540898]))\n"
     ]
    }
   ],
   "source": [
    "import matplotlib.pyplot as plt\n",
    "\n",
    "train_set = datasets.SinCurve(train=True)\n",
    "print(len(train_set))\n",
    "print(train_set[0])"
   ]
  },
  {
   "cell_type": "code",
   "execution_count": 8,
   "id": "191a99dc",
   "metadata": {},
   "outputs": [
    {
     "data": {
      "image/png": "[encoded data removed]",
      "text/plain": [
       "<Figure size 432x288 with 1 Axes>"
      ]
     },
     "metadata": {
      "needs_background": "light"
     },
     "output_type": "display_data"
    }
   ],
   "source": [
    "xs = [example[0] for example in train_set]\n",
    "ts = [example[1] for example in train_set]\n",
    "\n",
    "plt.plot(np.arange(len(xs)), xs, label='xs')\n",
    "plt.plot(np.arange(len(ts)), ts, label='ts')\n",
    "plt.show()"
   ]
  },
  {
   "cell_type": "code",
   "execution_count": 9,
   "id": "4055e860",
   "metadata": {},
   "outputs": [],
   "source": [
    "max_epoch = 100\n",
    "hidden_size = 100\n",
    "bptt_length = 30\n",
    "train_set = datasets.SinCurve(train=True)\n",
    "seqlen = len(train_set)"
   ]
  },
  {
   "cell_type": "code",
   "execution_count": 10,
   "id": "3cfbd0fb",
   "metadata": {},
   "outputs": [],
   "source": [
    "model = SimpleRNN(hidden_size, 1)\n",
    "optimizer = optimizers.Adam().setup(model)"
   ]
  },
  {
   "cell_type": "code",
   "execution_count": 11,
   "id": "d8368bf8",
   "metadata": {
    "scrolled": true
   },
   "outputs": [
    {
     "name": "stdout",
     "output_type": "stream",
     "text": [
      "epoch 1 | loss 0.245914\n",
      "epoch 2 | loss 0.045336\n",
      "epoch 3 | loss 0.021748\n",
      "epoch 4 | loss 0.013890\n",
      "epoch 5 | loss 0.008643\n",
      "epoch 6 | loss 0.004965\n",
      "epoch 7 | loss 0.002635\n",
      "epoch 8 | loss 0.002418\n",
      "epoch 9 | loss 0.002013\n",
      "epoch 10 | loss 0.002396\n",
      "epoch 11 | loss 0.003392\n",
      "epoch 12 | loss 0.005080\n",
      "epoch 13 | loss 0.007043\n",
      "epoch 14 | loss 0.007425\n",
      "epoch 15 | loss 0.006046\n",
      "epoch 16 | loss 0.005078\n",
      "epoch 17 | loss 0.005110\n",
      "epoch 18 | loss 0.005580\n",
      "epoch 19 | loss 0.005866\n",
      "epoch 20 | loss 0.005669\n",
      "epoch 21 | loss 0.005248\n",
      "epoch 22 | loss 0.004976\n",
      "epoch 23 | loss 0.004933\n",
      "epoch 24 | loss 0.005000\n",
      "epoch 25 | loss 0.005052\n",
      "epoch 26 | loss 0.005043\n",
      "epoch 27 | loss 0.004999\n",
      "epoch 28 | loss 0.004967\n",
      "epoch 29 | loss 0.004972\n",
      "epoch 30 | loss 0.005014\n",
      "epoch 31 | loss 0.005082\n",
      "epoch 32 | loss 0.005172\n",
      "epoch 33 | loss 0.005289\n",
      "epoch 34 | loss 0.005442\n",
      "epoch 35 | loss 0.005649\n",
      "epoch 36 | loss 0.005928\n",
      "epoch 37 | loss 0.006309\n",
      "epoch 38 | loss 0.006840\n",
      "epoch 39 | loss 0.007602\n",
      "epoch 40 | loss 0.008708\n",
      "epoch 41 | loss 0.010293\n",
      "epoch 42 | loss 0.012551\n",
      "epoch 43 | loss 0.015903\n",
      "epoch 44 | loss 0.018918\n",
      "epoch 45 | loss 0.031698\n",
      "epoch 46 | loss 0.085877\n",
      "epoch 47 | loss 0.199611\n",
      "epoch 48 | loss 0.101921\n",
      "epoch 49 | loss 0.031585\n",
      "epoch 50 | loss 0.015238\n",
      "epoch 51 | loss 0.007814\n",
      "epoch 52 | loss 0.006211\n",
      "epoch 53 | loss 0.006839\n",
      "epoch 54 | loss 0.007602\n",
      "epoch 55 | loss 0.006943\n",
      "epoch 56 | loss 0.005170\n",
      "epoch 57 | loss 0.004544\n",
      "epoch 58 | loss 0.003789\n",
      "epoch 59 | loss 0.003325\n",
      "epoch 60 | loss 0.003168\n",
      "epoch 61 | loss 0.003303\n",
      "epoch 62 | loss 0.003809\n",
      "epoch 63 | loss 0.003988\n",
      "epoch 64 | loss 0.004592\n",
      "epoch 65 | loss 0.007391\n",
      "epoch 66 | loss 0.016146\n",
      "epoch 67 | loss 0.033838\n",
      "epoch 68 | loss 0.019676\n",
      "epoch 69 | loss 0.080329\n",
      "epoch 70 | loss 0.130811\n",
      "epoch 71 | loss 0.166192\n",
      "epoch 72 | loss 0.020492\n",
      "epoch 73 | loss 0.029929\n",
      "epoch 74 | loss 0.020549\n",
      "epoch 75 | loss 0.010153\n",
      "epoch 76 | loss 0.014666\n",
      "epoch 77 | loss 0.023345\n",
      "epoch 78 | loss 0.031446\n",
      "epoch 79 | loss 0.032692\n",
      "epoch 80 | loss 0.017882\n",
      "epoch 81 | loss 0.028967\n",
      "epoch 82 | loss 0.012758\n",
      "epoch 83 | loss 0.008473\n",
      "epoch 84 | loss 0.003254\n",
      "epoch 85 | loss 0.002157\n",
      "epoch 86 | loss 0.001921\n",
      "epoch 87 | loss 0.001883\n",
      "epoch 88 | loss 0.001825\n",
      "epoch 89 | loss 0.001792\n",
      "epoch 90 | loss 0.001774\n",
      "epoch 91 | loss 0.001764\n",
      "epoch 92 | loss 0.001763\n",
      "epoch 93 | loss 0.001773\n",
      "epoch 94 | loss 0.001796\n",
      "epoch 95 | loss 0.001833\n",
      "epoch 96 | loss 0.001883\n",
      "epoch 97 | loss 0.001944\n",
      "epoch 98 | loss 0.002006\n",
      "epoch 99 | loss 0.002055\n",
      "epoch 100 | loss 0.002080\n"
     ]
    }
   ],
   "source": [
    "for epoch in range(max_epoch):\n",
    "    model.reset_state()\n",
    "    loss, count = 0, 0\n",
    "    \n",
    "    for x, t in train_set:\n",
    "        x = x.reshape(1, 1)\n",
    "        y = model(x)\n",
    "        loss += F.mean_squared_error(y, t)\n",
    "        count += 1\n",
    "        \n",
    "        if count % bptt_length == 0 or count == seqlen:\n",
    "            model.cleargrads()\n",
    "            loss.backward()\n",
    "            loss.unchain_backward()\n",
    "            optimizer.update()\n",
    "            \n",
    "    avg_loss = float(loss.data) / count\n",
    "    print('epoch %d | loss %f' % (epoch + 1, avg_loss))"
   ]
  },
  {
   "cell_type": "code",
   "execution_count": 13,
   "id": "0bc0b738",
   "metadata": {},
   "outputs": [
    {
     "data": {
      "image/png": "[encoded data removed]",
      "text/plain": [
       "<Figure size 432x288 with 1 Axes>"
      ]
     },
     "metadata": {
      "needs_background": "light"
     },
     "output_type": "display_data"
    }
   ],
   "source": [
    "xs = np.cos(np.linspace(0, 4 * np.pi, 1000))\n",
    "model.reset_state()\n",
    "pred_list = []\n",
    "\n",
    "import dezero\n",
    "\n",
    "with dezero.no_grad():\n",
    "    for x in xs:\n",
    "        x = np.array(x).reshape(1, 1)\n",
    "        y = model(x)\n",
    "        pred_list.append(float(y.data))\n",
    "        \n",
    "plt.plot(np.arange(len(xs)), xs, label='y=cos(x)')\n",
    "plt.plot(np.arange(len(xs)), pred_list, label='predict')\n",
    "plt.xlabel('x')\n",
    "plt.ylabel('y')\n",
    "plt.legend()\n",
    "plt.show()"
   ]
  },
  {
   "cell_type": "code",
   "execution_count": null,
   "id": "8d03631d",
   "metadata": {},
   "outputs": [],
   "source": []
  }
 ],
 "metadata": {
  "kernelspec": {
   "display_name": "Python 3",
   "language": "python",
   "name": "python3"
  },
  "language_info": {
   "codemirror_mode": {
    "name": "ipython",
    "version": 3
   },
   "file_extension": ".py",
   "mimetype": "text/x-python",
   "name": "python",
   "nbconvert_exporter": "python",
   "pygments_lexer": "ipython3",
   "version": "3.8.2"
  }
 },
 "nbformat": 4,
 "nbformat_minor": 5
}
