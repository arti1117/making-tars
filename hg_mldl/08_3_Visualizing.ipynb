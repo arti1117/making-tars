{
  "nbformat": 4,
  "nbformat_minor": 0,
  "metadata": {
    "colab": {
      "name": "08_3_Visualizing.ipynb",
      "provenance": [],
      "authorship_tag": "ABX9TyObMZTehi3WItQBNAYBgsSA",
      "include_colab_link": true
    },
    "kernelspec": {
      "name": "python3",
      "display_name": "Python 3"
    },
    "language_info": {
      "name": "python"
    },
    "accelerator": "GPU"
  },
  "cells": [
    {
      "cell_type": "markdown",
      "metadata": {
        "id": "view-in-github",
        "colab_type": "text"
      },
      "source": [
        "<a href=\"https://colab.research.google.com/github/arti1117/making-tars/blob/main/hg-mldl/08_3_Visualizing.ipynb\" target=\"_parent\"><img src=\"https://colab.research.google.com/assets/colab-badge.svg\" alt=\"Open In Colab\"/></a>"
      ]
    },
    {
      "cell_type": "code",
      "source": [
        "from tensorflow import keras\n",
        "from sklearn.model_selection import train_test_split\n",
        "(train_input, train_target), (test_input, test_target) =\\\n",
        "  keras.datasets.fashion_mnist.load_data()\n",
        "train_scaled = train_input.reshape(-1, 28,28,1) / 255.0\n",
        "train_scaled, val_scaled, train_target, val_target = train_test_split(\n",
        "    train_scaled, train_target, test_size=0.2, random_state=42\n",
        ")\n",
        "model = keras.Sequential()\n",
        "model.add(keras.layers.Conv2D(32, kernel_size=3, activation='relu',\n",
        "                              padding='same', input_shape=(28,28,1)))\n",
        "model.add(keras.layers.MaxPooling2D(2))\n",
        "model.add(keras.layers.Conv2D(64, kernel_size=3, activation='relu',\n",
        "                              padding='same'))\n",
        "model.add(keras.layers.MaxPooling2D(2))\n",
        "model.add(keras.layers.Flatten())\n",
        "model.add(keras.layers.Dense(100, activation='relu'))\n",
        "model.add(keras.layers.Dropout(0.4))\n",
        "model.add(keras.layers.Dense(10, activation='softmax'))\n",
        "model.compile(optimizer='adam', loss='sparse_categorical_crossentropy',\n",
        "              metrics='accuracy')\n",
        "checkpoint_cb = keras.callbacks.ModelCheckpoint(\n",
        "    'best-cnn-model.h5', save_best_only=True\n",
        ")\n",
        "early_stopping_cb = keras.callbacks.EarlyStopping(\n",
        "    patience=2, restore_best_weights=True\n",
        ")\n",
        "\n",
        "history = model.fit(train_scaled, train_target, epochs=20,\n",
        "                    validation_data=(val_scaled, val_target),\n",
        "                    callbacks=[checkpoint_cb, early_stopping_cb])"
      ],
      "metadata": {
        "colab": {
          "base_uri": "https://localhost:8080/"
        },
        "id": "wafQGDovdDP5",
        "outputId": "f24224d6-3d44-4ce9-aff0-d2434ebe3367"
      },
      "execution_count": 1,
      "outputs": [
        {
          "output_type": "stream",
          "name": "stdout",
          "text": [
            "Downloading data from https://storage.googleapis.com/tensorflow/tf-keras-datasets/train-labels-idx1-ubyte.gz\n",
            "32768/29515 [=================================] - 0s 0us/step\n",
            "40960/29515 [=========================================] - 0s 0us/step\n",
            "Downloading data from https://storage.googleapis.com/tensorflow/tf-keras-datasets/train-images-idx3-ubyte.gz\n",
            "26427392/26421880 [==============================] - 0s 0us/step\n",
            "26435584/26421880 [==============================] - 0s 0us/step\n",
            "Downloading data from https://storage.googleapis.com/tensorflow/tf-keras-datasets/t10k-labels-idx1-ubyte.gz\n",
            "16384/5148 [===============================================================================================] - 0s 0us/step\n",
            "Downloading data from https://storage.googleapis.com/tensorflow/tf-keras-datasets/t10k-images-idx3-ubyte.gz\n",
            "4423680/4422102 [==============================] - 0s 0us/step\n",
            "4431872/4422102 [==============================] - 0s 0us/step\n",
            "Epoch 1/20\n",
            "1500/1500 [==============================] - 25s 9ms/step - loss: 0.5307 - accuracy: 0.8107 - val_loss: 0.3493 - val_accuracy: 0.8680\n",
            "Epoch 2/20\n",
            "1500/1500 [==============================] - 10s 7ms/step - loss: 0.3630 - accuracy: 0.8722 - val_loss: 0.2926 - val_accuracy: 0.8896\n",
            "Epoch 3/20\n",
            "1500/1500 [==============================] - 10s 7ms/step - loss: 0.3078 - accuracy: 0.8894 - val_loss: 0.2689 - val_accuracy: 0.8981\n",
            "Epoch 4/20\n",
            "1500/1500 [==============================] - 11s 7ms/step - loss: 0.2762 - accuracy: 0.8984 - val_loss: 0.2522 - val_accuracy: 0.9082\n",
            "Epoch 5/20\n",
            "1500/1500 [==============================] - 10s 7ms/step - loss: 0.2533 - accuracy: 0.9081 - val_loss: 0.2405 - val_accuracy: 0.9077\n",
            "Epoch 6/20\n",
            "1500/1500 [==============================] - 10s 7ms/step - loss: 0.2317 - accuracy: 0.9156 - val_loss: 0.2396 - val_accuracy: 0.9130\n",
            "Epoch 7/20\n",
            "1500/1500 [==============================] - 11s 7ms/step - loss: 0.2128 - accuracy: 0.9213 - val_loss: 0.2265 - val_accuracy: 0.9182\n",
            "Epoch 8/20\n",
            "1500/1500 [==============================] - 11s 7ms/step - loss: 0.2017 - accuracy: 0.9254 - val_loss: 0.2201 - val_accuracy: 0.9202\n",
            "Epoch 9/20\n",
            "1500/1500 [==============================] - 10s 7ms/step - loss: 0.1866 - accuracy: 0.9304 - val_loss: 0.2304 - val_accuracy: 0.9179\n",
            "Epoch 10/20\n",
            "1500/1500 [==============================] - 10s 7ms/step - loss: 0.1731 - accuracy: 0.9346 - val_loss: 0.2227 - val_accuracy: 0.9205\n"
          ]
        }
      ]
    },
    {
      "cell_type": "code",
      "execution_count": 31,
      "metadata": {
        "id": "HVVhulq5ZGf7"
      },
      "outputs": [],
      "source": [
        "from tensorflow import keras\n",
        "model = keras.models.load_model('best-cnn-model.h5')"
      ]
    },
    {
      "cell_type": "code",
      "source": [
        "model.layers"
      ],
      "metadata": {
        "id": "bH1FQTO9cnbW",
        "colab": {
          "base_uri": "https://localhost:8080/"
        },
        "outputId": "dbcdff80-9a1a-4fa7-b8a3-78bea45db2b0"
      },
      "execution_count": 3,
      "outputs": [
        {
          "output_type": "execute_result",
          "data": {
            "text/plain": [
              "[<keras.layers.convolutional.Conv2D at 0x7fe730336190>,\n",
              " <keras.layers.pooling.MaxPooling2D at 0x7fe7c1b4e310>,\n",
              " <keras.layers.convolutional.Conv2D at 0x7fe730387d90>,\n",
              " <keras.layers.pooling.MaxPooling2D at 0x7fe7c1b4e350>,\n",
              " <keras.layers.core.flatten.Flatten at 0x7fe7c1b4e810>,\n",
              " <keras.layers.core.dense.Dense at 0x7fe7c3394a90>,\n",
              " <keras.layers.core.dropout.Dropout at 0x7fe7c3394b10>,\n",
              " <keras.layers.core.dense.Dense at 0x7fe7303839d0>]"
            ]
          },
          "metadata": {},
          "execution_count": 3
        }
      ]
    },
    {
      "cell_type": "code",
      "source": [
        "conv = model.layers[0]\n",
        "print(conv.weights[0].shape, conv.weights[1].shape)"
      ],
      "metadata": {
        "id": "en_zNZXtd0qn",
        "colab": {
          "base_uri": "https://localhost:8080/"
        },
        "outputId": "173af3fe-c6c6-4cd7-c1d5-3d26fcaceb64"
      },
      "execution_count": 4,
      "outputs": [
        {
          "output_type": "stream",
          "name": "stdout",
          "text": [
            "(3, 3, 1, 32) (32,)\n"
          ]
        }
      ]
    },
    {
      "cell_type": "code",
      "source": [
        "conv_weights = conv.weights[0].numpy()\n",
        "print(conv_weights.mean(), conv_weights.std())"
      ],
      "metadata": {
        "colab": {
          "base_uri": "https://localhost:8080/"
        },
        "id": "xMMf95nD-0Ik",
        "outputId": "63af86da-b292-4e95-e9ea-cedfd955ee66"
      },
      "execution_count": 6,
      "outputs": [
        {
          "output_type": "stream",
          "name": "stdout",
          "text": [
            "-0.018029802 0.24247071\n"
          ]
        }
      ]
    },
    {
      "cell_type": "code",
      "source": [
        "import matplotlib.pyplot as plt\n",
        "plt.hist(conv_weights.reshape(-1, 1))\n",
        "plt.xlabel('weight')\n",
        "plt.ylabel('count')\n",
        "plt.show()"
      ],
      "metadata": {
        "colab": {
          "base_uri": "https://localhost:8080/",
          "height": 279
        },
        "id": "vr0PWVH_--Vy",
        "outputId": "13010fc3-0f27-4646-f7e7-a657f3c402dc"
      },
      "execution_count": 7,
      "outputs": [
        {
          "output_type": "display_data",
          "data": {
            "text/plain": [
              "<Figure size 432x288 with 1 Axes>"
            ],
            "image/png": "[encoded data removed]"
          },
          "metadata": {
            "needs_background": "light"
          }
        }
      ]
    },
    {
      "cell_type": "code",
      "source": [
        "conv_weights.reshape(-1,1)"
      ],
      "metadata": {
        "colab": {
          "base_uri": "https://localhost:8080/"
        },
        "id": "mPWswfkw_Ovw",
        "outputId": "777b63de-345a-46f6-d409-6c1e12f911fc"
      },
      "execution_count": 9,
      "outputs": [
        {
          "output_type": "execute_result",
          "data": {
            "text/plain": [
              "array([[ 1.68884709e-01],\n",
              "       [ 3.04589391e-01],\n",
              "       [ 5.16803749e-02],\n",
              "       [-2.58655459e-01],\n",
              "       [ 1.10865697e-01],\n",
              "       [-2.33564824e-01],\n",
              "       [-2.18183966e-03],\n",
              "       [ 2.43491624e-02],\n",
              "       [-2.74708182e-01],\n",
              "       [ 1.70423947e-02],\n",
              "       [-2.21193492e-01],\n",
              "       [-4.55856808e-02],\n",
              "       [ 5.31885698e-02],\n",
              "       [ 1.35446489e-01],\n",
              "       [ 1.02074392e-01],\n",
              "       [-6.00566506e-01],\n",
              "       [ 1.09664001e-01],\n",
              "       [-2.08173525e-02],\n",
              "       [-2.63880379e-02],\n",
              "       [ 3.25949252e-01],\n",
              "       [-8.23002219e-01],\n",
              "       [-2.61382282e-01],\n",
              "       [ 2.91356668e-02],\n",
              "       [ 4.14435664e-04],\n",
              "       [-9.23717860e-03],\n",
              "       [ 9.39314291e-02],\n",
              "       [-1.50160283e-01],\n",
              "       [-5.84699959e-02],\n",
              "       [-1.67718843e-01],\n",
              "       [-9.61246341e-02],\n",
              "       [-8.06575045e-02],\n",
              "       [ 2.71315038e-01],\n",
              "       [-1.51092619e-01],\n",
              "       [ 1.04919896e-01],\n",
              "       [-1.92321837e-01],\n",
              "       [-1.33313805e-01],\n",
              "       [-4.30064112e-01],\n",
              "       [ 2.24657893e-01],\n",
              "       [ 3.90001684e-01],\n",
              "       [ 9.28368717e-02],\n",
              "       [ 1.74840152e-01],\n",
              "       [-2.26311594e-01],\n",
              "       [-4.98423986e-02],\n",
              "       [ 1.11989848e-01],\n",
              "       [ 8.13372135e-02],\n",
              "       [ 2.30708584e-01],\n",
              "       [ 2.31044501e-01],\n",
              "       [-3.14024240e-01],\n",
              "       [-2.81603247e-01],\n",
              "       [-1.89073637e-01],\n",
              "       [-1.08473673e-01],\n",
              "       [ 1.01585768e-01],\n",
              "       [-1.16493225e+00],\n",
              "       [-1.47421369e-02],\n",
              "       [ 5.07966876e-02],\n",
              "       [-8.50906074e-02],\n",
              "       [ 3.10967028e-01],\n",
              "       [-2.31596410e-01],\n",
              "       [-4.40047264e-01],\n",
              "       [ 1.93888426e-01],\n",
              "       [ 7.35865682e-02],\n",
              "       [ 1.24469362e-01],\n",
              "       [ 2.91228443e-01],\n",
              "       [ 3.80082756e-01],\n",
              "       [-1.41842067e-01],\n",
              "       [ 6.03943085e-03],\n",
              "       [ 2.37077892e-01],\n",
              "       [ 3.10430348e-01],\n",
              "       [-4.14515316e-01],\n",
              "       [ 1.73776858e-02],\n",
              "       [ 9.12195742e-02],\n",
              "       [-3.94766266e-03],\n",
              "       [ 1.59161180e-01],\n",
              "       [-1.98255643e-01],\n",
              "       [ 3.26668233e-01],\n",
              "       [ 7.99532086e-02],\n",
              "       [ 1.39947832e-01],\n",
              "       [-7.90672451e-02],\n",
              "       [-3.25707585e-01],\n",
              "       [ 2.54324883e-01],\n",
              "       [ 2.10953489e-01],\n",
              "       [-6.76947907e-02],\n",
              "       [ 1.88372768e-02],\n",
              "       [-3.25110793e-01],\n",
              "       [ 6.07245602e-02],\n",
              "       [ 4.64390032e-02],\n",
              "       [ 5.33458292e-02],\n",
              "       [ 1.41670868e-01],\n",
              "       [ 2.08178535e-01],\n",
              "       [ 1.48669273e-01],\n",
              "       [-3.13027576e-02],\n",
              "       [-1.09747499e-01],\n",
              "       [-4.39319424e-02],\n",
              "       [-2.42288783e-02],\n",
              "       [ 5.46240173e-02],\n",
              "       [ 1.84386909e-01],\n",
              "       [ 1.65107489e-01],\n",
              "       [ 5.93221784e-02],\n",
              "       [-7.94121772e-02],\n",
              "       [ 5.63887646e-03],\n",
              "       [ 2.85010993e-01],\n",
              "       [-3.78114998e-01],\n",
              "       [ 2.55140662e-01],\n",
              "       [-9.71196890e-02],\n",
              "       [-1.55577630e-01],\n",
              "       [-2.66838282e-01],\n",
              "       [-3.68403830e-02],\n",
              "       [ 2.96685427e-01],\n",
              "       [ 6.64390996e-02],\n",
              "       [-2.81205982e-01],\n",
              "       [ 2.02048033e-01],\n",
              "       [-2.34273091e-01],\n",
              "       [-7.32570514e-02],\n",
              "       [ 1.51490778e-01],\n",
              "       [ 2.59649694e-01],\n",
              "       [-2.47417301e-01],\n",
              "       [-2.42324993e-01],\n",
              "       [ 9.58886594e-02],\n",
              "       [ 8.58609080e-02],\n",
              "       [-3.31731290e-01],\n",
              "       [ 2.38323584e-01],\n",
              "       [ 2.43164822e-01],\n",
              "       [ 3.13613445e-01],\n",
              "       [-1.41334638e-01],\n",
              "       [ 4.64097559e-02],\n",
              "       [-1.09845899e-01],\n",
              "       [ 2.40992621e-01],\n",
              "       [-1.08283550e-01],\n",
              "       [ 2.78607577e-01],\n",
              "       [ 6.19123504e-02],\n",
              "       [-3.05881083e-01],\n",
              "       [ 1.25070378e-01],\n",
              "       [ 3.56252700e-01],\n",
              "       [ 2.76916593e-01],\n",
              "       [-6.26538038e-01],\n",
              "       [ 1.06222838e-01],\n",
              "       [-1.94180012e-01],\n",
              "       [ 8.86302590e-02],\n",
              "       [-6.34322735e-03],\n",
              "       [-1.44967943e-01],\n",
              "       [ 1.72874838e-01],\n",
              "       [-1.21891275e-01],\n",
              "       [ 5.90922050e-02],\n",
              "       [ 1.13596722e-01],\n",
              "       [ 8.07671901e-03],\n",
              "       [ 1.99321240e-01],\n",
              "       [-1.73790697e-02],\n",
              "       [-2.57073849e-01],\n",
              "       [-5.82790673e-01],\n",
              "       [ 3.09127748e-01],\n",
              "       [ 7.00392425e-02],\n",
              "       [-6.03962550e-03],\n",
              "       [ 5.03506958e-02],\n",
              "       [-3.64234179e-01],\n",
              "       [ 3.76149788e-02],\n",
              "       [ 1.86342776e-01],\n",
              "       [ 2.06756935e-01],\n",
              "       [ 3.16008300e-01],\n",
              "       [ 4.80975993e-02],\n",
              "       [-1.91677973e-01],\n",
              "       [-3.52297664e-01],\n",
              "       [-6.87254727e-01],\n",
              "       [ 3.51659328e-01],\n",
              "       [-9.52536613e-02],\n",
              "       [ 1.62862241e-01],\n",
              "       [ 7.77394399e-02],\n",
              "       [-1.30967271e+00],\n",
              "       [-9.59723219e-02],\n",
              "       [ 3.52671623e-01],\n",
              "       [ 3.49654049e-01],\n",
              "       [ 3.24565545e-02],\n",
              "       [-1.66690394e-01],\n",
              "       [ 1.24235690e-01],\n",
              "       [ 2.30497494e-01],\n",
              "       [-2.60574877e-01],\n",
              "       [ 1.71210289e-01],\n",
              "       [-3.59505881e-03],\n",
              "       [ 1.19921446e-01],\n",
              "       [-3.35521787e-01],\n",
              "       [ 3.26697588e-01],\n",
              "       [ 6.21469552e-03],\n",
              "       [ 7.76286945e-02],\n",
              "       [ 4.04794812e-02],\n",
              "       [ 2.94452012e-01],\n",
              "       [ 7.73848817e-02],\n",
              "       [ 1.01925507e-01],\n",
              "       [ 1.38123170e-01],\n",
              "       [ 7.15686455e-02],\n",
              "       [ 4.67460752e-02],\n",
              "       [-2.16671318e-01],\n",
              "       [-2.48801082e-01],\n",
              "       [-1.46129176e-01],\n",
              "       [ 6.57040924e-02],\n",
              "       [ 5.15131466e-02],\n",
              "       [ 1.24177352e-01],\n",
              "       [ 2.57540941e-01],\n",
              "       [ 1.18082995e-02],\n",
              "       [-2.34700233e-01],\n",
              "       [-1.62849913e-03],\n",
              "       [ 5.20518906e-02],\n",
              "       [-1.32155210e-01],\n",
              "       [ 1.94914460e-01],\n",
              "       [ 4.09991480e-02],\n",
              "       [ 1.15862377e-01],\n",
              "       [ 3.50205339e-02],\n",
              "       [-1.42433733e-01],\n",
              "       [ 1.15528792e-01],\n",
              "       [ 3.54659483e-02],\n",
              "       [-1.27871230e-01],\n",
              "       [-2.44394895e-02],\n",
              "       [ 1.13810457e-01],\n",
              "       [-1.20433211e-01],\n",
              "       [ 1.29770994e-01],\n",
              "       [-7.24944621e-02],\n",
              "       [-9.52409431e-02],\n",
              "       [ 8.98470730e-02],\n",
              "       [-1.32450998e-01],\n",
              "       [ 2.96766311e-01],\n",
              "       [ 4.69014868e-02],\n",
              "       [-3.67849708e-01],\n",
              "       [-7.71556422e-02],\n",
              "       [-1.54801775e-02],\n",
              "       [ 4.89120744e-02],\n",
              "       [-2.75263906e-01],\n",
              "       [ 1.48638189e-01],\n",
              "       [-6.98564127e-02],\n",
              "       [-1.68910727e-01],\n",
              "       [-2.64164746e-01],\n",
              "       [-1.66950971e-01],\n",
              "       [ 2.61665374e-01],\n",
              "       [-4.85091954e-01],\n",
              "       [-1.10310882e-01],\n",
              "       [-2.97318529e-02],\n",
              "       [ 1.77568227e-01],\n",
              "       [-6.25728592e-02],\n",
              "       [-3.57922167e-01],\n",
              "       [-1.09103918e-01],\n",
              "       [-2.27932870e-01],\n",
              "       [ 1.96233839e-02],\n",
              "       [ 1.86498642e-01],\n",
              "       [ 2.10397840e-01],\n",
              "       [-2.04026669e-01],\n",
              "       [ 5.53617792e-05],\n",
              "       [ 2.08969921e-01],\n",
              "       [ 3.30870301e-01],\n",
              "       [ 1.37787566e-01],\n",
              "       [ 3.77963297e-02],\n",
              "       [-1.01812033e-03],\n",
              "       [-2.83699363e-01],\n",
              "       [-2.04439029e-01],\n",
              "       [-1.68717816e-01],\n",
              "       [ 1.85186714e-01],\n",
              "       [-2.78012995e-02],\n",
              "       [ 2.22236961e-01],\n",
              "       [-3.58887076e-01],\n",
              "       [-2.61622727e-01],\n",
              "       [-7.61054978e-02],\n",
              "       [-3.82883340e-01],\n",
              "       [ 2.95851361e-02],\n",
              "       [-6.62011877e-02],\n",
              "       [ 2.15412248e-02],\n",
              "       [-4.23036851e-02],\n",
              "       [-1.36868596e+00],\n",
              "       [ 1.04232050e-01],\n",
              "       [ 1.26259744e-01],\n",
              "       [-1.61529377e-01],\n",
              "       [ 2.71862205e-02],\n",
              "       [-4.00694944e-02],\n",
              "       [-1.79670885e-01],\n",
              "       [ 3.40043992e-01],\n",
              "       [-1.33283064e-01],\n",
              "       [ 6.89539090e-02],\n",
              "       [-5.81550188e-02],\n",
              "       [ 4.40547019e-02],\n",
              "       [ 3.23666669e-02],\n",
              "       [-1.96952210e-03],\n",
              "       [ 5.95595464e-02],\n",
              "       [-3.40595037e-01],\n",
              "       [ 1.97325930e-01],\n",
              "       [-6.94956332e-02],\n",
              "       [-1.90997034e-01],\n",
              "       [-9.14593711e-02],\n",
              "       [ 1.01146832e-01],\n",
              "       [ 1.59515396e-01],\n",
              "       [-1.11372462e-02],\n",
              "       [-1.74719393e-01],\n",
              "       [-1.24727532e-01],\n",
              "       [ 1.14077322e-01]], dtype=float32)"
            ]
          },
          "metadata": {},
          "execution_count": 9
        }
      ]
    },
    {
      "cell_type": "code",
      "source": [
        "fig, axs = plt.subplots(2, 16, figsize=(15,2))\n",
        "for i in range(2):\n",
        "  for j in range(16):\n",
        "    axs[i,j].imshow(conv_weights[:,:,0,i*16+j], vmin=-0.5, vmax=0.5)\n",
        "    axs[i,j].axis('off')\n",
        "plt.show()"
      ],
      "metadata": {
        "colab": {
          "base_uri": "https://localhost:8080/",
          "height": 134
        },
        "id": "0eLLbXmR_WB9",
        "outputId": "a950ad7a-767c-4693-85fb-e2d2f517d205"
      },
      "execution_count": 12,
      "outputs": [
        {
          "output_type": "display_data",
          "data": {
            "text/plain": [
              "<Figure size 1080x144 with 32 Axes>"
            ],
            "image/png": "[encoded data removed]"
          },
          "metadata": {
            "needs_background": "light"
          }
        }
      ]
    },
    {
      "cell_type": "code",
      "source": [
        "no_training_model = keras.Sequential()\n",
        "no_training_model.add(keras.layers.Conv2D(32, kernel_size=3, activation=\\\n",
        "                                          'relu', padding='same', input_shape=(28,28,1)))\n",
        "no_training_conv = no_training_model.layers[0]\n",
        "print(no_training_conv.weights[0].shape)"
      ],
      "metadata": {
        "colab": {
          "base_uri": "https://localhost:8080/"
        },
        "id": "wLVBXvJT_0dQ",
        "outputId": "87ce2634-8d23-420b-e912-2335685c7d4e"
      },
      "execution_count": 13,
      "outputs": [
        {
          "output_type": "stream",
          "name": "stdout",
          "text": [
            "(3, 3, 1, 32)\n"
          ]
        }
      ]
    },
    {
      "cell_type": "code",
      "source": [
        "no_training_weights = no_training_conv.weights[0].numpy()\n",
        "print(no_training_weights.mean(), no_training_weights.std())"
      ],
      "metadata": {
        "colab": {
          "base_uri": "https://localhost:8080/"
        },
        "id": "vpALUyzqBkaq",
        "outputId": "399893ec-ecf2-48d4-e47e-77fb6f2da2b6"
      },
      "execution_count": 14,
      "outputs": [
        {
          "output_type": "stream",
          "name": "stdout",
          "text": [
            "0.0019500413 0.083024405\n"
          ]
        }
      ]
    },
    {
      "cell_type": "code",
      "source": [
        "plt.hist(no_training_weights.reshape(-1,1))\n",
        "plt.xlabel('weight')\n",
        "plt.ylabel('count')\n",
        "plt.show()"
      ],
      "metadata": {
        "colab": {
          "base_uri": "https://localhost:8080/",
          "height": 279
        },
        "id": "7HYdRFz9BwKX",
        "outputId": "ab3dd41e-f08e-4ab6-ae57-c448f4653b75"
      },
      "execution_count": 15,
      "outputs": [
        {
          "output_type": "display_data",
          "data": {
            "text/plain": [
              "<Figure size 432x288 with 1 Axes>"
            ],
            "image/png": "[encoded data removed]"
          },
          "metadata": {
            "needs_background": "light"
          }
        }
      ]
    },
    {
      "cell_type": "code",
      "source": [
        "fig, axs = plt.subplots(2, 16, figsize=(15,2))\n",
        "for i in range(2):\n",
        "  for j in range(16):\n",
        "    axs[i,j].imshow(no_training_weights[:,:,0,i*16+j], vmin=-0.5, vmax=0.5)\n",
        "    axs[i,j].axis('off')\n",
        "plt.show()"
      ],
      "metadata": {
        "colab": {
          "base_uri": "https://localhost:8080/",
          "height": 134
        },
        "id": "qtLKtW8EB5fo",
        "outputId": "c96092de-da5e-450f-81fb-6c9426242dcb"
      },
      "execution_count": 16,
      "outputs": [
        {
          "output_type": "display_data",
          "data": {
            "text/plain": [
              "<Figure size 1080x144 with 32 Axes>"
            ],
            "image/png": "[encoded data removed]"
          },
          "metadata": {
            "needs_background": "light"
          }
        }
      ]
    },
    {
      "cell_type": "code",
      "source": [
        "print(model.input)"
      ],
      "metadata": {
        "colab": {
          "base_uri": "https://localhost:8080/"
        },
        "id": "M1G8-pC3CGo9",
        "outputId": "25131a72-b2da-4424-ffe7-09ba48526df3"
      },
      "execution_count": 32,
      "outputs": [
        {
          "output_type": "stream",
          "name": "stdout",
          "text": [
            "KerasTensor(type_spec=TensorSpec(shape=(None, 28, 28, 1), dtype=tf.float32, name='conv2d_input'), name='conv2d_input', description=\"created by layer 'conv2d_input'\")\n"
          ]
        }
      ]
    },
    {
      "cell_type": "code",
      "source": [
        "conv_acti = keras.Model(model.input, model.layers[0].output)"
      ],
      "metadata": {
        "id": "Wqf0JuWcDkIL"
      },
      "execution_count": 33,
      "outputs": []
    },
    {
      "cell_type": "code",
      "source": [
        "(train_input, train_target), (test_input, test_target) =\\\n",
        "  keras.datasets.fashion_mnist.load_data()"
      ],
      "metadata": {
        "id": "v5913qm7Dq6g"
      },
      "execution_count": 34,
      "outputs": []
    },
    {
      "cell_type": "code",
      "source": [
        "plt.imshow(train_input[0], cmap='gray_r')\n",
        "plt.show()"
      ],
      "metadata": {
        "colab": {
          "base_uri": "https://localhost:8080/",
          "height": 265
        },
        "id": "bOmTb5wVD2x6",
        "outputId": "f58817b3-2681-4f4f-89f4-be0fe2ef6496"
      },
      "execution_count": 35,
      "outputs": [
        {
          "output_type": "display_data",
          "data": {
            "text/plain": [
              "<Figure size 432x288 with 1 Axes>"
            ],
            "image/png": "[encoded data removed]"
          },
          "metadata": {
            "needs_background": "light"
          }
        }
      ]
    },
    {
      "cell_type": "code",
      "source": [
        "inputs = train_input[0:1].reshape(-1,28,28,1) / 255.0\n",
        "feature_maps = conv_acti.predict(inputs)"
      ],
      "metadata": {
        "id": "E3pg5gz0D75z"
      },
      "execution_count": 36,
      "outputs": []
    },
    {
      "cell_type": "code",
      "source": [
        "fig, axs = plt.subplots(4, 8, figsize=(15,8))\n",
        "for i in range(4):\n",
        "  for j in range(8):\n",
        "    axs[i,j].imshow(feature_maps[0,:,:,i*8+j])\n",
        "    axs[i,j].axis('off')\n",
        "plt.show()"
      ],
      "metadata": {
        "colab": {
          "base_uri": "https://localhost:8080/",
          "height": 460
        },
        "id": "m2r09sFMEH5u",
        "outputId": "3cc6a238-21bc-4f0c-81c7-68b7b2d765fa"
      },
      "execution_count": 37,
      "outputs": [
        {
          "output_type": "display_data",
          "data": {
            "text/plain": [
              "<Figure size 1080x576 with 32 Axes>"
            ],
            "image/png": "[encoded data removed]"
          },
          "metadata": {
            "needs_background": "light"
          }
        }
      ]
    },
    {
      "cell_type": "code",
      "source": [
        "conv2_acti = keras.Model(model.input, model.layers[2].output)"
      ],
      "metadata": {
        "id": "9Gkej8BDE-RO"
      },
      "execution_count": 38,
      "outputs": []
    },
    {
      "cell_type": "code",
      "source": [
        "inputs = train_input[0:1].reshape(-1,28,28,1) / 255.0\n",
        "feature_maps = conv2_acti.predict(inputs)"
      ],
      "metadata": {
        "id": "UiHDNBWjFp7s"
      },
      "execution_count": 39,
      "outputs": []
    },
    {
      "cell_type": "code",
      "source": [
        "print(feature_maps.shape)"
      ],
      "metadata": {
        "colab": {
          "base_uri": "https://localhost:8080/"
        },
        "id": "7xD0njwyFzmQ",
        "outputId": "2e335404-27cf-4517-c1c5-d12e3eb1c68d"
      },
      "execution_count": 40,
      "outputs": [
        {
          "output_type": "stream",
          "name": "stdout",
          "text": [
            "(1, 14, 14, 64)\n"
          ]
        }
      ]
    },
    {
      "cell_type": "code",
      "source": [
        "fig, axs = plt.subplots(8, 8, figsize=(12, 12))\n",
        "for i in range(8):\n",
        "  for j in range(8):\n",
        "    axs[i,j].imshow(feature_maps[0,:,:,i*8+j])\n",
        "    axs[i,j].axis('off')\n",
        "plt.show()"
      ],
      "metadata": {
        "colab": {
          "base_uri": "https://localhost:8080/",
          "height": 683
        },
        "id": "67aLC5s2F1C0",
        "outputId": "a7cd5653-5440-4657-e44b-10c50809242c"
      },
      "execution_count": 41,
      "outputs": [
        {
          "output_type": "display_data",
          "data": {
            "text/plain": [
              "<Figure size 864x864 with 64 Axes>"
            ],
            "image/png": "[encoded data removed]"
          },
          "metadata": {
            "needs_background": "light"
          }
        }
      ]
    },
    {
      "cell_type": "code",
      "source": [
        ""
      ],
      "metadata": {
        "id": "Q-2CkJjuF-XF"
      },
      "execution_count": null,
      "outputs": []
    }
  ]
}