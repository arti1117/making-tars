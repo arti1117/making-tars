{
  "nbformat": 4,
  "nbformat_minor": 0,
  "metadata": {
    "colab": {
      "name": "03_3_Feature_Engineering_and_Regularization.ipynb",
      "provenance": [],
      "collapsed_sections": [],
      "authorship_tag": "ABX9TyPI1SGKS3Da4Lm2kBbYIZJG",
      "include_colab_link": true
    },
    "kernelspec": {
      "name": "python3",
      "display_name": "Python 3"
    },
    "language_info": {
      "name": "python"
    }
  },
  "cells": [
    {
      "cell_type": "markdown",
      "metadata": {
        "id": "view-in-github",
        "colab_type": "text"
      },
      "source": [
        "<a href=\"https://colab.research.google.com/github/arti1117/hg-mldl/blob/main/03_3_Feature_Engineering_and_Regularization.ipynb\" target=\"_parent\"><img src=\"https://colab.research.google.com/assets/colab-badge.svg\" alt=\"Open In Colab\"/></a>"
      ]
    },
    {
      "cell_type": "code",
      "execution_count": 1,
      "metadata": {
        "colab": {
          "base_uri": "https://localhost:8080/"
        },
        "id": "pXdKhD6xTCXz",
        "outputId": "418abef3-ad62-4861-e8a4-7e29d84496e3"
      },
      "outputs": [
        {
          "output_type": "stream",
          "name": "stdout",
          "text": [
            "[[ 8.4   2.11  1.41]\n",
            " [13.7   3.53  2.  ]\n",
            " [15.    3.82  2.43]\n",
            " [16.2   4.59  2.63]\n",
            " [17.4   4.59  2.94]]\n"
          ]
        }
      ],
      "source": [
        "import pandas as pd # pd는 관례적으로 사용하는 판다스의 별칭\n",
        "df = pd.read_csv('https://bit.ly/perch_csv_data')\n",
        "perch_pull = df.to_numpy()\n",
        "print(perch_pull[:5])"
      ]
    },
    {
      "cell_type": "code",
      "source": [
        "import numpy as np\n",
        "perch_weight = np.array([5.9, 32.0, 40.0, 51.5, 70.0, 100.0, 78.0, 80.0, 85.0, 85.0, 110.0,\n",
        "       115.0, 125.0, 130.0, 120.0, 120.0, 130.0, 135.0, 110.0, 130.0,\n",
        "       150.0, 145.0, 150.0, 170.0, 225.0, 145.0, 188.0, 180.0, 197.0,\n",
        "       218.0, 300.0, 260.0, 265.0, 250.0, 250.0, 300.0, 320.0, 514.0,\n",
        "       556.0, 840.0, 685.0, 700.0, 700.0, 690.0, 900.0, 650.0, 820.0,\n",
        "       850.0, 900.0, 1015.0, 820.0, 1100.0, 1000.0, 1100.0, 1000.0,\n",
        "       1000.0])"
      ],
      "metadata": {
        "id": "QQej90WCUSB9"
      },
      "execution_count": 2,
      "outputs": []
    },
    {
      "cell_type": "code",
      "source": [
        "from sklearn.model_selection import train_test_split\n",
        "train_input, test_input, train_target, test_target = train_test_split(\n",
        "    perch_pull, perch_weight, random_state=42\n",
        ")"
      ],
      "metadata": {
        "id": "ayoRKOXJUf_N"
      },
      "execution_count": 3,
      "outputs": []
    },
    {
      "cell_type": "code",
      "source": [
        "from sklearn.preprocessing import PolynomialFeatures"
      ],
      "metadata": {
        "id": "33GYJt_OUu0R"
      },
      "execution_count": 4,
      "outputs": []
    },
    {
      "cell_type": "code",
      "source": [
        "poly = PolynomialFeatures()\n",
        "poly.fit([[2, 3]])\n",
        "print(poly.transform([[2, 3]]))"
      ],
      "metadata": {
        "colab": {
          "base_uri": "https://localhost:8080/"
        },
        "id": "3E0lYMZwVEF-",
        "outputId": "272396f1-a3aa-4fab-a432-99efbe2d93fb"
      },
      "execution_count": 5,
      "outputs": [
        {
          "output_type": "stream",
          "name": "stdout",
          "text": [
            "[[1. 2. 3. 4. 6. 9.]]\n"
          ]
        }
      ]
    },
    {
      "cell_type": "code",
      "source": [
        "poly = PolynomialFeatures(include_bias=False)\n",
        "poly.fit([[2, 3]])\n",
        "print(poly.transform([[2,3]]))"
      ],
      "metadata": {
        "colab": {
          "base_uri": "https://localhost:8080/"
        },
        "id": "AoJg-1X2VLPe",
        "outputId": "18e50f0c-4810-486a-ce37-64c98b7ee196"
      },
      "execution_count": 6,
      "outputs": [
        {
          "output_type": "stream",
          "name": "stdout",
          "text": [
            "[[2. 3. 4. 6. 9.]]\n"
          ]
        }
      ]
    },
    {
      "cell_type": "code",
      "source": [
        "poly = PolynomialFeatures(include_bias=False)\n",
        "poly.fit(train_input)\n",
        "train_poly = poly.transform(train_input)\n",
        "print(train_poly.shape)"
      ],
      "metadata": {
        "colab": {
          "base_uri": "https://localhost:8080/"
        },
        "id": "sZvERcIYVsju",
        "outputId": "122ced1f-1ac6-4d70-88af-6123fde45826"
      },
      "execution_count": 7,
      "outputs": [
        {
          "output_type": "stream",
          "name": "stdout",
          "text": [
            "(42, 9)\n"
          ]
        }
      ]
    },
    {
      "cell_type": "code",
      "source": [
        "poly.get_feature_names_out()"
      ],
      "metadata": {
        "colab": {
          "base_uri": "https://localhost:8080/"
        },
        "id": "6F31ylaPWFj4",
        "outputId": "c5fbb145-0931-4d96-a06f-f3993284ccbc"
      },
      "execution_count": 8,
      "outputs": [
        {
          "output_type": "execute_result",
          "data": {
            "text/plain": [
              "array(['x0', 'x1', 'x2', 'x0^2', 'x0 x1', 'x0 x2', 'x1^2', 'x1 x2',\n",
              "       'x2^2'], dtype=object)"
            ]
          },
          "metadata": {},
          "execution_count": 8
        }
      ]
    },
    {
      "cell_type": "code",
      "source": [
        "test_poly = poly.transform(test_input)"
      ],
      "metadata": {
        "id": "OCol_ipmWJ2e"
      },
      "execution_count": 9,
      "outputs": []
    },
    {
      "cell_type": "code",
      "source": [
        "from sklearn.linear_model import LinearRegression\n",
        "lr = LinearRegression()\n",
        "lr.fit(train_poly, train_target)\n",
        "print(lr.score(train_poly, train_target))"
      ],
      "metadata": {
        "id": "R3W6ikGqXMuX",
        "colab": {
          "base_uri": "https://localhost:8080/"
        },
        "outputId": "195c98aa-2178-47b2-cc75-ddcc70dd19b4"
      },
      "execution_count": 10,
      "outputs": [
        {
          "output_type": "stream",
          "name": "stdout",
          "text": [
            "0.9903183436982124\n"
          ]
        }
      ]
    },
    {
      "cell_type": "code",
      "source": [
        "print(lr.score(test_poly, test_target))"
      ],
      "metadata": {
        "colab": {
          "base_uri": "https://localhost:8080/"
        },
        "id": "3juPXTFg35QB",
        "outputId": "f01752ae-a8e3-4e64-92ae-9415609bb47a"
      },
      "execution_count": 11,
      "outputs": [
        {
          "output_type": "stream",
          "name": "stdout",
          "text": [
            "0.9714559911594134\n"
          ]
        }
      ]
    },
    {
      "cell_type": "code",
      "source": [
        "poly = PolynomialFeatures(degree=5, include_bias=False)\n",
        "poly.fit(train_input)\n",
        "train_poly = poly.transform(train_input)\n",
        "test_poly = poly.transform(test_input)\n",
        "print(train_poly.shape)"
      ],
      "metadata": {
        "colab": {
          "base_uri": "https://localhost:8080/"
        },
        "id": "IEnUYn9j3-KP",
        "outputId": "605a996a-6210-4e00-a678-e01e510fc606"
      },
      "execution_count": 12,
      "outputs": [
        {
          "output_type": "stream",
          "name": "stdout",
          "text": [
            "(42, 55)\n"
          ]
        }
      ]
    },
    {
      "cell_type": "code",
      "source": [
        "lr.fit(train_poly, train_target)\n",
        "print(lr.score(train_poly, train_target))"
      ],
      "metadata": {
        "colab": {
          "base_uri": "https://localhost:8080/"
        },
        "id": "PuctoShR4atA",
        "outputId": "43dd2c70-bfa4-45f5-bfeb-9f4ce33da1e7"
      },
      "execution_count": 13,
      "outputs": [
        {
          "output_type": "stream",
          "name": "stdout",
          "text": [
            "0.9999999999991097\n"
          ]
        }
      ]
    },
    {
      "cell_type": "code",
      "source": [
        "print(lr.score(test_poly, test_target))"
      ],
      "metadata": {
        "colab": {
          "base_uri": "https://localhost:8080/"
        },
        "id": "DrsbCQKN4jMH",
        "outputId": "519abfff-45b5-4d8e-abd1-9ddb4faf8eb2"
      },
      "execution_count": 14,
      "outputs": [
        {
          "output_type": "stream",
          "name": "stdout",
          "text": [
            "-144.40579242684848\n"
          ]
        }
      ]
    },
    {
      "cell_type": "code",
      "source": [
        "from sklearn.preprocessing import StandardScaler\n",
        "ss = StandardScaler()\n",
        "ss.fit(train_poly)\n",
        "train_scaled = ss.transform(train_poly)\n",
        "test_scaled = ss.transform(test_poly)"
      ],
      "metadata": {
        "id": "SteeuN0f4mlF"
      },
      "execution_count": 15,
      "outputs": []
    },
    {
      "cell_type": "code",
      "source": [
        "train_scaled[:5]"
      ],
      "metadata": {
        "colab": {
          "base_uri": "https://localhost:8080/"
        },
        "id": "tqvd2VpzC9FM",
        "outputId": "891f6dce-549a-4be0-dd8c-aa1b1ec911f5"
      },
      "execution_count": 16,
      "outputs": [
        {
          "output_type": "execute_result",
          "data": {
            "text/plain": [
              "array([[-1.01339619, -1.01007487, -1.01952321, -0.9549757 , -0.9496784 ,\n",
              "        -0.95745849, -0.93942079, -0.94342509, -0.94100107, -0.88757122,\n",
              "        -0.88399964, -0.89100599, -0.87785292, -0.88311456, -0.88430909,\n",
              "        -0.8691891 , -0.87259422, -0.87147928, -0.86603533, -0.82233944,\n",
              "        -0.82171953, -0.8280588 , -0.81928269, -0.82512549, -0.8278857 ,\n",
              "        -0.81486775, -0.82006923, -0.82177279, -0.82010716, -0.80835934,\n",
              "        -0.81274154, -0.81321125, -0.8098514 , -0.80275974, -0.7637909 ,\n",
              "        -0.76597773, -0.77150714, -0.76668667, -0.77246614, -0.77577893,\n",
              "        -0.76571689, -0.77162398, -0.77472752, -0.77517751, -0.76290623,\n",
              "        -0.76877311, -0.77148634, -0.77113383, -0.767785  , -0.75814062,\n",
              "        -0.76376113, -0.76586966, -0.76449499, -0.75967179, -0.75143746],\n",
              "       [-0.73842893, -0.75254307, -0.74466913, -0.76472563, -0.7717585 ,\n",
              "        -0.77238267, -0.7747325 , -0.77298293, -0.76716811, -0.76291014,\n",
              "        -0.76770896, -0.77117372, -0.7701438 , -0.77242144, -0.77168016,\n",
              "        -0.7701077 , -0.7710676 , -0.76852551, -0.76268353, -0.74414953,\n",
              "        -0.74888304, -0.75336339, -0.75182759, -0.75602974, -0.75767358,\n",
              "        -0.75276277, -0.75654505, -0.75734709, -0.75530344, -0.75151822,\n",
              "        -0.75470284, -0.7544831 , -0.75094965, -0.74419754, -0.71646953,\n",
              "        -0.72192479, -0.72646818, -0.72588462, -0.73075731, -0.73343457,\n",
              "        -0.72812394, -0.73321011, -0.73576127, -0.73592752, -0.72845668,\n",
              "        -0.73359433, -0.73584309, -0.73529384, -0.73201564, -0.72674557,\n",
              "        -0.73173294, -0.73346797, -0.73198449, -0.72731765, -0.71950111],\n",
              "       [-1.11650891, -0.98919391, -0.97371419, -1.02065999, -0.9714645 ,\n",
              "        -0.97031097, -0.92689165, -0.92331614, -0.91379551, -0.92715994,\n",
              "        -0.90484569, -0.90818436, -0.88325413, -0.88524768, -0.88320326,\n",
              "        -0.86212687, -0.8626609 , -0.85882187, -0.85087284, -0.84515835,\n",
              "        -0.83603176, -0.84079274, -0.82638952, -0.83079371, -0.83208203,\n",
              "        -0.81597363, -0.81987137, -0.82028273, -0.81736635, -0.80456916,\n",
              "        -0.80778177, -0.8071358 , -0.80274122, -0.79471984, -0.77647055,\n",
              "        -0.7747107 , -0.77954793, -0.77201712, -0.77715994, -0.77980618,\n",
              "        -0.76815525, -0.77347623, -0.77598118, -0.77583274, -0.76292803,\n",
              "        -0.76825674, -0.77043638, -0.76956644, -0.76572715, -0.75618509,\n",
              "        -0.76131482, -0.76295353, -0.76114089, -0.75592147, -0.74734146],\n",
              "       [-1.26544951, -1.20148364, -1.07678447, -1.11008743, -1.0794873 ,\n",
              "        -1.04481394, -1.04749571, -1.01503633, -0.97401432, -0.97797552,\n",
              "        -0.96206357, -0.95311717, -0.94494104, -0.93616908, -0.92216271,\n",
              "        -0.92657374, -0.91767167, -0.90326519, -0.88389764, -0.87277966,\n",
              "        -0.86595922, -0.86595024, -0.85791159, -0.85811849, -0.85466876,\n",
              "        -0.84844182, -0.84865284, -0.84485699, -0.83730095, -0.83740083,\n",
              "        -0.83737596, -0.83299282, -0.82444653, -0.81195514, -0.79094785,\n",
              "        -0.79002471, -0.79296975, -0.78789053, -0.79137034, -0.79211294,\n",
              "        -0.78433109, -0.78819625, -0.78901097, -0.78696782, -0.77917142,\n",
              "        -0.78322886, -0.78390951, -0.78134156, -0.77563796, -0.772285  ,\n",
              "        -0.77630519, -0.77661386, -0.77327799, -0.76637441, -0.75598575],\n",
              "       [ 0.86554673,  0.89357239,  1.09914363,  0.78258063,  0.79878122,\n",
              "         0.93990033,  0.80045116,  0.93459078,  1.05668676,  0.67651527,\n",
              "         0.68764875,  0.8012992 ,  0.69013427,  0.8009429 ,  0.90667389,\n",
              "         0.68467425,  0.79166951,  0.89283215,  0.98585419,  0.55968474,\n",
              "         0.5684443 ,  0.66456056,  0.57131856,  0.66655179,  0.75972558,\n",
              "         0.56845191,  0.66202726,  0.75298615,  0.83966967,  0.56005916,\n",
              "         0.65121087,  0.73912961,  0.82199596,  0.89806256,  0.44114502,\n",
              "         0.44855713,  0.53098988,  0.45173534,  0.53431582,  0.61642373,\n",
              "         0.45063976,  0.53277501,  0.61411072,  0.69346369,  0.44529494,\n",
              "         0.526359  ,  0.60623382,  0.6835692 ,  0.75701341,  0.43580198,\n",
              "         0.51515579,  0.5928749 ,  0.66744993,  0.73737814,  0.80118751]])"
            ]
          },
          "metadata": {},
          "execution_count": 16
        }
      ]
    },
    {
      "cell_type": "code",
      "source": [
        "from sklearn.linear_model import Ridge\n",
        "ridge = Ridge()\n",
        "ridge.fit(train_scaled, train_target)\n",
        "print(ridge.score(train_scaled, train_target))\n",
        "print(ridge.score(test_scaled, test_target))"
      ],
      "metadata": {
        "colab": {
          "base_uri": "https://localhost:8080/"
        },
        "id": "TLQwpkj5C-yx",
        "outputId": "c43fb83a-aafa-4c31-d6d8-fa992b17f521"
      },
      "execution_count": 18,
      "outputs": [
        {
          "output_type": "stream",
          "name": "stdout",
          "text": [
            "0.9896101671037343\n",
            "0.9790693977615397\n"
          ]
        }
      ]
    },
    {
      "cell_type": "code",
      "source": [
        "import matplotlib.pyplot as plt\n",
        "train_score = []\n",
        "test_score = []"
      ],
      "metadata": {
        "id": "QpkdZzVnDzAj"
      },
      "execution_count": 19,
      "outputs": []
    },
    {
      "cell_type": "code",
      "source": [
        "alpha_list = [.001, .01, .1, 1, 10, 100]\n",
        "for alpha in alpha_list:\n",
        "  # 릿지 모델 생성\n",
        "  ridge = Ridge(alpha=alpha)\n",
        "  # 릿지 모델 훈련\n",
        "  ridge.fit(train_scaled, train_target)\n",
        "  # 훈련 점수와 테스트 점수를 저장\n",
        "  train_score.append(ridge.score(train_scaled, train_target))\n",
        "  test_score.append(ridge.score(test_scaled, test_target))"
      ],
      "metadata": {
        "id": "XuMfHSllEO8j"
      },
      "execution_count": 20,
      "outputs": []
    },
    {
      "cell_type": "code",
      "source": [
        "plt.plot(np.log10(alpha_list), train_score)\n",
        "plt.plot(np.log10(alpha_list), test_score, color='orange')\n",
        "plt.xlabel('alpha')\n",
        "plt.ylabel('R^2')\n",
        "plt.show()"
      ],
      "metadata": {
        "colab": {
          "base_uri": "https://localhost:8080/",
          "height": 279
        },
        "id": "EqSdQDbkEtgC",
        "outputId": "ef620b9c-eed3-416c-90ae-a9080987de52"
      },
      "execution_count": 21,
      "outputs": [
        {
          "output_type": "display_data",
          "data": {
            "text/plain": [
              "<Figure size 432x288 with 1 Axes>"
            ],
            "image/png": "[encoded data removed]"
          },
          "metadata": {
            "needs_background": "light"
          }
        }
      ]
    },
    {
      "cell_type": "code",
      "source": [
        "ridge = Ridge(alpha=0.1)\n",
        "ridge.fit(train_scaled, train_target)\n",
        "print(ridge.score(train_scaled, train_target))\n",
        "print(ridge.score(test_scaled, test_target))"
      ],
      "metadata": {
        "colab": {
          "base_uri": "https://localhost:8080/"
        },
        "id": "NurCKJsLFRPS",
        "outputId": "f4a20e2f-bffb-4919-e5b5-245ce7b0f378"
      },
      "execution_count": 22,
      "outputs": [
        {
          "output_type": "stream",
          "name": "stdout",
          "text": [
            "0.9903815817570366\n",
            "0.9827976465386926\n"
          ]
        }
      ]
    },
    {
      "cell_type": "code",
      "source": [
        "from sklearn.linear_model import Lasso\n",
        "lasso = Lasso()\n",
        "lasso.fit(train_scaled, train_target)\n",
        "print(lasso.score(train_scaled, train_target))\n",
        "print(lasso.score(test_scaled, test_target))"
      ],
      "metadata": {
        "colab": {
          "base_uri": "https://localhost:8080/"
        },
        "id": "PX8PYqQlFkyL",
        "outputId": "8e4ce343-4af9-40b1-f8eb-d96aa1f27cb6"
      },
      "execution_count": 25,
      "outputs": [
        {
          "output_type": "stream",
          "name": "stdout",
          "text": [
            "0.989789897208096\n",
            "0.9800593698421883\n"
          ]
        }
      ]
    },
    {
      "cell_type": "code",
      "source": [
        "train_score = []\n",
        "test_score = []\n",
        "\n",
        "alpha_list = [.001, .01, .1, 1, 10, 100]\n",
        "for alpha in alpha_list:\n",
        "  # 라쏘 모델 생성\n",
        "  lasso = Lasso(alpha=alpha, max_iter=10000)\n",
        "  # 라쏘 모델 훈련\n",
        "  lasso.fit(train_scaled, train_target)\n",
        "  # 훈련 점수와 테스트 점수를 저장\n",
        "  train_score.append(lasso.score(train_scaled, train_target))\n",
        "  test_score.append(lasso.score(test_scaled, test_target))"
      ],
      "metadata": {
        "colab": {
          "base_uri": "https://localhost:8080/"
        },
        "id": "JFhrd8wNH4nK",
        "outputId": "978c1191-d1ff-4188-e019-09d49c76d42f"
      },
      "execution_count": 27,
      "outputs": [
        {
          "output_type": "stream",
          "name": "stderr",
          "text": [
            "/usr/local/lib/python3.7/dist-packages/sklearn/linear_model/_coordinate_descent.py:648: ConvergenceWarning: Objective did not converge. You might want to increase the number of iterations, check the scale of the features or consider increasing regularisation. Duality gap: 1.878e+04, tolerance: 5.183e+02\n",
            "  coef_, l1_reg, l2_reg, X, y, max_iter, tol, rng, random, positive\n",
            "/usr/local/lib/python3.7/dist-packages/sklearn/linear_model/_coordinate_descent.py:648: ConvergenceWarning: Objective did not converge. You might want to increase the number of iterations, check the scale of the features or consider increasing regularisation. Duality gap: 1.297e+04, tolerance: 5.183e+02\n",
            "  coef_, l1_reg, l2_reg, X, y, max_iter, tol, rng, random, positive\n"
          ]
        }
      ]
    },
    {
      "cell_type": "code",
      "source": [
        "plt.plot(np.log10(alpha_list), train_score)\n",
        "plt.plot(np.log10(alpha_list), test_score, color='orange')\n",
        "plt.xlabel('alpha')\n",
        "plt.ylabel('R^2')\n",
        "plt.show()"
      ],
      "metadata": {
        "colab": {
          "base_uri": "https://localhost:8080/",
          "height": 279
        },
        "id": "2mW61mZrIVWS",
        "outputId": "58df7c36-aaac-4543-8a72-ccb7e7a56ed3"
      },
      "execution_count": 28,
      "outputs": [
        {
          "output_type": "display_data",
          "data": {
            "text/plain": [
              "<Figure size 432x288 with 1 Axes>"
            ],
            "image/png": "[encoded data removed]"
          },
          "metadata": {
            "needs_background": "light"
          }
        }
      ]
    },
    {
      "cell_type": "code",
      "source": [
        "lasso = Lasso(alpha=10)\n",
        "lasso.fit(train_scaled, train_target)\n",
        "print(lasso.score(train_scaled, train_target))\n",
        "print(lasso.score(test_scaled, test_target))"
      ],
      "metadata": {
        "colab": {
          "base_uri": "https://localhost:8080/"
        },
        "id": "w12QxxAXIjfI",
        "outputId": "85840534-eaa6-4681-98e9-1213dd0ce0f4"
      },
      "execution_count": 29,
      "outputs": [
        {
          "output_type": "stream",
          "name": "stdout",
          "text": [
            "0.9888067471131867\n",
            "0.9824470598706695\n"
          ]
        }
      ]
    },
    {
      "cell_type": "code",
      "source": [
        "print(np.sum(lasso.coef_ == 0))"
      ],
      "metadata": {
        "colab": {
          "base_uri": "https://localhost:8080/"
        },
        "id": "U43rRAQCIn_p",
        "outputId": "93f06d9e-b871-42c5-dced-f22cb8a2f86c"
      },
      "execution_count": 30,
      "outputs": [
        {
          "output_type": "stream",
          "name": "stdout",
          "text": [
            "40\n"
          ]
        }
      ]
    },
    {
      "cell_type": "code",
      "source": [
        ""
      ],
      "metadata": {
        "id": "c1qgNWK2IwIB"
      },
      "execution_count": null,
      "outputs": []
    }
  ]
}