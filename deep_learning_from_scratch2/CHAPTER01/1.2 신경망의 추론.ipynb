{
 "cells": [
  {
   "cell_type": "code",
   "execution_count": 1,
   "id": "f24ff2d3",
   "metadata": {},
   "outputs": [],
   "source": [
    "import numpy as np"
   ]
  },
  {
   "cell_type": "code",
   "execution_count": 2,
   "id": "8506af34",
   "metadata": {},
   "outputs": [],
   "source": [
    "W1 = np.random.randn(2, 4)\n",
    "b1 = np.random.randn(1, 4)\n",
    "x = np.random.randn(10, 2)\n",
    "h = np.matmul(x, W1) + b1"
   ]
  },
  {
   "cell_type": "code",
   "execution_count": 3,
   "id": "a2990a02",
   "metadata": {},
   "outputs": [
    {
     "data": {
      "text/plain": [
       "array([[-0.5480513 , -2.0631112 , -0.05007443, -0.61338942],\n",
       "       [-2.47115637, -0.49673768,  0.71821356, -0.96764201],\n",
       "       [-1.41899507, -2.26391546,  0.45225412, -1.46637291],\n",
       "       [-1.01319947, -4.04822766,  0.53672389, -2.49778658],\n",
       "       [-2.21063136, -2.6388468 ,  0.94147727, -2.38808752],\n",
       "       [-1.00079741,  0.46500332, -0.23546199,  0.94622498],\n",
       "       [-1.54539062, -1.10613283,  0.32383267, -0.68705139],\n",
       "       [-2.4320267 ,  0.47031791,  0.53314678, -0.20036752],\n",
       "       [-4.11201033, -0.25541739,  1.55949804, -2.10318945],\n",
       "       [-1.12729494,  1.43931976, -0.33270974,  1.5858682 ]])"
      ]
     },
     "execution_count": 3,
     "metadata": {},
     "output_type": "execute_result"
    }
   ],
   "source": [
    "h"
   ]
  },
  {
   "cell_type": "code",
   "execution_count": 4,
   "id": "12c8145f",
   "metadata": {},
   "outputs": [
    {
     "data": {
      "text/plain": [
       "(2, 4)"
      ]
     },
     "execution_count": 4,
     "metadata": {},
     "output_type": "execute_result"
    }
   ],
   "source": [
    "W1.shape"
   ]
  },
  {
   "cell_type": "code",
   "execution_count": 5,
   "id": "475ed9e7",
   "metadata": {},
   "outputs": [
    {
     "data": {
      "text/plain": [
       "(1, 4)"
      ]
     },
     "execution_count": 5,
     "metadata": {},
     "output_type": "execute_result"
    }
   ],
   "source": [
    "b1.shape"
   ]
  },
  {
   "cell_type": "code",
   "execution_count": 6,
   "id": "8152990d",
   "metadata": {},
   "outputs": [
    {
     "data": {
      "text/plain": [
       "(10, 2)"
      ]
     },
     "execution_count": 6,
     "metadata": {},
     "output_type": "execute_result"
    }
   ],
   "source": [
    "x.shape"
   ]
  },
  {
   "cell_type": "code",
   "execution_count": 7,
   "id": "68abe569",
   "metadata": {},
   "outputs": [
    {
     "data": {
      "text/plain": [
       "(10, 4)"
      ]
     },
     "execution_count": 7,
     "metadata": {},
     "output_type": "execute_result"
    }
   ],
   "source": [
    "h.shape"
   ]
  },
  {
   "cell_type": "code",
   "execution_count": 10,
   "id": "e74bd37a",
   "metadata": {},
   "outputs": [],
   "source": [
    "def sigmoid(x):\n",
    "    return 1 / (1 + np.exp(-x))"
   ]
  },
  {
   "cell_type": "code",
   "execution_count": 11,
   "id": "e0069def",
   "metadata": {},
   "outputs": [],
   "source": [
    "a = sigmoid(h)"
   ]
  },
  {
   "cell_type": "code",
   "execution_count": 12,
   "id": "8af975e4",
   "metadata": {},
   "outputs": [
    {
     "data": {
      "text/plain": [
       "(10, 4)"
      ]
     },
     "execution_count": 12,
     "metadata": {},
     "output_type": "execute_result"
    }
   ],
   "source": [
    "a.shape"
   ]
  },
  {
   "cell_type": "code",
   "execution_count": 13,
   "id": "0ed95e6b",
   "metadata": {},
   "outputs": [
    {
     "data": {
      "text/plain": [
       "array([[0.36631664, 0.11273426, 0.48748401, 0.35128641],\n",
       "       [0.07790513, 0.37830763, 0.67221351, 0.27535075],\n",
       "       [0.19481917, 0.09415589, 0.61117504, 0.18749454],\n",
       "       [0.26635418, 0.01715389, 0.63104998, 0.07601349],\n",
       "       [0.09879984, 0.06667977, 0.71939796, 0.08408561],\n",
       "       [0.26878467, 0.61420043, 0.44140497, 0.72035536],\n",
       "       [0.175753  , 0.24859255, 0.58025802, 0.33468933],\n",
       "       [0.08076288, 0.615459  , 0.63021675, 0.45007504],\n",
       "       [0.01611101, 0.43649055, 0.82628131, 0.10878721],\n",
       "       [0.24466066, 0.80834929, 0.41758145, 0.83003399]])"
      ]
     },
     "execution_count": 13,
     "metadata": {},
     "output_type": "execute_result"
    }
   ],
   "source": [
    "a"
   ]
  },
  {
   "cell_type": "code",
   "execution_count": 18,
   "id": "c4b30e21",
   "metadata": {},
   "outputs": [],
   "source": [
    "import sys, os\n",
    "sys.path.append(os.pardir)"
   ]
  },
  {
   "cell_type": "code",
   "execution_count": 20,
   "id": "952003a7",
   "metadata": {},
   "outputs": [],
   "source": [
    "from common.networks import TwoLayerNet"
   ]
  },
  {
   "cell_type": "code",
   "execution_count": 21,
   "id": "1e72f438",
   "metadata": {},
   "outputs": [
    {
     "data": {
      "text/plain": [
       "array([[ 0.37788721,  1.94242055,  2.28971882],\n",
       "       [ 0.7707272 ,  4.31659329,  1.81066853],\n",
       "       [ 0.59225005,  4.96287712,  1.39113801],\n",
       "       [ 0.32856246,  4.21069206,  1.43000323],\n",
       "       [ 0.44039729,  4.5465676 ,  1.41459121],\n",
       "       [ 0.61718274,  4.35502468,  1.66384703],\n",
       "       [ 0.32693673,  3.45793791,  1.68812187],\n",
       "       [-0.05680702,  2.91079817,  1.4910442 ],\n",
       "       [ 0.0902024 ,  2.79852706,  1.66972517],\n",
       "       [ 0.45530159,  3.03782593,  1.94679496]])"
      ]
     },
     "execution_count": 21,
     "metadata": {},
     "output_type": "execute_result"
    }
   ],
   "source": [
    "x = np.random.randn(10, 2)\n",
    "model = TwoLayerNet(2, 4 ,3)\n",
    "s = model.predict(x)\n",
    "s"
   ]
  },
  {
   "cell_type": "code",
   "execution_count": 22,
   "id": "43798311",
   "metadata": {},
   "outputs": [
    {
     "data": {
      "text/plain": [
       "7"
      ]
     },
     "execution_count": 22,
     "metadata": {},
     "output_type": "execute_result"
    }
   ],
   "source": [
    "np.argmax(s)"
   ]
  },
  {
   "cell_type": "code",
   "execution_count": 23,
   "id": "09ae1a3f",
   "metadata": {},
   "outputs": [
    {
     "data": {
      "text/plain": [
       "array([2, 1, 1, 1, 1, 1, 1, 1, 1, 1])"
      ]
     },
     "execution_count": 23,
     "metadata": {},
     "output_type": "execute_result"
    }
   ],
   "source": [
    "np.argmax(s, axis=1) # 행단위로 읽음"
   ]
  },
  {
   "cell_type": "code",
   "execution_count": 24,
   "id": "c6a38b06",
   "metadata": {},
   "outputs": [
    {
     "data": {
      "text/plain": [
       "array([1, 2, 0])"
      ]
     },
     "execution_count": 24,
     "metadata": {},
     "output_type": "execute_result"
    }
   ],
   "source": [
    "np.argmax(s, axis=0) # 열단위로 읽음"
   ]
  },
  {
   "cell_type": "code",
   "execution_count": null,
   "id": "11e7d1c4",
   "metadata": {},
   "outputs": [],
   "source": []
  }
 ],
 "metadata": {
  "kernelspec": {
   "display_name": "Python 3",
   "language": "python",
   "name": "python3"
  },
  "language_info": {
   "codemirror_mode": {
    "name": "ipython",
    "version": 3
   },
   "file_extension": ".py",
   "mimetype": "text/x-python",
   "name": "python",
   "nbconvert_exporter": "python",
   "pygments_lexer": "ipython3",
   "version": "3.8.2"
  }
 },
 "nbformat": 4,
 "nbformat_minor": 5
}
