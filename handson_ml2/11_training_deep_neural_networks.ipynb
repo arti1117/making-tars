{
  "cells": [
    {
      "cell_type": "code",
      "execution_count": 1,
      "metadata": {
        "id": "fmsvySyq8KZa"
      },
      "outputs": [],
      "source": [
        "# 파이썬 ≥3.5 필수\n",
        "import sys\n",
        "assert sys.version_info >= (3, 5)\n",
        "\n",
        "# 사이킷런 ≥0.20 필수\n",
        "import sklearn\n",
        "assert sklearn.__version__ >= \"0.20\"\n",
        "\n",
        "# 텐서플로 ≥2.0 필수\n",
        "import tensorflow as tf\n",
        "from tensorflow import keras\n",
        "assert tf.__version__ >= \"2.0\"\n",
        "\n",
        "%load_ext tensorboard\n",
        "\n",
        "# 공통 모듈 임포트\n",
        "import numpy as np\n",
        "import os\n",
        "\n",
        "# 노트북 실행 결과를 동일하게 유지하기 위해\n",
        "np.random.seed(42)\n",
        "tf.random.set_seed(42)\n",
        "\n",
        "# 깔끔한 그래프 출력을 위해\n",
        "%matplotlib inline\n",
        "import matplotlib as mpl\n",
        "import matplotlib.pyplot as plt\n",
        "mpl.rc('axes', labelsize=14)\n",
        "mpl.rc('xtick', labelsize=12)\n",
        "mpl.rc('ytick', labelsize=12)\n",
        "\n",
        "# 그림을 저장할 위치\n",
        "PROJECT_ROOT_DIR = \".\"\n",
        "CHAPTER_ID = \"deep\"\n",
        "IMAGES_PATH = os.path.join(PROJECT_ROOT_DIR, \"images\", CHAPTER_ID)\n",
        "os.makedirs(IMAGES_PATH, exist_ok=True)\n",
        "\n",
        "def save_fig(fig_id, tight_layout=True, fig_extension=\"png\", resolution=300):\n",
        "    path = os.path.join(IMAGES_PATH, fig_id + \".\" + fig_extension)\n",
        "    print(\"그림 저장:\", fig_id)\n",
        "    if tight_layout:\n",
        "        plt.tight_layout()\n",
        "    plt.savefig(path, format=fig_extension, dpi=resolution)"
      ]
    },
    {
      "cell_type": "code",
      "execution_count": 2,
      "metadata": {
        "id": "FfewInWD8YNO"
      },
      "outputs": [],
      "source": [
        "def logit(z):\n",
        "  return 1 / (1 + np.exp(-z))"
      ]
    },
    {
      "cell_type": "code",
      "execution_count": 3,
      "metadata": {
        "colab": {
          "base_uri": "https://localhost:8080/",
          "height": 314
        },
        "id": "SyIMV0159M5m",
        "outputId": "a54eb8cb-65c5-4015-96ba-e7aebabb3d3d"
      },
      "outputs": [
        {
          "output_type": "stream",
          "name": "stdout",
          "text": [
            "그림 저장: sigmoid_saturation_plot\n"
          ]
        },
        {
          "output_type": "display_data",
          "data": {
            "text/plain": [
              "<Figure size 432x288 with 1 Axes>"
            ],
            "image/png": "[encoded data removed]"
          },
          "metadata": {
            "needs_background": "light"
          }
        }
      ],
      "source": [
        "z = np.linspace(-5, 5, 200)\n",
        "\n",
        "plt.plot([-5, 5], [0, 0], 'k-')\n",
        "plt.plot([-5, 5], [1, 1], 'k--')\n",
        "plt.plot([0, 0], [-0.2, 1.2], 'k-')\n",
        "plt.plot([-5, 5], [-3/4, 7/4], 'g--')\n",
        "plt.plot(z, logit(z), 'b-', linewidth=2)\n",
        "props = dict(facecolor='black', shrink=0.1)\n",
        "plt.annotate('Saturating', xytext=(3.5, 0.7), xy=(5, 1), arrowprops=props, fontsize=14, ha=\"center\")\n",
        "plt.annotate('Saturating', xytext=(-3.5, 0.3), xy=(-5, 0), arrowprops=props, fontsize=14, ha=\"center\")\n",
        "plt.annotate('Linear', xytext=(2, 0.2), xy=(0, 0.5), arrowprops=props, fontsize=14, ha=\"center\")\n",
        "plt.grid(True)\n",
        "plt.title(\"Sigmoid activation function\", fontsize=14)\n",
        "plt.axis([-5, 5, -0.2, 1.2])\n",
        "\n",
        "save_fig(\"sigmoid_saturation_plot\")\n",
        "plt.show()"
      ]
    },
    {
      "cell_type": "code",
      "execution_count": 4,
      "metadata": {
        "colab": {
          "base_uri": "https://localhost:8080/"
        },
        "id": "rGxAruQI9vC5",
        "outputId": "0178c1a4-f6ee-431d-8934-0379ae411ecc"
      },
      "outputs": [
        {
          "output_type": "execute_result",
          "data": {
            "text/plain": [
              "['Constant',\n",
              " 'GlorotNormal',\n",
              " 'GlorotUniform',\n",
              " 'HeNormal',\n",
              " 'HeUniform',\n",
              " 'Identity',\n",
              " 'Initializer',\n",
              " 'LecunNormal',\n",
              " 'LecunUniform',\n",
              " 'Ones',\n",
              " 'Orthogonal',\n",
              " 'RandomNormal',\n",
              " 'RandomUniform',\n",
              " 'TruncatedNormal',\n",
              " 'VarianceScaling',\n",
              " 'Zeros',\n",
              " 'constant',\n",
              " 'deserialize',\n",
              " 'get',\n",
              " 'glorot_normal',\n",
              " 'glorot_uniform',\n",
              " 'he_normal',\n",
              " 'he_uniform',\n",
              " 'identity',\n",
              " 'lecun_normal',\n",
              " 'lecun_uniform',\n",
              " 'ones',\n",
              " 'orthogonal',\n",
              " 'random_normal',\n",
              " 'random_uniform',\n",
              " 'serialize',\n",
              " 'truncated_normal',\n",
              " 'variance_scaling',\n",
              " 'zeros']"
            ]
          },
          "metadata": {},
          "execution_count": 4
        }
      ],
      "source": [
        "[name for name in dir(keras.initializers) if not name.startswith(\"_\")]"
      ]
    },
    {
      "cell_type": "code",
      "execution_count": 5,
      "metadata": {
        "colab": {
          "base_uri": "https://localhost:8080/"
        },
        "id": "iV35HLhF92AQ",
        "outputId": "dac27773-1f8c-4681-8381-b5d21853b4c5"
      },
      "outputs": [
        {
          "output_type": "execute_result",
          "data": {
            "text/plain": [
              "<keras.layers.core.dense.Dense at 0x7fb93bd10f10>"
            ]
          },
          "metadata": {},
          "execution_count": 5
        }
      ],
      "source": [
        "keras.layers.Dense(10, activation=\"relu\", kernel_initializer=\"he_normal\")"
      ]
    },
    {
      "cell_type": "code",
      "execution_count": 6,
      "metadata": {
        "colab": {
          "base_uri": "https://localhost:8080/"
        },
        "id": "Fn2OVyTf-D4N",
        "outputId": "32505b80-3060-444d-b4c6-598dc8127f54"
      },
      "outputs": [
        {
          "output_type": "execute_result",
          "data": {
            "text/plain": [
              "<keras.layers.core.dense.Dense at 0x7fb939065290>"
            ]
          },
          "metadata": {},
          "execution_count": 6
        }
      ],
      "source": [
        "init = keras.initializers.VarianceScaling(scale=2, mode='fan_avg',\n",
        "                                          distribution='uniform')\n",
        "keras.layers.Dense(10, activation='relu', kernel_initializer=init)"
      ]
    },
    {
      "cell_type": "code",
      "execution_count": 7,
      "metadata": {
        "id": "MEqK-_i7-QwN"
      },
      "outputs": [],
      "source": [
        "def leaky_relu(z, alpha=0.01):\n",
        "  return np.maximum(alpha*z, z)"
      ]
    },
    {
      "cell_type": "code",
      "execution_count": 8,
      "metadata": {
        "colab": {
          "base_uri": "https://localhost:8080/",
          "height": 314
        },
        "id": "EDQH6MV4-Ye9",
        "outputId": "2b49a714-39cd-4c06-fb17-e4d34a1f901a"
      },
      "outputs": [
        {
          "output_type": "stream",
          "name": "stdout",
          "text": [
            "그림 저장: leaky_relu_plot\n"
          ]
        },
        {
          "output_type": "display_data",
          "data": {
            "text/plain": [
              "<Figure size 432x288 with 1 Axes>"
            ],
            "image/png": "[encoded data removed]"
          },
          "metadata": {
            "needs_background": "light"
          }
        }
      ],
      "source": [
        "plt.plot(z, leaky_relu(z, 0.05), \"b-\", linewidth=2)\n",
        "plt.plot([-5, 5], [0, 0], 'k-')\n",
        "plt.plot([0, 0], [-0.5, 4.2], 'k-')\n",
        "plt.grid(True)\n",
        "props = dict(facecolor='black', shrink=0.1)\n",
        "plt.annotate('Leak', xytext=(-3.5, 0.5), xy=(-5, -0.2), arrowprops=props, fontsize=14, ha=\"center\")\n",
        "plt.title(\"Leaky ReLU activation function\", fontsize=14)\n",
        "plt.axis([-5, 5, -0.5, 4.2])\n",
        "\n",
        "save_fig(\"leaky_relu_plot\")\n",
        "plt.show()"
      ]
    },
    {
      "cell_type": "code",
      "execution_count": 9,
      "metadata": {
        "colab": {
          "base_uri": "https://localhost:8080/"
        },
        "id": "2P9ZbptY-Z3E",
        "outputId": "86333d01-c479-4d25-e746-cfe878de8a84"
      },
      "outputs": [
        {
          "output_type": "execute_result",
          "data": {
            "text/plain": [
              "['deserialize',\n",
              " 'elu',\n",
              " 'exponential',\n",
              " 'gelu',\n",
              " 'get',\n",
              " 'hard_sigmoid',\n",
              " 'linear',\n",
              " 'relu',\n",
              " 'selu',\n",
              " 'serialize',\n",
              " 'sigmoid',\n",
              " 'softmax',\n",
              " 'softplus',\n",
              " 'softsign',\n",
              " 'swish',\n",
              " 'tanh']"
            ]
          },
          "metadata": {},
          "execution_count": 9
        }
      ],
      "source": [
        "[m for m in dir(keras.activations) if not m.startswith(\"_\")]"
      ]
    },
    {
      "cell_type": "code",
      "execution_count": 10,
      "metadata": {
        "colab": {
          "base_uri": "https://localhost:8080/"
        },
        "id": "X281flSw-kZk",
        "outputId": "9ab6c1d6-3b03-42cb-d787-b0a944adc6e5"
      },
      "outputs": [
        {
          "output_type": "execute_result",
          "data": {
            "text/plain": [
              "['LeakyReLU', 'PReLU', 'ReLU', 'ThresholdedReLU']"
            ]
          },
          "metadata": {},
          "execution_count": 10
        }
      ],
      "source": [
        "[m for m in dir(keras.layers) if \"relu\" in m.lower()]"
      ]
    },
    {
      "cell_type": "code",
      "execution_count": 11,
      "metadata": {
        "id": "3rNSDjyq-uKs",
        "colab": {
          "base_uri": "https://localhost:8080/"
        },
        "outputId": "a7e8b2a4-4f41-4456-b4bd-3bf4af6728b9"
      },
      "outputs": [
        {
          "output_type": "stream",
          "name": "stdout",
          "text": [
            "Downloading data from https://storage.googleapis.com/tensorflow/tf-keras-datasets/train-labels-idx1-ubyte.gz\n",
            "32768/29515 [=================================] - 0s 0us/step\n",
            "40960/29515 [=========================================] - 0s 0us/step\n",
            "Downloading data from https://storage.googleapis.com/tensorflow/tf-keras-datasets/train-images-idx3-ubyte.gz\n",
            "26427392/26421880 [==============================] - 0s 0us/step\n",
            "26435584/26421880 [==============================] - 0s 0us/step\n",
            "Downloading data from https://storage.googleapis.com/tensorflow/tf-keras-datasets/t10k-labels-idx1-ubyte.gz\n",
            "16384/5148 [===============================================================================================] - 0s 0us/step\n",
            "Downloading data from https://storage.googleapis.com/tensorflow/tf-keras-datasets/t10k-images-idx3-ubyte.gz\n",
            "4423680/4422102 [==============================] - 0s 0us/step\n",
            "4431872/4422102 [==============================] - 0s 0us/step\n"
          ]
        }
      ],
      "source": [
        "(X_train_full, y_train_full), (X_test, y_test) = keras.datasets.fashion_mnist.load_data()\n",
        "X_train_full = X_train_full / 255.\n",
        "X_test = X_test / 255.\n",
        "X_valid, X_train = X_train_full[:5000], X_train_full[5000:]\n",
        "y_valid, y_train = y_train_full[:5000], y_train_full[5000:]"
      ]
    },
    {
      "cell_type": "code",
      "execution_count": 12,
      "metadata": {
        "id": "iKPnlxBk_DSU"
      },
      "outputs": [],
      "source": [
        "model = keras.models.Sequential([\n",
        "    keras.layers.Flatten(input_shape=[28, 28]),\n",
        "    keras.layers.Dense(300, kernel_initializer=\"he_normal\"),\n",
        "    keras.layers.LeakyReLU(),\n",
        "    keras.layers.Dense(100, kernel_initializer=\"he_normal\"),\n",
        "    keras.layers.LeakyReLU(),\n",
        "    keras.layers.Dense(10, activation=\"softmax\"),\n",
        "])"
      ]
    },
    {
      "cell_type": "code",
      "execution_count": 13,
      "metadata": {
        "id": "4U72V6Ma_gxG"
      },
      "outputs": [],
      "source": [
        "model.compile(loss=\"sparse_categorical_crossentropy\",\n",
        "              optimizer=keras.optimizers.SGD(learning_rate=1e-3),\n",
        "              metrics=[\"accuracy\"])"
      ]
    },
    {
      "cell_type": "code",
      "execution_count": 14,
      "metadata": {
        "colab": {
          "base_uri": "https://localhost:8080/"
        },
        "id": "06SVt7h__qzs",
        "outputId": "5c7267bc-a6c0-4202-a5f9-e1ffd87fc9fa"
      },
      "outputs": [
        {
          "output_type": "stream",
          "name": "stdout",
          "text": [
            "Epoch 1/10\n",
            "1719/1719 [==============================] - 12s 6ms/step - loss: 1.2819 - accuracy: 0.6229 - val_loss: 0.8886 - val_accuracy: 0.7160\n",
            "Epoch 2/10\n",
            "1719/1719 [==============================] - 12s 7ms/step - loss: 0.7955 - accuracy: 0.7361 - val_loss: 0.7130 - val_accuracy: 0.7656\n",
            "Epoch 3/10\n",
            "1719/1719 [==============================] - 7s 4ms/step - loss: 0.6816 - accuracy: 0.7721 - val_loss: 0.6427 - val_accuracy: 0.7900\n",
            "Epoch 4/10\n",
            "1719/1719 [==============================] - 6s 4ms/step - loss: 0.6217 - accuracy: 0.7944 - val_loss: 0.5900 - val_accuracy: 0.8064\n",
            "Epoch 5/10\n",
            "1719/1719 [==============================] - 6s 4ms/step - loss: 0.5832 - accuracy: 0.8074 - val_loss: 0.5582 - val_accuracy: 0.8200\n",
            "Epoch 6/10\n",
            "1719/1719 [==============================] - 6s 4ms/step - loss: 0.5553 - accuracy: 0.8156 - val_loss: 0.5350 - val_accuracy: 0.8238\n",
            "Epoch 7/10\n",
            "1719/1719 [==============================] - 6s 4ms/step - loss: 0.5339 - accuracy: 0.8223 - val_loss: 0.5156 - val_accuracy: 0.8302\n",
            "Epoch 8/10\n",
            "1719/1719 [==============================] - 6s 4ms/step - loss: 0.5173 - accuracy: 0.8272 - val_loss: 0.5079 - val_accuracy: 0.8284\n",
            "Epoch 9/10\n",
            "1719/1719 [==============================] - 7s 4ms/step - loss: 0.5040 - accuracy: 0.8290 - val_loss: 0.4895 - val_accuracy: 0.8386\n",
            "Epoch 10/10\n",
            "1719/1719 [==============================] - 6s 4ms/step - loss: 0.4924 - accuracy: 0.8319 - val_loss: 0.4817 - val_accuracy: 0.8396\n"
          ]
        }
      ],
      "source": [
        "history = model.fit(X_train, y_train, epochs=10,\n",
        "                    validation_data=(X_valid, y_valid))"
      ]
    },
    {
      "cell_type": "code",
      "execution_count": 15,
      "metadata": {
        "colab": {
          "base_uri": "https://localhost:8080/"
        },
        "id": "rxCyHRN6_wMb",
        "outputId": "a58668f7-bbbc-4b9c-cd46-9e0c353bde76"
      },
      "outputs": [
        {
          "output_type": "stream",
          "name": "stdout",
          "text": [
            "Epoch 1/10\n",
            "1719/1719 [==============================] - 8s 4ms/step - loss: 1.3337 - accuracy: 0.6140 - val_loss: 0.8951 - val_accuracy: 0.7192\n",
            "Epoch 2/10\n",
            "1719/1719 [==============================] - 7s 4ms/step - loss: 0.8048 - accuracy: 0.7413 - val_loss: 0.7103 - val_accuracy: 0.7742\n",
            "Epoch 3/10\n",
            "1719/1719 [==============================] - 8s 5ms/step - loss: 0.6849 - accuracy: 0.7771 - val_loss: 0.6405 - val_accuracy: 0.7962\n",
            "Epoch 4/10\n",
            "1719/1719 [==============================] - 9s 5ms/step - loss: 0.6237 - accuracy: 0.7942 - val_loss: 0.5859 - val_accuracy: 0.8122\n",
            "Epoch 5/10\n",
            "1719/1719 [==============================] - 7s 4ms/step - loss: 0.5846 - accuracy: 0.8073 - val_loss: 0.5542 - val_accuracy: 0.8192\n",
            "Epoch 6/10\n",
            "1719/1719 [==============================] - 7s 4ms/step - loss: 0.5567 - accuracy: 0.8146 - val_loss: 0.5315 - val_accuracy: 0.8246\n",
            "Epoch 7/10\n",
            "1719/1719 [==============================] - 7s 4ms/step - loss: 0.5352 - accuracy: 0.8205 - val_loss: 0.5121 - val_accuracy: 0.8316\n",
            "Epoch 8/10\n",
            "1719/1719 [==============================] - 7s 4ms/step - loss: 0.5185 - accuracy: 0.8246 - val_loss: 0.5043 - val_accuracy: 0.8352\n",
            "Epoch 9/10\n",
            "1719/1719 [==============================] - 7s 4ms/step - loss: 0.5051 - accuracy: 0.8282 - val_loss: 0.4869 - val_accuracy: 0.8394\n",
            "Epoch 10/10\n",
            "1719/1719 [==============================] - 7s 4ms/step - loss: 0.4934 - accuracy: 0.8314 - val_loss: 0.4791 - val_accuracy: 0.8414\n"
          ]
        }
      ],
      "source": [
        "model = keras.models.Sequential([\n",
        "    keras.layers.Flatten(input_shape=[28, 28]),\n",
        "    keras.layers.Dense(300, kernel_initializer=\"he_normal\"),\n",
        "    keras.layers.PReLU(),\n",
        "    keras.layers.Dense(100, kernel_initializer=\"he_normal\"),\n",
        "    keras.layers.PReLU(),\n",
        "    keras.layers.Dense(10, activation=\"softmax\")\n",
        "])\n",
        "\n",
        "model.compile(loss=\"sparse_categorical_crossentropy\",\n",
        "              optimizer=keras.optimizers.SGD(learning_rate=1e-3),\n",
        "              metrics=[\"accuracy\"])\n",
        "\n",
        "history = model.fit(X_train, y_train, epochs=10,\n",
        "                    validation_data=(X_valid, y_valid))"
      ]
    },
    {
      "cell_type": "code",
      "execution_count": 16,
      "metadata": {
        "id": "rf6mc8yo_7GE"
      },
      "outputs": [],
      "source": [
        "def elu(z, alpha=1):\n",
        "  return np.where(z < 0, alpha * (np.exp(z) - 1), z)"
      ]
    },
    {
      "cell_type": "code",
      "execution_count": 17,
      "metadata": {
        "id": "owwdsN-OAE78",
        "colab": {
          "base_uri": "https://localhost:8080/",
          "height": 314
        },
        "outputId": "16e26beb-39d0-4635-cd9a-e79f0209ad4f"
      },
      "outputs": [
        {
          "output_type": "stream",
          "name": "stdout",
          "text": [
            "그림 저장: elu_plot\n"
          ]
        },
        {
          "output_type": "display_data",
          "data": {
            "text/plain": [
              "<Figure size 432x288 with 1 Axes>"
            ],
            "image/png": "[encoded data removed]"
          },
          "metadata": {
            "needs_background": "light"
          }
        }
      ],
      "source": [
        "plt.plot(z, elu(z), \"b-\", linewidth=2)\n",
        "plt.plot([-5, 5], [0, 0], 'k-')\n",
        "plt.plot([-5, 5], [-1, -1], 'k--')\n",
        "plt.plot([0, 0], [-2.2, 3.2], 'k-')\n",
        "plt.grid(True)\n",
        "plt.title(r\"ELU activation function ($\\alpha=1$)\", fontsize=14)\n",
        "plt.axis([-5, 5, -2.2, 3.2])\n",
        "\n",
        "save_fig(\"elu_plot\")\n",
        "plt.show()"
      ]
    },
    {
      "cell_type": "code",
      "execution_count": 18,
      "metadata": {
        "colab": {
          "base_uri": "https://localhost:8080/"
        },
        "id": "DjeGeG_ZAJM8",
        "outputId": "606ff55a-3376-4afd-a983-2620dade387d"
      },
      "outputs": [
        {
          "output_type": "execute_result",
          "data": {
            "text/plain": [
              "<keras.layers.core.dense.Dense at 0x7fb934c57590>"
            ]
          },
          "metadata": {},
          "execution_count": 18
        }
      ],
      "source": [
        "keras.layers.Dense(10, activation=\"elu\")"
      ]
    },
    {
      "cell_type": "code",
      "execution_count": 19,
      "metadata": {
        "id": "8U4TcJr4ATzd"
      },
      "outputs": [],
      "source": [
        "from scipy.special import erfc\n",
        "\n",
        "alpha_0_1 = -np.sqrt(2 / np.pi) / (erfc(1/np.sqrt(2)) * np.exp(1/2) - 1)\n",
        "scale_0_1 = (1 - erfc(1 / np.sqrt(2)) * np.sqrt(np.e)) * np.sqrt(2 * np.pi) * (2 * erfc(np.sqrt(2))*np.e**2 + np.pi*erfc(1/np.sqrt(2))**2*np.e - 2*(2+np.pi)*erfc(1/np.sqrt(2))*np.sqrt(np.e)+np.pi+2)**(-1/2)"
      ]
    },
    {
      "cell_type": "code",
      "execution_count": 20,
      "metadata": {
        "id": "C2R-HTEoBPc2"
      },
      "outputs": [],
      "source": [
        "def selu(z, scale=scale_0_1, alpha=alpha_0_1):\n",
        "  return scale * elu(z, alpha)"
      ]
    },
    {
      "cell_type": "code",
      "execution_count": 21,
      "metadata": {
        "colab": {
          "base_uri": "https://localhost:8080/",
          "height": 314
        },
        "id": "NDtHEnloBWbH",
        "outputId": "5a9e33d9-bc18-4dbb-824a-b7f3cfe81287"
      },
      "outputs": [
        {
          "output_type": "stream",
          "name": "stdout",
          "text": [
            "그림 저장: selu_plot\n"
          ]
        },
        {
          "output_type": "display_data",
          "data": {
            "text/plain": [
              "<Figure size 432x288 with 1 Axes>"
            ],
            "image/png": "[encoded data removed]"
          },
          "metadata": {
            "needs_background": "light"
          }
        }
      ],
      "source": [
        "plt.plot(z, selu(z), \"b-\", linewidth=2)\n",
        "plt.plot([-5, 5], [0, 0], 'k-')\n",
        "plt.plot([-5, 5], [-1.758, -1.758], 'k--')\n",
        "plt.plot([0, 0], [-2.2, 3.2], 'k-')\n",
        "plt.grid(True)\n",
        "plt.title(\"SELU activation function\", fontsize=14)\n",
        "plt.axis([-5, 5, -2.2, 3.2])\n",
        "\n",
        "save_fig(\"selu_plot\")\n",
        "plt.show()"
      ]
    },
    {
      "cell_type": "code",
      "execution_count": 22,
      "metadata": {
        "colab": {
          "base_uri": "https://localhost:8080/"
        },
        "id": "05AXTDS8BY10",
        "outputId": "775222ec-8985-48cd-9e57-387e5ee3430a"
      },
      "outputs": [
        {
          "output_type": "stream",
          "name": "stdout",
          "text": [
            "Layer 0: mean -0.00, std deviation 1.00\n",
            "Layer 100: mean 0.02, std deviation 0.96\n",
            "Layer 200: mean 0.01, std deviation 0.90\n",
            "Layer 300: mean -0.02, std deviation 0.92\n",
            "Layer 400: mean 0.05, std deviation 0.89\n",
            "Layer 500: mean 0.01, std deviation 0.93\n",
            "Layer 600: mean 0.02, std deviation 0.92\n",
            "Layer 700: mean -0.02, std deviation 0.90\n",
            "Layer 800: mean 0.05, std deviation 0.83\n",
            "Layer 900: mean 0.02, std deviation 1.00\n"
          ]
        }
      ],
      "source": [
        "Z = np.random.normal(size=(500, 100))\n",
        "for layer in range(1000):\n",
        "  W = np.random.normal(size=(100, 100), scale=np.sqrt(1/100))\n",
        "  Z = selu(np.dot(Z, W))\n",
        "  means = np.mean(Z, axis=0).mean()\n",
        "  stds = np.std(Z, axis=0).mean()\n",
        "  if layer % 100 == 0:\n",
        "    print(\"Layer {}: mean {:.2f}, std deviation {:.2f}\".format(layer, means, stds))"
      ]
    },
    {
      "cell_type": "code",
      "execution_count": 23,
      "metadata": {
        "colab": {
          "base_uri": "https://localhost:8080/"
        },
        "id": "i21yOzEjCc-n",
        "outputId": "f665ddac-13cb-4c41-c84a-a126b57d9a52"
      },
      "outputs": [
        {
          "output_type": "execute_result",
          "data": {
            "text/plain": [
              "<keras.layers.core.dense.Dense at 0x7fb9349c0a10>"
            ]
          },
          "metadata": {},
          "execution_count": 23
        }
      ],
      "source": [
        "keras.layers.Dense(10, activation=\"selu\",\n",
        "                   kernel_initializer=\"lecun_normal\")"
      ]
    },
    {
      "cell_type": "code",
      "execution_count": 24,
      "metadata": {
        "id": "UVMOzMhuClE8"
      },
      "outputs": [],
      "source": [
        "model = keras.models.Sequential()\n",
        "model.add(keras.layers.Flatten(input_shape=[28, 28]))\n",
        "model.add(keras.layers.Dense(300, activation=\"selu\",\n",
        "                             kernel_initializer=\"lecun_normal\"))\n",
        "for layer in range(99):\n",
        "  model.add(keras.layers.Dense(100, activation=\"selu\",\n",
        "                               kernel_initializer=\"lecun_normal\"))\n",
        "model.add(keras.layers.Dense(10, activation=\"softmax\"))"
      ]
    },
    {
      "cell_type": "code",
      "execution_count": 25,
      "metadata": {
        "id": "gnByj4BOC-tr"
      },
      "outputs": [],
      "source": [
        "model.compile(loss=\"sparse_categorical_crossentropy\",\n",
        "              optimizer=keras.optimizers.SGD(learning_rate=1e-3),\n",
        "              metrics=[\"accuracy\"])"
      ]
    },
    {
      "cell_type": "code",
      "execution_count": 26,
      "metadata": {
        "id": "fqpdikt-DLfq"
      },
      "outputs": [],
      "source": [
        "pixel_means = X_train.mean(axis=0, keepdims=True)\n",
        "pixel_stds = X_train.std(axis=0, keepdims=True)\n",
        "X_train_scaled = (X_train - pixel_means) / pixel_stds\n",
        "X_valid_scaled = (X_valid - pixel_means) / pixel_stds\n",
        "X_test_scaled = (X_test - pixel_means) / pixel_stds"
      ]
    },
    {
      "cell_type": "code",
      "execution_count": 27,
      "metadata": {
        "colab": {
          "base_uri": "https://localhost:8080/"
        },
        "id": "a5ohmcEJDiAc",
        "outputId": "4c150a01-ccb6-4d5f-dfd1-ff3e3bddcf25"
      },
      "outputs": [
        {
          "output_type": "stream",
          "name": "stdout",
          "text": [
            "Epoch 1/5\n",
            "1719/1719 [==============================] - 41s 21ms/step - loss: 1.4834 - accuracy: 0.4106 - val_loss: 1.0700 - val_accuracy: 0.6034\n",
            "Epoch 2/5\n",
            "1719/1719 [==============================] - 35s 20ms/step - loss: 0.9046 - accuracy: 0.6517 - val_loss: 0.9159 - val_accuracy: 0.6582\n",
            "Epoch 3/5\n",
            "1719/1719 [==============================] - 37s 22ms/step - loss: 0.7595 - accuracy: 0.7126 - val_loss: 0.6877 - val_accuracy: 0.7454\n",
            "Epoch 4/5\n",
            "1719/1719 [==============================] - 35s 21ms/step - loss: 0.6406 - accuracy: 0.7610 - val_loss: 0.5900 - val_accuracy: 0.7856\n",
            "Epoch 5/5\n",
            "1719/1719 [==============================] - 35s 20ms/step - loss: 0.5779 - accuracy: 0.7853 - val_loss: 0.5423 - val_accuracy: 0.8046\n"
          ]
        }
      ],
      "source": [
        "history = model.fit(X_train_scaled, y_train, epochs=5,\n",
        "                    validation_data=(X_valid_scaled, y_valid))"
      ]
    },
    {
      "cell_type": "code",
      "execution_count": 28,
      "metadata": {
        "id": "Pv6A3ioCDppV",
        "colab": {
          "base_uri": "https://localhost:8080/"
        },
        "outputId": "e4e16502-42ee-45a4-e185-98994779e400"
      },
      "outputs": [
        {
          "output_type": "stream",
          "name": "stdout",
          "text": [
            "Epoch 1/5\n",
            "1719/1719 [==============================] - 65s 36ms/step - loss: 1.9087 - accuracy: 0.2213 - val_loss: 1.5282 - val_accuracy: 0.3556\n",
            "Epoch 2/5\n",
            "1719/1719 [==============================] - 55s 32ms/step - loss: 1.2132 - accuracy: 0.4781 - val_loss: 1.0156 - val_accuracy: 0.5554\n",
            "Epoch 3/5\n",
            "1719/1719 [==============================] - 35s 20ms/step - loss: 0.9750 - accuracy: 0.5957 - val_loss: 0.8222 - val_accuracy: 0.6802\n",
            "Epoch 4/5\n",
            "1719/1719 [==============================] - 49s 29ms/step - loss: 0.9157 - accuracy: 0.6347 - val_loss: 0.8800 - val_accuracy: 0.6682\n",
            "Epoch 5/5\n",
            "1719/1719 [==============================] - 50s 29ms/step - loss: 0.8998 - accuracy: 0.6363 - val_loss: 1.6367 - val_accuracy: 0.2634\n"
          ]
        }
      ],
      "source": [
        "model = keras.models.Sequential()\n",
        "model.add(keras.layers.Flatten(input_shape=[28, 28]))\n",
        "model.add(keras.layers.Dense(300, activation=\"relu\", kernel_initializer=\"he_normal\"))\n",
        "for layer in range(99):\n",
        "    model.add(keras.layers.Dense(100, activation=\"relu\", kernel_initializer=\"he_normal\"))\n",
        "model.add(keras.layers.Dense(10, activation=\"softmax\"))\n",
        "\n",
        "model.compile(loss=\"sparse_categorical_crossentropy\",\n",
        "              optimizer=keras.optimizers.SGD(learning_rate=1e-3),\n",
        "              metrics=[\"accuracy\"])\n",
        "\n",
        "history = model.fit(X_train_scaled, y_train, epochs=5,\n",
        "                    validation_data=(X_valid_scaled, y_valid))"
      ]
    },
    {
      "cell_type": "code",
      "execution_count": 29,
      "metadata": {
        "id": "cnLE3WG4DxFr",
        "colab": {
          "base_uri": "https://localhost:8080/"
        },
        "outputId": "43045587-b36d-4e6e-f552-dc3f3ef5c6b6"
      },
      "outputs": [
        {
          "output_type": "stream",
          "name": "stdout",
          "text": [
            "Model: \"sequential_4\"\n",
            "_________________________________________________________________\n",
            " Layer (type)                Output Shape              Param #   \n",
            "=================================================================\n",
            " flatten_4 (Flatten)         (None, 784)               0         \n",
            "                                                                 \n",
            " batch_normalization (BatchN  (None, 784)              3136      \n",
            " ormalization)                                                   \n",
            "                                                                 \n",
            " dense_212 (Dense)           (None, 300)               235500    \n",
            "                                                                 \n",
            " batch_normalization_1 (Batc  (None, 300)              1200      \n",
            " hNormalization)                                                 \n",
            "                                                                 \n",
            " dense_213 (Dense)           (None, 100)               30100     \n",
            "                                                                 \n",
            " batch_normalization_2 (Batc  (None, 100)              400       \n",
            " hNormalization)                                                 \n",
            "                                                                 \n",
            " dense_214 (Dense)           (None, 10)                1010      \n",
            "                                                                 \n",
            "=================================================================\n",
            "Total params: 271,346\n",
            "Trainable params: 268,978\n",
            "Non-trainable params: 2,368\n",
            "_________________________________________________________________\n"
          ]
        }
      ],
      "source": [
        "model = keras.models.Sequential([\n",
        "    keras.layers.Flatten(input_shape=[28, 28]),\n",
        "    keras.layers.BatchNormalization(),\n",
        "    keras.layers.Dense(300, activation=\"relu\"),\n",
        "    keras.layers.BatchNormalization(),\n",
        "    keras.layers.Dense(100, activation=\"relu\"),\n",
        "    keras.layers.BatchNormalization(),\n",
        "    keras.layers.Dense(10, activation=\"softmax\")\n",
        "])\n",
        "\n",
        "model.summary()"
      ]
    },
    {
      "cell_type": "code",
      "execution_count": 30,
      "metadata": {
        "id": "mp9OO6ZQEh1C",
        "colab": {
          "base_uri": "https://localhost:8080/"
        },
        "outputId": "3eca66fd-4a0d-437b-d8c2-ee54e411ceae"
      },
      "outputs": [
        {
          "output_type": "execute_result",
          "data": {
            "text/plain": [
              "[('batch_normalization/gamma:0', True),\n",
              " ('batch_normalization/beta:0', True),\n",
              " ('batch_normalization/moving_mean:0', False),\n",
              " ('batch_normalization/moving_variance:0', False)]"
            ]
          },
          "metadata": {},
          "execution_count": 30
        }
      ],
      "source": [
        "bn1 = model.layers[1]\n",
        "[(var.name, var.trainable) for var in bn1.variables]"
      ]
    },
    {
      "cell_type": "code",
      "execution_count": 31,
      "metadata": {
        "id": "z49GEZCMEjTa",
        "colab": {
          "base_uri": "https://localhost:8080/"
        },
        "outputId": "44f264e8-26ca-478b-9f1b-a9400b524aee"
      },
      "outputs": [
        {
          "output_type": "stream",
          "name": "stdout",
          "text": [
            "Epoch 1/10\n",
            "1719/1719 [==============================] - 12s 7ms/step - loss: 0.8510 - accuracy: 0.7133 - val_loss: 0.5542 - val_accuracy: 0.8122\n",
            "Epoch 2/10\n",
            "1719/1719 [==============================] - 10s 6ms/step - loss: 0.5725 - accuracy: 0.8023 - val_loss: 0.4771 - val_accuracy: 0.8328\n",
            "Epoch 3/10\n",
            "1719/1719 [==============================] - 15s 9ms/step - loss: 0.5174 - accuracy: 0.8202 - val_loss: 0.4434 - val_accuracy: 0.8398\n",
            "Epoch 4/10\n",
            "1719/1719 [==============================] - 11s 6ms/step - loss: 0.4796 - accuracy: 0.8315 - val_loss: 0.4201 - val_accuracy: 0.8476\n",
            "Epoch 5/10\n",
            "1719/1719 [==============================] - 11s 6ms/step - loss: 0.4561 - accuracy: 0.8394 - val_loss: 0.4040 - val_accuracy: 0.8552\n",
            "Epoch 6/10\n",
            "1719/1719 [==============================] - 11s 6ms/step - loss: 0.4386 - accuracy: 0.8451 - val_loss: 0.3922 - val_accuracy: 0.8614\n",
            "Epoch 7/10\n",
            "1719/1719 [==============================] - 16s 9ms/step - loss: 0.4256 - accuracy: 0.8497 - val_loss: 0.3799 - val_accuracy: 0.8662\n",
            "Epoch 8/10\n",
            "1719/1719 [==============================] - 19s 11ms/step - loss: 0.4133 - accuracy: 0.8545 - val_loss: 0.3759 - val_accuracy: 0.8692\n",
            "Epoch 9/10\n",
            "1719/1719 [==============================] - 18s 11ms/step - loss: 0.4022 - accuracy: 0.8580 - val_loss: 0.3676 - val_accuracy: 0.8700\n",
            "Epoch 10/10\n",
            "1719/1719 [==============================] - 16s 9ms/step - loss: 0.3903 - accuracy: 0.8614 - val_loss: 0.3623 - val_accuracy: 0.8714\n"
          ]
        }
      ],
      "source": [
        "model.compile(loss=\"sparse_categorical_crossentropy\",\n",
        "              optimizer=keras.optimizers.SGD(learning_rate=1e-3),\n",
        "              metrics=[\"accuracy\"])\n",
        "\n",
        "history = model.fit(X_train, y_train, epochs=10,\n",
        "                    validation_data=(X_valid, y_valid))"
      ]
    },
    {
      "cell_type": "code",
      "execution_count": 32,
      "metadata": {
        "colab": {
          "base_uri": "https://localhost:8080/"
        },
        "id": "nIPMBXAcEmyb",
        "outputId": "f945ae82-d127-4bad-aba7-01fca9c4da1d"
      },
      "outputs": [
        {
          "output_type": "stream",
          "name": "stdout",
          "text": [
            "Epoch 1/10\n",
            "1719/1719 [==============================] - 16s 8ms/step - loss: 1.0374 - accuracy: 0.6818 - val_loss: 0.6785 - val_accuracy: 0.7936\n",
            "Epoch 2/10\n",
            "1719/1719 [==============================] - 11s 6ms/step - loss: 0.6760 - accuracy: 0.7811 - val_loss: 0.5537 - val_accuracy: 0.8226\n",
            "Epoch 3/10\n",
            "1719/1719 [==============================] - 14s 8ms/step - loss: 0.5919 - accuracy: 0.8043 - val_loss: 0.4991 - val_accuracy: 0.8358\n",
            "Epoch 4/10\n",
            "1719/1719 [==============================] - 15s 9ms/step - loss: 0.5417 - accuracy: 0.8186 - val_loss: 0.4659 - val_accuracy: 0.8440\n",
            "Epoch 5/10\n",
            "1719/1719 [==============================] - 18s 11ms/step - loss: 0.5086 - accuracy: 0.8277 - val_loss: 0.4440 - val_accuracy: 0.8520\n",
            "Epoch 6/10\n",
            "1719/1719 [==============================] - 16s 9ms/step - loss: 0.4884 - accuracy: 0.8335 - val_loss: 0.4259 - val_accuracy: 0.8554\n",
            "Epoch 7/10\n",
            "1719/1719 [==============================] - 17s 10ms/step - loss: 0.4703 - accuracy: 0.8401 - val_loss: 0.4131 - val_accuracy: 0.8596\n",
            "Epoch 8/10\n",
            "1719/1719 [==============================] - 16s 10ms/step - loss: 0.4554 - accuracy: 0.8424 - val_loss: 0.4031 - val_accuracy: 0.8618\n",
            "Epoch 9/10\n",
            "1719/1719 [==============================] - 16s 10ms/step - loss: 0.4430 - accuracy: 0.8471 - val_loss: 0.3944 - val_accuracy: 0.8638\n",
            "Epoch 10/10\n",
            "1719/1719 [==============================] - 19s 11ms/step - loss: 0.4312 - accuracy: 0.8504 - val_loss: 0.3874 - val_accuracy: 0.8662\n"
          ]
        }
      ],
      "source": [
        "model = keras.models.Sequential([\n",
        "    keras.layers.Flatten(input_shape=[28, 28]),\n",
        "    keras.layers.BatchNormalization(),\n",
        "    keras.layers.Dense(300, use_bias=False),\n",
        "    keras.layers.BatchNormalization(),\n",
        "    keras.layers.Activation(\"relu\"),\n",
        "    keras.layers.Dense(100, use_bias=False),\n",
        "    keras.layers.BatchNormalization(),\n",
        "    keras.layers.Activation(\"relu\"),\n",
        "    keras.layers.Dense(10, activation=\"softmax\")\n",
        "])\n",
        "\n",
        "model.compile(loss=\"sparse_categorical_crossentropy\",\n",
        "              optimizer=keras.optimizers.SGD(learning_rate=1e-3),\n",
        "              metrics=[\"accuracy\"])\n",
        "\n",
        "history = model.fit(X_train, y_train, epochs=10,\n",
        "                    validation_data=(X_valid, y_valid))"
      ]
    },
    {
      "cell_type": "code",
      "execution_count": 33,
      "metadata": {
        "id": "BSSJVlh9Eri7"
      },
      "outputs": [],
      "source": [
        "optimizer_value = keras.optimizers.SGD(clipvalue=1.0)\n",
        "optimizer_norm = keras.optimizers.SGD(clipnorm=1.0)"
      ]
    },
    {
      "cell_type": "code",
      "execution_count": 34,
      "metadata": {
        "id": "Qg3ddJbqL_aR"
      },
      "outputs": [],
      "source": [
        "def split_dataset(X, y):\n",
        "  y_5_or_6 = (y == 5) | (y == 6)\n",
        "  y_A = y[~y_5_or_6]\n",
        "  y_A[y_A > 6] -= 2\n",
        "  y_B = (y[y_5_or_6] == 6).astype(np.float32)\n",
        "  return ((X[~y_5_or_6], y_A),\n",
        "          (X[y_5_or_6], y_B))\n",
        "  \n",
        "(X_train_A, y_train_A), (X_train_B, y_train_B) = split_dataset(X_train, y_train)\n",
        "(X_valid_A, y_valid_A), (X_valid_B, y_valid_B) = split_dataset(X_valid, y_valid)\n",
        "(X_test_A, y_test_A), (X_test_B, y_test_B) = split_dataset(X_test, y_test)\n",
        "X_train_B = X_train_B[:200]\n",
        "y_train_B = y_train_B[:200]"
      ]
    },
    {
      "cell_type": "code",
      "execution_count": 35,
      "metadata": {
        "colab": {
          "base_uri": "https://localhost:8080/"
        },
        "id": "A1jgGH40M_TL",
        "outputId": "331aae86-8736-4ea1-c2aa-f9fcb0aba431"
      },
      "outputs": [
        {
          "output_type": "execute_result",
          "data": {
            "text/plain": [
              "(43986, 28, 28)"
            ]
          },
          "metadata": {},
          "execution_count": 35
        }
      ],
      "source": [
        "X_train_A.shape"
      ]
    },
    {
      "cell_type": "code",
      "execution_count": 36,
      "metadata": {
        "colab": {
          "base_uri": "https://localhost:8080/"
        },
        "id": "ymi3OeTmNA63",
        "outputId": "f43ed119-bb67-4517-d92f-a95ce7665a7c"
      },
      "outputs": [
        {
          "output_type": "execute_result",
          "data": {
            "text/plain": [
              "(200, 28, 28)"
            ]
          },
          "metadata": {},
          "execution_count": 36
        }
      ],
      "source": [
        "X_train_B.shape"
      ]
    },
    {
      "cell_type": "code",
      "execution_count": 37,
      "metadata": {
        "colab": {
          "base_uri": "https://localhost:8080/"
        },
        "id": "mXVNr1fGNCGW",
        "outputId": "657f0533-a5c6-49d8-dd0f-29671b68860d"
      },
      "outputs": [
        {
          "output_type": "execute_result",
          "data": {
            "text/plain": [
              "array([4, 0, 5, 7, 7, 7, 4, 4, 3, 4, 0, 1, 6, 3, 4, 3, 2, 6, 5, 3, 4, 5,\n",
              "       1, 3, 4, 2, 0, 6, 7, 1], dtype=uint8)"
            ]
          },
          "metadata": {},
          "execution_count": 37
        }
      ],
      "source": [
        "y_train_A[:30]"
      ]
    },
    {
      "cell_type": "code",
      "execution_count": 38,
      "metadata": {
        "colab": {
          "base_uri": "https://localhost:8080/"
        },
        "id": "fssczstiNF7h",
        "outputId": "06c6216c-6011-4022-8d29-a674297447a5"
      },
      "outputs": [
        {
          "output_type": "execute_result",
          "data": {
            "text/plain": [
              "array([1., 1., 0., 0., 0., 0., 1., 1., 1., 0., 0., 1., 1., 0., 0., 0., 0.,\n",
              "       0., 0., 1., 1., 0., 0., 1., 1., 0., 1., 1., 1., 1.], dtype=float32)"
            ]
          },
          "metadata": {},
          "execution_count": 38
        }
      ],
      "source": [
        "y_train_B[:30]"
      ]
    },
    {
      "cell_type": "code",
      "execution_count": 39,
      "metadata": {
        "id": "UxV4QBR8Jvbg"
      },
      "outputs": [],
      "source": [
        "tf.random.set_seed(42)\n",
        "np.random.seed(42)"
      ]
    },
    {
      "cell_type": "code",
      "execution_count": 40,
      "metadata": {
        "id": "YL84QfiHKGJ-"
      },
      "outputs": [],
      "source": [
        "model_A = keras.models.Sequential()\n",
        "model_A.add(keras.layers.Flatten(input_shape=[28, 28]))\n",
        "for n_hidden in (300, 100, 50, 50, 50):\n",
        "  model_A.add(keras.layers.Dense(n_hidden, activation=\"selu\"))\n",
        "model_A.add(keras.layers.Dense(8, activation=\"softmax\"))"
      ]
    },
    {
      "cell_type": "code",
      "execution_count": 41,
      "metadata": {
        "id": "I7uE7DtLKe5E"
      },
      "outputs": [],
      "source": [
        "model_A.compile(loss=\"sparse_categorical_crossentropy\",\n",
        "                optimizer=keras.optimizers.SGD(learning_rate=1e-3),\n",
        "                metrics=[\"accuracy\"])"
      ]
    },
    {
      "cell_type": "code",
      "execution_count": 42,
      "metadata": {
        "id": "tMjMDSJ4KpTW",
        "colab": {
          "base_uri": "https://localhost:8080/"
        },
        "outputId": "096c87b3-a0e7-4aa5-b08d-e0a55abbb71a"
      },
      "outputs": [
        {
          "output_type": "stream",
          "name": "stdout",
          "text": [
            "Epoch 1/20\n",
            "1375/1375 [==============================] - 11s 7ms/step - loss: 0.5927 - accuracy: 0.8104 - val_loss: 0.3896 - val_accuracy: 0.8667\n",
            "Epoch 2/20\n",
            "1375/1375 [==============================] - 6s 4ms/step - loss: 0.3523 - accuracy: 0.8786 - val_loss: 0.3289 - val_accuracy: 0.8824\n",
            "Epoch 3/20\n",
            "1375/1375 [==============================] - 6s 4ms/step - loss: 0.3170 - accuracy: 0.8896 - val_loss: 0.3014 - val_accuracy: 0.8989\n",
            "Epoch 4/20\n",
            "1375/1375 [==============================] - 6s 4ms/step - loss: 0.2973 - accuracy: 0.8975 - val_loss: 0.2894 - val_accuracy: 0.9021\n",
            "Epoch 5/20\n",
            "1375/1375 [==============================] - 5s 4ms/step - loss: 0.2835 - accuracy: 0.9022 - val_loss: 0.2776 - val_accuracy: 0.9066\n",
            "Epoch 6/20\n",
            "1375/1375 [==============================] - 6s 4ms/step - loss: 0.2729 - accuracy: 0.9061 - val_loss: 0.2735 - val_accuracy: 0.9071\n",
            "Epoch 7/20\n",
            "1375/1375 [==============================] - 6s 4ms/step - loss: 0.2641 - accuracy: 0.9093 - val_loss: 0.2720 - val_accuracy: 0.9086\n",
            "Epoch 8/20\n",
            "1375/1375 [==============================] - 6s 4ms/step - loss: 0.2573 - accuracy: 0.9126 - val_loss: 0.2588 - val_accuracy: 0.9145\n",
            "Epoch 9/20\n",
            "1375/1375 [==============================] - 6s 4ms/step - loss: 0.2518 - accuracy: 0.9136 - val_loss: 0.2562 - val_accuracy: 0.9143\n",
            "Epoch 10/20\n",
            "1375/1375 [==============================] - 6s 4ms/step - loss: 0.2469 - accuracy: 0.9154 - val_loss: 0.2541 - val_accuracy: 0.9160\n",
            "Epoch 11/20\n",
            "1375/1375 [==============================] - 6s 4ms/step - loss: 0.2423 - accuracy: 0.9177 - val_loss: 0.2496 - val_accuracy: 0.9153\n",
            "Epoch 12/20\n",
            "1375/1375 [==============================] - 6s 4ms/step - loss: 0.2382 - accuracy: 0.9189 - val_loss: 0.2514 - val_accuracy: 0.9126\n",
            "Epoch 13/20\n",
            "1375/1375 [==============================] - 6s 4ms/step - loss: 0.2351 - accuracy: 0.9198 - val_loss: 0.2446 - val_accuracy: 0.9165\n",
            "Epoch 14/20\n",
            "1375/1375 [==============================] - 6s 4ms/step - loss: 0.2316 - accuracy: 0.9214 - val_loss: 0.2416 - val_accuracy: 0.9175\n",
            "Epoch 15/20\n",
            "1375/1375 [==============================] - 6s 4ms/step - loss: 0.2288 - accuracy: 0.9212 - val_loss: 0.2447 - val_accuracy: 0.9188\n",
            "Epoch 16/20\n",
            "1375/1375 [==============================] - 6s 4ms/step - loss: 0.2255 - accuracy: 0.9225 - val_loss: 0.2386 - val_accuracy: 0.9203\n",
            "Epoch 17/20\n",
            "1375/1375 [==============================] - 6s 4ms/step - loss: 0.2231 - accuracy: 0.9233 - val_loss: 0.2410 - val_accuracy: 0.9180\n",
            "Epoch 18/20\n",
            "1375/1375 [==============================] - 6s 4ms/step - loss: 0.2201 - accuracy: 0.9245 - val_loss: 0.2427 - val_accuracy: 0.9153\n",
            "Epoch 19/20\n",
            "1375/1375 [==============================] - 8s 6ms/step - loss: 0.2178 - accuracy: 0.9252 - val_loss: 0.2330 - val_accuracy: 0.9203\n",
            "Epoch 20/20\n",
            "1375/1375 [==============================] - 6s 5ms/step - loss: 0.2156 - accuracy: 0.9261 - val_loss: 0.2333 - val_accuracy: 0.9203\n"
          ]
        }
      ],
      "source": [
        "history = model_A.fit(X_train_A, y_train_A, epochs=20,\n",
        "                      validation_data=(X_valid_A, y_valid_A))"
      ]
    },
    {
      "cell_type": "code",
      "execution_count": 43,
      "metadata": {
        "id": "hkPLUcK5KwPk"
      },
      "outputs": [],
      "source": [
        "model_A.save(\"my_model_A.h5\")"
      ]
    },
    {
      "cell_type": "code",
      "execution_count": 44,
      "metadata": {
        "id": "FNdT9KD5Ky4-"
      },
      "outputs": [],
      "source": [
        "model_B = keras.models.Sequential()\n",
        "model_B.add(keras.layers.Flatten(input_shape=[28, 28]))\n",
        "for n_hidden in (300, 100, 50, 50, 50):\n",
        "  model_B.add(keras.layers.Dense(n_hidden, activation=\"selu\"))\n",
        "model_B.add(keras.layers.Dense(1, activation=\"sigmoid\"))"
      ]
    },
    {
      "cell_type": "code",
      "execution_count": 45,
      "metadata": {
        "id": "N-VC4MgoO0hT"
      },
      "outputs": [],
      "source": [
        "model_B.compile(loss=\"binary_crossentropy\",\n",
        "                optimizer=keras.optimizers.SGD(learning_rate=1e-3),\n",
        "                metrics=[\"accuracy\"])"
      ]
    },
    {
      "cell_type": "code",
      "execution_count": 46,
      "metadata": {
        "id": "s0ZkS7kSLO5s",
        "colab": {
          "base_uri": "https://localhost:8080/"
        },
        "outputId": "bd7b9e2d-160a-4e49-b4e4-3ae40f2608fd"
      },
      "outputs": [
        {
          "output_type": "stream",
          "name": "stdout",
          "text": [
            "Epoch 1/20\n",
            "7/7 [==============================] - 3s 173ms/step - loss: 0.9573 - accuracy: 0.4650 - val_loss: 0.6314 - val_accuracy: 0.6004\n",
            "Epoch 2/20\n",
            "7/7 [==============================] - 0s 42ms/step - loss: 0.5692 - accuracy: 0.7450 - val_loss: 0.4784 - val_accuracy: 0.8529\n",
            "Epoch 3/20\n",
            "7/7 [==============================] - 0s 35ms/step - loss: 0.4503 - accuracy: 0.8650 - val_loss: 0.4102 - val_accuracy: 0.8945\n",
            "Epoch 4/20\n",
            "7/7 [==============================] - 0s 25ms/step - loss: 0.3879 - accuracy: 0.8950 - val_loss: 0.3647 - val_accuracy: 0.9178\n",
            "Epoch 5/20\n",
            "7/7 [==============================] - 0s 21ms/step - loss: 0.3435 - accuracy: 0.9250 - val_loss: 0.3300 - val_accuracy: 0.9320\n",
            "Epoch 6/20\n",
            "7/7 [==============================] - 0s 18ms/step - loss: 0.3081 - accuracy: 0.9300 - val_loss: 0.3019 - val_accuracy: 0.9402\n",
            "Epoch 7/20\n",
            "7/7 [==============================] - 0s 19ms/step - loss: 0.2800 - accuracy: 0.9350 - val_loss: 0.2804 - val_accuracy: 0.9422\n",
            "Epoch 8/20\n",
            "7/7 [==============================] - 0s 20ms/step - loss: 0.2564 - accuracy: 0.9450 - val_loss: 0.2606 - val_accuracy: 0.9473\n",
            "Epoch 9/20\n",
            "7/7 [==============================] - 0s 19ms/step - loss: 0.2362 - accuracy: 0.9550 - val_loss: 0.2428 - val_accuracy: 0.9523\n",
            "Epoch 10/20\n",
            "7/7 [==============================] - 0s 32ms/step - loss: 0.2188 - accuracy: 0.9600 - val_loss: 0.2281 - val_accuracy: 0.9544\n",
            "Epoch 11/20\n",
            "7/7 [==============================] - 0s 19ms/step - loss: 0.2036 - accuracy: 0.9700 - val_loss: 0.2150 - val_accuracy: 0.9584\n",
            "Epoch 12/20\n",
            "7/7 [==============================] - 0s 18ms/step - loss: 0.1898 - accuracy: 0.9700 - val_loss: 0.2036 - val_accuracy: 0.9584\n",
            "Epoch 13/20\n",
            "7/7 [==============================] - 0s 19ms/step - loss: 0.1773 - accuracy: 0.9750 - val_loss: 0.1931 - val_accuracy: 0.9615\n",
            "Epoch 14/20\n",
            "7/7 [==============================] - 0s 31ms/step - loss: 0.1668 - accuracy: 0.9800 - val_loss: 0.1838 - val_accuracy: 0.9635\n",
            "Epoch 15/20\n",
            "7/7 [==============================] - 0s 19ms/step - loss: 0.1570 - accuracy: 0.9900 - val_loss: 0.1746 - val_accuracy: 0.9686\n",
            "Epoch 16/20\n",
            "7/7 [==============================] - 0s 19ms/step - loss: 0.1481 - accuracy: 0.9900 - val_loss: 0.1674 - val_accuracy: 0.9686\n",
            "Epoch 17/20\n",
            "7/7 [==============================] - 0s 31ms/step - loss: 0.1406 - accuracy: 0.9900 - val_loss: 0.1604 - val_accuracy: 0.9706\n",
            "Epoch 18/20\n",
            "7/7 [==============================] - 0s 18ms/step - loss: 0.1334 - accuracy: 0.9900 - val_loss: 0.1539 - val_accuracy: 0.9706\n",
            "Epoch 19/20\n",
            "7/7 [==============================] - 0s 31ms/step - loss: 0.1268 - accuracy: 0.9900 - val_loss: 0.1482 - val_accuracy: 0.9716\n",
            "Epoch 20/20\n",
            "7/7 [==============================] - 0s 33ms/step - loss: 0.1208 - accuracy: 0.9900 - val_loss: 0.1431 - val_accuracy: 0.9716\n"
          ]
        }
      ],
      "source": [
        "history = model_B.fit(X_train_B, y_train_B, epochs=20,\n",
        "                      validation_data=(X_valid_B, y_valid_B))"
      ]
    },
    {
      "cell_type": "code",
      "execution_count": 47,
      "metadata": {
        "id": "tIGu4jqpLUYc",
        "colab": {
          "base_uri": "https://localhost:8080/"
        },
        "outputId": "ca9d3815-3587-4437-d254-5d0a3a7698f3"
      },
      "outputs": [
        {
          "output_type": "stream",
          "name": "stdout",
          "text": [
            "Model: \"sequential_7\"\n",
            "_________________________________________________________________\n",
            " Layer (type)                Output Shape              Param #   \n",
            "=================================================================\n",
            " flatten_7 (Flatten)         (None, 784)               0         \n",
            "                                                                 \n",
            " dense_224 (Dense)           (None, 300)               235500    \n",
            "                                                                 \n",
            " dense_225 (Dense)           (None, 100)               30100     \n",
            "                                                                 \n",
            " dense_226 (Dense)           (None, 50)                5050      \n",
            "                                                                 \n",
            " dense_227 (Dense)           (None, 50)                2550      \n",
            "                                                                 \n",
            " dense_228 (Dense)           (None, 50)                2550      \n",
            "                                                                 \n",
            " dense_229 (Dense)           (None, 1)                 51        \n",
            "                                                                 \n",
            "=================================================================\n",
            "Total params: 275,801\n",
            "Trainable params: 275,801\n",
            "Non-trainable params: 0\n",
            "_________________________________________________________________\n"
          ]
        }
      ],
      "source": [
        "model_B.summary()"
      ]
    },
    {
      "cell_type": "code",
      "execution_count": 48,
      "metadata": {
        "id": "Bmxsl0wZMNJ0"
      },
      "outputs": [],
      "source": [
        "model_A = keras.models.load_model(\"my_model_A.h5\")\n",
        "model_B_on_A = keras.models.Sequential(model_A.layers[:-1])\n",
        "model_B_on_A.add(keras.layers.Dense(1, activation=\"sigmoid\"))"
      ]
    },
    {
      "cell_type": "code",
      "execution_count": 49,
      "metadata": {
        "id": "L356LdnjMZzj"
      },
      "outputs": [],
      "source": [
        "model_A_clone = keras.models.clone_model(model_A)\n",
        "model_A_clone.set_weights(model_A.get_weights())\n",
        "model_B_on_A = keras.models.Sequential(model_A_clone.layers[:-1])\n",
        "model_B_on_A.add(keras.layers.Dense(1, activation=\"sigmoid\"))"
      ]
    },
    {
      "cell_type": "code",
      "execution_count": 50,
      "metadata": {
        "id": "eVYkoijUMrOr"
      },
      "outputs": [],
      "source": [
        "for layer in model_B_on_A.layers[:-1]:\n",
        "  layer.trainable = False\n",
        "model_B_on_A.compile(loss=\"binary_crossentropy\",\n",
        "                     optimizer=keras.optimizers.SGD(learning_rate=1e-3),\n",
        "                     metrics=[\"accuracy\"])"
      ]
    },
    {
      "cell_type": "code",
      "execution_count": 51,
      "metadata": {
        "id": "nzkQoJp0M4RL",
        "colab": {
          "base_uri": "https://localhost:8080/"
        },
        "outputId": "5cfc9e6b-c6a7-418d-d41d-a83eb38540ec"
      },
      "outputs": [
        {
          "output_type": "stream",
          "name": "stdout",
          "text": [
            "Epoch 1/4\n",
            "7/7 [==============================] - 1s 46ms/step - loss: 0.2632 - accuracy: 0.9400 - val_loss: 0.2779 - val_accuracy: 0.9270\n",
            "Epoch 2/4\n",
            "7/7 [==============================] - 0s 18ms/step - loss: 0.2536 - accuracy: 0.9400 - val_loss: 0.2685 - val_accuracy: 0.9300\n",
            "Epoch 3/4\n",
            "7/7 [==============================] - 0s 17ms/step - loss: 0.2444 - accuracy: 0.9400 - val_loss: 0.2599 - val_accuracy: 0.9351\n",
            "Epoch 4/4\n",
            "7/7 [==============================] - 0s 19ms/step - loss: 0.2360 - accuracy: 0.9400 - val_loss: 0.2518 - val_accuracy: 0.9381\n",
            "Epoch 1/16\n",
            "7/7 [==============================] - 1s 46ms/step - loss: 0.2113 - accuracy: 0.9450 - val_loss: 0.2040 - val_accuracy: 0.9635\n",
            "Epoch 2/16\n",
            "7/7 [==============================] - 0s 17ms/step - loss: 0.1691 - accuracy: 0.9550 - val_loss: 0.1719 - val_accuracy: 0.9716\n",
            "Epoch 3/16\n",
            "7/7 [==============================] - 0s 18ms/step - loss: 0.1404 - accuracy: 0.9700 - val_loss: 0.1492 - val_accuracy: 0.9807\n",
            "Epoch 4/16\n",
            "7/7 [==============================] - 0s 17ms/step - loss: 0.1195 - accuracy: 0.9800 - val_loss: 0.1326 - val_accuracy: 0.9817\n",
            "Epoch 5/16\n",
            "7/7 [==============================] - 0s 17ms/step - loss: 0.1045 - accuracy: 0.9900 - val_loss: 0.1202 - val_accuracy: 0.9848\n",
            "Epoch 6/16\n",
            "7/7 [==============================] - 0s 17ms/step - loss: 0.0928 - accuracy: 0.9950 - val_loss: 0.1104 - val_accuracy: 0.9858\n",
            "Epoch 7/16\n",
            "7/7 [==============================] - 0s 17ms/step - loss: 0.0837 - accuracy: 0.9950 - val_loss: 0.1023 - val_accuracy: 0.9858\n",
            "Epoch 8/16\n",
            "7/7 [==============================] - 0s 17ms/step - loss: 0.0763 - accuracy: 0.9950 - val_loss: 0.0955 - val_accuracy: 0.9868\n",
            "Epoch 9/16\n",
            "7/7 [==============================] - 0s 19ms/step - loss: 0.0699 - accuracy: 0.9950 - val_loss: 0.0894 - val_accuracy: 0.9868\n",
            "Epoch 10/16\n",
            "7/7 [==============================] - 0s 18ms/step - loss: 0.0642 - accuracy: 0.9950 - val_loss: 0.0846 - val_accuracy: 0.9888\n",
            "Epoch 11/16\n",
            "7/7 [==============================] - 0s 17ms/step - loss: 0.0597 - accuracy: 0.9950 - val_loss: 0.0802 - val_accuracy: 0.9888\n",
            "Epoch 12/16\n",
            "7/7 [==============================] - 0s 18ms/step - loss: 0.0555 - accuracy: 1.0000 - val_loss: 0.0764 - val_accuracy: 0.9888\n",
            "Epoch 13/16\n",
            "7/7 [==============================] - 0s 32ms/step - loss: 0.0518 - accuracy: 1.0000 - val_loss: 0.0731 - val_accuracy: 0.9878\n",
            "Epoch 14/16\n",
            "7/7 [==============================] - 0s 31ms/step - loss: 0.0486 - accuracy: 1.0000 - val_loss: 0.0702 - val_accuracy: 0.9878\n",
            "Epoch 15/16\n",
            "7/7 [==============================] - 0s 32ms/step - loss: 0.0460 - accuracy: 1.0000 - val_loss: 0.0677 - val_accuracy: 0.9878\n",
            "Epoch 16/16\n",
            "7/7 [==============================] - 0s 19ms/step - loss: 0.0436 - accuracy: 1.0000 - val_loss: 0.0654 - val_accuracy: 0.9878\n"
          ]
        }
      ],
      "source": [
        "history = model_B_on_A.fit(X_train_B, y_train_B, epochs=4,\n",
        "                           validation_data=(X_valid_B, y_valid_B))\n",
        "\n",
        "for layer in model_B_on_A.layers[:-1]:\n",
        "  layer.trainable = True\n",
        "model_B_on_A.compile(loss=\"binary_crossentropy\",\n",
        "                     optimizer=keras.optimizers.SGD(learning_rate=1e-3),\n",
        "                     metrics=[\"accuracy\"])\n",
        "history = model_B_on_A.fit(X_train_B, y_train_B, epochs=16,\n",
        "                           validation_data=(X_valid_B, y_valid_B))"
      ]
    },
    {
      "cell_type": "code",
      "execution_count": 52,
      "metadata": {
        "id": "Lk3p_PTMNWXb",
        "colab": {
          "base_uri": "https://localhost:8080/"
        },
        "outputId": "0820d20f-7885-4c5e-b512-d178d52e9bcf"
      },
      "outputs": [
        {
          "output_type": "stream",
          "name": "stdout",
          "text": [
            "63/63 [==============================] - 0s 3ms/step - loss: 0.1408 - accuracy: 0.9705\n"
          ]
        },
        {
          "output_type": "execute_result",
          "data": {
            "text/plain": [
              "[0.1408407837152481, 0.9704999923706055]"
            ]
          },
          "metadata": {},
          "execution_count": 52
        }
      ],
      "source": [
        "model_B.evaluate(X_test_B, y_test_B)"
      ]
    },
    {
      "cell_type": "code",
      "execution_count": 53,
      "metadata": {
        "id": "R7PnAWd7NcmM",
        "colab": {
          "base_uri": "https://localhost:8080/"
        },
        "outputId": "3d3059e9-30cb-48dd-be4c-57a863bcd420"
      },
      "outputs": [
        {
          "output_type": "stream",
          "name": "stdout",
          "text": [
            "63/63 [==============================] - 0s 2ms/step - loss: 0.0564 - accuracy: 0.9940\n"
          ]
        },
        {
          "output_type": "execute_result",
          "data": {
            "text/plain": [
              "[0.056372594088315964, 0.9940000176429749]"
            ]
          },
          "metadata": {},
          "execution_count": 53
        }
      ],
      "source": [
        "model_B_on_A.evaluate(X_test_B, y_test_B)"
      ]
    },
    {
      "cell_type": "code",
      "execution_count": 54,
      "metadata": {
        "id": "hYqmGtjHNgDC",
        "colab": {
          "base_uri": "https://localhost:8080/"
        },
        "outputId": "ed2e366a-a130-4fc6-f8c6-091f671e55d4"
      },
      "outputs": [
        {
          "output_type": "execute_result",
          "data": {
            "text/plain": [
              "4.916666666666718"
            ]
          },
          "metadata": {},
          "execution_count": 54
        }
      ],
      "source": [
        "(100 - 97.05) / (100 - 99.40)"
      ]
    },
    {
      "cell_type": "code",
      "source": [
        "optimizer = keras.optimizers.SGD(learning_rate=0.001, momentum=0.9)"
      ],
      "metadata": {
        "id": "linK7usSUIlY"
      },
      "execution_count": 55,
      "outputs": []
    },
    {
      "cell_type": "code",
      "source": [
        "optimizer = keras.optimizers.SGD(learning_rate=0.001, momentum=0.9, nesterov=True)"
      ],
      "metadata": {
        "id": "5zHghZcVUkg8"
      },
      "execution_count": 56,
      "outputs": []
    },
    {
      "cell_type": "code",
      "source": [
        "optimizer = keras.optimizers.Adagrad(learning_rate=0.001)"
      ],
      "metadata": {
        "id": "YFqqsjtIUmpw"
      },
      "execution_count": 57,
      "outputs": []
    },
    {
      "cell_type": "code",
      "source": [
        "optimizer = keras.optimizers.RMSprop(learning_rate=0.001, rho=0.9)"
      ],
      "metadata": {
        "id": "yKm65uJZUox6"
      },
      "execution_count": 58,
      "outputs": []
    },
    {
      "cell_type": "code",
      "source": [
        "optimizer = keras.optimizers.Adam(learning_rate=0.001, beta_1=0.9, beta_2=0.999)"
      ],
      "metadata": {
        "id": "QFUXV_j2UqnR"
      },
      "execution_count": 59,
      "outputs": []
    },
    {
      "cell_type": "code",
      "source": [
        "optimizer = keras.optimizers.Adamax(learning_rate=0.001, beta_1=0.9, beta_2=0.999)"
      ],
      "metadata": {
        "id": "f-PcdpoPUtuq"
      },
      "execution_count": 60,
      "outputs": []
    },
    {
      "cell_type": "code",
      "source": [
        "optimizer = keras.optimizers.Nadam(learning_rate=0.001, beta_1=0.9, beta_2=0.999)"
      ],
      "metadata": {
        "id": "nIRsvuzxUvjh"
      },
      "execution_count": 61,
      "outputs": []
    },
    {
      "cell_type": "code",
      "source": [
        "optimizer = keras.optimizers.SGD(learning_rate=0.01, decay=1e-4)"
      ],
      "metadata": {
        "id": "TkPvrCXdUx0L"
      },
      "execution_count": 62,
      "outputs": []
    },
    {
      "cell_type": "code",
      "source": [
        "model = keras.models.Sequential([\n",
        "    keras.layers.Flatten(input_shape=[28, 28]),\n",
        "    keras.layers.Dense(300, activation=\"selu\", kernel_initializer=\"lecun_normal\"),\n",
        "    keras.layers.Dense(100, activation=\"selu\", kernel_initializer=\"lecun_normal\"),\n",
        "    keras.layers.Dense(10, activation=\"softmax\"),\n",
        "])\n",
        "model.compile(loss=\"sparse_categorical_crossentropy\", optimizer=optimizer, metrics=[\"accuracy\"])"
      ],
      "metadata": {
        "id": "3AicWLcQVzzU"
      },
      "execution_count": 63,
      "outputs": []
    },
    {
      "cell_type": "code",
      "source": [
        "n_epochs = 25\n",
        "history = model.fit(X_train_scaled, y_train, epochs=n_epochs,\n",
        "                    validation_data=(X_valid_scaled, y_valid))"
      ],
      "metadata": {
        "colab": {
          "base_uri": "https://localhost:8080/"
        },
        "id": "rlDbed-sWOp0",
        "outputId": "ecfbe2df-fb11-4c3d-f6dd-7d3607e80029"
      },
      "execution_count": 64,
      "outputs": [
        {
          "output_type": "stream",
          "name": "stdout",
          "text": [
            "Epoch 1/25\n",
            "1719/1719 [==============================] - 7s 4ms/step - loss: 0.4898 - accuracy: 0.8265 - val_loss: 0.4063 - val_accuracy: 0.8608\n",
            "Epoch 2/25\n",
            "1719/1719 [==============================] - 7s 4ms/step - loss: 0.3792 - accuracy: 0.8655 - val_loss: 0.3729 - val_accuracy: 0.8718\n",
            "Epoch 3/25\n",
            "1719/1719 [==============================] - 8s 5ms/step - loss: 0.3467 - accuracy: 0.8774 - val_loss: 0.3747 - val_accuracy: 0.8720\n",
            "Epoch 4/25\n",
            "1719/1719 [==============================] - 8s 4ms/step - loss: 0.3259 - accuracy: 0.8845 - val_loss: 0.3512 - val_accuracy: 0.8780\n",
            "Epoch 5/25\n",
            "1719/1719 [==============================] - 7s 4ms/step - loss: 0.3107 - accuracy: 0.8897 - val_loss: 0.3449 - val_accuracy: 0.8788\n",
            "Epoch 6/25\n",
            "1719/1719 [==============================] - 10s 6ms/step - loss: 0.2972 - accuracy: 0.8940 - val_loss: 0.3419 - val_accuracy: 0.8844\n",
            "Epoch 7/25\n",
            "1719/1719 [==============================] - 8s 5ms/step - loss: 0.2871 - accuracy: 0.8981 - val_loss: 0.3379 - val_accuracy: 0.8824\n",
            "Epoch 8/25\n",
            "1719/1719 [==============================] - 7s 4ms/step - loss: 0.2779 - accuracy: 0.9014 - val_loss: 0.3423 - val_accuracy: 0.8796\n",
            "Epoch 9/25\n",
            "1719/1719 [==============================] - 7s 4ms/step - loss: 0.2698 - accuracy: 0.9030 - val_loss: 0.3290 - val_accuracy: 0.8852\n",
            "Epoch 10/25\n",
            "1719/1719 [==============================] - 7s 4ms/step - loss: 0.2625 - accuracy: 0.9058 - val_loss: 0.3284 - val_accuracy: 0.8860\n",
            "Epoch 11/25\n",
            "1719/1719 [==============================] - 7s 4ms/step - loss: 0.2565 - accuracy: 0.9091 - val_loss: 0.3266 - val_accuracy: 0.8884\n",
            "Epoch 12/25\n",
            "1719/1719 [==============================] - 7s 4ms/step - loss: 0.2505 - accuracy: 0.9111 - val_loss: 0.3338 - val_accuracy: 0.8800\n",
            "Epoch 13/25\n",
            "1719/1719 [==============================] - 11s 6ms/step - loss: 0.2449 - accuracy: 0.9132 - val_loss: 0.3247 - val_accuracy: 0.8906\n",
            "Epoch 14/25\n",
            "1719/1719 [==============================] - 8s 5ms/step - loss: 0.2408 - accuracy: 0.9144 - val_loss: 0.3288 - val_accuracy: 0.8866\n",
            "Epoch 15/25\n",
            "1719/1719 [==============================] - 9s 5ms/step - loss: 0.2355 - accuracy: 0.9164 - val_loss: 0.3230 - val_accuracy: 0.8884\n",
            "Epoch 16/25\n",
            "1719/1719 [==============================] - 7s 4ms/step - loss: 0.2316 - accuracy: 0.9185 - val_loss: 0.3208 - val_accuracy: 0.8906\n",
            "Epoch 17/25\n",
            "1719/1719 [==============================] - 9s 5ms/step - loss: 0.2277 - accuracy: 0.9187 - val_loss: 0.3245 - val_accuracy: 0.8902\n",
            "Epoch 18/25\n",
            "1719/1719 [==============================] - 9s 6ms/step - loss: 0.2236 - accuracy: 0.9214 - val_loss: 0.3195 - val_accuracy: 0.8916\n",
            "Epoch 19/25\n",
            "1719/1719 [==============================] - 7s 4ms/step - loss: 0.2203 - accuracy: 0.9225 - val_loss: 0.3230 - val_accuracy: 0.8892\n",
            "Epoch 20/25\n",
            "1719/1719 [==============================] - 6s 4ms/step - loss: 0.2170 - accuracy: 0.9237 - val_loss: 0.3206 - val_accuracy: 0.8906\n",
            "Epoch 21/25\n",
            "1719/1719 [==============================] - 9s 5ms/step - loss: 0.2134 - accuracy: 0.9253 - val_loss: 0.3205 - val_accuracy: 0.8890\n",
            "Epoch 22/25\n",
            "1719/1719 [==============================] - 8s 5ms/step - loss: 0.2109 - accuracy: 0.9267 - val_loss: 0.3186 - val_accuracy: 0.8900\n",
            "Epoch 23/25\n",
            "1719/1719 [==============================] - 9s 5ms/step - loss: 0.2080 - accuracy: 0.9274 - val_loss: 0.3207 - val_accuracy: 0.8914\n",
            "Epoch 24/25\n",
            "1719/1719 [==============================] - 9s 5ms/step - loss: 0.2051 - accuracy: 0.9289 - val_loss: 0.3207 - val_accuracy: 0.8896\n",
            "Epoch 25/25\n",
            "1719/1719 [==============================] - 8s 5ms/step - loss: 0.2029 - accuracy: 0.9291 - val_loss: 0.3202 - val_accuracy: 0.8892\n"
          ]
        }
      ]
    },
    {
      "cell_type": "code",
      "source": [
        "import math\n",
        "\n",
        "learning_rate = 0.01\n",
        "decay = 1e-4\n",
        "batch_size = 32\n",
        "n_steps_per_epoch = math.ceil(len(X_train) / batch_size)\n",
        "epochs = np.arange(n_epochs)\n",
        "lrs = learning_rate / (1 + decay * epochs * n_steps_per_epoch)"
      ],
      "metadata": {
        "id": "vBaAoAMqWc5p"
      },
      "execution_count": 65,
      "outputs": []
    },
    {
      "cell_type": "code",
      "source": [
        "plt.plot(epochs, lrs, \"o-\")\n",
        "plt.axis([0, n_epochs -1, 0, 0.01])\n",
        "plt.xlabel(\"Epoch\")\n",
        "plt.ylabel(\"Learning Rate\")\n",
        "plt.title(\"Power Scheduling\", fontsize=14)\n",
        "plt.grid(True)\n",
        "plt.show()"
      ],
      "metadata": {
        "colab": {
          "base_uri": "https://localhost:8080/",
          "height": 303
        },
        "id": "V2e2sM2SWtot",
        "outputId": "64fafdcf-deb4-4c7c-9fbe-daa86fab0c14"
      },
      "execution_count": 66,
      "outputs": [
        {
          "output_type": "display_data",
          "data": {
            "text/plain": [
              "<Figure size 432x288 with 1 Axes>"
            ],
            "image/png": "[encoded data removed]"
          },
          "metadata": {
            "needs_background": "light"
          }
        }
      ]
    },
    {
      "cell_type": "code",
      "source": [
        "def exponential_decay_fn(epoch):\n",
        "  return 0.01 * 0.1 ** (epoch / 20)"
      ],
      "metadata": {
        "id": "nmUK3WfRW7HR"
      },
      "execution_count": 67,
      "outputs": []
    },
    {
      "cell_type": "code",
      "source": [
        "def exponential_decay(lr0, s):\n",
        "  def exponential_decay_fn(epoch):\n",
        "    return lr0 * 0.1 ** (epoch / s)\n",
        "  return exponential_decay_fn\n",
        "\n",
        "exponential_decay_fn = exponential_decay(lr0=0.01, s=20)"
      ],
      "metadata": {
        "id": "M891u8H_XCea"
      },
      "execution_count": 68,
      "outputs": []
    },
    {
      "cell_type": "code",
      "source": [
        "model = keras.models.Sequential([\n",
        "    keras.layers.Flatten(input_shape=[28, 28]),\n",
        "    keras.layers.Dense(300, activation=\"selu\", kernel_initializer=\"lecun_normal\"),\n",
        "    keras.layers.Dense(100, activation=\"selu\", kernel_initializer=\"lecun_normal\"),\n",
        "    keras.layers.Dense(10, activation=\"softmax\")\n",
        "])\n",
        "model.compile(loss=\"sparse_categorical_crossentropy\", optimizer=\"nadam\", metrics=[\"accuracy\"])\n",
        "\n",
        "lr_scheduler = keras.callbacks.LearningRateScheduler(exponential_decay_fn)\n",
        "history = model.fit(X_train_scaled, y_train, epochs=n_epochs,\n",
        "                    validation_data=(X_valid_scaled, y_valid),\n",
        "                    callbacks=[lr_scheduler])"
      ],
      "metadata": {
        "colab": {
          "base_uri": "https://localhost:8080/"
        },
        "id": "lrVQHF7PXTOZ",
        "outputId": "6a20fb74-7d26-4f49-e710-d42dc13076be"
      },
      "execution_count": 69,
      "outputs": [
        {
          "output_type": "stream",
          "name": "stdout",
          "text": [
            "Epoch 1/25\n",
            "1719/1719 [==============================] - 19s 11ms/step - loss: 0.8566 - accuracy: 0.7552 - val_loss: 0.8053 - val_accuracy: 0.7670 - lr: 0.0100\n",
            "Epoch 2/25\n",
            "1719/1719 [==============================] - 17s 10ms/step - loss: 0.7229 - accuracy: 0.7798 - val_loss: 0.7611 - val_accuracy: 0.7492 - lr: 0.0089\n",
            "Epoch 3/25\n",
            "1719/1719 [==============================] - 13s 8ms/step - loss: 0.5840 - accuracy: 0.8172 - val_loss: 0.7166 - val_accuracy: 0.7696 - lr: 0.0079\n",
            "Epoch 4/25\n",
            "1719/1719 [==============================] - 14s 8ms/step - loss: 0.5428 - accuracy: 0.8329 - val_loss: 0.5661 - val_accuracy: 0.8382 - lr: 0.0071\n",
            "Epoch 5/25\n",
            "1719/1719 [==============================] - 13s 7ms/step - loss: 0.4897 - accuracy: 0.8467 - val_loss: 0.7592 - val_accuracy: 0.7672 - lr: 0.0063\n",
            "Epoch 6/25\n",
            "1719/1719 [==============================] - 13s 8ms/step - loss: 0.4553 - accuracy: 0.8578 - val_loss: 0.4661 - val_accuracy: 0.8608 - lr: 0.0056\n",
            "Epoch 7/25\n",
            "1719/1719 [==============================] - 14s 8ms/step - loss: 0.4128 - accuracy: 0.8673 - val_loss: 0.4703 - val_accuracy: 0.8572 - lr: 0.0050\n",
            "Epoch 8/25\n",
            "1719/1719 [==============================] - 13s 8ms/step - loss: 0.3863 - accuracy: 0.8744 - val_loss: 0.4907 - val_accuracy: 0.8514 - lr: 0.0045\n",
            "Epoch 9/25\n",
            "1719/1719 [==============================] - 13s 8ms/step - loss: 0.3557 - accuracy: 0.8834 - val_loss: 0.4388 - val_accuracy: 0.8464 - lr: 0.0040\n",
            "Epoch 10/25\n",
            "1719/1719 [==============================] - 13s 7ms/step - loss: 0.3160 - accuracy: 0.8920 - val_loss: 0.4379 - val_accuracy: 0.8786 - lr: 0.0035\n",
            "Epoch 11/25\n",
            "1719/1719 [==============================] - 14s 8ms/step - loss: 0.3063 - accuracy: 0.8958 - val_loss: 0.4564 - val_accuracy: 0.8704 - lr: 0.0032\n",
            "Epoch 12/25\n",
            "1719/1719 [==============================] - 14s 8ms/step - loss: 0.2825 - accuracy: 0.9024 - val_loss: 0.4155 - val_accuracy: 0.8768 - lr: 0.0028\n",
            "Epoch 13/25\n",
            "1719/1719 [==============================] - 14s 8ms/step - loss: 0.2653 - accuracy: 0.9097 - val_loss: 0.4651 - val_accuracy: 0.8764 - lr: 0.0025\n",
            "Epoch 14/25\n",
            "1719/1719 [==============================] - 17s 10ms/step - loss: 0.2458 - accuracy: 0.9161 - val_loss: 0.4479 - val_accuracy: 0.8718 - lr: 0.0022\n",
            "Epoch 15/25\n",
            "1719/1719 [==============================] - 13s 8ms/step - loss: 0.2290 - accuracy: 0.9210 - val_loss: 0.4426 - val_accuracy: 0.8806 - lr: 0.0020\n",
            "Epoch 16/25\n",
            "1719/1719 [==============================] - 13s 8ms/step - loss: 0.2095 - accuracy: 0.9273 - val_loss: 0.4369 - val_accuracy: 0.8862 - lr: 0.0018\n",
            "Epoch 17/25\n",
            "1719/1719 [==============================] - 13s 8ms/step - loss: 0.1984 - accuracy: 0.9307 - val_loss: 0.4770 - val_accuracy: 0.8836 - lr: 0.0016\n",
            "Epoch 18/25\n",
            "1719/1719 [==============================] - 14s 8ms/step - loss: 0.1841 - accuracy: 0.9369 - val_loss: 0.4695 - val_accuracy: 0.8856 - lr: 0.0014\n",
            "Epoch 19/25\n",
            "1719/1719 [==============================] - 13s 7ms/step - loss: 0.1704 - accuracy: 0.9411 - val_loss: 0.4928 - val_accuracy: 0.8932 - lr: 0.0013\n",
            "Epoch 20/25\n",
            "1719/1719 [==============================] - 15s 9ms/step - loss: 0.1597 - accuracy: 0.9451 - val_loss: 0.4844 - val_accuracy: 0.8858 - lr: 0.0011\n",
            "Epoch 21/25\n",
            "1719/1719 [==============================] - 14s 8ms/step - loss: 0.1487 - accuracy: 0.9490 - val_loss: 0.5315 - val_accuracy: 0.8880 - lr: 0.0010\n",
            "Epoch 22/25\n",
            "1719/1719 [==============================] - 14s 8ms/step - loss: 0.1389 - accuracy: 0.9531 - val_loss: 0.5520 - val_accuracy: 0.8894 - lr: 8.9125e-04\n",
            "Epoch 23/25\n",
            "1719/1719 [==============================] - 13s 8ms/step - loss: 0.1321 - accuracy: 0.9571 - val_loss: 0.5454 - val_accuracy: 0.8886 - lr: 7.9433e-04\n",
            "Epoch 24/25\n",
            "1719/1719 [==============================] - 16s 9ms/step - loss: 0.1211 - accuracy: 0.9593 - val_loss: 0.6148 - val_accuracy: 0.8922 - lr: 7.0795e-04\n",
            "Epoch 25/25\n",
            "1719/1719 [==============================] - 14s 8ms/step - loss: 0.1149 - accuracy: 0.9615 - val_loss: 0.6273 - val_accuracy: 0.8894 - lr: 6.3096e-04\n"
          ]
        }
      ]
    },
    {
      "cell_type": "code",
      "source": [
        "plt.plot(history.epoch, history.history[\"lr\"], \"o-\")\n",
        "plt.axis([0, n_epochs - 1, 0, 0.011])\n",
        "plt.xlabel(\"Epoch\")\n",
        "plt.ylabel(\"Learning Rate\")\n",
        "plt.title(\"Exponential Scheduling\", fontsize=14)\n",
        "plt.grid(True)\n",
        "plt.show()"
      ],
      "metadata": {
        "colab": {
          "base_uri": "https://localhost:8080/",
          "height": 303
        },
        "id": "jtbKgIg2YfBB",
        "outputId": "fab9d537-a8e0-45d7-d1ec-aad795dbb180"
      },
      "execution_count": 70,
      "outputs": [
        {
          "output_type": "display_data",
          "data": {
            "text/plain": [
              "<Figure size 432x288 with 1 Axes>"
            ],
            "image/png": "[encoded data removed]"
          },
          "metadata": {
            "needs_background": "light"
          }
        }
      ]
    },
    {
      "cell_type": "code",
      "source": [
        "def exponential_decay_fn(epoch, lr):\n",
        "    return lr * 0.1**(1 / 20)"
      ],
      "metadata": {
        "id": "04_UBLzhYgjp"
      },
      "execution_count": 71,
      "outputs": []
    },
    {
      "cell_type": "code",
      "source": [
        "K = keras.backend\n",
        "\n",
        "class ExponentialDecay(keras.callbacks.Callback):\n",
        "    def __init__(self, s=40000):\n",
        "        super().__init__()\n",
        "        self.s = s\n",
        "\n",
        "    def on_batch_begin(self, batch, logs=None):\n",
        "        # 노트: 에포크마다 `batch` 매개변수가 재설정됩니다\n",
        "        lr = K.get_value(self.model.optimizer.lr)\n",
        "        K.set_value(self.model.optimizer.lr, lr * 0.1**(1 / self.s))\n",
        "\n",
        "    def on_epoch_end(self, epoch, logs=None):\n",
        "        logs = logs or {}\n",
        "        logs['lr'] = K.get_value(self.model.optimizer.lr)\n",
        "\n",
        "model = keras.models.Sequential([\n",
        "    keras.layers.Flatten(input_shape=[28, 28]),\n",
        "    keras.layers.Dense(300, activation=\"selu\", kernel_initializer=\"lecun_normal\"),\n",
        "    keras.layers.Dense(100, activation=\"selu\", kernel_initializer=\"lecun_normal\"),\n",
        "    keras.layers.Dense(10, activation=\"softmax\")\n",
        "])\n",
        "lr0 = 0.01\n",
        "optimizer = keras.optimizers.Nadam(learning_rate=lr0)\n",
        "model.compile(loss=\"sparse_categorical_crossentropy\", optimizer=optimizer, metrics=[\"accuracy\"])\n",
        "n_epochs = 25\n",
        "\n",
        "s = 20 * len(X_train) // 32 # 20 에포크 동안 스텝 횟수 (배치 크기 = 32)\n",
        "exp_decay = ExponentialDecay(s)\n",
        "history = model.fit(X_train_scaled, y_train, epochs=n_epochs,\n",
        "                    validation_data=(X_valid_scaled, y_valid),\n",
        "                    callbacks=[exp_decay])"
      ],
      "metadata": {
        "colab": {
          "base_uri": "https://localhost:8080/"
        },
        "id": "ONf82g34YkgY",
        "outputId": "fdeeca2d-a0f8-40ad-b636-5e7530cb1d57"
      },
      "execution_count": 72,
      "outputs": [
        {
          "output_type": "stream",
          "name": "stdout",
          "text": [
            "Epoch 1/25\n",
            "1719/1719 [==============================] - 17s 9ms/step - loss: 0.8082 - accuracy: 0.7620 - val_loss: 0.9582 - val_accuracy: 0.7690 - lr: 0.0089\n",
            "Epoch 2/25\n",
            "1719/1719 [==============================] - 15s 9ms/step - loss: 0.6669 - accuracy: 0.7979 - val_loss: 0.5285 - val_accuracy: 0.8336 - lr: 0.0079\n",
            "Epoch 3/25\n",
            "1719/1719 [==============================] - 16s 9ms/step - loss: 0.6080 - accuracy: 0.8151 - val_loss: 0.8994 - val_accuracy: 0.7156 - lr: 0.0071\n",
            "Epoch 4/25\n",
            "1719/1719 [==============================] - 16s 9ms/step - loss: 0.5005 - accuracy: 0.8413 - val_loss: 0.4545 - val_accuracy: 0.8598 - lr: 0.0063\n",
            "Epoch 5/25\n",
            "1719/1719 [==============================] - 15s 9ms/step - loss: 0.4673 - accuracy: 0.8531 - val_loss: 0.4943 - val_accuracy: 0.8620 - lr: 0.0056\n",
            "Epoch 6/25\n",
            "1719/1719 [==============================] - 15s 9ms/step - loss: 0.4218 - accuracy: 0.8659 - val_loss: 0.4853 - val_accuracy: 0.8660 - lr: 0.0050\n",
            "Epoch 7/25\n",
            "1719/1719 [==============================] - 16s 9ms/step - loss: 0.3927 - accuracy: 0.8731 - val_loss: 0.4795 - val_accuracy: 0.8658 - lr: 0.0045\n",
            "Epoch 8/25\n",
            "1719/1719 [==============================] - 18s 11ms/step - loss: 0.3556 - accuracy: 0.8813 - val_loss: 0.4809 - val_accuracy: 0.8552 - lr: 0.0040\n",
            "Epoch 9/25\n",
            "1719/1719 [==============================] - 15s 9ms/step - loss: 0.3396 - accuracy: 0.8872 - val_loss: 0.4737 - val_accuracy: 0.8636 - lr: 0.0035\n",
            "Epoch 10/25\n",
            "1719/1719 [==============================] - 15s 9ms/step - loss: 0.3177 - accuracy: 0.8937 - val_loss: 0.5084 - val_accuracy: 0.8804 - lr: 0.0032\n",
            "Epoch 11/25\n",
            "1719/1719 [==============================] - 16s 9ms/step - loss: 0.2909 - accuracy: 0.9021 - val_loss: 0.4180 - val_accuracy: 0.8690 - lr: 0.0028\n",
            "Epoch 12/25\n",
            "1719/1719 [==============================] - 16s 9ms/step - loss: 0.2677 - accuracy: 0.9078 - val_loss: 0.4496 - val_accuracy: 0.8792 - lr: 0.0025\n",
            "Epoch 13/25\n",
            "1719/1719 [==============================] - 16s 9ms/step - loss: 0.2489 - accuracy: 0.9145 - val_loss: 0.4498 - val_accuracy: 0.8816 - lr: 0.0022\n",
            "Epoch 14/25\n",
            "1719/1719 [==============================] - 16s 10ms/step - loss: 0.2378 - accuracy: 0.9199 - val_loss: 0.4655 - val_accuracy: 0.8744 - lr: 0.0020\n",
            "Epoch 15/25\n",
            "1719/1719 [==============================] - 17s 10ms/step - loss: 0.2168 - accuracy: 0.9249 - val_loss: 0.4530 - val_accuracy: 0.8858 - lr: 0.0018\n",
            "Epoch 16/25\n",
            "1719/1719 [==============================] - 19s 11ms/step - loss: 0.1993 - accuracy: 0.9317 - val_loss: 0.4563 - val_accuracy: 0.8914 - lr: 0.0016\n",
            "Epoch 17/25\n",
            "1719/1719 [==============================] - 15s 9ms/step - loss: 0.1857 - accuracy: 0.9359 - val_loss: 0.4958 - val_accuracy: 0.8870 - lr: 0.0014\n",
            "Epoch 18/25\n",
            "1719/1719 [==============================] - 16s 9ms/step - loss: 0.1732 - accuracy: 0.9403 - val_loss: 0.4914 - val_accuracy: 0.8864 - lr: 0.0013\n",
            "Epoch 19/25\n",
            "1719/1719 [==============================] - 14s 8ms/step - loss: 0.1618 - accuracy: 0.9455 - val_loss: 0.4814 - val_accuracy: 0.8912 - lr: 0.0011\n",
            "Epoch 20/25\n",
            "1719/1719 [==============================] - 15s 9ms/step - loss: 0.1485 - accuracy: 0.9501 - val_loss: 0.5208 - val_accuracy: 0.8912 - lr: 9.9967e-04\n",
            "Epoch 21/25\n",
            "1719/1719 [==============================] - 15s 9ms/step - loss: 0.1409 - accuracy: 0.9526 - val_loss: 0.5572 - val_accuracy: 0.8866 - lr: 8.9094e-04\n",
            "Epoch 22/25\n",
            "1719/1719 [==============================] - 15s 9ms/step - loss: 0.1288 - accuracy: 0.9578 - val_loss: 0.5700 - val_accuracy: 0.8946 - lr: 7.9404e-04\n",
            "Epoch 23/25\n",
            "1719/1719 [==============================] - 15s 9ms/step - loss: 0.1213 - accuracy: 0.9603 - val_loss: 0.5984 - val_accuracy: 0.8928 - lr: 7.0767e-04\n",
            "Epoch 24/25\n",
            "1719/1719 [==============================] - 14s 8ms/step - loss: 0.1158 - accuracy: 0.9625 - val_loss: 0.5955 - val_accuracy: 0.8890 - lr: 6.3071e-04\n",
            "Epoch 25/25\n",
            "1719/1719 [==============================] - 17s 10ms/step - loss: 0.1084 - accuracy: 0.9649 - val_loss: 0.6212 - val_accuracy: 0.8922 - lr: 5.6211e-04\n"
          ]
        }
      ]
    },
    {
      "cell_type": "code",
      "source": [
        "n_steps = n_epochs * len(X_train) // 32\n",
        "steps = np.arange(n_steps)\n",
        "lrs = lr0 * 0.1**(steps / s)"
      ],
      "metadata": {
        "id": "eVvFq7HCYsry"
      },
      "execution_count": 73,
      "outputs": []
    },
    {
      "cell_type": "code",
      "source": [
        "plt.plot(steps, lrs, \"-\", linewidth=2)\n",
        "plt.axis([0, n_steps - 1, 0, lr0 * 1.1])\n",
        "plt.xlabel(\"Batch\")\n",
        "plt.ylabel(\"Learning Rate\")\n",
        "plt.title(\"Exponential Scheduling (per batch)\", fontsize=14)\n",
        "plt.grid(True)\n",
        "plt.show()"
      ],
      "metadata": {
        "colab": {
          "base_uri": "https://localhost:8080/",
          "height": 303
        },
        "id": "a5xe9afwYvNB",
        "outputId": "df90a5bd-7192-424a-93d5-75bf95c63edb"
      },
      "execution_count": 74,
      "outputs": [
        {
          "output_type": "display_data",
          "data": {
            "text/plain": [
              "<Figure size 432x288 with 1 Axes>"
            ],
            "image/png": "[encoded data removed]"
          },
          "metadata": {
            "needs_background": "light"
          }
        }
      ]
    },
    {
      "cell_type": "code",
      "source": [
        "def piecewise_constant_fn(epoch):\n",
        "    if epoch < 5:\n",
        "        return 0.01\n",
        "    elif epoch < 15:\n",
        "        return 0.005\n",
        "    else:\n",
        "        return 0.001"
      ],
      "metadata": {
        "id": "B_cCt6SHYwWp"
      },
      "execution_count": 75,
      "outputs": []
    },
    {
      "cell_type": "code",
      "source": [
        "def piecewise_constant(boundaries, values):\n",
        "    boundaries = np.array([0] + boundaries)\n",
        "    values = np.array(values)\n",
        "    def piecewise_constant_fn(epoch):\n",
        "        return values[np.argmax(boundaries > epoch) - 1]\n",
        "    return piecewise_constant_fn\n",
        "\n",
        "piecewise_constant_fn = piecewise_constant([5, 15], [0.01, 0.005, 0.001])"
      ],
      "metadata": {
        "id": "ySdWytPcYxyI"
      },
      "execution_count": 76,
      "outputs": []
    },
    {
      "cell_type": "code",
      "source": [
        "lr_scheduler = keras.callbacks.LearningRateScheduler(piecewise_constant_fn)\n",
        "\n",
        "model = keras.models.Sequential([\n",
        "    keras.layers.Flatten(input_shape=[28, 28]),\n",
        "    keras.layers.Dense(300, activation=\"selu\", kernel_initializer=\"lecun_normal\"),\n",
        "    keras.layers.Dense(100, activation=\"selu\", kernel_initializer=\"lecun_normal\"),\n",
        "    keras.layers.Dense(10, activation=\"softmax\")\n",
        "])\n",
        "model.compile(loss=\"sparse_categorical_crossentropy\", optimizer=\"nadam\", metrics=[\"accuracy\"])\n",
        "n_epochs = 25\n",
        "history = model.fit(X_train_scaled, y_train, epochs=n_epochs,\n",
        "                    validation_data=(X_valid_scaled, y_valid),\n",
        "                    callbacks=[lr_scheduler])"
      ],
      "metadata": {
        "colab": {
          "base_uri": "https://localhost:8080/"
        },
        "id": "U3GawtaoY09V",
        "outputId": "1fdd8c09-5f4f-44a3-f044-d793d3174341"
      },
      "execution_count": 77,
      "outputs": [
        {
          "output_type": "stream",
          "name": "stdout",
          "text": [
            "Epoch 1/25\n",
            "1719/1719 [==============================] - 14s 8ms/step - loss: 0.8369 - accuracy: 0.7566 - val_loss: 0.8026 - val_accuracy: 0.7464 - lr: 0.0100\n",
            "Epoch 2/25\n",
            "1719/1719 [==============================] - 13s 7ms/step - loss: 0.8054 - accuracy: 0.7678 - val_loss: 0.8051 - val_accuracy: 0.7840 - lr: 0.0100\n",
            "Epoch 3/25\n",
            "1719/1719 [==============================] - 12s 7ms/step - loss: 0.9554 - accuracy: 0.7198 - val_loss: 1.5560 - val_accuracy: 0.5516 - lr: 0.0100\n",
            "Epoch 4/25\n",
            "1719/1719 [==============================] - 13s 7ms/step - loss: 1.0785 - accuracy: 0.6704 - val_loss: 0.9651 - val_accuracy: 0.6364 - lr: 0.0100\n",
            "Epoch 5/25\n",
            "1719/1719 [==============================] - 13s 7ms/step - loss: 1.0249 - accuracy: 0.6683 - val_loss: 1.1693 - val_accuracy: 0.6470 - lr: 0.0100\n",
            "Epoch 6/25\n",
            "1719/1719 [==============================] - 13s 7ms/step - loss: 0.7260 - accuracy: 0.7377 - val_loss: 0.6760 - val_accuracy: 0.7602 - lr: 0.0050\n",
            "Epoch 7/25\n",
            "1719/1719 [==============================] - 15s 9ms/step - loss: 0.6759 - accuracy: 0.7547 - val_loss: 0.7919 - val_accuracy: 0.7348 - lr: 0.0050\n",
            "Epoch 8/25\n",
            "1719/1719 [==============================] - 14s 8ms/step - loss: 0.6591 - accuracy: 0.7598 - val_loss: 0.7932 - val_accuracy: 0.7426 - lr: 0.0050\n",
            "Epoch 9/25\n",
            "1719/1719 [==============================] - 14s 8ms/step - loss: 0.6508 - accuracy: 0.7623 - val_loss: 0.8040 - val_accuracy: 0.7738 - lr: 0.0050\n",
            "Epoch 10/25\n",
            "1719/1719 [==============================] - 14s 8ms/step - loss: 0.6249 - accuracy: 0.7701 - val_loss: 0.7005 - val_accuracy: 0.7832 - lr: 0.0050\n",
            "Epoch 11/25\n",
            "1719/1719 [==============================] - 14s 8ms/step - loss: 0.6169 - accuracy: 0.7708 - val_loss: 0.7999 - val_accuracy: 0.7420 - lr: 0.0050\n",
            "Epoch 12/25\n",
            "1719/1719 [==============================] - 13s 8ms/step - loss: 0.6068 - accuracy: 0.7766 - val_loss: 0.8125 - val_accuracy: 0.7330 - lr: 0.0050\n",
            "Epoch 13/25\n",
            "1719/1719 [==============================] - 14s 8ms/step - loss: 0.5948 - accuracy: 0.7785 - val_loss: 0.7808 - val_accuracy: 0.7702 - lr: 0.0050\n",
            "Epoch 14/25\n",
            "1719/1719 [==============================] - 15s 8ms/step - loss: 0.6039 - accuracy: 0.7783 - val_loss: 0.7645 - val_accuracy: 0.8054 - lr: 0.0050\n",
            "Epoch 15/25\n",
            "1719/1719 [==============================] - 14s 8ms/step - loss: 0.5524 - accuracy: 0.8448 - val_loss: 0.6663 - val_accuracy: 0.8422 - lr: 0.0050\n",
            "Epoch 16/25\n",
            "1719/1719 [==============================] - 14s 8ms/step - loss: 0.3705 - accuracy: 0.8878 - val_loss: 0.5084 - val_accuracy: 0.8626 - lr: 0.0010\n",
            "Epoch 17/25\n",
            "1719/1719 [==============================] - 16s 9ms/step - loss: 0.3398 - accuracy: 0.8954 - val_loss: 0.5206 - val_accuracy: 0.8678 - lr: 0.0010\n",
            "Epoch 18/25\n",
            "1719/1719 [==============================] - 13s 8ms/step - loss: 0.3239 - accuracy: 0.9009 - val_loss: 0.4839 - val_accuracy: 0.8712 - lr: 0.0010\n",
            "Epoch 19/25\n",
            "1719/1719 [==============================] - 13s 8ms/step - loss: 0.3098 - accuracy: 0.9047 - val_loss: 0.4932 - val_accuracy: 0.8740 - lr: 0.0010\n",
            "Epoch 20/25\n",
            "1719/1719 [==============================] - 13s 7ms/step - loss: 0.2985 - accuracy: 0.9073 - val_loss: 0.4959 - val_accuracy: 0.8716 - lr: 0.0010\n",
            "Epoch 21/25\n",
            "1719/1719 [==============================] - 13s 8ms/step - loss: 0.2862 - accuracy: 0.9106 - val_loss: 0.5227 - val_accuracy: 0.8722 - lr: 0.0010\n",
            "Epoch 22/25\n",
            "1719/1719 [==============================] - 13s 7ms/step - loss: 0.2751 - accuracy: 0.9150 - val_loss: 0.5181 - val_accuracy: 0.8776 - lr: 0.0010\n",
            "Epoch 23/25\n",
            "1719/1719 [==============================] - 13s 7ms/step - loss: 0.2655 - accuracy: 0.9169 - val_loss: 0.5308 - val_accuracy: 0.8768 - lr: 0.0010\n",
            "Epoch 24/25\n",
            "1719/1719 [==============================] - 13s 7ms/step - loss: 0.2555 - accuracy: 0.9210 - val_loss: 0.5729 - val_accuracy: 0.8778 - lr: 0.0010\n",
            "Epoch 25/25\n",
            "1719/1719 [==============================] - 13s 8ms/step - loss: 0.2500 - accuracy: 0.9214 - val_loss: 0.5543 - val_accuracy: 0.8750 - lr: 0.0010\n"
          ]
        }
      ]
    },
    {
      "cell_type": "code",
      "source": [
        "plt.plot(history.epoch, [piecewise_constant_fn(epoch) for epoch in history.epoch], \"o-\")\n",
        "plt.axis([0, n_epochs - 1, 0, 0.011])\n",
        "plt.xlabel(\"Epoch\")\n",
        "plt.ylabel(\"Learning Rate\")\n",
        "plt.title(\"Piecewise Constant Scheduling\", fontsize=14)\n",
        "plt.grid(True)\n",
        "plt.show()"
      ],
      "metadata": {
        "id": "ToacNETFZJio",
        "colab": {
          "base_uri": "https://localhost:8080/",
          "height": 303
        },
        "outputId": "9c5736ad-1781-4f7e-bc30-f72a2abdf222"
      },
      "execution_count": 78,
      "outputs": [
        {
          "output_type": "display_data",
          "data": {
            "text/plain": [
              "<Figure size 432x288 with 1 Axes>"
            ],
            "image/png": "[encoded data removed]"
          },
          "metadata": {
            "needs_background": "light"
          }
        }
      ]
    },
    {
      "cell_type": "code",
      "source": [
        "lr_scheduler = keras.callbacks.ReduceLROnPlateau(factor=0.5, patience=5)\n",
        "\n",
        "model = keras.models.Sequential([\n",
        "    keras.layers.Flatten(input_shape=[28, 28]),\n",
        "    keras.layers.Dense(300, activation=\"selu\", kernel_initializer=\"lecun_normal\"),\n",
        "    keras.layers.Dense(100, activation=\"selu\", kernel_initializer=\"lecun_normal\"),\n",
        "    keras.layers.Dense(10, activation=\"softmax\")\n",
        "])\n",
        "optimizer = keras.optimizers.SGD(learning_rate=0.02, momentum=0.9)\n",
        "model.compile(loss=\"sparse_categorical_crossentropy\", optimizer=optimizer, metrics=[\"accuracy\"])\n",
        "n_epochs = 25\n",
        "history = model.fit(X_train_scaled, y_train, epochs=n_epochs,\n",
        "                    validation_data=(X_valid_scaled, y_valid),\n",
        "                    callbacks=[lr_scheduler])"
      ],
      "metadata": {
        "colab": {
          "base_uri": "https://localhost:8080/"
        },
        "id": "4_HPCa80ZLVJ",
        "outputId": "00a4db47-8232-4c43-b6df-191d0e551578"
      },
      "execution_count": 79,
      "outputs": [
        {
          "output_type": "stream",
          "name": "stdout",
          "text": [
            "Epoch 1/25\n",
            "1719/1719 [==============================] - 8s 4ms/step - loss: 0.5847 - accuracy: 0.8063 - val_loss: 0.4836 - val_accuracy: 0.8554 - lr: 0.0200\n",
            "Epoch 2/25\n",
            "1719/1719 [==============================] - 7s 4ms/step - loss: 0.4845 - accuracy: 0.8426 - val_loss: 0.5464 - val_accuracy: 0.8384 - lr: 0.0200\n",
            "Epoch 3/25\n",
            "1719/1719 [==============================] - 7s 4ms/step - loss: 0.5061 - accuracy: 0.8433 - val_loss: 0.4986 - val_accuracy: 0.8588 - lr: 0.0200\n",
            "Epoch 4/25\n",
            "1719/1719 [==============================] - 7s 4ms/step - loss: 0.5076 - accuracy: 0.8465 - val_loss: 0.5224 - val_accuracy: 0.8294 - lr: 0.0200\n",
            "Epoch 5/25\n",
            "1719/1719 [==============================] - 7s 4ms/step - loss: 0.5189 - accuracy: 0.8471 - val_loss: 0.4931 - val_accuracy: 0.8520 - lr: 0.0200\n",
            "Epoch 6/25\n",
            "1719/1719 [==============================] - 7s 4ms/step - loss: 0.5049 - accuracy: 0.8533 - val_loss: 0.5794 - val_accuracy: 0.8496 - lr: 0.0200\n",
            "Epoch 7/25\n",
            "1719/1719 [==============================] - 7s 4ms/step - loss: 0.3021 - accuracy: 0.8935 - val_loss: 0.3891 - val_accuracy: 0.8760 - lr: 0.0100\n",
            "Epoch 8/25\n",
            "1719/1719 [==============================] - 7s 4ms/step - loss: 0.2536 - accuracy: 0.9072 - val_loss: 0.3884 - val_accuracy: 0.8760 - lr: 0.0100\n",
            "Epoch 9/25\n",
            "1719/1719 [==============================] - 7s 4ms/step - loss: 0.2331 - accuracy: 0.9138 - val_loss: 0.3863 - val_accuracy: 0.8892 - lr: 0.0100\n",
            "Epoch 10/25\n",
            "1719/1719 [==============================] - 7s 4ms/step - loss: 0.2161 - accuracy: 0.9196 - val_loss: 0.4154 - val_accuracy: 0.8842 - lr: 0.0100\n",
            "Epoch 11/25\n",
            "1719/1719 [==============================] - 7s 4ms/step - loss: 0.2076 - accuracy: 0.9230 - val_loss: 0.4273 - val_accuracy: 0.8870 - lr: 0.0100\n",
            "Epoch 12/25\n",
            "1719/1719 [==============================] - 7s 4ms/step - loss: 0.1936 - accuracy: 0.9269 - val_loss: 0.4930 - val_accuracy: 0.8664 - lr: 0.0100\n",
            "Epoch 13/25\n",
            "1719/1719 [==============================] - 7s 4ms/step - loss: 0.1860 - accuracy: 0.9315 - val_loss: 0.4735 - val_accuracy: 0.8892 - lr: 0.0100\n",
            "Epoch 14/25\n",
            "1719/1719 [==============================] - 7s 4ms/step - loss: 0.1801 - accuracy: 0.9321 - val_loss: 0.4938 - val_accuracy: 0.8752 - lr: 0.0100\n",
            "Epoch 15/25\n",
            "1719/1719 [==============================] - 7s 4ms/step - loss: 0.1200 - accuracy: 0.9535 - val_loss: 0.4409 - val_accuracy: 0.8924 - lr: 0.0050\n",
            "Epoch 16/25\n",
            "1719/1719 [==============================] - 7s 4ms/step - loss: 0.1039 - accuracy: 0.9592 - val_loss: 0.4502 - val_accuracy: 0.8960 - lr: 0.0050\n",
            "Epoch 17/25\n",
            "1719/1719 [==============================] - 8s 4ms/step - loss: 0.0967 - accuracy: 0.9631 - val_loss: 0.4747 - val_accuracy: 0.8924 - lr: 0.0050\n",
            "Epoch 18/25\n",
            "1719/1719 [==============================] - 9s 5ms/step - loss: 0.0876 - accuracy: 0.9657 - val_loss: 0.5028 - val_accuracy: 0.8916 - lr: 0.0050\n",
            "Epoch 19/25\n",
            "1719/1719 [==============================] - 7s 4ms/step - loss: 0.0831 - accuracy: 0.9687 - val_loss: 0.5166 - val_accuracy: 0.8944 - lr: 0.0050\n",
            "Epoch 20/25\n",
            "1719/1719 [==============================] - 7s 4ms/step - loss: 0.0618 - accuracy: 0.9780 - val_loss: 0.5178 - val_accuracy: 0.8936 - lr: 0.0025\n",
            "Epoch 21/25\n",
            "1719/1719 [==============================] - 7s 4ms/step - loss: 0.0552 - accuracy: 0.9803 - val_loss: 0.5328 - val_accuracy: 0.8956 - lr: 0.0025\n",
            "Epoch 22/25\n",
            "1719/1719 [==============================] - 7s 4ms/step - loss: 0.0515 - accuracy: 0.9826 - val_loss: 0.5475 - val_accuracy: 0.8972 - lr: 0.0025\n",
            "Epoch 23/25\n",
            "1719/1719 [==============================] - 7s 4ms/step - loss: 0.0486 - accuracy: 0.9832 - val_loss: 0.5527 - val_accuracy: 0.8960 - lr: 0.0025\n",
            "Epoch 24/25\n",
            "1719/1719 [==============================] - 7s 4ms/step - loss: 0.0452 - accuracy: 0.9849 - val_loss: 0.5799 - val_accuracy: 0.8916 - lr: 0.0025\n",
            "Epoch 25/25\n",
            "1719/1719 [==============================] - 7s 4ms/step - loss: 0.0379 - accuracy: 0.9885 - val_loss: 0.5787 - val_accuracy: 0.8948 - lr: 0.0012\n"
          ]
        }
      ]
    },
    {
      "cell_type": "code",
      "source": [
        "plt.plot(history.epoch, history.history[\"lr\"], \"bo-\")\n",
        "plt.xlabel(\"Epoch\")\n",
        "plt.ylabel(\"Learning Rate\", color='b')\n",
        "plt.tick_params('y', colors='b')\n",
        "plt.gca().set_xlim(0, n_epochs - 1)\n",
        "plt.grid(True)\n",
        "\n",
        "ax2 = plt.gca().twinx()\n",
        "ax2.plot(history.epoch, history.history[\"val_loss\"], \"r^-\")\n",
        "ax2.set_ylabel('Validation Loss', color='r')\n",
        "ax2.tick_params('y', colors='r')\n",
        "\n",
        "plt.title(\"Reduce LR on Plateau\", fontsize=14)\n",
        "plt.show()"
      ],
      "metadata": {
        "id": "aKYtRLd1ZM0g",
        "colab": {
          "base_uri": "https://localhost:8080/",
          "height": 303
        },
        "outputId": "f0f5da59-25bc-4372-fcf9-eb18b4032290"
      },
      "execution_count": 80,
      "outputs": [
        {
          "output_type": "display_data",
          "data": {
            "text/plain": [
              "<Figure size 432x288 with 2 Axes>"
            ],
            "image/png": "[encoded data removed]"
          },
          "metadata": {
            "needs_background": "light"
          }
        }
      ]
    },
    {
      "cell_type": "code",
      "source": [
        "model = keras.models.Sequential([\n",
        "    keras.layers.Flatten(input_shape=[28, 28]),\n",
        "    keras.layers.Dense(300, activation=\"selu\", kernel_initializer=\"lecun_normal\"),\n",
        "    keras.layers.Dense(100, activation=\"selu\", kernel_initializer=\"lecun_normal\"),\n",
        "    keras.layers.Dense(10, activation=\"softmax\")\n",
        "])\n",
        "s = 20 * len(X_train) // 32 # number of steps in 20 epochs (batch size = 32)\n",
        "learning_rate = keras.optimizers.schedules.ExponentialDecay(0.01, s, 0.1)\n",
        "optimizer = keras.optimizers.SGD(learning_rate)\n",
        "model.compile(loss=\"sparse_categorical_crossentropy\", optimizer=optimizer, metrics=[\"accuracy\"])\n",
        "n_epochs = 25\n",
        "history = model.fit(X_train_scaled, y_train, epochs=n_epochs,\n",
        "                    validation_data=(X_valid_scaled, y_valid))"
      ],
      "metadata": {
        "id": "oXCl3TNRZQg4",
        "colab": {
          "base_uri": "https://localhost:8080/"
        },
        "outputId": "31215b04-438d-4541-c770-af7129a0c8ec"
      },
      "execution_count": 81,
      "outputs": [
        {
          "output_type": "stream",
          "name": "stdout",
          "text": [
            "Epoch 1/25\n",
            "1719/1719 [==============================] - 8s 5ms/step - loss: 0.4880 - accuracy: 0.8290 - val_loss: 0.4023 - val_accuracy: 0.8598\n",
            "Epoch 2/25\n",
            "1719/1719 [==============================] - 6s 4ms/step - loss: 0.3799 - accuracy: 0.8660 - val_loss: 0.3697 - val_accuracy: 0.8686\n",
            "Epoch 3/25\n",
            "1719/1719 [==============================] - 6s 4ms/step - loss: 0.3459 - accuracy: 0.8770 - val_loss: 0.3684 - val_accuracy: 0.8686\n",
            "Epoch 4/25\n",
            "1719/1719 [==============================] - 7s 4ms/step - loss: 0.3239 - accuracy: 0.8847 - val_loss: 0.3463 - val_accuracy: 0.8750\n",
            "Epoch 5/25\n",
            "1719/1719 [==============================] - 7s 4ms/step - loss: 0.3079 - accuracy: 0.8903 - val_loss: 0.3412 - val_accuracy: 0.8754\n",
            "Epoch 6/25\n",
            "1719/1719 [==============================] - 7s 4ms/step - loss: 0.2936 - accuracy: 0.8950 - val_loss: 0.3390 - val_accuracy: 0.8780\n",
            "Epoch 7/25\n",
            "1719/1719 [==============================] - 6s 4ms/step - loss: 0.2831 - accuracy: 0.8999 - val_loss: 0.3333 - val_accuracy: 0.8822\n",
            "Epoch 8/25\n",
            "1719/1719 [==============================] - 7s 4ms/step - loss: 0.2739 - accuracy: 0.9029 - val_loss: 0.3352 - val_accuracy: 0.8808\n",
            "Epoch 9/25\n",
            "1719/1719 [==============================] - 7s 4ms/step - loss: 0.2657 - accuracy: 0.9052 - val_loss: 0.3258 - val_accuracy: 0.8822\n",
            "Epoch 10/25\n",
            "1719/1719 [==============================] - 7s 4ms/step - loss: 0.2588 - accuracy: 0.9084 - val_loss: 0.3253 - val_accuracy: 0.8832\n",
            "Epoch 11/25\n",
            "1719/1719 [==============================] - 7s 4ms/step - loss: 0.2534 - accuracy: 0.9087 - val_loss: 0.3239 - val_accuracy: 0.8846\n",
            "Epoch 12/25\n",
            "1719/1719 [==============================] - 8s 5ms/step - loss: 0.2481 - accuracy: 0.9121 - val_loss: 0.3317 - val_accuracy: 0.8804\n",
            "Epoch 13/25\n",
            "1719/1719 [==============================] - 7s 4ms/step - loss: 0.2435 - accuracy: 0.9141 - val_loss: 0.3229 - val_accuracy: 0.8866\n",
            "Epoch 14/25\n",
            "1719/1719 [==============================] - 7s 4ms/step - loss: 0.2401 - accuracy: 0.9155 - val_loss: 0.3233 - val_accuracy: 0.8872\n",
            "Epoch 15/25\n",
            "1719/1719 [==============================] - 7s 4ms/step - loss: 0.2363 - accuracy: 0.9167 - val_loss: 0.3216 - val_accuracy: 0.8856\n",
            "Epoch 16/25\n",
            "1719/1719 [==============================] - 6s 4ms/step - loss: 0.2331 - accuracy: 0.9184 - val_loss: 0.3206 - val_accuracy: 0.8882\n",
            "Epoch 17/25\n",
            "1719/1719 [==============================] - 6s 4ms/step - loss: 0.2305 - accuracy: 0.9188 - val_loss: 0.3213 - val_accuracy: 0.8858\n",
            "Epoch 18/25\n",
            "1719/1719 [==============================] - 6s 4ms/step - loss: 0.2279 - accuracy: 0.9203 - val_loss: 0.3188 - val_accuracy: 0.8874\n",
            "Epoch 19/25\n",
            "1719/1719 [==============================] - 6s 4ms/step - loss: 0.2259 - accuracy: 0.9209 - val_loss: 0.3213 - val_accuracy: 0.8876\n",
            "Epoch 20/25\n",
            "1719/1719 [==============================] - 6s 4ms/step - loss: 0.2239 - accuracy: 0.9221 - val_loss: 0.3190 - val_accuracy: 0.8850\n",
            "Epoch 21/25\n",
            "1719/1719 [==============================] - 6s 4ms/step - loss: 0.2220 - accuracy: 0.9230 - val_loss: 0.3202 - val_accuracy: 0.8876\n",
            "Epoch 22/25\n",
            "1719/1719 [==============================] - 6s 4ms/step - loss: 0.2206 - accuracy: 0.9233 - val_loss: 0.3185 - val_accuracy: 0.8872\n",
            "Epoch 23/25\n",
            "1719/1719 [==============================] - 6s 4ms/step - loss: 0.2192 - accuracy: 0.9236 - val_loss: 0.3191 - val_accuracy: 0.8870\n",
            "Epoch 24/25\n",
            "1719/1719 [==============================] - 7s 4ms/step - loss: 0.2180 - accuracy: 0.9243 - val_loss: 0.3193 - val_accuracy: 0.8870\n",
            "Epoch 25/25\n",
            "1719/1719 [==============================] - 6s 4ms/step - loss: 0.2171 - accuracy: 0.9248 - val_loss: 0.3190 - val_accuracy: 0.8882\n"
          ]
        }
      ]
    },
    {
      "cell_type": "code",
      "source": [
        "learning_rate = keras.optimizers.schedules.PiecewiseConstantDecay(\n",
        "    boundaries=[5. * n_steps_per_epoch, 15. * n_steps_per_epoch],\n",
        "    values=[0.01, 0.005, 0.001])"
      ],
      "metadata": {
        "id": "MGabhTO1ZSGQ"
      },
      "execution_count": 82,
      "outputs": []
    },
    {
      "cell_type": "code",
      "source": [
        "K = keras.backend\n",
        "\n",
        "class ExponentialLearningRate(keras.callbacks.Callback):\n",
        "    def __init__(self, factor):\n",
        "        self.factor = factor\n",
        "        self.rates = []\n",
        "        self.losses = []\n",
        "    def on_epoch_begin(self, epoch, logs=None):\n",
        "        self.prev_loss = 0\n",
        "    def on_batch_end(self, batch, logs):\n",
        "        batch_loss = logs[\"loss\"] * (batch + 1) - self.prev_loss * batch\n",
        "        self.prev_loss = logs[\"loss\"]\n",
        "        self.rates.append(K.get_value(self.model.optimizer.lr))\n",
        "        self.losses.append(batch_loss)\n",
        "        K.set_value(self.model.optimizer.lr, self.model.optimizer.lr * self.factor)\n",
        "\n",
        "def find_learning_rate(model, X, y, epochs=1, batch_size=32, min_rate=10**-5, max_rate=10):\n",
        "    init_weights = model.get_weights()\n",
        "    iterations = math.ceil(len(X) / batch_size) * epochs\n",
        "    factor = np.exp(np.log(max_rate / min_rate) / iterations)\n",
        "    init_lr = K.get_value(model.optimizer.lr)\n",
        "    K.set_value(model.optimizer.lr, min_rate)\n",
        "    exp_lr = ExponentialLearningRate(factor)\n",
        "    history = model.fit(X, y, epochs=epochs, batch_size=batch_size,\n",
        "                        callbacks=[exp_lr])\n",
        "    K.set_value(model.optimizer.lr, init_lr)\n",
        "    model.set_weights(init_weights)\n",
        "    return exp_lr.rates, exp_lr.losses\n",
        "\n",
        "def plot_lr_vs_loss(rates, losses):\n",
        "    plt.plot(rates, losses)\n",
        "    plt.gca().set_xscale('log')\n",
        "    plt.hlines(min(losses), min(rates), max(rates))\n",
        "    plt.axis([min(rates), max(rates), min(losses), (losses[0] + min(losses)) / 2])\n",
        "    plt.xlabel(\"Learning rate\")\n",
        "    plt.ylabel(\"Loss\")"
      ],
      "metadata": {
        "id": "9VCFkxXDZT54"
      },
      "execution_count": 83,
      "outputs": []
    },
    {
      "cell_type": "code",
      "source": [
        "model = keras.models.Sequential([\n",
        "    keras.layers.Flatten(input_shape=[28, 28]),\n",
        "    keras.layers.Dense(300, activation=\"selu\", kernel_initializer=\"lecun_normal\"),\n",
        "    keras.layers.Dense(100, activation=\"selu\", kernel_initializer=\"lecun_normal\"),\n",
        "    keras.layers.Dense(10, activation=\"softmax\")\n",
        "])\n",
        "model.compile(loss=\"sparse_categorical_crossentropy\",\n",
        "              optimizer=keras.optimizers.SGD(learning_rate=1e-3),\n",
        "              metrics=[\"accuracy\"])"
      ],
      "metadata": {
        "id": "omtUibPkZVbj"
      },
      "execution_count": 84,
      "outputs": []
    },
    {
      "cell_type": "code",
      "source": [
        "batch_size = 128\n",
        "rates, losses = find_learning_rate(model, X_train_scaled, y_train, epochs=1, batch_size=batch_size)\n",
        "plot_lr_vs_loss(rates, losses)"
      ],
      "metadata": {
        "colab": {
          "base_uri": "https://localhost:8080/",
          "height": 327
        },
        "id": "DB5w1xywaAXR",
        "outputId": "9e27584c-c574-4522-fb41-89333172517e"
      },
      "execution_count": 85,
      "outputs": [
        {
          "output_type": "stream",
          "name": "stdout",
          "text": [
            "430/430 [==============================] - 4s 8ms/step - loss: nan - accuracy: 0.3871\n"
          ]
        },
        {
          "output_type": "display_data",
          "data": {
            "text/plain": [
              "<Figure size 432x288 with 1 Axes>"
            ],
            "image/png": "[encoded data removed]"
          },
          "metadata": {
            "needs_background": "light"
          }
        }
      ]
    },
    {
      "cell_type": "code",
      "source": [
        "class OneCycleScheduler(keras.callbacks.Callback):\n",
        "    def __init__(self, iterations, max_rate, start_rate=None,\n",
        "                 last_iterations=None, last_rate=None):\n",
        "        self.iterations = iterations\n",
        "        self.max_rate = max_rate\n",
        "        self.start_rate = start_rate or max_rate / 10\n",
        "        self.last_iterations = last_iterations or iterations // 10 + 1\n",
        "        self.half_iteration = (iterations - self.last_iterations) // 2\n",
        "        self.last_rate = last_rate or self.start_rate / 1000\n",
        "        self.iteration = 0\n",
        "    def _interpolate(self, iter1, iter2, rate1, rate2):\n",
        "        return ((rate2 - rate1) * (self.iteration - iter1)\n",
        "                / (iter2 - iter1) + rate1)\n",
        "    def on_batch_begin(self, batch, logs):\n",
        "        if self.iteration < self.half_iteration:\n",
        "            rate = self._interpolate(0, self.half_iteration, self.start_rate, self.max_rate)\n",
        "        elif self.iteration < 2 * self.half_iteration:\n",
        "            rate = self._interpolate(self.half_iteration, 2 * self.half_iteration,\n",
        "                                     self.max_rate, self.start_rate)\n",
        "        else:\n",
        "            rate = self._interpolate(2 * self.half_iteration, self.iterations,\n",
        "                                     self.start_rate, self.last_rate)\n",
        "        self.iteration += 1\n",
        "        K.set_value(self.model.optimizer.lr, rate)"
      ],
      "metadata": {
        "id": "PbBwIjGNaBap"
      },
      "execution_count": 86,
      "outputs": []
    },
    {
      "cell_type": "code",
      "source": [
        "n_epochs = 25\n",
        "onecycle = OneCycleScheduler(math.ceil(len(X_train) / batch_size) * n_epochs, max_rate=0.05)\n",
        "history = model.fit(X_train_scaled, y_train, epochs=n_epochs, batch_size=batch_size,\n",
        "                    validation_data=(X_valid_scaled, y_valid),\n",
        "                    callbacks=[onecycle])"
      ],
      "metadata": {
        "colab": {
          "base_uri": "https://localhost:8080/"
        },
        "id": "5NJTLx3ZaC35",
        "outputId": "4c732ec9-9acb-4f7b-83e0-226e5bbe6fd7"
      },
      "execution_count": 87,
      "outputs": [
        {
          "output_type": "stream",
          "name": "stdout",
          "text": [
            "Epoch 1/25\n",
            "430/430 [==============================] - 4s 8ms/step - loss: 0.6504 - accuracy: 0.7764 - val_loss: 0.4928 - val_accuracy: 0.8370\n",
            "Epoch 2/25\n",
            "430/430 [==============================] - 3s 8ms/step - loss: 0.4573 - accuracy: 0.8409 - val_loss: 0.4324 - val_accuracy: 0.8538\n",
            "Epoch 3/25\n",
            "430/430 [==============================] - 6s 13ms/step - loss: 0.4113 - accuracy: 0.8562 - val_loss: 0.4119 - val_accuracy: 0.8588\n",
            "Epoch 4/25\n",
            "430/430 [==============================] - 3s 8ms/step - loss: 0.3822 - accuracy: 0.8651 - val_loss: 0.3838 - val_accuracy: 0.8650\n",
            "Epoch 5/25\n",
            "430/430 [==============================] - 3s 7ms/step - loss: 0.3625 - accuracy: 0.8725 - val_loss: 0.3744 - val_accuracy: 0.8638\n",
            "Epoch 6/25\n",
            "430/430 [==============================] - 3s 8ms/step - loss: 0.3440 - accuracy: 0.8785 - val_loss: 0.3703 - val_accuracy: 0.8754\n",
            "Epoch 7/25\n",
            "430/430 [==============================] - 3s 8ms/step - loss: 0.3311 - accuracy: 0.8813 - val_loss: 0.3593 - val_accuracy: 0.8778\n",
            "Epoch 8/25\n",
            "430/430 [==============================] - 3s 8ms/step - loss: 0.3162 - accuracy: 0.8869 - val_loss: 0.3972 - val_accuracy: 0.8588\n",
            "Epoch 9/25\n",
            "430/430 [==============================] - 3s 8ms/step - loss: 0.3053 - accuracy: 0.8896 - val_loss: 0.3534 - val_accuracy: 0.8750\n",
            "Epoch 10/25\n",
            "430/430 [==============================] - 3s 8ms/step - loss: 0.2941 - accuracy: 0.8935 - val_loss: 0.3419 - val_accuracy: 0.8792\n",
            "Epoch 11/25\n",
            "430/430 [==============================] - 4s 8ms/step - loss: 0.2831 - accuracy: 0.8966 - val_loss: 0.3466 - val_accuracy: 0.8798\n",
            "Epoch 12/25\n",
            "430/430 [==============================] - 4s 9ms/step - loss: 0.2701 - accuracy: 0.9035 - val_loss: 0.3731 - val_accuracy: 0.8666\n",
            "Epoch 13/25\n",
            "430/430 [==============================] - 3s 8ms/step - loss: 0.2535 - accuracy: 0.9079 - val_loss: 0.3327 - val_accuracy: 0.8874\n",
            "Epoch 14/25\n",
            "430/430 [==============================] - 3s 8ms/step - loss: 0.2396 - accuracy: 0.9121 - val_loss: 0.3400 - val_accuracy: 0.8824\n",
            "Epoch 15/25\n",
            "430/430 [==============================] - 3s 8ms/step - loss: 0.2274 - accuracy: 0.9180 - val_loss: 0.3299 - val_accuracy: 0.8846\n",
            "Epoch 16/25\n",
            "430/430 [==============================] - 3s 8ms/step - loss: 0.2157 - accuracy: 0.9227 - val_loss: 0.3280 - val_accuracy: 0.8848\n",
            "Epoch 17/25\n",
            "430/430 [==============================] - 3s 8ms/step - loss: 0.2057 - accuracy: 0.9261 - val_loss: 0.3355 - val_accuracy: 0.8860\n",
            "Epoch 18/25\n",
            "430/430 [==============================] - 3s 8ms/step - loss: 0.1972 - accuracy: 0.9301 - val_loss: 0.3224 - val_accuracy: 0.8906\n",
            "Epoch 19/25\n",
            "430/430 [==============================] - 3s 8ms/step - loss: 0.1885 - accuracy: 0.9338 - val_loss: 0.3244 - val_accuracy: 0.8862\n",
            "Epoch 20/25\n",
            "430/430 [==============================] - 3s 8ms/step - loss: 0.1817 - accuracy: 0.9379 - val_loss: 0.3196 - val_accuracy: 0.8894\n",
            "Epoch 21/25\n",
            "430/430 [==============================] - 3s 8ms/step - loss: 0.1745 - accuracy: 0.9394 - val_loss: 0.3204 - val_accuracy: 0.8900\n",
            "Epoch 22/25\n",
            "430/430 [==============================] - 3s 8ms/step - loss: 0.1694 - accuracy: 0.9428 - val_loss: 0.3166 - val_accuracy: 0.8904\n",
            "Epoch 23/25\n",
            "430/430 [==============================] - 3s 8ms/step - loss: 0.1647 - accuracy: 0.9445 - val_loss: 0.3178 - val_accuracy: 0.8898\n",
            "Epoch 24/25\n",
            "430/430 [==============================] - 3s 8ms/step - loss: 0.1618 - accuracy: 0.9459 - val_loss: 0.3172 - val_accuracy: 0.8910\n",
            "Epoch 25/25\n",
            "430/430 [==============================] - 3s 8ms/step - loss: 0.1601 - accuracy: 0.9465 - val_loss: 0.3160 - val_accuracy: 0.8918\n"
          ]
        }
      ]
    },
    {
      "cell_type": "code",
      "source": [
        "rates, losses = find_learning_rate(model, X_train_scaled, y_train, epochs=1, batch_size=batch_size)\n",
        "plot_lr_vs_loss(rates, losses)"
      ],
      "metadata": {
        "id": "q2lgrTpolLJF",
        "colab": {
          "base_uri": "https://localhost:8080/",
          "height": 328
        },
        "outputId": "8d874037-f4c7-4aa2-b820-e7030f1fd0ef"
      },
      "execution_count": 88,
      "outputs": [
        {
          "output_type": "stream",
          "name": "stdout",
          "text": [
            "430/430 [==============================] - 3s 8ms/step - loss: nan - accuracy: 0.7190\n"
          ]
        },
        {
          "output_type": "display_data",
          "data": {
            "text/plain": [
              "<Figure size 432x288 with 1 Axes>"
            ],
            "image/png": "[encoded data removed]"
          },
          "metadata": {
            "needs_background": "light"
          }
        }
      ]
    },
    {
      "cell_type": "code",
      "source": [
        "layer = keras.layers.Dense(100, activation=\"elu\",\n",
        "                           kernel_initializer=\"he_normal\",\n",
        "                           kernel_regularizer=keras.regularizers.l2(0.01))\n",
        "# or l1(0.1) for l1 regularization with a factor of 0.1\n",
        "# or l1_l2(0.1, 0.01) for both l1 and l2 regularization, with factors 0.1 and 0.01 respectively"
      ],
      "metadata": {
        "id": "lnthi4E1xnxd"
      },
      "execution_count": 89,
      "outputs": []
    },
    {
      "cell_type": "code",
      "source": [
        "model = keras.models.Sequential([\n",
        "    keras.layers.Flatten(input_shape=[28, 28]),\n",
        "    keras.layers.Dense(300, activation=\"elu\",\n",
        "                       kernel_initializer=\"he_normal\",\n",
        "                       kernel_regularizer=keras.regularizers.l2(0.01)),\n",
        "    keras.layers.Dense(100, activation=\"elu\",\n",
        "                       kernel_initializer=\"he_normal\",\n",
        "                       kernel_regularizer=keras.regularizers.l2(0.01)),\n",
        "    keras.layers.Dense(10, activation=\"softmax\",\n",
        "                       kernel_regularizer=keras.regularizers.l2(0.01))\n",
        "])\n",
        "\n",
        "model.compile(loss=\"sparse_categorical_crossentropy\", optimizer=\"nadam\", metrics=[\"accuracy\"])\n",
        "n_epochs = 2\n",
        "history = model.fit(X_train_scaled, y_train, epochs=n_epochs,\n",
        "                    validation_data=(X_valid_scaled, y_valid))"
      ],
      "metadata": {
        "colab": {
          "base_uri": "https://localhost:8080/"
        },
        "id": "AsN45AkUzM0X",
        "outputId": "58fb8a6b-accb-4547-f39b-afe0ef563513"
      },
      "execution_count": null,
      "outputs": [
        {
          "output_type": "stream",
          "name": "stdout",
          "text": [
            "Epoch 1/2\n",
            "1719/1719 [==============================] - 16s 8ms/step - loss: 1.6021 - accuracy: 0.8126 - val_loss: 0.7170 - val_accuracy: 0.8316\n",
            "Epoch 2/2\n",
            "1719/1719 [==============================] - 14s 8ms/step - loss: 0.7181 - accuracy: 0.8284 - val_loss: 0.6841 - val_accuracy: 0.8402\n"
          ]
        }
      ]
    },
    {
      "cell_type": "code",
      "source": [
        "from functools import partial\n",
        "\n",
        "RegularizedDense = partial(keras.layers.Dense,\n",
        "                           activation=\"elu\",\n",
        "                           kernel_initializer=\"he_normal\",\n",
        "                           kernel_regularizer=keras.regularizers.l2(0.01))\n",
        "\n",
        "model = keras.models.Sequential([\n",
        "    keras.layers.Flatten(input_shape=[28, 28]),\n",
        "    RegularizedDense(300),\n",
        "    RegularizedDense(100),\n",
        "    RegularizedDense(10, activation=\"softmax\")\n",
        "])\n",
        "\n",
        "model.compile(loss=\"sparse_categorical_crossentropy\", optimizer=\"nadam\", metrics=[\"accuracy\"])\n",
        "n_epochs = 2\n",
        "history = model.fit(X_train_scaled, y_train, epochs=n_epochs,\n",
        "                    validation_data=(X_valid_scaled, y_valid))"
      ],
      "metadata": {
        "colab": {
          "base_uri": "https://localhost:8080/"
        },
        "id": "h3McTSni0Clx",
        "outputId": "faf8e370-8b1b-4905-cf63-e4e34d5d6c62"
      },
      "execution_count": 91,
      "outputs": [
        {
          "metadata": {
            "tags": null
          },
          "name": "stdout",
          "output_type": "stream",
          "text": [
            "Epoch 1/2\n",
            "1719/1719 [==============================] - 17s 10ms/step - loss: 1.6624 - accuracy: 0.8110 - val_loss: 0.7198 - val_accuracy: 0.8294\n",
            "Epoch 2/2\n",
            "1719/1719 [==============================] - 14s 8ms/step - loss: 0.7200 - accuracy: 0.8268 - val_loss: 0.6862 - val_accuracy: 0.8360\n"
          ]
        }
      ]
    },
    {
      "cell_type": "code",
      "source": [
        "model = keras.models.Sequential([\n",
        "    keras.layers.Flatten(input_shape=[28, 28]),\n",
        "    keras.layers.Dropout(rate=0.2),\n",
        "    keras.layers.Dense(300, activation=\"elu\", kernel_initializer=\"he_normal\"),\n",
        "    keras.layers.Dropout(rate=0.2),\n",
        "    keras.layers.Dense(100, activation=\"elu\", kernel_initializer=\"he_normal\"),\n",
        "    keras.layers.Dropout(rate=0.2),\n",
        "    keras.layers.Dense(10, activation=\"softmax\")\n",
        "])\n",
        "model.compile(loss=\"sparse_categorical_crossentropy\", optimizer=\"nadam\", metrics=[\"accuracy\"])\n",
        "n_epochs = 2\n",
        "history = model.fit(X_train_scaled, y_train, epochs=n_epochs,\n",
        "                    validation_data=(X_valid_scaled, y_valid))"
      ],
      "metadata": {
        "colab": {
          "base_uri": "https://localhost:8080/"
        },
        "id": "-3utUaAB0ndx",
        "outputId": "17a947bc-318d-438f-fbde-a331e50bba8f"
      },
      "execution_count": 92,
      "outputs": [
        {
          "output_type": "stream",
          "name": "stdout",
          "text": [
            "Epoch 1/2\n",
            "1719/1719 [==============================] - 15s 8ms/step - loss: 0.5649 - accuracy: 0.8060 - val_loss: 0.3732 - val_accuracy: 0.8704\n",
            "Epoch 2/2\n",
            "1719/1719 [==============================] - 14s 8ms/step - loss: 0.4208 - accuracy: 0.8458 - val_loss: 0.3524 - val_accuracy: 0.8702\n"
          ]
        }
      ]
    },
    {
      "cell_type": "code",
      "source": [
        "model = keras.models.Sequential([\n",
        "    keras.layers.Flatten(input_shape=[28, 28]),\n",
        "    keras.layers.AlphaDropout(rate=0.2),\n",
        "    keras.layers.Dense(300, activation=\"selu\", kernel_initializer=\"lecun_normal\"),\n",
        "    keras.layers.AlphaDropout(rate=0.2),\n",
        "    keras.layers.Dense(100, activation=\"selu\", kernel_initializer=\"lecun_normal\"),\n",
        "    keras.layers.AlphaDropout(rate=0.2),\n",
        "    keras.layers.Dense(10, activation=\"softmax\")\n",
        "])\n",
        "optimizer = keras.optimizers.SGD(learning_rate=0.01, momentum=0.9, nesterov=True)\n",
        "model.compile(loss=\"sparse_categorical_crossentropy\", optimizer=optimizer, metrics=[\"accuracy\"])\n",
        "n_epochs = 20\n",
        "history = model.fit(X_train_scaled, y_train, epochs=n_epochs,\n",
        "                    validation_data=(X_valid_scaled, y_valid))"
      ],
      "metadata": {
        "id": "HS12CB3v2MPd"
      },
      "execution_count": null,
      "outputs": []
    },
    {
      "cell_type": "code",
      "source": [
        "model.evaluate(X_test_scaled, y_test)\n",
        "model.evaluate(X_train_scaled, y_train)\n",
        "history = model.fit(X_train_scaled, y_train)"
      ],
      "metadata": {
        "colab": {
          "base_uri": "https://localhost:8080/"
        },
        "id": "lOt9m2qV3YW8",
        "outputId": "09b632d2-fe46-4e27-b793-0bc158ddee93"
      },
      "execution_count": 94,
      "outputs": [
        {
          "output_type": "stream",
          "name": "stdout",
          "text": [
            "313/313 [==============================] - 1s 2ms/step - loss: 0.4620 - accuracy: 0.8594\n",
            "1719/1719 [==============================] - 6s 3ms/step - loss: 0.3411 - accuracy: 0.8845\n",
            "1719/1719 [==============================] - 8s 5ms/step - loss: 0.4167 - accuracy: 0.8450\n"
          ]
        }
      ]
    },
    {
      "cell_type": "code",
      "source": [
        "y_probas = np.stack([model(X_test_scaled, training=True)\n",
        "                     for sample in range(100)])\n",
        "y_proba = y_probas.mean(axis=0)\n",
        "y_std = y_probas.std(axis=0)"
      ],
      "metadata": {
        "id": "WGa7zJFq3b1e"
      },
      "execution_count": null,
      "outputs": []
    },
    {
      "cell_type": "code",
      "source": [
        "np.round(model.predict(X_test_scaled[:1]), 2)"
      ],
      "metadata": {
        "id": "jQJ26q5-3e64"
      },
      "execution_count": null,
      "outputs": []
    },
    {
      "cell_type": "code",
      "source": [
        "np.round(y_probas[:, :1], 2)"
      ],
      "metadata": {
        "colab": {
          "base_uri": "https://localhost:8080/"
        },
        "id": "HZGoztvP3f8Z",
        "outputId": "71fc5892-6272-45ec-f34f-233d3d76407a"
      },
      "execution_count": 97,
      "outputs": [
        {
          "output_type": "execute_result",
          "data": {
            "text/plain": [
              "array([[[0.  , 0.  , 0.  , 0.  , 0.  , 0.11, 0.  , 0.7 , 0.  , 0.19]],\n",
              "\n",
              "       [[0.  , 0.  , 0.  , 0.  , 0.  , 0.67, 0.  , 0.24, 0.  , 0.09]],\n",
              "\n",
              "       [[0.  , 0.  , 0.  , 0.  , 0.  , 0.03, 0.  , 0.13, 0.  , 0.84]],\n",
              "\n",
              "       [[0.  , 0.  , 0.  , 0.  , 0.  , 0.09, 0.  , 0.29, 0.  , 0.62]],\n",
              "\n",
              "       [[0.  , 0.  , 0.  , 0.  , 0.  , 0.01, 0.  , 0.15, 0.  , 0.84]],\n",
              "\n",
              "       [[0.  , 0.  , 0.  , 0.  , 0.  , 0.01, 0.  , 0.38, 0.  , 0.61]],\n",
              "\n",
              "       [[0.  , 0.  , 0.  , 0.  , 0.  , 0.1 , 0.  , 0.59, 0.  , 0.31]],\n",
              "\n",
              "       [[0.  , 0.  , 0.  , 0.  , 0.  , 0.23, 0.  , 0.21, 0.  , 0.56]],\n",
              "\n",
              "       [[0.  , 0.  , 0.  , 0.  , 0.  , 0.08, 0.  , 0.65, 0.  , 0.26]],\n",
              "\n",
              "       [[0.  , 0.  , 0.  , 0.  , 0.  , 0.05, 0.  , 0.5 , 0.  , 0.45]],\n",
              "\n",
              "       [[0.  , 0.  , 0.  , 0.  , 0.  , 0.02, 0.  , 0.05, 0.  , 0.93]],\n",
              "\n",
              "       [[0.  , 0.  , 0.  , 0.  , 0.  , 0.22, 0.  , 0.42, 0.  , 0.35]],\n",
              "\n",
              "       [[0.  , 0.  , 0.  , 0.  , 0.  , 0.2 , 0.  , 0.16, 0.  , 0.64]],\n",
              "\n",
              "       [[0.  , 0.  , 0.  , 0.  , 0.  , 0.09, 0.  , 0.12, 0.  , 0.79]],\n",
              "\n",
              "       [[0.  , 0.  , 0.  , 0.  , 0.  , 0.16, 0.  , 0.  , 0.  , 0.83]],\n",
              "\n",
              "       [[0.  , 0.  , 0.  , 0.  , 0.  , 0.  , 0.  , 0.02, 0.  , 0.98]],\n",
              "\n",
              "       [[0.  , 0.  , 0.  , 0.  , 0.  , 0.17, 0.  , 0.76, 0.  , 0.06]],\n",
              "\n",
              "       [[0.  , 0.  , 0.  , 0.  , 0.  , 0.02, 0.  , 0.1 , 0.  , 0.88]],\n",
              "\n",
              "       [[0.  , 0.  , 0.  , 0.  , 0.  , 0.05, 0.  , 0.02, 0.  , 0.93]],\n",
              "\n",
              "       [[0.  , 0.  , 0.  , 0.  , 0.  , 0.01, 0.  , 0.28, 0.  , 0.71]],\n",
              "\n",
              "       [[0.  , 0.  , 0.  , 0.  , 0.  , 0.3 , 0.  , 0.63, 0.  , 0.07]],\n",
              "\n",
              "       [[0.  , 0.  , 0.  , 0.  , 0.  , 0.01, 0.  , 0.73, 0.  , 0.27]],\n",
              "\n",
              "       [[0.  , 0.  , 0.  , 0.  , 0.  , 0.22, 0.  , 0.38, 0.  , 0.4 ]],\n",
              "\n",
              "       [[0.  , 0.  , 0.  , 0.  , 0.  , 0.86, 0.  , 0.05, 0.  , 0.09]],\n",
              "\n",
              "       [[0.  , 0.  , 0.  , 0.  , 0.  , 0.29, 0.  , 0.26, 0.  , 0.45]],\n",
              "\n",
              "       [[0.  , 0.  , 0.  , 0.  , 0.  , 0.01, 0.  , 0.08, 0.  , 0.9 ]],\n",
              "\n",
              "       [[0.  , 0.  , 0.  , 0.  , 0.  , 0.02, 0.  , 0.02, 0.  , 0.96]],\n",
              "\n",
              "       [[0.  , 0.  , 0.  , 0.  , 0.  , 0.28, 0.  , 0.37, 0.  , 0.35]],\n",
              "\n",
              "       [[0.  , 0.  , 0.  , 0.  , 0.  , 0.51, 0.  , 0.  , 0.  , 0.48]],\n",
              "\n",
              "       [[0.  , 0.  , 0.  , 0.  , 0.  , 0.1 , 0.  , 0.44, 0.  , 0.46]],\n",
              "\n",
              "       [[0.  , 0.  , 0.  , 0.  , 0.  , 0.24, 0.  , 0.11, 0.  , 0.65]],\n",
              "\n",
              "       [[0.  , 0.  , 0.  , 0.  , 0.  , 0.09, 0.  , 0.02, 0.  , 0.89]],\n",
              "\n",
              "       [[0.  , 0.  , 0.  , 0.  , 0.  , 0.09, 0.  , 0.5 , 0.  , 0.41]],\n",
              "\n",
              "       [[0.  , 0.  , 0.  , 0.  , 0.  , 0.13, 0.  , 0.74, 0.  , 0.13]],\n",
              "\n",
              "       [[0.  , 0.  , 0.  , 0.  , 0.  , 0.02, 0.  , 0.04, 0.  , 0.94]],\n",
              "\n",
              "       [[0.  , 0.  , 0.  , 0.  , 0.  , 0.68, 0.  , 0.15, 0.  , 0.17]],\n",
              "\n",
              "       [[0.  , 0.  , 0.  , 0.  , 0.  , 0.01, 0.  , 0.05, 0.  , 0.94]],\n",
              "\n",
              "       [[0.  , 0.  , 0.  , 0.  , 0.  , 0.01, 0.  , 0.83, 0.  , 0.16]],\n",
              "\n",
              "       [[0.  , 0.  , 0.  , 0.  , 0.  , 0.13, 0.  , 0.36, 0.  , 0.5 ]],\n",
              "\n",
              "       [[0.  , 0.  , 0.  , 0.  , 0.  , 0.12, 0.  , 0.71, 0.03, 0.14]],\n",
              "\n",
              "       [[0.  , 0.  , 0.  , 0.  , 0.  , 0.05, 0.  , 0.02, 0.  , 0.93]],\n",
              "\n",
              "       [[0.  , 0.  , 0.  , 0.  , 0.  , 0.12, 0.  , 0.56, 0.  , 0.32]],\n",
              "\n",
              "       [[0.  , 0.  , 0.  , 0.  , 0.  , 0.08, 0.  , 0.09, 0.  , 0.83]],\n",
              "\n",
              "       [[0.  , 0.  , 0.  , 0.  , 0.  , 0.06, 0.  , 0.33, 0.  , 0.6 ]],\n",
              "\n",
              "       [[0.  , 0.  , 0.  , 0.  , 0.  , 0.03, 0.  , 0.8 , 0.01, 0.16]],\n",
              "\n",
              "       [[0.  , 0.  , 0.  , 0.  , 0.  , 0.02, 0.  , 0.04, 0.  , 0.95]],\n",
              "\n",
              "       [[0.  , 0.  , 0.  , 0.  , 0.  , 0.18, 0.  , 0.09, 0.  , 0.73]],\n",
              "\n",
              "       [[0.  , 0.  , 0.  , 0.  , 0.  , 0.04, 0.  , 0.1 , 0.  , 0.85]],\n",
              "\n",
              "       [[0.  , 0.  , 0.  , 0.  , 0.  , 0.05, 0.  , 0.22, 0.  , 0.73]],\n",
              "\n",
              "       [[0.  , 0.  , 0.  , 0.  , 0.  , 0.35, 0.  , 0.02, 0.  , 0.63]],\n",
              "\n",
              "       [[0.  , 0.  , 0.  , 0.  , 0.  , 0.74, 0.  , 0.09, 0.01, 0.16]],\n",
              "\n",
              "       [[0.  , 0.  , 0.  , 0.  , 0.  , 0.01, 0.  , 0.01, 0.  , 0.98]],\n",
              "\n",
              "       [[0.  , 0.  , 0.  , 0.  , 0.  , 0.04, 0.  , 0.17, 0.  , 0.79]],\n",
              "\n",
              "       [[0.  , 0.  , 0.  , 0.  , 0.  , 0.16, 0.  , 0.07, 0.  , 0.77]],\n",
              "\n",
              "       [[0.  , 0.  , 0.  , 0.  , 0.  , 0.09, 0.  , 0.41, 0.  , 0.5 ]],\n",
              "\n",
              "       [[0.  , 0.  , 0.  , 0.  , 0.  , 0.02, 0.  , 0.3 , 0.  , 0.69]],\n",
              "\n",
              "       [[0.  , 0.  , 0.  , 0.  , 0.  , 0.01, 0.  , 0.05, 0.  , 0.94]],\n",
              "\n",
              "       [[0.  , 0.  , 0.  , 0.  , 0.  , 0.46, 0.  , 0.39, 0.  , 0.15]],\n",
              "\n",
              "       [[0.  , 0.  , 0.  , 0.  , 0.  , 0.04, 0.  , 0.16, 0.  , 0.8 ]],\n",
              "\n",
              "       [[0.  , 0.  , 0.  , 0.  , 0.  , 0.31, 0.  , 0.12, 0.  , 0.57]],\n",
              "\n",
              "       [[0.  , 0.  , 0.  , 0.  , 0.  , 0.02, 0.  , 0.58, 0.  , 0.4 ]],\n",
              "\n",
              "       [[0.  , 0.  , 0.  , 0.  , 0.  , 0.15, 0.  , 0.44, 0.  , 0.4 ]],\n",
              "\n",
              "       [[0.  , 0.  , 0.  , 0.  , 0.  , 0.01, 0.  , 0.03, 0.  , 0.97]],\n",
              "\n",
              "       [[0.  , 0.  , 0.  , 0.  , 0.  , 0.57, 0.  , 0.11, 0.  , 0.32]],\n",
              "\n",
              "       [[0.  , 0.  , 0.  , 0.  , 0.  , 0.  , 0.  , 0.01, 0.  , 0.99]],\n",
              "\n",
              "       [[0.  , 0.  , 0.  , 0.  , 0.  , 0.  , 0.  , 0.01, 0.  , 0.99]],\n",
              "\n",
              "       [[0.  , 0.  , 0.  , 0.  , 0.  , 0.06, 0.  , 0.63, 0.  , 0.32]],\n",
              "\n",
              "       [[0.  , 0.  , 0.  , 0.  , 0.  , 0.03, 0.  , 0.12, 0.  , 0.85]],\n",
              "\n",
              "       [[0.  , 0.  , 0.  , 0.  , 0.  , 0.08, 0.  , 0.04, 0.  , 0.88]],\n",
              "\n",
              "       [[0.  , 0.  , 0.  , 0.  , 0.  , 0.03, 0.  , 0.6 , 0.  , 0.36]],\n",
              "\n",
              "       [[0.  , 0.  , 0.  , 0.  , 0.  , 0.1 , 0.  , 0.19, 0.  , 0.71]],\n",
              "\n",
              "       [[0.  , 0.  , 0.  , 0.  , 0.  , 0.03, 0.  , 0.08, 0.  , 0.89]],\n",
              "\n",
              "       [[0.  , 0.  , 0.  , 0.  , 0.  , 0.07, 0.  , 0.04, 0.  , 0.89]],\n",
              "\n",
              "       [[0.  , 0.  , 0.  , 0.  , 0.  , 0.15, 0.  , 0.07, 0.  , 0.79]],\n",
              "\n",
              "       [[0.  , 0.  , 0.  , 0.  , 0.  , 0.01, 0.  , 0.46, 0.  , 0.53]],\n",
              "\n",
              "       [[0.  , 0.  , 0.  , 0.  , 0.  , 0.62, 0.  , 0.34, 0.  , 0.04]],\n",
              "\n",
              "       [[0.  , 0.  , 0.  , 0.  , 0.  , 0.03, 0.  , 0.01, 0.  , 0.96]],\n",
              "\n",
              "       [[0.  , 0.  , 0.  , 0.  , 0.  , 0.08, 0.  , 0.88, 0.  , 0.03]],\n",
              "\n",
              "       [[0.  , 0.  , 0.  , 0.  , 0.  , 0.01, 0.  , 0.17, 0.  , 0.82]],\n",
              "\n",
              "       [[0.  , 0.  , 0.  , 0.  , 0.  , 0.  , 0.  , 0.01, 0.  , 0.99]],\n",
              "\n",
              "       [[0.  , 0.  , 0.  , 0.  , 0.  , 0.04, 0.  , 0.71, 0.  , 0.25]],\n",
              "\n",
              "       [[0.  , 0.  , 0.  , 0.  , 0.  , 0.47, 0.  , 0.15, 0.  , 0.38]],\n",
              "\n",
              "       [[0.  , 0.  , 0.  , 0.  , 0.  , 0.02, 0.  , 0.67, 0.  , 0.31]],\n",
              "\n",
              "       [[0.  , 0.  , 0.  , 0.  , 0.  , 0.01, 0.  , 0.25, 0.  , 0.75]],\n",
              "\n",
              "       [[0.  , 0.  , 0.  , 0.  , 0.  , 0.01, 0.  , 0.11, 0.  , 0.88]],\n",
              "\n",
              "       [[0.  , 0.  , 0.  , 0.  , 0.  , 0.03, 0.  , 0.01, 0.  , 0.96]],\n",
              "\n",
              "       [[0.  , 0.  , 0.  , 0.  , 0.  , 0.25, 0.  , 0.35, 0.  , 0.4 ]],\n",
              "\n",
              "       [[0.  , 0.  , 0.  , 0.  , 0.  , 0.15, 0.  , 0.17, 0.  , 0.69]],\n",
              "\n",
              "       [[0.  , 0.  , 0.  , 0.  , 0.  , 0.01, 0.  , 0.  , 0.  , 0.99]],\n",
              "\n",
              "       [[0.  , 0.  , 0.  , 0.  , 0.  , 0.02, 0.  , 0.06, 0.  , 0.92]],\n",
              "\n",
              "       [[0.  , 0.  , 0.  , 0.  , 0.  , 0.46, 0.  , 0.02, 0.  , 0.51]],\n",
              "\n",
              "       [[0.  , 0.  , 0.  , 0.01, 0.  , 0.16, 0.  , 0.64, 0.  , 0.18]],\n",
              "\n",
              "       [[0.  , 0.  , 0.  , 0.  , 0.  , 0.02, 0.  , 0.04, 0.  , 0.93]],\n",
              "\n",
              "       [[0.  , 0.  , 0.  , 0.  , 0.  , 0.01, 0.  , 0.  , 0.  , 0.99]],\n",
              "\n",
              "       [[0.  , 0.  , 0.  , 0.  , 0.  , 0.08, 0.  , 0.07, 0.  , 0.85]],\n",
              "\n",
              "       [[0.  , 0.  , 0.  , 0.  , 0.  , 0.74, 0.  , 0.21, 0.  , 0.04]],\n",
              "\n",
              "       [[0.  , 0.  , 0.  , 0.  , 0.  , 0.21, 0.  , 0.14, 0.  , 0.65]],\n",
              "\n",
              "       [[0.  , 0.  , 0.  , 0.  , 0.  , 0.1 , 0.  , 0.42, 0.  , 0.49]],\n",
              "\n",
              "       [[0.  , 0.  , 0.  , 0.  , 0.  , 0.06, 0.  , 0.05, 0.  , 0.89]],\n",
              "\n",
              "       [[0.  , 0.  , 0.  , 0.  , 0.  , 0.52, 0.  , 0.42, 0.  , 0.06]]],\n",
              "      dtype=float32)"
            ]
          },
          "metadata": {},
          "execution_count": 97
        }
      ]
    },
    {
      "cell_type": "code",
      "source": [
        "y_probas"
      ],
      "metadata": {
        "id": "oEpDlTXp3hBT"
      },
      "execution_count": null,
      "outputs": []
    },
    {
      "cell_type": "code",
      "source": [
        "np.round(y_proba[:1], 2)"
      ],
      "metadata": {
        "colab": {
          "base_uri": "https://localhost:8080/"
        },
        "id": "rnuHJsHz3l4N",
        "outputId": "aaced0f0-c82c-4b23-e1ff-a12d9fb49fd6"
      },
      "execution_count": 99,
      "outputs": [
        {
          "output_type": "execute_result",
          "data": {
            "text/plain": [
              "array([[0.  , 0.  , 0.  , 0.  , 0.  , 0.15, 0.  , 0.26, 0.  , 0.6 ]],\n",
              "      dtype=float32)"
            ]
          },
          "metadata": {},
          "execution_count": 99
        }
      ]
    },
    {
      "cell_type": "code",
      "source": [
        "y_std = y_probas.std(axis=0)\n",
        "np.round(y_std[:1], 2)"
      ],
      "metadata": {
        "colab": {
          "base_uri": "https://localhost:8080/"
        },
        "id": "jfHeYQPq3pfU",
        "outputId": "fab98a63-9e60-4de5-f35a-3eefb7f1ca07"
      },
      "execution_count": 100,
      "outputs": [
        {
          "output_type": "execute_result",
          "data": {
            "text/plain": [
              "array([[0.  , 0.  , 0.  , 0.  , 0.  , 0.19, 0.  , 0.25, 0.  , 0.31]],\n",
              "      dtype=float32)"
            ]
          },
          "metadata": {},
          "execution_count": 100
        }
      ]
    },
    {
      "cell_type": "code",
      "source": [
        "y_pred = np.argmax(y_proba, axis=1)"
      ],
      "metadata": {
        "id": "2H4l7sfL3qbI"
      },
      "execution_count": 101,
      "outputs": []
    },
    {
      "cell_type": "code",
      "source": [
        "accuracy = np.sum(y_pred == y_test) / len(y_test)\n",
        "accuracy"
      ],
      "metadata": {
        "colab": {
          "base_uri": "https://localhost:8080/"
        },
        "id": "hDWn9pnU3ryd",
        "outputId": "c4118d85-f99b-444b-fbb5-f98a1f63a180"
      },
      "execution_count": 102,
      "outputs": [
        {
          "output_type": "execute_result",
          "data": {
            "text/plain": [
              "0.8655"
            ]
          },
          "metadata": {},
          "execution_count": 102
        }
      ]
    },
    {
      "cell_type": "code",
      "source": [
        "class MCDropout(keras.layers.Dropout):\n",
        "    def call(self, inputs):\n",
        "        return super().call(inputs, training=True)\n",
        "\n",
        "class MCAlphaDropout(keras.layers.AlphaDropout):\n",
        "    def call(self, inputs):\n",
        "        return super().call(inputs, training=True)"
      ],
      "metadata": {
        "id": "8Lq1wySk3vTR"
      },
      "execution_count": 103,
      "outputs": []
    },
    {
      "cell_type": "code",
      "source": [
        "mc_model = keras.models.Sequential([\n",
        "    MCAlphaDropout(layer.rate) if isinstance(layer, keras.layers.AlphaDropout) else layer\n",
        "    for layer in model.layers\n",
        "])"
      ],
      "metadata": {
        "id": "0zpwgadS3w6T"
      },
      "execution_count": 104,
      "outputs": []
    },
    {
      "cell_type": "code",
      "source": [
        "mc_model.summary()"
      ],
      "metadata": {
        "colab": {
          "base_uri": "https://localhost:8080/"
        },
        "id": "EMOA_AeV30UQ",
        "outputId": "061f3bc2-4a20-4025-cb1f-9823a72c73f1"
      },
      "execution_count": 105,
      "outputs": [
        {
          "output_type": "stream",
          "name": "stdout",
          "text": [
            "Model: \"sequential_21\"\n",
            "_________________________________________________________________\n",
            " Layer (type)                Output Shape              Param #   \n",
            "=================================================================\n",
            " flatten_18 (Flatten)        (None, 784)               0         \n",
            "                                                                 \n",
            " mc_alpha_dropout (MCAlphaDr  (None, 784)              0         \n",
            " opout)                                                          \n",
            "                                                                 \n",
            " dense_263 (Dense)           (None, 300)               235500    \n",
            "                                                                 \n",
            " mc_alpha_dropout_1 (MCAlpha  (None, 300)              0         \n",
            " Dropout)                                                        \n",
            "                                                                 \n",
            " dense_264 (Dense)           (None, 100)               30100     \n",
            "                                                                 \n",
            " mc_alpha_dropout_2 (MCAlpha  (None, 100)              0         \n",
            " Dropout)                                                        \n",
            "                                                                 \n",
            " dense_265 (Dense)           (None, 10)                1010      \n",
            "                                                                 \n",
            "=================================================================\n",
            "Total params: 266,610\n",
            "Trainable params: 266,610\n",
            "Non-trainable params: 0\n",
            "_________________________________________________________________\n"
          ]
        }
      ]
    },
    {
      "cell_type": "code",
      "source": [
        "optimizer = keras.optimizers.SGD(learning_rate=0.01, momentum=0.9, nesterov=True)\n",
        "mc_model.compile(loss=\"sparse_categorical_crossentropy\", optimizer=optimizer, metrics=[\"accuracy\"])"
      ],
      "metadata": {
        "id": "TjMqFjhX32Ea"
      },
      "execution_count": 106,
      "outputs": []
    },
    {
      "cell_type": "code",
      "source": [
        "mc_model.set_weights(model.get_weights())"
      ],
      "metadata": {
        "id": "hloTAO3n35SK"
      },
      "execution_count": 107,
      "outputs": []
    },
    {
      "cell_type": "code",
      "source": [
        "np.round(np.mean([mc_model.predict(X_test_scaled[:1]) for sample in range(100)], axis=0), 2)"
      ],
      "metadata": {
        "colab": {
          "base_uri": "https://localhost:8080/"
        },
        "id": "JhcetIa_36Qk",
        "outputId": "5ec25a24-f053-44aa-a8cc-95927145bd28"
      },
      "execution_count": 108,
      "outputs": [
        {
          "output_type": "execute_result",
          "data": {
            "text/plain": [
              "array([[0.  , 0.  , 0.  , 0.  , 0.  , 0.12, 0.  , 0.23, 0.  , 0.65]],\n",
              "      dtype=float32)"
            ]
          },
          "metadata": {},
          "execution_count": 108
        }
      ]
    },
    {
      "cell_type": "code",
      "source": [
        "layer = keras.layers.Dense(100, activation=\"selu\", kernel_initializer=\"lecun_normal\",\n",
        "                           kernel_constraint=keras.constraints.max_norm(1.))\n"
      ],
      "metadata": {
        "id": "xQRKlSnI37TS"
      },
      "execution_count": 109,
      "outputs": []
    },
    {
      "cell_type": "code",
      "source": [
        "MaxNormDense = partial(keras.layers.Dense,\n",
        "                       activation=\"selu\", kernel_initializer=\"lecun_normal\",\n",
        "                       kernel_constraint=keras.constraints.max_norm(1.))\n",
        "\n",
        "model = keras.models.Sequential([\n",
        "    keras.layers.Flatten(input_shape=[28, 28]),\n",
        "    MaxNormDense(300),\n",
        "    MaxNormDense(100),\n",
        "    keras.layers.Dense(10, activation=\"softmax\")\n",
        "])\n",
        "model.compile(loss=\"sparse_categorical_crossentropy\", optimizer=\"nadam\", metrics=[\"accuracy\"])\n",
        "n_epochs = 2\n",
        "history = model.fit(X_train_scaled, y_train, epochs=n_epochs,\n",
        "                    validation_data=(X_valid_scaled, y_valid))"
      ],
      "metadata": {
        "colab": {
          "base_uri": "https://localhost:8080/"
        },
        "id": "bKITQZLi38gY",
        "outputId": "53f1fc32-7d02-4369-c92f-1a5b095ffd3f"
      },
      "execution_count": 110,
      "outputs": [
        {
          "metadata": {
            "tags": null
          },
          "name": "stdout",
          "output_type": "stream",
          "text": [
            "Epoch 1/2\n",
            "1719/1719 [==============================] - 15s 8ms/step - loss: 0.4754 - accuracy: 0.8337 - val_loss: 0.3869 - val_accuracy: 0.8634\n",
            "Epoch 2/2\n",
            "1719/1719 [==============================] - 14s 8ms/step - loss: 0.3547 - accuracy: 0.8709 - val_loss: 0.3879 - val_accuracy: 0.8618\n"
          ]
        }
      ]
    },
    {
      "cell_type": "code",
      "source": [
        "keras.backend.clear_session()\n",
        "tf.random.set_seed(42)\n",
        "np.random.seed(42)"
      ],
      "metadata": {
        "id": "mRHmkOFMhwWA"
      },
      "execution_count": 136,
      "outputs": []
    },
    {
      "cell_type": "code",
      "source": [
        "model = keras.models.Sequential()\n",
        "model.add(keras.layers.Flatten(input_shape=[32, 32, 3]))\n",
        "for _ in range(20):\n",
        "  model.add(keras.layers.Dense(100, activation=\"elu\",\n",
        "                               kernel_initializer=\"he_normal\"))"
      ],
      "metadata": {
        "id": "rsf7lMInjVyW"
      },
      "execution_count": 137,
      "outputs": []
    },
    {
      "cell_type": "code",
      "source": [
        "model.add(keras.layers.Dense(10, activation=\"softmax\"))"
      ],
      "metadata": {
        "id": "PWWq8ovrjmMx"
      },
      "execution_count": 138,
      "outputs": []
    },
    {
      "cell_type": "code",
      "source": [
        "optimizer = keras.optimizers.Nadam(learning_rate=5e-5)\n",
        "model.compile(loss=\"sparse_categorical_crossentropy\",\n",
        "              optimizer=optimizer,\n",
        "              metrics=[\"accuracy\"])"
      ],
      "metadata": {
        "id": "Yf4Bf68bj7iM"
      },
      "execution_count": 139,
      "outputs": []
    },
    {
      "cell_type": "code",
      "source": [
        "(X_train_full, y_train_full), (X_test, y_test) = keras.datasets.cifar10.load_data()\n",
        "\n",
        "X_train = X_train_full[5000:]\n",
        "y_train = y_train_full[5000:]\n",
        "X_valid = X_train_full[:5000]\n",
        "y_valid = y_train_full[:5000]"
      ],
      "metadata": {
        "id": "JeJWLH7ZkIsQ"
      },
      "execution_count": 140,
      "outputs": []
    },
    {
      "cell_type": "code",
      "source": [
        "early_stopping_cb = keras.callbacks.EarlyStopping(patience=20)\n",
        "model_checkpoint_cb = keras.callbacks.ModelCheckpoint(\"my_cifar10_model.h5\", save_best_only=True)\n",
        "run_index = 1 # 모델을 훈련할 때마다 증가시킴\n",
        "run_logdir = os.path.join(os.curdir, \"my_cifar10_logs\", \"run_{:03d}\".format(run_index))\n",
        "tensorboard_cb = keras.callbacks.TensorBoard(run_logdir)\n",
        "callbacks = [early_stopping_cb, model_checkpoint_cb, tensorboard_cb]"
      ],
      "metadata": {
        "id": "BPtRRHSIkvYZ"
      },
      "execution_count": 141,
      "outputs": []
    },
    {
      "cell_type": "code",
      "source": [
        "model.fit(X_train, y_train, epochs=100,\n",
        "          validation_data=(X_valid, y_valid),\n",
        "          callbacks=callbacks)"
      ],
      "metadata": {
        "colab": {
          "base_uri": "https://localhost:8080/"
        },
        "id": "NzqYKrU_lVlz",
        "outputId": "4543b01c-c157-4e74-d4cb-1f30b9f5f89d"
      },
      "execution_count": 142,
      "outputs": [
        {
          "output_type": "stream",
          "name": "stdout",
          "text": [
            "Epoch 1/100\n",
            "1407/1407 [==============================] - 30s 18ms/step - loss: 3.9882 - accuracy: 0.1750 - val_loss: 2.1041 - val_accuracy: 0.2368\n",
            "Epoch 2/100\n",
            "1407/1407 [==============================] - 22s 15ms/step - loss: 2.0415 - accuracy: 0.2551 - val_loss: 2.1067 - val_accuracy: 0.2406\n",
            "Epoch 3/100\n",
            "1407/1407 [==============================] - 22s 15ms/step - loss: 1.9307 - accuracy: 0.2952 - val_loss: 1.9628 - val_accuracy: 0.2804\n",
            "Epoch 4/100\n",
            "1407/1407 [==============================] - 22s 16ms/step - loss: 1.8526 - accuracy: 0.3225 - val_loss: 1.8137 - val_accuracy: 0.3412\n",
            "Epoch 5/100\n",
            "1407/1407 [==============================] - 22s 16ms/step - loss: 1.7864 - accuracy: 0.3496 - val_loss: 1.8074 - val_accuracy: 0.3374\n",
            "Epoch 6/100\n",
            "1407/1407 [==============================] - 22s 16ms/step - loss: 1.7375 - accuracy: 0.3695 - val_loss: 1.7179 - val_accuracy: 0.3798\n",
            "Epoch 7/100\n",
            "1407/1407 [==============================] - 22s 16ms/step - loss: 1.6983 - accuracy: 0.3864 - val_loss: 1.7286 - val_accuracy: 0.3726\n",
            "Epoch 8/100\n",
            "1407/1407 [==============================] - 26s 18ms/step - loss: 1.6603 - accuracy: 0.4007 - val_loss: 1.6506 - val_accuracy: 0.4078\n",
            "Epoch 9/100\n",
            "1407/1407 [==============================] - 22s 16ms/step - loss: 1.6316 - accuracy: 0.4096 - val_loss: 1.6569 - val_accuracy: 0.4046\n",
            "Epoch 10/100\n",
            "1407/1407 [==============================] - 21s 15ms/step - loss: 1.6065 - accuracy: 0.4223 - val_loss: 1.7023 - val_accuracy: 0.3868\n",
            "Epoch 11/100\n",
            "1407/1407 [==============================] - 21s 15ms/step - loss: 1.5855 - accuracy: 0.4306 - val_loss: 1.6611 - val_accuracy: 0.3980\n",
            "Epoch 12/100\n",
            "1407/1407 [==============================] - 20s 14ms/step - loss: 1.5656 - accuracy: 0.4377 - val_loss: 1.6067 - val_accuracy: 0.4190\n",
            "Epoch 13/100\n",
            "1407/1407 [==============================] - 21s 15ms/step - loss: 1.5413 - accuracy: 0.4455 - val_loss: 1.6562 - val_accuracy: 0.4110\n",
            "Epoch 14/100\n",
            "1407/1407 [==============================] - 21s 15ms/step - loss: 1.5322 - accuracy: 0.4483 - val_loss: 1.5883 - val_accuracy: 0.4214\n",
            "Epoch 15/100\n",
            "1407/1407 [==============================] - 26s 18ms/step - loss: 1.5091 - accuracy: 0.4580 - val_loss: 1.5885 - val_accuracy: 0.4298\n",
            "Epoch 16/100\n",
            "1407/1407 [==============================] - 21s 15ms/step - loss: 1.4935 - accuracy: 0.4623 - val_loss: 1.5593 - val_accuracy: 0.4472\n",
            "Epoch 17/100\n",
            "1407/1407 [==============================] - 21s 15ms/step - loss: 1.4792 - accuracy: 0.4717 - val_loss: 1.5737 - val_accuracy: 0.4378\n",
            "Epoch 18/100\n",
            "1407/1407 [==============================] - 22s 16ms/step - loss: 1.4613 - accuracy: 0.4767 - val_loss: 1.5810 - val_accuracy: 0.4404\n",
            "Epoch 19/100\n",
            "1407/1407 [==============================] - 21s 15ms/step - loss: 1.4520 - accuracy: 0.4804 - val_loss: 1.5534 - val_accuracy: 0.4460\n",
            "Epoch 20/100\n",
            "1407/1407 [==============================] - 21s 15ms/step - loss: 1.4363 - accuracy: 0.4848 - val_loss: 1.5357 - val_accuracy: 0.4544\n",
            "Epoch 21/100\n",
            "1407/1407 [==============================] - 23s 16ms/step - loss: 1.4258 - accuracy: 0.4874 - val_loss: 1.5442 - val_accuracy: 0.4524\n",
            "Epoch 22/100\n",
            "1407/1407 [==============================] - 22s 16ms/step - loss: 1.4152 - accuracy: 0.4930 - val_loss: 1.5188 - val_accuracy: 0.4626\n",
            "Epoch 23/100\n",
            "1407/1407 [==============================] - 21s 15ms/step - loss: 1.3996 - accuracy: 0.4997 - val_loss: 1.5674 - val_accuracy: 0.4394\n",
            "Epoch 24/100\n",
            "1407/1407 [==============================] - 22s 15ms/step - loss: 1.3938 - accuracy: 0.5016 - val_loss: 1.5256 - val_accuracy: 0.4552\n",
            "Epoch 25/100\n",
            "1407/1407 [==============================] - 21s 15ms/step - loss: 1.3789 - accuracy: 0.5072 - val_loss: 1.5248 - val_accuracy: 0.4550\n",
            "Epoch 26/100\n",
            "1407/1407 [==============================] - 21s 15ms/step - loss: 1.3699 - accuracy: 0.5113 - val_loss: 1.5305 - val_accuracy: 0.4514\n",
            "Epoch 27/100\n",
            "1407/1407 [==============================] - 22s 15ms/step - loss: 1.3598 - accuracy: 0.5120 - val_loss: 1.5222 - val_accuracy: 0.4642\n",
            "Epoch 28/100\n",
            "1407/1407 [==============================] - 24s 17ms/step - loss: 1.3496 - accuracy: 0.5160 - val_loss: 1.5164 - val_accuracy: 0.4666\n",
            "Epoch 29/100\n",
            "1407/1407 [==============================] - 21s 15ms/step - loss: 1.3418 - accuracy: 0.5204 - val_loss: 1.5185 - val_accuracy: 0.4638\n",
            "Epoch 30/100\n",
            "1407/1407 [==============================] - 21s 15ms/step - loss: 1.3286 - accuracy: 0.5244 - val_loss: 1.5454 - val_accuracy: 0.4704\n",
            "Epoch 31/100\n",
            "1407/1407 [==============================] - 21s 15ms/step - loss: 1.3190 - accuracy: 0.5288 - val_loss: 1.5797 - val_accuracy: 0.4522\n",
            "Epoch 32/100\n",
            "1407/1407 [==============================] - 21s 15ms/step - loss: 1.3107 - accuracy: 0.5326 - val_loss: 1.5320 - val_accuracy: 0.4688\n",
            "Epoch 33/100\n",
            "1407/1407 [==============================] - 21s 15ms/step - loss: 1.3044 - accuracy: 0.5330 - val_loss: 1.5524 - val_accuracy: 0.4720\n",
            "Epoch 34/100\n",
            "1407/1407 [==============================] - 22s 16ms/step - loss: 1.2925 - accuracy: 0.5391 - val_loss: 1.5319 - val_accuracy: 0.4722\n",
            "Epoch 35/100\n",
            "1407/1407 [==============================] - 24s 17ms/step - loss: 1.2876 - accuracy: 0.5370 - val_loss: 1.5447 - val_accuracy: 0.4684\n",
            "Epoch 36/100\n",
            "1407/1407 [==============================] - 21s 15ms/step - loss: 1.2774 - accuracy: 0.5444 - val_loss: 1.5484 - val_accuracy: 0.4640\n",
            "Epoch 37/100\n",
            "1407/1407 [==============================] - 23s 16ms/step - loss: 1.2688 - accuracy: 0.5447 - val_loss: 1.5203 - val_accuracy: 0.4718\n",
            "Epoch 38/100\n",
            "1407/1407 [==============================] - 22s 15ms/step - loss: 1.2615 - accuracy: 0.5480 - val_loss: 1.5360 - val_accuracy: 0.4702\n",
            "Epoch 39/100\n",
            "1407/1407 [==============================] - 21s 15ms/step - loss: 1.2557 - accuracy: 0.5496 - val_loss: 1.5498 - val_accuracy: 0.4676\n",
            "Epoch 40/100\n",
            "1407/1407 [==============================] - 21s 15ms/step - loss: 1.2465 - accuracy: 0.5550 - val_loss: 1.5285 - val_accuracy: 0.4712\n",
            "Epoch 41/100\n",
            "1407/1407 [==============================] - 22s 15ms/step - loss: 1.2390 - accuracy: 0.5552 - val_loss: 1.5795 - val_accuracy: 0.4520\n",
            "Epoch 42/100\n",
            "1407/1407 [==============================] - 24s 17ms/step - loss: 1.2286 - accuracy: 0.5607 - val_loss: 1.5237 - val_accuracy: 0.4768\n",
            "Epoch 43/100\n",
            "1407/1407 [==============================] - 21s 15ms/step - loss: 1.2242 - accuracy: 0.5611 - val_loss: 1.5424 - val_accuracy: 0.4710\n",
            "Epoch 44/100\n",
            "1407/1407 [==============================] - 21s 15ms/step - loss: 1.2198 - accuracy: 0.5634 - val_loss: 1.5500 - val_accuracy: 0.4664\n",
            "Epoch 45/100\n",
            "1407/1407 [==============================] - 22s 16ms/step - loss: 1.2075 - accuracy: 0.5669 - val_loss: 1.5484 - val_accuracy: 0.4726\n",
            "Epoch 46/100\n",
            "1407/1407 [==============================] - 23s 16ms/step - loss: 1.2019 - accuracy: 0.5705 - val_loss: 1.5154 - val_accuracy: 0.4812\n",
            "Epoch 47/100\n",
            "1407/1407 [==============================] - 22s 16ms/step - loss: 1.1923 - accuracy: 0.5748 - val_loss: 1.5459 - val_accuracy: 0.4728\n",
            "Epoch 48/100\n",
            "1407/1407 [==============================] - 24s 17ms/step - loss: 1.1880 - accuracy: 0.5740 - val_loss: 1.5457 - val_accuracy: 0.4702\n",
            "Epoch 49/100\n",
            "1407/1407 [==============================] - 23s 16ms/step - loss: 1.1804 - accuracy: 0.5762 - val_loss: 1.5475 - val_accuracy: 0.4690\n",
            "Epoch 50/100\n",
            "1407/1407 [==============================] - 23s 16ms/step - loss: 1.1692 - accuracy: 0.5796 - val_loss: 1.5445 - val_accuracy: 0.4804\n",
            "Epoch 51/100\n",
            "1407/1407 [==============================] - 22s 15ms/step - loss: 1.1658 - accuracy: 0.5810 - val_loss: 1.5780 - val_accuracy: 0.4668\n",
            "Epoch 52/100\n",
            "1407/1407 [==============================] - 23s 16ms/step - loss: 1.1569 - accuracy: 0.5847 - val_loss: 1.5531 - val_accuracy: 0.4758\n",
            "Epoch 53/100\n",
            "1407/1407 [==============================] - 23s 16ms/step - loss: 1.1497 - accuracy: 0.5874 - val_loss: 1.5415 - val_accuracy: 0.4746\n",
            "Epoch 54/100\n",
            "1407/1407 [==============================] - 24s 17ms/step - loss: 1.1456 - accuracy: 0.5904 - val_loss: 1.5599 - val_accuracy: 0.4838\n",
            "Epoch 55/100\n",
            "1407/1407 [==============================] - 25s 17ms/step - loss: 1.1392 - accuracy: 0.5942 - val_loss: 1.5720 - val_accuracy: 0.4724\n",
            "Epoch 56/100\n",
            "1407/1407 [==============================] - 22s 15ms/step - loss: 1.1327 - accuracy: 0.5936 - val_loss: 1.6125 - val_accuracy: 0.4532\n",
            "Epoch 57/100\n",
            "1407/1407 [==============================] - 22s 16ms/step - loss: 1.1255 - accuracy: 0.5980 - val_loss: 1.5511 - val_accuracy: 0.4820\n",
            "Epoch 58/100\n",
            "1407/1407 [==============================] - 23s 16ms/step - loss: 1.1205 - accuracy: 0.5978 - val_loss: 1.5838 - val_accuracy: 0.4586\n",
            "Epoch 59/100\n",
            "1407/1407 [==============================] - 22s 16ms/step - loss: 1.1135 - accuracy: 0.6021 - val_loss: 1.5641 - val_accuracy: 0.4840\n",
            "Epoch 60/100\n",
            "1407/1407 [==============================] - 23s 16ms/step - loss: 1.1067 - accuracy: 0.6039 - val_loss: 1.5795 - val_accuracy: 0.4744\n",
            "Epoch 61/100\n",
            "1407/1407 [==============================] - 23s 16ms/step - loss: 1.1034 - accuracy: 0.6055 - val_loss: 1.5880 - val_accuracy: 0.4652\n",
            "Epoch 62/100\n",
            "1407/1407 [==============================] - 25s 18ms/step - loss: 1.0935 - accuracy: 0.6088 - val_loss: 1.6225 - val_accuracy: 0.4656\n",
            "Epoch 63/100\n",
            "1407/1407 [==============================] - 22s 16ms/step - loss: 1.0910 - accuracy: 0.6090 - val_loss: 1.5543 - val_accuracy: 0.4766\n",
            "Epoch 64/100\n",
            "1407/1407 [==============================] - 24s 17ms/step - loss: 1.0812 - accuracy: 0.6134 - val_loss: 1.6184 - val_accuracy: 0.4666\n",
            "Epoch 65/100\n",
            "1407/1407 [==============================] - 23s 16ms/step - loss: 1.0783 - accuracy: 0.6127 - val_loss: 1.6179 - val_accuracy: 0.4786\n",
            "Epoch 66/100\n",
            "1407/1407 [==============================] - 23s 16ms/step - loss: 1.0692 - accuracy: 0.6194 - val_loss: 1.6204 - val_accuracy: 0.4686\n"
          ]
        },
        {
          "output_type": "execute_result",
          "data": {
            "text/plain": [
              "<keras.callbacks.History at 0x7fb9323a5b10>"
            ]
          },
          "metadata": {},
          "execution_count": 142
        }
      ]
    },
    {
      "cell_type": "code",
      "source": [
        "model = keras.models.load_model(\"my_cifar10_model.h5\")\n",
        "model.evaluate(X_valid, y_valid)"
      ],
      "metadata": {
        "colab": {
          "base_uri": "https://localhost:8080/"
        },
        "id": "mYKWtvAVlcVE",
        "outputId": "05c0a1c9-478a-4e8f-83b6-8b23a507731e"
      },
      "execution_count": 143,
      "outputs": [
        {
          "output_type": "stream",
          "name": "stdout",
          "text": [
            "157/157 [==============================] - 1s 4ms/step - loss: 1.5154 - accuracy: 0.4812\n"
          ]
        },
        {
          "output_type": "execute_result",
          "data": {
            "text/plain": [
              "[1.515366554260254, 0.4812000095844269]"
            ]
          },
          "metadata": {},
          "execution_count": 143
        }
      ]
    },
    {
      "cell_type": "code",
      "source": [
        "keras.backend.clear_session()\n",
        "tf.random.set_seed(42)\n",
        "np.random.seed(42)\n",
        "\n",
        "model = keras.models.Sequential()\n",
        "model.add(keras.layers.Flatten(input_shape=[32, 32, 3]))\n",
        "model.add(keras.layers.BatchNormalization())\n",
        "for _ in range(20):\n",
        "    model.add(keras.layers.Dense(100, kernel_initializer=\"he_normal\"))\n",
        "    model.add(keras.layers.BatchNormalization())\n",
        "    model.add(keras.layers.Activation(\"elu\"))\n",
        "model.add(keras.layers.Dense(10, activation=\"softmax\"))\n",
        "\n",
        "optimizer = keras.optimizers.Nadam(learning_rate=5e-4)\n",
        "model.compile(loss=\"sparse_categorical_crossentropy\",\n",
        "              optimizer=optimizer,\n",
        "              metrics=[\"accuracy\"])\n",
        "\n",
        "early_stopping_cb = keras.callbacks.EarlyStopping(patience=20)\n",
        "model_checkpoint_cb = keras.callbacks.ModelCheckpoint(\"my_cifar10_bn_model.h5\", save_best_only=True)\n",
        "run_index = 1 # 모델을 훈련할 때마다 증가시킴\n",
        "run_logdir = os.path.join(os.curdir, \"my_cifar10_logs\", \"run_bn_{:03d}\".format(run_index))\n",
        "tensorboard_cb = keras.callbacks.TensorBoard(run_logdir)\n",
        "callbacks = [early_stopping_cb, model_checkpoint_cb, tensorboard_cb]\n",
        "\n",
        "model.fit(X_train, y_train, epochs=100,\n",
        "          validation_data=(X_valid, y_valid),\n",
        "          callbacks=callbacks)\n",
        "\n",
        "model = keras.models.load_model(\"my_cifar10_bn_model.h5\")\n",
        "model.evaluate(X_valid, y_valid)"
      ],
      "metadata": {
        "colab": {
          "base_uri": "https://localhost:8080/"
        },
        "id": "Cf8KHrlQlj8W",
        "outputId": "8e61e516-06f0-416f-8949-8031e5e51c94"
      },
      "execution_count": 144,
      "outputs": [
        {
          "output_type": "stream",
          "name": "stdout",
          "text": [
            "Epoch 1/100\n",
            "1407/1407 [==============================] - 51s 26ms/step - loss: 1.8413 - accuracy: 0.3402 - val_loss: 1.6842 - val_accuracy: 0.4020\n",
            "Epoch 2/100\n",
            "1407/1407 [==============================] - 38s 27ms/step - loss: 1.6668 - accuracy: 0.4061 - val_loss: 1.5830 - val_accuracy: 0.4306\n",
            "Epoch 3/100\n",
            "1407/1407 [==============================] - 36s 26ms/step - loss: 1.5999 - accuracy: 0.4310 - val_loss: 1.5545 - val_accuracy: 0.4324\n",
            "Epoch 4/100\n",
            "1407/1407 [==============================] - 39s 28ms/step - loss: 1.5471 - accuracy: 0.4491 - val_loss: 1.5217 - val_accuracy: 0.4604\n",
            "Epoch 5/100\n",
            "1407/1407 [==============================] - 37s 26ms/step - loss: 1.5047 - accuracy: 0.4664 - val_loss: 1.4417 - val_accuracy: 0.4806\n",
            "Epoch 6/100\n",
            "1407/1407 [==============================] - 37s 26ms/step - loss: 1.4668 - accuracy: 0.4791 - val_loss: 1.4049 - val_accuracy: 0.4938\n",
            "Epoch 7/100\n",
            "1407/1407 [==============================] - 40s 28ms/step - loss: 1.4333 - accuracy: 0.4912 - val_loss: 1.4180 - val_accuracy: 0.4908\n",
            "Epoch 8/100\n",
            "1407/1407 [==============================] - 38s 27ms/step - loss: 1.4051 - accuracy: 0.5012 - val_loss: 1.3936 - val_accuracy: 0.5064\n",
            "Epoch 9/100\n",
            "1407/1407 [==============================] - 36s 26ms/step - loss: 1.3804 - accuracy: 0.5121 - val_loss: 1.3826 - val_accuracy: 0.5060\n",
            "Epoch 10/100\n",
            "1407/1407 [==============================] - 37s 26ms/step - loss: 1.3613 - accuracy: 0.5179 - val_loss: 1.3509 - val_accuracy: 0.5106\n",
            "Epoch 11/100\n",
            "1407/1407 [==============================] - 37s 26ms/step - loss: 1.3393 - accuracy: 0.5240 - val_loss: 1.3554 - val_accuracy: 0.5200\n",
            "Epoch 12/100\n",
            "1407/1407 [==============================] - 40s 28ms/step - loss: 1.3156 - accuracy: 0.5361 - val_loss: 1.3814 - val_accuracy: 0.5042\n",
            "Epoch 13/100\n",
            "1407/1407 [==============================] - 39s 27ms/step - loss: 1.2992 - accuracy: 0.5419 - val_loss: 1.3803 - val_accuracy: 0.5162\n",
            "Epoch 14/100\n",
            "1407/1407 [==============================] - 37s 27ms/step - loss: 1.2778 - accuracy: 0.5476 - val_loss: 1.3518 - val_accuracy: 0.5242\n",
            "Epoch 15/100\n",
            "1407/1407 [==============================] - 40s 28ms/step - loss: 1.2620 - accuracy: 0.5520 - val_loss: 1.3788 - val_accuracy: 0.5126\n",
            "Epoch 16/100\n",
            "1407/1407 [==============================] - 38s 27ms/step - loss: 1.2490 - accuracy: 0.5577 - val_loss: 1.3750 - val_accuracy: 0.5172\n",
            "Epoch 17/100\n",
            "1407/1407 [==============================] - 38s 27ms/step - loss: 1.2290 - accuracy: 0.5638 - val_loss: 1.3213 - val_accuracy: 0.5354\n",
            "Epoch 18/100\n",
            "1407/1407 [==============================] - 38s 27ms/step - loss: 1.2092 - accuracy: 0.5708 - val_loss: 1.3473 - val_accuracy: 0.5226\n",
            "Epoch 19/100\n",
            "1407/1407 [==============================] - 40s 28ms/step - loss: 1.1964 - accuracy: 0.5768 - val_loss: 1.3074 - val_accuracy: 0.5362\n",
            "Epoch 20/100\n",
            "1407/1407 [==============================] - 38s 27ms/step - loss: 1.1856 - accuracy: 0.5848 - val_loss: 1.3709 - val_accuracy: 0.5238\n",
            "Epoch 21/100\n",
            "1407/1407 [==============================] - 37s 26ms/step - loss: 1.1760 - accuracy: 0.5834 - val_loss: 1.3682 - val_accuracy: 0.5212\n",
            "Epoch 22/100\n",
            "1407/1407 [==============================] - 35s 25ms/step - loss: 1.1572 - accuracy: 0.5908 - val_loss: 1.3280 - val_accuracy: 0.5352\n",
            "Epoch 23/100\n",
            "1407/1407 [==============================] - 38s 27ms/step - loss: 1.1485 - accuracy: 0.5955 - val_loss: 1.3112 - val_accuracy: 0.5474\n",
            "Epoch 24/100\n",
            "1407/1407 [==============================] - 36s 26ms/step - loss: 1.1340 - accuracy: 0.5997 - val_loss: 1.3096 - val_accuracy: 0.5394\n",
            "Epoch 25/100\n",
            "1407/1407 [==============================] - 36s 25ms/step - loss: 1.1194 - accuracy: 0.6072 - val_loss: 1.3278 - val_accuracy: 0.5388\n",
            "Epoch 26/100\n",
            "1407/1407 [==============================] - 36s 25ms/step - loss: 1.1083 - accuracy: 0.6094 - val_loss: 1.3407 - val_accuracy: 0.5320\n",
            "Epoch 27/100\n",
            "1407/1407 [==============================] - 37s 26ms/step - loss: 1.0960 - accuracy: 0.6131 - val_loss: 1.3573 - val_accuracy: 0.5358\n",
            "Epoch 28/100\n",
            "1407/1407 [==============================] - 35s 25ms/step - loss: 1.0954 - accuracy: 0.6154 - val_loss: 1.3614 - val_accuracy: 0.5240\n",
            "Epoch 29/100\n",
            "1407/1407 [==============================] - 35s 25ms/step - loss: 1.0812 - accuracy: 0.6182 - val_loss: 1.3321 - val_accuracy: 0.5356\n",
            "Epoch 30/100\n",
            "1407/1407 [==============================] - 37s 26ms/step - loss: 1.0671 - accuracy: 0.6227 - val_loss: 1.3500 - val_accuracy: 0.5408\n",
            "Epoch 31/100\n",
            "1407/1407 [==============================] - 38s 27ms/step - loss: 1.0575 - accuracy: 0.6270 - val_loss: 1.3512 - val_accuracy: 0.5358\n",
            "Epoch 32/100\n",
            "1407/1407 [==============================] - 35s 25ms/step - loss: 1.0462 - accuracy: 0.6308 - val_loss: 1.3639 - val_accuracy: 0.5430\n",
            "Epoch 33/100\n",
            "1407/1407 [==============================] - 35s 25ms/step - loss: 1.0349 - accuracy: 0.6313 - val_loss: 1.3471 - val_accuracy: 0.5454\n",
            "Epoch 34/100\n",
            "1407/1407 [==============================] - 35s 25ms/step - loss: 1.0233 - accuracy: 0.6372 - val_loss: 1.3447 - val_accuracy: 0.5508\n",
            "Epoch 35/100\n",
            "1407/1407 [==============================] - 36s 26ms/step - loss: 1.0201 - accuracy: 0.6377 - val_loss: 1.3361 - val_accuracy: 0.5474\n",
            "Epoch 36/100\n",
            "1407/1407 [==============================] - 38s 27ms/step - loss: 1.0106 - accuracy: 0.6428 - val_loss: 1.3585 - val_accuracy: 0.5406\n",
            "Epoch 37/100\n",
            "1407/1407 [==============================] - 36s 25ms/step - loss: 0.9935 - accuracy: 0.6511 - val_loss: 1.3698 - val_accuracy: 0.5372\n",
            "Epoch 38/100\n",
            "1407/1407 [==============================] - 35s 25ms/step - loss: 0.9934 - accuracy: 0.6516 - val_loss: 1.3726 - val_accuracy: 0.5422\n",
            "Epoch 39/100\n",
            "1407/1407 [==============================] - 36s 26ms/step - loss: 0.9754 - accuracy: 0.6555 - val_loss: 1.3589 - val_accuracy: 0.5476\n",
            "157/157 [==============================] - 2s 6ms/step - loss: 1.3074 - accuracy: 0.5362\n"
          ]
        },
        {
          "output_type": "execute_result",
          "data": {
            "text/plain": [
              "[1.3074175119400024, 0.5361999869346619]"
            ]
          },
          "metadata": {},
          "execution_count": 144
        }
      ]
    },
    {
      "cell_type": "code",
      "source": [
        "keras.backend.clear_session()\n",
        "tf.random.set_seed(42)\n",
        "np.random.seed(42)\n",
        "\n",
        "model = keras.models.Sequential()\n",
        "model.add(keras.layers.Flatten(input_shape=[32, 32, 3]))\n",
        "for _ in range(20):\n",
        "    model.add(keras.layers.Dense(100,\n",
        "                                 kernel_initializer=\"lecun_normal\",\n",
        "                                 activation=\"selu\"))\n",
        "model.add(keras.layers.Dense(10, activation=\"softmax\"))\n",
        "\n",
        "optimizer = keras.optimizers.Nadam(learning_rate=7e-4)\n",
        "model.compile(loss=\"sparse_categorical_crossentropy\",\n",
        "              optimizer=optimizer,\n",
        "              metrics=[\"accuracy\"])\n",
        "\n",
        "early_stopping_cb = keras.callbacks.EarlyStopping(patience=20)\n",
        "model_checkpoint_cb = keras.callbacks.ModelCheckpoint(\"my_cifar10_selu_model.h5\", save_best_only=True)\n",
        "run_index = 1 # 모델을 훈련할 때마다 증가시킴\n",
        "run_logdir = os.path.join(os.curdir, \"my_cifar10_logs\", \"run_selu_{:03d}\".format(run_index))\n",
        "tensorboard_cb = keras.callbacks.TensorBoard(run_logdir)\n",
        "callbacks = [early_stopping_cb, model_checkpoint_cb, tensorboard_cb]\n",
        "\n",
        "X_means = X_train.mean(axis=0)\n",
        "X_stds = X_train.std(axis=0)\n",
        "X_train_scaled = (X_train - X_means) / X_stds\n",
        "X_valid_scaled = (X_valid - X_means) / X_stds\n",
        "X_test_scaled = (X_test - X_means) / X_stds\n",
        "\n",
        "model.fit(X_train_scaled, y_train, epochs=100,\n",
        "          validation_data=(X_valid_scaled, y_valid),\n",
        "          callbacks=callbacks)\n",
        "\n",
        "model = keras.models.load_model(\"my_cifar10_selu_model.h5\")\n",
        "model.evaluate(X_valid_scaled, y_valid)"
      ],
      "metadata": {
        "colab": {
          "base_uri": "https://localhost:8080/"
        },
        "id": "ZQ11GTrRmHaS",
        "outputId": "be40eb80-0eb9-4051-b26d-6be58f213b13"
      },
      "execution_count": 145,
      "outputs": [
        {
          "output_type": "stream",
          "name": "stdout",
          "text": [
            "Epoch 1/100\n",
            "1407/1407 [==============================] - 32s 17ms/step - loss: 1.9176 - accuracy: 0.3125 - val_loss: 1.8557 - val_accuracy: 0.3402\n",
            "Epoch 2/100\n",
            "1407/1407 [==============================] - 23s 16ms/step - loss: 1.7046 - accuracy: 0.3943 - val_loss: 1.7404 - val_accuracy: 0.3784\n",
            "Epoch 3/100\n",
            "1407/1407 [==============================] - 22s 16ms/step - loss: 1.6085 - accuracy: 0.4348 - val_loss: 1.7106 - val_accuracy: 0.3906\n",
            "Epoch 4/100\n",
            "1407/1407 [==============================] - 22s 16ms/step - loss: 1.5486 - accuracy: 0.4558 - val_loss: 1.6228 - val_accuracy: 0.4376\n",
            "Epoch 5/100\n",
            "1407/1407 [==============================] - 22s 16ms/step - loss: 1.4902 - accuracy: 0.4764 - val_loss: 1.6360 - val_accuracy: 0.4288\n",
            "Epoch 6/100\n",
            "1407/1407 [==============================] - 22s 15ms/step - loss: 1.4453 - accuracy: 0.4922 - val_loss: 1.5338 - val_accuracy: 0.4578\n",
            "Epoch 7/100\n",
            "1407/1407 [==============================] - 24s 17ms/step - loss: 1.4072 - accuracy: 0.5069 - val_loss: 1.5670 - val_accuracy: 0.4546\n",
            "Epoch 8/100\n",
            "1407/1407 [==============================] - 22s 15ms/step - loss: 1.3681 - accuracy: 0.5220 - val_loss: 1.4677 - val_accuracy: 0.4924\n",
            "Epoch 9/100\n",
            "1407/1407 [==============================] - 22s 16ms/step - loss: 1.3350 - accuracy: 0.5354 - val_loss: 1.4917 - val_accuracy: 0.4802\n",
            "Epoch 10/100\n",
            "1407/1407 [==============================] - 22s 16ms/step - loss: 1.2991 - accuracy: 0.5463 - val_loss: 1.4928 - val_accuracy: 0.4892\n",
            "Epoch 11/100\n",
            "1407/1407 [==============================] - 23s 17ms/step - loss: 1.2714 - accuracy: 0.5580 - val_loss: 1.5010 - val_accuracy: 0.4952\n",
            "Epoch 12/100\n",
            "1407/1407 [==============================] - 22s 15ms/step - loss: 1.2473 - accuracy: 0.5666 - val_loss: 1.4967 - val_accuracy: 0.4866\n",
            "Epoch 13/100\n",
            "1407/1407 [==============================] - 22s 16ms/step - loss: 1.2225 - accuracy: 0.5737 - val_loss: 1.5072 - val_accuracy: 0.4948\n",
            "Epoch 14/100\n",
            "1407/1407 [==============================] - 24s 17ms/step - loss: 1.1953 - accuracy: 0.5877 - val_loss: 1.4629 - val_accuracy: 0.4978\n",
            "Epoch 15/100\n",
            "1407/1407 [==============================] - 22s 16ms/step - loss: 1.1714 - accuracy: 0.5960 - val_loss: 1.4936 - val_accuracy: 0.5032\n",
            "Epoch 16/100\n",
            "1407/1407 [==============================] - 22s 16ms/step - loss: 1.1453 - accuracy: 0.6051 - val_loss: 1.5237 - val_accuracy: 0.4946\n",
            "Epoch 17/100\n",
            "1407/1407 [==============================] - 22s 15ms/step - loss: 1.1255 - accuracy: 0.6100 - val_loss: 1.5271 - val_accuracy: 0.4992\n",
            "Epoch 18/100\n",
            "1407/1407 [==============================] - 22s 16ms/step - loss: 1.1052 - accuracy: 0.6193 - val_loss: 1.5183 - val_accuracy: 0.5020\n",
            "Epoch 19/100\n",
            "1407/1407 [==============================] - 22s 16ms/step - loss: 1.0896 - accuracy: 0.6230 - val_loss: 1.5875 - val_accuracy: 0.4932\n",
            "Epoch 20/100\n",
            "1407/1407 [==============================] - 25s 18ms/step - loss: 1.0667 - accuracy: 0.6302 - val_loss: 1.5335 - val_accuracy: 0.5026\n",
            "Epoch 21/100\n",
            "1407/1407 [==============================] - 23s 16ms/step - loss: 1.0431 - accuracy: 0.6399 - val_loss: 1.5707 - val_accuracy: 0.5082\n",
            "Epoch 22/100\n",
            "1407/1407 [==============================] - 22s 16ms/step - loss: 1.0252 - accuracy: 0.6444 - val_loss: 1.5599 - val_accuracy: 0.4992\n",
            "Epoch 23/100\n",
            "1407/1407 [==============================] - 23s 16ms/step - loss: 1.0128 - accuracy: 0.6524 - val_loss: 1.5523 - val_accuracy: 0.5090\n",
            "Epoch 24/100\n",
            "1407/1407 [==============================] - 22s 16ms/step - loss: 0.9892 - accuracy: 0.6612 - val_loss: 1.5586 - val_accuracy: 0.5060\n",
            "Epoch 25/100\n",
            "1407/1407 [==============================] - 22s 16ms/step - loss: 2.4942 - accuracy: 0.6091 - val_loss: 1.5552 - val_accuracy: 0.4902\n",
            "Epoch 26/100\n",
            "1407/1407 [==============================] - 22s 16ms/step - loss: 1.0787 - accuracy: 0.6244 - val_loss: 1.5474 - val_accuracy: 0.4908\n",
            "Epoch 27/100\n",
            "1407/1407 [==============================] - 22s 16ms/step - loss: 1.0159 - accuracy: 0.6467 - val_loss: 1.5210 - val_accuracy: 0.5032\n",
            "Epoch 28/100\n",
            "1407/1407 [==============================] - 25s 18ms/step - loss: 0.9740 - accuracy: 0.6641 - val_loss: 1.5643 - val_accuracy: 0.4964\n",
            "Epoch 29/100\n",
            "1407/1407 [==============================] - 22s 16ms/step - loss: 0.9427 - accuracy: 0.6729 - val_loss: 1.6226 - val_accuracy: 0.5084\n",
            "Epoch 30/100\n",
            "1407/1407 [==============================] - 23s 16ms/step - loss: 0.9787 - accuracy: 0.6614 - val_loss: 1.5922 - val_accuracy: 0.5040\n",
            "Epoch 31/100\n",
            "1407/1407 [==============================] - 22s 16ms/step - loss: 0.9193 - accuracy: 0.6829 - val_loss: 1.6214 - val_accuracy: 0.5124\n",
            "Epoch 32/100\n",
            "1407/1407 [==============================] - 22s 15ms/step - loss: 0.8939 - accuracy: 0.6938 - val_loss: 1.6711 - val_accuracy: 0.5088\n",
            "Epoch 33/100\n",
            "1407/1407 [==============================] - 22s 16ms/step - loss: 0.9747 - accuracy: 0.6668 - val_loss: 1.6003 - val_accuracy: 0.5060\n",
            "Epoch 34/100\n",
            "1407/1407 [==============================] - 24s 17ms/step - loss: 0.9300 - accuracy: 0.6815 - val_loss: 1.5894 - val_accuracy: 0.5032\n",
            "157/157 [==============================] - 1s 4ms/step - loss: 1.4629 - accuracy: 0.4978\n"
          ]
        },
        {
          "output_type": "execute_result",
          "data": {
            "text/plain": [
              "[1.4628735780715942, 0.49779999256134033]"
            ]
          },
          "metadata": {},
          "execution_count": 145
        }
      ]
    },
    {
      "cell_type": "code",
      "source": [
        "keras.backend.clear_session()\n",
        "tf.random.set_seed(42)\n",
        "np.random.seed(42)\n",
        "\n",
        "model = keras.models.Sequential()\n",
        "model.add(keras.layers.Flatten(input_shape=[32, 32, 3]))\n",
        "for _ in range(20):\n",
        "    model.add(keras.layers.Dense(100,\n",
        "                                 kernel_initializer=\"lecun_normal\",\n",
        "                                 activation=\"selu\"))\n",
        "model.add(keras.layers.AlphaDropout(rate=0.1))\n",
        "model.add(keras.layers.Dense(10, activation=\"softmax\"))\n",
        "\n",
        "optimizer = keras.optimizers.Nadam(learning_rate=5e-4)\n",
        "model.compile(loss=\"sparse_categorical_crossentropy\",\n",
        "              optimizer=optimizer,\n",
        "              metrics=[\"accuracy\"])\n",
        "\n",
        "early_stopping_cb = keras.callbacks.EarlyStopping(patience=20)\n",
        "model_checkpoint_cb = keras.callbacks.ModelCheckpoint(\"my_cifar10_alpha_dropout_model.h5\", save_best_only=True)\n",
        "run_index = 1 # 모델을 훈련할 때마다 증가시킴\n",
        "run_logdir = os.path.join(os.curdir, \"my_cifar10_logs\", \"run_alpha_dropout_{:03d}\".format(run_index))\n",
        "tensorboard_cb = keras.callbacks.TensorBoard(run_logdir)\n",
        "callbacks = [early_stopping_cb, model_checkpoint_cb, tensorboard_cb]\n",
        "\n",
        "X_means = X_train.mean(axis=0)\n",
        "X_stds = X_train.std(axis=0)\n",
        "X_train_scaled = (X_train - X_means) / X_stds\n",
        "X_valid_scaled = (X_valid - X_means) / X_stds\n",
        "X_test_scaled = (X_test - X_means) / X_stds\n",
        "\n",
        "model.fit(X_train_scaled, y_train, epochs=100,\n",
        "          validation_data=(X_valid_scaled, y_valid),\n",
        "          callbacks=callbacks)\n",
        "\n",
        "model = keras.models.load_model(\"my_cifar10_alpha_dropout_model.h5\")\n",
        "model.evaluate(X_valid_scaled, y_valid)"
      ],
      "metadata": {
        "colab": {
          "base_uri": "https://localhost:8080/"
        },
        "id": "PAWrp6IemUme",
        "outputId": "871ad0dd-0669-456f-e56c-93b5ebf57b47"
      },
      "execution_count": 146,
      "outputs": [
        {
          "output_type": "stream",
          "name": "stdout",
          "text": [
            "Epoch 1/100\n",
            "1407/1407 [==============================] - 30s 17ms/step - loss: 1.9022 - accuracy: 0.3237 - val_loss: 1.7034 - val_accuracy: 0.3894\n",
            "Epoch 2/100\n",
            "1407/1407 [==============================] - 23s 16ms/step - loss: 1.6717 - accuracy: 0.4070 - val_loss: 1.7202 - val_accuracy: 0.4034\n",
            "Epoch 3/100\n",
            "1407/1407 [==============================] - 24s 17ms/step - loss: 1.5773 - accuracy: 0.4488 - val_loss: 1.6244 - val_accuracy: 0.4290\n",
            "Epoch 4/100\n",
            "1407/1407 [==============================] - 24s 17ms/step - loss: 1.5122 - accuracy: 0.4718 - val_loss: 1.5603 - val_accuracy: 0.4674\n",
            "Epoch 5/100\n",
            "1407/1407 [==============================] - 26s 19ms/step - loss: 1.4565 - accuracy: 0.4900 - val_loss: 1.6625 - val_accuracy: 0.4594\n",
            "Epoch 6/100\n",
            "1407/1407 [==============================] - 23s 17ms/step - loss: 1.4054 - accuracy: 0.5113 - val_loss: 1.5159 - val_accuracy: 0.4774\n",
            "Epoch 7/100\n",
            "1407/1407 [==============================] - 23s 16ms/step - loss: 1.3612 - accuracy: 0.5250 - val_loss: 1.6035 - val_accuracy: 0.4640\n",
            "Epoch 8/100\n",
            "1407/1407 [==============================] - 24s 17ms/step - loss: 1.3255 - accuracy: 0.5369 - val_loss: 1.4959 - val_accuracy: 0.4836\n",
            "Epoch 9/100\n",
            "1407/1407 [==============================] - 24s 17ms/step - loss: 1.2911 - accuracy: 0.5531 - val_loss: 1.5138 - val_accuracy: 0.4940\n",
            "Epoch 10/100\n",
            "1407/1407 [==============================] - 23s 16ms/step - loss: 1.2583 - accuracy: 0.5612 - val_loss: 1.5507 - val_accuracy: 0.4918\n",
            "Epoch 11/100\n",
            "1407/1407 [==============================] - 27s 19ms/step - loss: 1.2213 - accuracy: 0.5752 - val_loss: 1.5625 - val_accuracy: 0.4962\n",
            "Epoch 12/100\n",
            "1407/1407 [==============================] - 23s 17ms/step - loss: 1.1886 - accuracy: 0.5883 - val_loss: 1.5253 - val_accuracy: 0.4940\n",
            "Epoch 13/100\n",
            "1407/1407 [==============================] - 23s 16ms/step - loss: 1.1683 - accuracy: 0.5970 - val_loss: 1.5345 - val_accuracy: 0.5118\n",
            "Epoch 14/100\n",
            "1407/1407 [==============================] - 24s 17ms/step - loss: 1.1445 - accuracy: 0.6039 - val_loss: 1.6061 - val_accuracy: 0.4962\n",
            "Epoch 15/100\n",
            "1407/1407 [==============================] - 24s 17ms/step - loss: 1.1128 - accuracy: 0.6152 - val_loss: 1.5903 - val_accuracy: 0.5048\n",
            "Epoch 16/100\n",
            "1407/1407 [==============================] - 23s 16ms/step - loss: 1.0859 - accuracy: 0.6272 - val_loss: 1.5862 - val_accuracy: 0.5058\n",
            "Epoch 17/100\n",
            "1407/1407 [==============================] - 23s 16ms/step - loss: 1.0658 - accuracy: 0.6334 - val_loss: 1.6401 - val_accuracy: 0.5092\n",
            "Epoch 18/100\n",
            "1407/1407 [==============================] - 25s 18ms/step - loss: 1.0486 - accuracy: 0.6408 - val_loss: 1.6306 - val_accuracy: 0.4956\n",
            "Epoch 19/100\n",
            "1407/1407 [==============================] - 24s 17ms/step - loss: 1.0193 - accuracy: 0.6513 - val_loss: 1.7016 - val_accuracy: 0.5128\n",
            "Epoch 20/100\n",
            "1407/1407 [==============================] - 23s 17ms/step - loss: 1.0016 - accuracy: 0.6578 - val_loss: 1.6018 - val_accuracy: 0.5130\n",
            "Epoch 21/100\n",
            "1407/1407 [==============================] - 25s 18ms/step - loss: 0.9805 - accuracy: 0.6640 - val_loss: 1.6856 - val_accuracy: 0.5042\n",
            "Epoch 22/100\n",
            "1407/1407 [==============================] - 23s 17ms/step - loss: 0.9634 - accuracy: 0.6706 - val_loss: 1.6940 - val_accuracy: 0.5024\n",
            "Epoch 23/100\n",
            "1407/1407 [==============================] - 24s 17ms/step - loss: 0.9370 - accuracy: 0.6818 - val_loss: 1.7505 - val_accuracy: 0.4918\n",
            "Epoch 24/100\n",
            "1407/1407 [==============================] - 26s 19ms/step - loss: 0.9242 - accuracy: 0.6871 - val_loss: 1.6598 - val_accuracy: 0.5168\n",
            "Epoch 25/100\n",
            "1407/1407 [==============================] - 23s 16ms/step - loss: 0.9123 - accuracy: 0.6906 - val_loss: 1.6851 - val_accuracy: 0.5106\n",
            "Epoch 26/100\n",
            "1407/1407 [==============================] - 23s 17ms/step - loss: 0.8867 - accuracy: 0.6994 - val_loss: 1.7238 - val_accuracy: 0.5038\n",
            "Epoch 27/100\n",
            "1407/1407 [==============================] - 24s 17ms/step - loss: 0.8755 - accuracy: 0.7024 - val_loss: 1.8202 - val_accuracy: 0.5070\n",
            "Epoch 28/100\n",
            "1407/1407 [==============================] - 24s 17ms/step - loss: 0.8621 - accuracy: 0.7092 - val_loss: 1.7774 - val_accuracy: 0.5072\n",
            "157/157 [==============================] - 1s 4ms/step - loss: 1.4959 - accuracy: 0.4836\n"
          ]
        },
        {
          "output_type": "execute_result",
          "data": {
            "text/plain": [
              "[1.4959455728530884, 0.483599990606308]"
            ]
          },
          "metadata": {},
          "execution_count": 146
        }
      ]
    },
    {
      "cell_type": "code",
      "source": [
        "class MCAlphaDropout(keras.layers.AlphaDropout):\n",
        "    def call(self, inputs):\n",
        "        return super().call(inputs, training=True)"
      ],
      "metadata": {
        "id": "O6b_FQ2Mmdkt"
      },
      "execution_count": 147,
      "outputs": []
    },
    {
      "cell_type": "code",
      "source": [
        "mc_model = keras.models.Sequential([\n",
        "    MCAlphaDropout(layer.rate) if isinstance(layer, keras.layers.AlphaDropout) else layer\n",
        "    for layer in model.layers\n",
        "])"
      ],
      "metadata": {
        "id": "uj0B06btmisy"
      },
      "execution_count": 148,
      "outputs": []
    },
    {
      "cell_type": "code",
      "source": [
        "def mc_dropout_predict_probas(mc_model, X, n_samples=10):\n",
        "    Y_probas = [mc_model.predict(X) for sample in range(n_samples)]\n",
        "    return np.mean(Y_probas, axis=0)\n",
        "\n",
        "def mc_dropout_predict_classes(mc_model, X, n_samples=10):\n",
        "    Y_probas = mc_dropout_predict_probas(mc_model, X, n_samples)\n",
        "    return np.argmax(Y_probas, axis=1)"
      ],
      "metadata": {
        "id": "9nGasBpHmqKR"
      },
      "execution_count": 149,
      "outputs": []
    },
    {
      "cell_type": "code",
      "source": [
        "keras.backend.clear_session()\n",
        "tf.random.set_seed(42)\n",
        "np.random.seed(42)\n",
        "\n",
        "y_pred = mc_dropout_predict_classes(mc_model, X_valid_scaled)\n",
        "accuracy = np.mean(y_pred == y_valid[:, 0])\n",
        "accuracy"
      ],
      "metadata": {
        "colab": {
          "base_uri": "https://localhost:8080/"
        },
        "id": "0bUsdBxkmsv9",
        "outputId": "38acae6f-b929-440d-9837-b456ff1913b6"
      },
      "execution_count": 150,
      "outputs": [
        {
          "output_type": "execute_result",
          "data": {
            "text/plain": [
              "0.4836"
            ]
          },
          "metadata": {},
          "execution_count": 150
        }
      ]
    },
    {
      "cell_type": "code",
      "source": [
        "keras.backend.clear_session()\n",
        "tf.random.set_seed(42)\n",
        "np.random.seed(42)\n",
        "\n",
        "model = keras.models.Sequential()\n",
        "model.add(keras.layers.Flatten(input_shape=[32, 32, 3]))\n",
        "for _ in range(20):\n",
        "    model.add(keras.layers.Dense(100,\n",
        "                                 kernel_initializer=\"lecun_normal\",\n",
        "                                 activation=\"selu\"))\n",
        "model.add(keras.layers.AlphaDropout(rate=0.1))\n",
        "model.add(keras.layers.Dense(10, activation=\"softmax\"))\n",
        "\n",
        "optimizer = keras.optimizers.SGD(learning_rate=1e-3)\n",
        "model.compile(loss=\"sparse_categorical_crossentropy\",\n",
        "              optimizer=optimizer,\n",
        "              metrics=[\"accuracy\"])\n",
        "\n",
        "batch_size = 128\n",
        "rates, losses = find_learning_rate(model, X_train_scaled, y_train, epochs=1, batch_size=batch_size)\n",
        "plot_lr_vs_loss(rates, losses)\n",
        "plt.axis([min(rates), max(rates), min(losses), (losses[0] + min(losses)) / 1.4])"
      ],
      "metadata": {
        "colab": {
          "base_uri": "https://localhost:8080/",
          "height": 402
        },
        "id": "bCswT2I5mvaa",
        "outputId": "10ad62e9-a25f-430d-81dc-a2a4a6640791"
      },
      "execution_count": 151,
      "outputs": [
        {
          "output_type": "stream",
          "name": "stdout",
          "text": [
            "352/352 [==============================] - 8s 21ms/step - loss: nan - accuracy: 0.1379\n"
          ]
        },
        {
          "output_type": "execute_result",
          "data": {
            "text/plain": [
              "(9.999999747378752e-06,\n",
              " 9.615227699279785,\n",
              " 2.051936626434326,\n",
              " 3.6025207383292064)"
            ]
          },
          "metadata": {},
          "execution_count": 151
        },
        {
          "output_type": "display_data",
          "data": {
            "text/plain": [
              "<Figure size 432x288 with 1 Axes>"
            ],
            "image/png": "[encoded data removed]"
          },
          "metadata": {
            "needs_background": "light"
          }
        }
      ]
    },
    {
      "cell_type": "code",
      "source": [
        "keras.backend.clear_session()\n",
        "tf.random.set_seed(42)\n",
        "np.random.seed(42)\n",
        "\n",
        "model = keras.models.Sequential()\n",
        "model.add(keras.layers.Flatten(input_shape=[32, 32, 3]))\n",
        "for _ in range(20):\n",
        "    model.add(keras.layers.Dense(100,\n",
        "                                 kernel_initializer=\"lecun_normal\",\n",
        "                                 activation=\"selu\"))\n",
        "\n",
        "model.add(keras.layers.AlphaDropout(rate=0.1))\n",
        "model.add(keras.layers.Dense(10, activation=\"softmax\"))\n",
        "\n",
        "optimizer = keras.optimizers.SGD(learning_rate=1e-2)\n",
        "model.compile(loss=\"sparse_categorical_crossentropy\",\n",
        "              optimizer=optimizer,\n",
        "              metrics=[\"accuracy\"])\n",
        "\n",
        "n_epochs = 15\n",
        "onecycle = OneCycleScheduler(len(X_train_scaled) // batch_size * n_epochs, max_rate=0.05)\n",
        "history = model.fit(X_train_scaled, y_train, epochs=n_epochs, batch_size=batch_size,\n",
        "                    validation_data=(X_valid_scaled, y_valid),\n",
        "                    callbacks=[onecycle])"
      ],
      "metadata": {
        "colab": {
          "base_uri": "https://localhost:8080/"
        },
        "id": "8VDQY9qsm2La",
        "outputId": "c8cd99f8-9edd-4cb6-e6b0-c4aea06249e0"
      },
      "execution_count": 152,
      "outputs": [
        {
          "output_type": "stream",
          "name": "stdout",
          "text": [
            "Epoch 1/15\n",
            "352/352 [==============================] - 8s 19ms/step - loss: 2.0532 - accuracy: 0.2864 - val_loss: 1.7470 - val_accuracy: 0.3846\n",
            "Epoch 2/15\n",
            "352/352 [==============================] - 6s 18ms/step - loss: 1.7630 - accuracy: 0.3765 - val_loss: 1.6308 - val_accuracy: 0.4276\n",
            "Epoch 3/15\n",
            "352/352 [==============================] - 7s 19ms/step - loss: 1.6147 - accuracy: 0.4256 - val_loss: 1.6498 - val_accuracy: 0.4268\n",
            "Epoch 4/15\n",
            "352/352 [==============================] - 6s 18ms/step - loss: 1.5412 - accuracy: 0.4525 - val_loss: 1.6208 - val_accuracy: 0.4324\n",
            "Epoch 5/15\n",
            "352/352 [==============================] - 7s 18ms/step - loss: 1.4883 - accuracy: 0.4734 - val_loss: 1.6611 - val_accuracy: 0.4428\n",
            "Epoch 6/15\n",
            "352/352 [==============================] - 9s 25ms/step - loss: 1.4454 - accuracy: 0.4866 - val_loss: 1.5653 - val_accuracy: 0.4586\n",
            "Epoch 7/15\n",
            "352/352 [==============================] - 6s 18ms/step - loss: 1.4107 - accuracy: 0.4988 - val_loss: 1.5673 - val_accuracy: 0.4630\n",
            "Epoch 8/15\n",
            "352/352 [==============================] - 7s 19ms/step - loss: 1.3425 - accuracy: 0.5236 - val_loss: 1.4540 - val_accuracy: 0.5042\n",
            "Epoch 9/15\n",
            "352/352 [==============================] - 6s 18ms/step - loss: 1.2667 - accuracy: 0.5504 - val_loss: 1.5182 - val_accuracy: 0.4896\n",
            "Epoch 10/15\n",
            "352/352 [==============================] - 6s 18ms/step - loss: 1.1983 - accuracy: 0.5723 - val_loss: 1.4956 - val_accuracy: 0.5082\n",
            "Epoch 11/15\n",
            "352/352 [==============================] - 6s 18ms/step - loss: 1.1284 - accuracy: 0.6010 - val_loss: 1.5277 - val_accuracy: 0.5146\n",
            "Epoch 12/15\n",
            "352/352 [==============================] - 6s 18ms/step - loss: 1.0598 - accuracy: 0.6214 - val_loss: 1.5195 - val_accuracy: 0.5172\n",
            "Epoch 13/15\n",
            "352/352 [==============================] - 6s 18ms/step - loss: 0.9892 - accuracy: 0.6468 - val_loss: 1.5202 - val_accuracy: 0.5298\n",
            "Epoch 14/15\n",
            "352/352 [==============================] - 6s 18ms/step - loss: 0.9231 - accuracy: 0.6694 - val_loss: 1.5411 - val_accuracy: 0.5382\n",
            "Epoch 15/15\n",
            "352/352 [==============================] - 6s 18ms/step - loss: 0.8841 - accuracy: 0.6846 - val_loss: 1.5690 - val_accuracy: 0.5370\n"
          ]
        }
      ]
    },
    {
      "cell_type": "code",
      "source": [
        ""
      ],
      "metadata": {
        "id": "j8xriRopm7HY"
      },
      "execution_count": null,
      "outputs": []
    }
  ],
  "metadata": {
    "colab": {
      "collapsed_sections": [],
      "name": "11_training_deep_neural_networks.ipynb",
      "provenance": [],
      "authorship_tag": "ABX9TyNEWSkx03nRxiVS/xOtl4am"
    },
    "kernelspec": {
      "display_name": "Python 3",
      "name": "python3"
    },
    "language_info": {
      "name": "python"
    }
  },
  "nbformat": 4,
  "nbformat_minor": 0
}