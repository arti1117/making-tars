{
 "cells": [
  {
   "cell_type": "code",
   "execution_count": 1,
   "id": "1b2f9f7a",
   "metadata": {},
   "outputs": [],
   "source": [
    "import numpy as np"
   ]
  },
  {
   "cell_type": "code",
   "execution_count": 2,
   "id": "fb37ec45",
   "metadata": {},
   "outputs": [],
   "source": [
    "x = np.array([1, 2, 3])\n",
    "np.save('test.npy', x)"
   ]
  },
  {
   "cell_type": "code",
   "execution_count": 3,
   "id": "2a5a85bc",
   "metadata": {},
   "outputs": [
    {
     "name": "stdout",
     "output_type": "stream",
     "text": [
      "[1 2 3]\n",
      "[1 2 3]\n"
     ]
    }
   ],
   "source": [
    "y = np.load('test.npy')\n",
    "print(x)\n",
    "print(y)"
   ]
  },
  {
   "cell_type": "code",
   "execution_count": 4,
   "id": "531a1c76",
   "metadata": {},
   "outputs": [],
   "source": [
    "x1 = np.array([1, 2, 3])\n",
    "x2 = np.array([4, 5, 6])\n",
    "\n",
    "np.savez('test.npz', x1=x1, x2=x2)"
   ]
  },
  {
   "cell_type": "code",
   "execution_count": 5,
   "id": "abbe8b91",
   "metadata": {},
   "outputs": [],
   "source": [
    "arrays = np.load('test.npz')\n",
    "x1 = arrays['x1']\n",
    "x2 = arrays['x2']"
   ]
  },
  {
   "cell_type": "code",
   "execution_count": 6,
   "id": "86e8fdfb",
   "metadata": {},
   "outputs": [
    {
     "name": "stdout",
     "output_type": "stream",
     "text": [
      "[1 2 3]\n",
      "[4 5 6]\n"
     ]
    }
   ],
   "source": [
    "print(x1)\n",
    "print(x2)"
   ]
  },
  {
   "cell_type": "code",
   "execution_count": 7,
   "id": "b0ec29c7",
   "metadata": {},
   "outputs": [],
   "source": [
    "data = {'x1': x1, 'x2': x2}\n",
    "\n",
    "np.savez('test1.npz', **data)"
   ]
  },
  {
   "cell_type": "code",
   "execution_count": 8,
   "id": "7eaf5859",
   "metadata": {},
   "outputs": [
    {
     "name": "stdout",
     "output_type": "stream",
     "text": [
      "[1 2 3]\n",
      "[4 5 6]\n"
     ]
    }
   ],
   "source": [
    "arrays = np.load('test1.npz')\n",
    "x1 = arrays['x1']\n",
    "x2 = arrays['x2']\n",
    "print(x1)\n",
    "print(x2)"
   ]
  },
  {
   "cell_type": "code",
   "execution_count": 9,
   "id": "a0cb68c6",
   "metadata": {},
   "outputs": [],
   "source": [
    "import sys\n",
    "sys.path.append('..')\n",
    "import os\n",
    "import dezero\n",
    "from dezero import *"
   ]
  },
  {
   "cell_type": "code",
   "execution_count": 10,
   "id": "af00de8d",
   "metadata": {},
   "outputs": [],
   "source": [
    "max_epoch = 2\n",
    "batch_size = 100"
   ]
  },
  {
   "cell_type": "code",
   "execution_count": 11,
   "id": "512f64b1",
   "metadata": {},
   "outputs": [],
   "source": [
    "train_set = datasets.MNIST(train=True)\n",
    "train_loader = DataLoader(train_set, batch_size)"
   ]
  },
  {
   "cell_type": "code",
   "execution_count": 12,
   "id": "52b804f9",
   "metadata": {},
   "outputs": [],
   "source": [
    "model = MLP((1000, 10))\n",
    "optimizer = optimizers.SGD().setup(model)"
   ]
  },
  {
   "cell_type": "code",
   "execution_count": 13,
   "id": "c0a44d2e",
   "metadata": {},
   "outputs": [],
   "source": [
    "if os.path.exists('my_mlp.npz'):\n",
    "    model.load_weights('my_mlp.npz')"
   ]
  },
  {
   "cell_type": "code",
   "execution_count": 14,
   "id": "8704e3d5",
   "metadata": {},
   "outputs": [
    {
     "name": "stdout",
     "output_type": "stream",
     "text": [
      "epoch 1, loss 0.9285\n",
      "epoch 2, loss 0.7414\n"
     ]
    }
   ],
   "source": [
    "for epoch in range(max_epoch):\n",
    "    sum_loss = 0\n",
    "    \n",
    "    for x, t in train_loader:        \n",
    "        y = model(x)\n",
    "        loss = F.softmax_cross_entropy(y, t)\n",
    "        model.cleargrads()\n",
    "        loss.backward()\n",
    "        optimizer.update()\n",
    "        \n",
    "        sum_loss += float(loss.data) * len(t)\n",
    "        \n",
    "    print('epoch %d, loss %.4f' % \n",
    "          (epoch + 1, sum_loss / len(train_set)))"
   ]
  },
  {
   "cell_type": "code",
   "execution_count": 15,
   "id": "eb59502a",
   "metadata": {},
   "outputs": [],
   "source": [
    "model.save_weights('my_mlp.npz')"
   ]
  },
  {
   "cell_type": "code",
   "execution_count": null,
   "id": "9c1af393",
   "metadata": {},
   "outputs": [],
   "source": []
  }
 ],
 "metadata": {
  "kernelspec": {
   "display_name": "Python 3",
   "language": "python",
   "name": "python3"
  },
  "language_info": {
   "codemirror_mode": {
    "name": "ipython",
    "version": 3
   },
   "file_extension": ".py",
   "mimetype": "text/x-python",
   "name": "python",
   "nbconvert_exporter": "python",
   "pygments_lexer": "ipython3",
   "version": "3.8.2"
  }
 },
 "nbformat": 4,
 "nbformat_minor": 5
}
