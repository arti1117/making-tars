{
 "cells": [
  {
   "cell_type": "code",
   "execution_count": 1,
   "id": "8bf3e140",
   "metadata": {},
   "outputs": [],
   "source": [
    "#if '__file__' in globals():\n",
    "#    import os, sys\n",
    "#    sys.path.append(os.path.join(os.path.dirname(__file__), '..'))\n",
    "import sys\n",
    "sys.path.append('..')\n",
    "import numpy as np\n",
    "from dezero import Variable"
   ]
  },
  {
   "cell_type": "code",
   "execution_count": 2,
   "id": "9d94078e",
   "metadata": {},
   "outputs": [
    {
     "name": "stdout",
     "output_type": "stream",
     "text": [
      "variable(16.0)\n",
      "8.0\n"
     ]
    }
   ],
   "source": [
    "x = Variable(np.array(1.0))\n",
    "y = (x + 3) ** 2\n",
    "y.backward()\n",
    "print(y)\n",
    "print(x.grad)"
   ]
  },
  {
   "cell_type": "code",
   "execution_count": 3,
   "id": "70e38133",
   "metadata": {},
   "outputs": [],
   "source": [
    "def sphere(x, y):\n",
    "    return x ** 2 + y ** 2"
   ]
  },
  {
   "cell_type": "code",
   "execution_count": 5,
   "id": "9b93dc69",
   "metadata": {},
   "outputs": [
    {
     "name": "stdout",
     "output_type": "stream",
     "text": [
      "2.0 2.0\n"
     ]
    }
   ],
   "source": [
    "x = Variable(np.array(1.0))\n",
    "y = Variable(np.array(1.0))\n",
    "z = sphere(x, y)\n",
    "z.backward()\n",
    "print(x.grad, y.grad)"
   ]
  },
  {
   "cell_type": "code",
   "execution_count": 6,
   "id": "654fa359",
   "metadata": {},
   "outputs": [],
   "source": [
    "def matyas(x, y):\n",
    "    return 0.26 * (x ** 2 + y ** 2) - 0.48 * x * y"
   ]
  },
  {
   "cell_type": "code",
   "execution_count": 7,
   "id": "b130efa5",
   "metadata": {},
   "outputs": [
    {
     "name": "stdout",
     "output_type": "stream",
     "text": [
      "0.040000000000000036 0.040000000000000036\n"
     ]
    }
   ],
   "source": [
    "x = Variable(np.array(1.0))\n",
    "y = Variable(np.array(1.0))\n",
    "z = matyas(x, y)\n",
    "z.backward()\n",
    "print(x.grad, y.grad)"
   ]
  },
  {
   "cell_type": "code",
   "execution_count": 9,
   "id": "24186834",
   "metadata": {},
   "outputs": [],
   "source": [
    "def goldstein(x, y):\n",
    "    return (1 + (x + y + 1) ** 2 * (19 - 14 * x + 3 * x ** 2 - 14 * y + 6 * x * y + 3 * y ** 2)) * \\\n",
    "        (30 +(2 * x - 3 * y) ** 2 * (18 - 32 * x + 12 * x ** 2 + 48 * y - 36 * x * y + 27 * y ** 2))"
   ]
  },
  {
   "cell_type": "code",
   "execution_count": 10,
   "id": "236a99d0",
   "metadata": {},
   "outputs": [
    {
     "name": "stdout",
     "output_type": "stream",
     "text": [
      "-5376.0 8064.0\n"
     ]
    }
   ],
   "source": [
    "x = Variable(np.array(1.0))\n",
    "y = Variable(np.array(1.0))\n",
    "z = goldstein(x, y)\n",
    "z.backward()\n",
    "print(x.grad, y.grad)"
   ]
  },
  {
   "cell_type": "code",
   "execution_count": null,
   "id": "9edd1089",
   "metadata": {},
   "outputs": [],
   "source": []
  }
 ],
 "metadata": {
  "kernelspec": {
   "display_name": "Python 3",
   "language": "python",
   "name": "python3"
  },
  "language_info": {
   "codemirror_mode": {
    "name": "ipython",
    "version": 3
   },
   "file_extension": ".py",
   "mimetype": "text/x-python",
   "name": "python",
   "nbconvert_exporter": "python",
   "pygments_lexer": "ipython3",
   "version": "3.8.2"
  }
 },
 "nbformat": 4,
 "nbformat_minor": 5
}
