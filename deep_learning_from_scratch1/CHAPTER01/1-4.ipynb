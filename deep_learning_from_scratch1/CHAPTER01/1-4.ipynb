{
 "cells": [
  {
   "cell_type": "code",
   "execution_count": 1,
   "id": "7b0bcd09",
   "metadata": {},
   "outputs": [
    {
     "name": "stdout",
     "output_type": "stream",
     "text": [
      "I'm hungry.\r\n"
     ]
    }
   ],
   "source": [
    "!python hungry.py"
   ]
  },
  {
   "cell_type": "code",
   "execution_count": 2,
   "id": "9b147930",
   "metadata": {},
   "outputs": [
    {
     "name": "stdout",
     "output_type": "stream",
     "text": [
      "Initialized.\r\n",
      "Hello JY!\r\n",
      "Good-bye JY,\r\n"
     ]
    }
   ],
   "source": [
    "!python man.py"
   ]
  },
  {
   "cell_type": "code",
   "execution_count": null,
   "id": "0d55bdea",
   "metadata": {},
   "outputs": [],
   "source": []
  }
 ],
 "metadata": {
  "kernelspec": {
   "display_name": "Python 3",
   "language": "python",
   "name": "python3"
  },
  "language_info": {
   "codemirror_mode": {
    "name": "ipython",
    "version": 3
   },
   "file_extension": ".py",
   "mimetype": "text/x-python",
   "name": "python",
   "nbconvert_exporter": "python",
   "pygments_lexer": "ipython3",
   "version": "3.8.2"
  }
 },
 "nbformat": 4,
 "nbformat_minor": 5
}
