{
 "cells": [
  {
   "cell_type": "code",
   "execution_count": 1,
   "id": "active-academy",
   "metadata": {},
   "outputs": [],
   "source": [
    "import sys, os\n",
    "sys.path.append(os.pardir)\n",
    "import numpy as np\n",
    "from dataset.mnist import load_mnist\n",
    "from two_layer_net import TwoLayerNet"
   ]
  },
  {
   "cell_type": "code",
   "execution_count": 2,
   "id": "modular-throw",
   "metadata": {},
   "outputs": [],
   "source": [
    "(x_train, y_train), (x_test, y_test) = \\\n",
    "    load_mnist(normalize=True, one_hot_label=True)"
   ]
  },
  {
   "cell_type": "code",
   "execution_count": 3,
   "id": "shared-creation",
   "metadata": {},
   "outputs": [],
   "source": [
    "network = TwoLayerNet(input_size=784, hidden_size=50, output_size=10)"
   ]
  },
  {
   "cell_type": "code",
   "execution_count": 4,
   "id": "clear-procedure",
   "metadata": {},
   "outputs": [
    {
     "name": "stdout",
     "output_type": "stream",
     "text": [
      "Train Accuracy: 0.12481666666666667Test Accuracy: 0.1257\n",
      "Train Accuracy: 0.9039666666666667Test Accuracy: 0.9075\n",
      "Train Accuracy: 0.92495Test Accuracy: 0.9263\n",
      "Train Accuracy: 0.9379Test Accuracy: 0.9385\n",
      "Train Accuracy: 0.9460166666666666Test Accuracy: 0.9436\n",
      "Train Accuracy: 0.95105Test Accuracy: 0.9471\n",
      "Train Accuracy: 0.9580666666666666Test Accuracy: 0.9537\n",
      "Train Accuracy: 0.9615666666666667Test Accuracy: 0.9569\n",
      "Train Accuracy: 0.9663833333333334Test Accuracy: 0.959\n",
      "Train Accuracy: 0.9661333333333333Test Accuracy: 0.9602\n",
      "Train Accuracy: 0.9708Test Accuracy: 0.9643\n",
      "Train Accuracy: 0.9724833333333334Test Accuracy: 0.9661\n",
      "Train Accuracy: 0.9742166666666666Test Accuracy: 0.9677\n",
      "Train Accuracy: 0.9744166666666667Test Accuracy: 0.9676\n",
      "Train Accuracy: 0.9773333333333334Test Accuracy: 0.9686\n",
      "Train Accuracy: 0.9754Test Accuracy: 0.9666\n",
      "Train Accuracy: 0.9790666666666666Test Accuracy: 0.9712\n"
     ]
    }
   ],
   "source": [
    "iters_num = 10000\n",
    "train_size = x_train.shape[0]\n",
    "batch_size = 100\n",
    "learning_rate = 0.1\n",
    "\n",
    "train_loss_list = []\n",
    "train_acc_list = []\n",
    "test_acc_list = []\n",
    "\n",
    "iter_per_epoch = max(train_size / batch_size, 1)\n",
    "\n",
    "for i in range(iters_num):\n",
    "    batch_mask = np.random.choice(train_size, batch_size)\n",
    "    x_batch = x_train[batch_mask]\n",
    "    y_batch = y_train[batch_mask]\n",
    "    \n",
    "    grad = network.gradient(x_batch, y_batch)\n",
    "    \n",
    "    for key in ('W1', 'b1', 'W2', 'b2'):\n",
    "        network.params[key] -= learning_rate * grad[key]\n",
    "        \n",
    "    loss = network.loss(x_batch, y_batch)\n",
    "    train_loss_list.append(loss)\n",
    "    \n",
    "    if i % iter_per_epoch == 0:\n",
    "        train_acc = network.accuracy(x_train, y_train)\n",
    "        test_acc = network.accuracy(x_test, y_test)\n",
    "        print(\"Train Accuracy: \" + str(train_acc) + \n",
    "             \"Test Accuracy: \" + str(test_acc))"
   ]
  },
  {
   "cell_type": "code",
   "execution_count": null,
   "id": "massive-patrick",
   "metadata": {},
   "outputs": [],
   "source": []
  }
 ],
 "metadata": {
  "kernelspec": {
   "display_name": "Python 3",
   "language": "python",
   "name": "python3"
  },
  "language_info": {
   "codemirror_mode": {
    "name": "ipython",
    "version": 3
   },
   "file_extension": ".py",
   "mimetype": "text/x-python",
   "name": "python",
   "nbconvert_exporter": "python",
   "pygments_lexer": "ipython3",
   "version": "3.8.8"
  }
 },
 "nbformat": 4,
 "nbformat_minor": 5
}
