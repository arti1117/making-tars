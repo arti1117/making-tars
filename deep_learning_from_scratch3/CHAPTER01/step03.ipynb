{
 "cells": [
  {
   "cell_type": "code",
   "execution_count": 1,
   "id": "22571c80",
   "metadata": {},
   "outputs": [],
   "source": [
    "import sys\n",
    "sys.path.append('..')\n",
    "import numpy as np\n",
    "from dezero.variable import Variable\n",
    "from dezero.function import *"
   ]
  },
  {
   "cell_type": "code",
   "execution_count": 3,
   "id": "aa855ba0",
   "metadata": {},
   "outputs": [],
   "source": [
    "A = Square()\n",
    "B = Exp()\n",
    "C = Square()"
   ]
  },
  {
   "cell_type": "code",
   "execution_count": 4,
   "id": "a393fb52",
   "metadata": {},
   "outputs": [
    {
     "data": {
      "text/plain": [
       "0.25"
      ]
     },
     "execution_count": 4,
     "metadata": {},
     "output_type": "execute_result"
    }
   ],
   "source": [
    "x = Variable(np.array(.5))\n",
    "a = A(x)\n",
    "a.data"
   ]
  },
  {
   "cell_type": "code",
   "execution_count": 5,
   "id": "a8d6859a",
   "metadata": {},
   "outputs": [
    {
     "data": {
      "text/plain": [
       "1.2840254166877414"
      ]
     },
     "execution_count": 5,
     "metadata": {},
     "output_type": "execute_result"
    }
   ],
   "source": [
    "b = B(a)\n",
    "b.data"
   ]
  },
  {
   "cell_type": "code",
   "execution_count": 6,
   "id": "229a0469",
   "metadata": {},
   "outputs": [
    {
     "data": {
      "text/plain": [
       "1.648721270700128"
      ]
     },
     "execution_count": 6,
     "metadata": {},
     "output_type": "execute_result"
    }
   ],
   "source": [
    "y = C(b)\n",
    "y.data"
   ]
  },
  {
   "cell_type": "code",
   "execution_count": null,
   "id": "2297b3f8",
   "metadata": {},
   "outputs": [],
   "source": []
  }
 ],
 "metadata": {
  "kernelspec": {
   "display_name": "Python 3",
   "language": "python",
   "name": "python3"
  },
  "language_info": {
   "codemirror_mode": {
    "name": "ipython",
    "version": 3
   },
   "file_extension": ".py",
   "mimetype": "text/x-python",
   "name": "python",
   "nbconvert_exporter": "python",
   "pygments_lexer": "ipython3",
   "version": "3.8.2"
  }
 },
 "nbformat": 4,
 "nbformat_minor": 5
}
