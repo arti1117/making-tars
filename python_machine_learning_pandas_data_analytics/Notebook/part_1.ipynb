{
 "cells": [
  {
   "cell_type": "code",
   "execution_count": 1,
   "id": "c3e74f07-7ef7-4433-a5e3-f28b2ea8e1ed",
   "metadata": {},
   "outputs": [],
   "source": [
    "import pandas as pd"
   ]
  },
  {
   "cell_type": "code",
   "execution_count": 2,
   "id": "7fd528b2-5023-43a7-905b-1435160f6662",
   "metadata": {},
   "outputs": [
    {
     "name": "stdout",
     "output_type": "stream",
     "text": [
      "<class 'pandas.core.series.Series'>\n",
      "\n",
      "\n",
      "a      1\n",
      "b      2\n",
      "c    0.3\n",
      "dtype: object\n",
      "<class 'str'>\n",
      "Index(['a', 'b', 'c'], dtype='object')\n",
      "['1' 2 0.3]\n",
      "1\n",
      "2\n",
      "0.3\n"
     ]
    }
   ],
   "source": [
    "# 1.1_dict_to_series\n",
    "\n",
    "dict_data = {'a': '1', 'b': 2, 'c': .3}\n",
    "\n",
    "sr = pd.Series(dict_data)\n",
    "\n",
    "print(type(sr))\n",
    "print('\\n')\n",
    "print(sr)\n",
    "print(type(sr['a']))\n",
    "\n",
    "print(sr.index)\n",
    "print(sr.values)\n",
    "\n",
    "for a in sr:\n",
    "    print(a)"
   ]
  },
  {
   "cell_type": "code",
   "execution_count": 3,
   "id": "2c0486f6-18cd-421f-891a-dabe4cbe7add",
   "metadata": {},
   "outputs": [
    {
     "name": "stdout",
     "output_type": "stream",
     "text": [
      "0    2021-10-28\n",
      "1          3.14\n",
      "2           ABC\n",
      "3           100\n",
      "4          True\n",
      "dtype: object\n",
      "['2021-10-28' 3.14 'ABC' 100 True]\n",
      "<class 'str'>\n",
      "<class 'float'>\n",
      "<class 'str'>\n",
      "<class 'int'>\n",
      "<class 'bool'>\n",
      "2021-10-28\n",
      "3.14\n",
      "ABC\n",
      "100\n",
      "True\n",
      "RangeIndex(start=0, stop=5, step=1)\n",
      "['2021-10-28' 3.14 'ABC' 100 True]\n"
     ]
    }
   ],
   "source": [
    "# 1.2_series_index\n",
    "\n",
    "list_data = ['2021-10-28', 3.14, 'ABC', 100, True]\n",
    "sr = pd.Series(list_data)\n",
    "print(sr)\n",
    "print(sr.values)\n",
    "for t in sr.values:\n",
    "    print(type(t))\n",
    "    \n",
    "for a in sr:\n",
    "    print(a)\n",
    "#     print(b)\n",
    "\n",
    "idx = sr.index\n",
    "val = sr.values\n",
    "\n",
    "print(idx)\n",
    "print(val)"
   ]
  },
  {
   "cell_type": "code",
   "execution_count": 4,
   "id": "24cb6f22-85aa-4cc6-b28d-824d56693840",
   "metadata": {},
   "outputs": [
    {
     "name": "stdout",
     "output_type": "stream",
     "text": [
      "Name                  A\n",
      "DOB          2021-10-28\n",
      "Gender                b\n",
      "isStudent         False\n",
      "dtype: object\n",
      "0             A\n",
      "1    2021-10-28\n",
      "2             b\n",
      "3         False\n",
      "dtype: object\n",
      "A\n",
      "A\n",
      "DOB       2021-10-28\n",
      "Gender             b\n",
      "dtype: object\n",
      "DOB          2021-10-28\n",
      "isStudent         False\n",
      "dtype: object\n",
      "DOB    2021-10-28\n",
      "dtype: object\n",
      "DOB       2021-10-28\n",
      "Gender             b\n",
      "dtype: object\n"
     ]
    }
   ],
   "source": [
    "#1.3_series_element\n",
    "\n",
    "tup_data = ('A', '2021-10-28', 'b', False)\n",
    "sr = pd.Series(tup_data, index=['Name', 'DOB', 'Gender', 'isStudent'])\n",
    "\n",
    "sr1 = pd.Series(tup_data)\n",
    "print(sr)\n",
    "print(sr1)\n",
    "\n",
    "print(sr[0])\n",
    "print(sr['Name'])\n",
    "\n",
    "print(sr[[1, 2]])\n",
    "print(sr[['DOB', 'isStudent']])\n",
    "\n",
    "print(sr[1:2])\n",
    "print(sr['DOB':'Gender'])"
   ]
  },
  {
   "cell_type": "code",
   "execution_count": 5,
   "id": "453d76f0-4c79-43eb-beda-6794451743f3",
   "metadata": {},
   "outputs": [
    {
     "name": "stdout",
     "output_type": "stream",
     "text": [
      "<class 'pandas.core.frame.DataFrame'> \n",
      "\n",
      "   c0  c1  c2  c3  c4\n",
      "0   1   4   7  10  13\n",
      "1   2   5   8  11  14\n",
      "2   3   6   9  12  15\n",
      "0    1\n",
      "1    2\n",
      "2    3\n",
      "Name: c0, dtype: int64\n",
      "0    1\n",
      "1    2\n",
      "2    3\n",
      "Name: c0, dtype: int64\n"
     ]
    }
   ],
   "source": [
    "# 1.4_dict_to_dataframe\n",
    "\n",
    "dict_data = {'c0': [1, 2, 3], 'c1': [4, 5, 6], 'c2': [7, 8, 9], 'c3': [10, 11, 12], 'c4': [13, 14, 15]}\n",
    "\n",
    "df = pd.DataFrame(dict_data)\n",
    "\n",
    "print(type(df), '\\n')\n",
    "print(df)\n",
    "\n",
    "sr = pd.Series(df['c0'])\n",
    "print(sr)\n",
    "print(df['c0'])"
   ]
  },
  {
   "cell_type": "code",
   "execution_count": 6,
   "id": "0ddfe81a-1afa-4dcf-85ba-0a2f4381dd0f",
   "metadata": {},
   "outputs": [
    {
     "name": "stdout",
     "output_type": "stream",
     "text": [
      "        Age    Sex   School\n",
      "Andrew   15    Man   Kalton\n",
      "Summer   17  Woman  Borison \n",
      "\n",
      "Index(['Andrew', 'Summer'], dtype='object') \n",
      "\n",
      "Index(['Age', 'Sex', 'School'], dtype='object')\n",
      "    Old Gender Came from\n",
      "s1   15    Man    Kalton\n",
      "s2   17  Woman   Borison \n",
      "\n",
      "Index(['s1', 's2'], dtype='object') \n",
      "\n",
      "Index(['Old', 'Gender', 'Came from'], dtype='object')\n"
     ]
    }
   ],
   "source": [
    "# 1.5_change_df_idx_col\n",
    "\n",
    "df = pd.DataFrame([[15, 'Man', 'Kalton'], [17, 'Woman', 'Borison']],\n",
    "                  index=['Andrew', 'Summer'],\n",
    "                  columns=['Age', 'Sex', 'School'])\n",
    "\n",
    "print(df, '\\n')\n",
    "print(df.index, '\\n')\n",
    "print(df.columns)\n",
    "\n",
    "df.index = ['s1', 's2']\n",
    "df.columns = ['Old', 'Gender', 'Came from']\n",
    "\n",
    "print(df, '\\n')\n",
    "print(df.index, '\\n')\n",
    "print(df.columns)\n"
   ]
  },
  {
   "cell_type": "code",
   "execution_count": 7,
   "id": "837900a4-0fe9-455c-b81a-67c2a62efa72",
   "metadata": {},
   "outputs": [
    {
     "name": "stdout",
     "output_type": "stream",
     "text": [
      "        Age   Sex School\n",
      "Andrew   15   Boy   Duck\n",
      "Summer   17  Girl   Suri\n",
      "\n",
      "\n",
      "        Age   Sex School\n",
      "Andrew   15   Boy   Duck\n",
      "Summer   17  Girl   Suri\n",
      "\n",
      "\n",
      "        Age   Sex School\n",
      "Bob      15   Boy   Duck\n",
      "Meghan   17  Girl   Suri\n",
      "\n",
      "\n"
     ]
    }
   ],
   "source": [
    "# 1.6_change_df_idx_col2\n",
    "\n",
    "df = pd.DataFrame([[15, 'Boy', 'Duck'], [17, 'Girl', 'Suri']],\n",
    "                  index=['Andrew', 'Summer'],\n",
    "                  columns=['Age', 'Sex', 'School'])\n",
    "\n",
    "print(df)\n",
    "print(\"\\n\")\n",
    "\n",
    "df.rename(columns={'Age': 'Old', 'Sex': 'Gender', 'School': 'Part'})\n",
    "\n",
    "print(df)\n",
    "print(\"\\n\")\n",
    "\n",
    "df.rename(index={'Andrew': 'Bob', 'Summer': 'Meghan'}, inplace=True)\n",
    "\n",
    "print(df)\n",
    "print(\"\\n\")"
   ]
  },
  {
   "cell_type": "code",
   "execution_count": 8,
   "id": "f71b6357-557d-43e5-92a5-feab6451a6e6",
   "metadata": {},
   "outputs": [
    {
     "name": "stdout",
     "output_type": "stream",
     "text": [
      "   Math  English  Music  Gym Class\n",
      "A    90       98     85        100\n",
      "B    80       89     95         90\n",
      "C    79       95    100         90 \n",
      "\n",
      "   Math  English  Music  Gym Class\n",
      "B    80       89     95         90\n",
      "C    79       95    100         90 \n",
      "\n",
      "   Math  English  Music  Gym Class\n",
      "C    79       95    100         90 \n",
      "\n",
      "   Math  English  Music  Gym Class\n",
      "A    90       98     85        100\n",
      "B    80       89     95         90\n",
      "C    79       95    100         90 \n",
      "\n"
     ]
    },
    {
     "name": "stderr",
     "output_type": "stream",
     "text": [
      "/opt/JupyterLab/resources/jlab_server/lib/python3.8/site-packages/pandas/core/frame.py:4906: SettingWithCopyWarning: \n",
      "A value is trying to be set on a copy of a slice from a DataFrame\n",
      "\n",
      "See the caveats in the documentation: https://pandas.pydata.org/pandas-docs/stable/user_guide/indexing.html#returning-a-view-versus-a-copy\n",
      "  return super().drop(\n",
      "/opt/JupyterLab/resources/jlab_server/lib/python3.8/site-packages/pandas/core/frame.py:4906: SettingWithCopyWarning: \n",
      "A value is trying to be set on a copy of a slice from a DataFrame\n",
      "\n",
      "See the caveats in the documentation: https://pandas.pydata.org/pandas-docs/stable/user_guide/indexing.html#returning-a-view-versus-a-copy\n",
      "  return super().drop(\n"
     ]
    }
   ],
   "source": [
    "# 1.7_remove_row\n",
    "\n",
    "exam_data = {'Math': [90, 80, 79], 'English': [98, 89, 95],\n",
    "             'Music': [85, 95, 100], 'Gym Class': [100, 90, 90]}\n",
    "\n",
    "df = pd.DataFrame(exam_data, index=['A', 'B', 'C'])\n",
    "print(df, '\\n')\n",
    "\n",
    "df2 = df[:]\n",
    "df2.drop('A', inplace=True)\n",
    "print(df2, '\\n')\n",
    "\n",
    "df3 = df[:]\n",
    "df3.drop(['A', 'B'], axis=0, inplace=True)\n",
    "print(df3, '\\n')\n",
    "\n",
    "df4 = df[:]\n",
    "df4.drop(['A', 'B', 'C'], axis=0)\n",
    "print(df4, '\\n')"
   ]
  },
  {
   "cell_type": "code",
   "execution_count": 9,
   "id": "f2ded7db-a522-444b-9e32-483614c90602",
   "metadata": {},
   "outputs": [
    {
     "name": "stdout",
     "output_type": "stream",
     "text": [
      "   Math  English  Music  Gym Class\n",
      "A    90       98     85        100\n",
      "B    80       89     95         90\n",
      "C    79       95    100         90 \n",
      "\n",
      "   English  Music  Gym Class\n",
      "A       98     85        100\n",
      "B       89     95         90\n",
      "C       95    100         90 \n",
      "\n",
      "   Math  English\n",
      "A    90       98\n",
      "B    80       89\n",
      "C    79       95 \n",
      "\n",
      "   Math  Music  Gym Class\n",
      "A    90     85        100\n",
      "B    80     95         90\n",
      "C    79    100         90 \n",
      "\n",
      "   Math  English  Music  Gym Class\n",
      "A    90       98     85        100\n",
      "B    80       89     95         90\n",
      "C    79       95    100         90 \n",
      "\n"
     ]
    },
    {
     "name": "stderr",
     "output_type": "stream",
     "text": [
      "/opt/JupyterLab/resources/jlab_server/lib/python3.8/site-packages/pandas/core/frame.py:4906: SettingWithCopyWarning: \n",
      "A value is trying to be set on a copy of a slice from a DataFrame\n",
      "\n",
      "See the caveats in the documentation: https://pandas.pydata.org/pandas-docs/stable/user_guide/indexing.html#returning-a-view-versus-a-copy\n",
      "  return super().drop(\n",
      "/opt/JupyterLab/resources/jlab_server/lib/python3.8/site-packages/pandas/core/frame.py:4906: SettingWithCopyWarning: \n",
      "A value is trying to be set on a copy of a slice from a DataFrame\n",
      "\n",
      "See the caveats in the documentation: https://pandas.pydata.org/pandas-docs/stable/user_guide/indexing.html#returning-a-view-versus-a-copy\n",
      "  return super().drop(\n"
     ]
    }
   ],
   "source": [
    "# 1.8_remove_column\n",
    "\n",
    "exam_data = {'Math': [90, 80, 79], 'English': [98, 89, 95],\n",
    "             'Music': [85, 95, 100], 'Gym Class': [100, 90, 90]}\n",
    "\n",
    "df = pd.DataFrame(exam_data, index=['A', 'B', 'C'])\n",
    "print(df, '\\n')\n",
    "\n",
    "df4 = df[:]\n",
    "df4.drop('Math', axis=1, inplace=True)\n",
    "print(df4, '\\n')\n",
    "\n",
    "df5 = df[:]\n",
    "df5.drop(['Music', 'Gym Class'], axis=1, inplace=True)\n",
    "print(df5, '\\n')\n",
    "\n",
    "df6 = df[:]\n",
    "print(df6.drop('English', axis=1), '\\n')\n",
    "print(df6, '\\n')"
   ]
  },
  {
   "cell_type": "code",
   "execution_count": 12,
   "id": "0e3d2c24-bb16-4f18-847b-89d63594dd4a",
   "metadata": {},
   "outputs": [
    {
     "name": "stdout",
     "output_type": "stream",
     "text": [
      "   Math  English  Music  Gym Class\n",
      "A    90       98     85        100\n",
      "B    80       89     95         90\n",
      "C    79       95    100         90 \n",
      "\n",
      "Math          90\n",
      "English       98\n",
      "Music         85\n",
      "Gym Class    100\n",
      "Name: A, dtype: int64 \n",
      "\n",
      "Math         80\n",
      "English      89\n",
      "Music        95\n",
      "Gym Class    90\n",
      "Name: B, dtype: int64 \n",
      "\n",
      "   Math  English  Music  Gym Class\n",
      "A    90       98     85        100\n",
      "B    80       89     95         90 \n",
      "\n",
      "   Math  English  Music  Gym Class\n",
      "A    90       98     85        100\n",
      "B    80       89     95         90 \n",
      "\n",
      "   Math  English  Music  Gym Class\n",
      "A    90       98     85        100\n",
      "B    80       89     95         90 \n",
      "\n",
      "   Math  English  Music  Gym Class\n",
      "A    90       98     85        100 \n",
      "\n"
     ]
    }
   ],
   "source": [
    "# 1.9_select_row\n",
    "\n",
    "exam_data = {'Math': [90, 80, 79], 'English': [98, 89, 95],\n",
    "             'Music': [85, 95, 100], 'Gym Class': [100, 90, 90]}\n",
    "\n",
    "df = pd.DataFrame(exam_data, index=['A', 'B', 'C'])\n",
    "print(df, '\\n')\n",
    "\n",
    "label1 = df.loc['A']\n",
    "position1 = df.iloc[1]\n",
    "print(label1, '\\n')\n",
    "print(position1, '\\n')\n",
    "\n",
    "label2 = df.loc[['A', 'B']]\n",
    "position2 = df.iloc[[0, 1]]\n",
    "print(label2, '\\n')\n",
    "print(position2, '\\n')\n",
    "\n",
    "label3 = df.loc['A':'B']\n",
    "position3 = df.iloc[0:1]\n",
    "print(label3, '\\n')\n",
    "print(position3, '\\n')"
   ]
  },
  {
   "cell_type": "code",
   "execution_count": 15,
   "id": "29ab7e86-dc8f-40fb-adb8-61f7546546b3",
   "metadata": {},
   "outputs": [
    {
     "name": "stdout",
     "output_type": "stream",
     "text": [
      "   Math  English  Music  Gym Class\n",
      "A    90       98     85        100\n",
      "B    80       89     95         90\n",
      "C    79       95    100         90 \n",
      "\n",
      "A    90\n",
      "B    80\n",
      "C    79\n",
      "Name: Math, dtype: int64 <class 'pandas.core.series.Series'> \n",
      "\n",
      "A    98\n",
      "B    89\n",
      "C    95\n",
      "Name: English, dtype: int64 <class 'pandas.core.series.Series'> \n",
      "\n",
      "   Music  Gym Class\n",
      "A     85        100\n",
      "B     95         90\n",
      "C    100         90 <class 'pandas.core.frame.DataFrame'> \n",
      "\n",
      "   Math\n",
      "A    90\n",
      "B    80\n",
      "C    79 <class 'pandas.core.frame.DataFrame'> \n",
      "\n"
     ]
    }
   ],
   "source": [
    "# 1.10_select_column\n",
    "\n",
    "exam_data = {'Math': [90, 80, 79], 'English': [98, 89, 95],\n",
    "             'Music': [85, 95, 100], 'Gym Class': [100, 90, 90]}\n",
    "\n",
    "df = pd.DataFrame(exam_data, index=['A', 'B', 'C'])\n",
    "print(df, '\\n')\n",
    "\n",
    "math1 = df['Math']\n",
    "print(math1, type(math1), '\\n')\n",
    "\n",
    "english1 = df.English\n",
    "print(english1, type(english1), '\\n')\n",
    "\n",
    "music_gym = df[['Music', 'Gym Class']]\n",
    "print(music_gym, type(music_gym), '\\n')\n",
    "\n",
    "math2 = df[['Math']]\n",
    "print(math2, type(math2), '\\n')"
   ]
  },
  {
   "cell_type": "code",
   "execution_count": null,
   "id": "3633c101-6913-4f61-8796-c96c73af7fd8",
   "metadata": {},
   "outputs": [],
   "source": [
    "# 1.14_modify_dataframe_elemet\n"
   ]
  },
  {
   "cell_type": "code",
   "execution_count": null,
   "id": "fed16ada-3735-461c-9057-c1fc4d9b4fa0",
   "metadata": {},
   "outputs": [],
   "source": []
  },
  {
   "cell_type": "code",
   "execution_count": null,
   "id": "4e609d0e-12ba-4173-bd9d-481f33e10c2a",
   "metadata": {},
   "outputs": [],
   "source": []
  },
  {
   "cell_type": "code",
   "execution_count": null,
   "id": "717e802f-fa2e-477d-9c23-91420f1874e8",
   "metadata": {},
   "outputs": [],
   "source": []
  },
  {
   "cell_type": "code",
   "execution_count": null,
   "id": "2250d0a4-091a-43f1-929a-6e6cc39aeef4",
   "metadata": {},
   "outputs": [],
   "source": []
  },
  {
   "cell_type": "code",
   "execution_count": null,
   "id": "ebdf4007-d34c-4f3a-b18c-ca88b38b4db6",
   "metadata": {},
   "outputs": [],
   "source": []
  },
  {
   "cell_type": "code",
   "execution_count": null,
   "id": "90c19865-a98e-49fa-8778-465c8dee974e",
   "metadata": {},
   "outputs": [],
   "source": []
  },
  {
   "cell_type": "code",
   "execution_count": null,
   "id": "9946b776-85e2-4502-8f37-9ada93f522e0",
   "metadata": {},
   "outputs": [],
   "source": []
  },
  {
   "cell_type": "code",
   "execution_count": null,
   "id": "d6cdcb94-6b9a-45f9-a975-4a272f80c15b",
   "metadata": {},
   "outputs": [],
   "source": []
  },
  {
   "cell_type": "code",
   "execution_count": null,
   "id": "14631b4c-f8ac-4ba2-b39b-50361a7e95f9",
   "metadata": {},
   "outputs": [],
   "source": []
  },
  {
   "cell_type": "code",
   "execution_count": null,
   "id": "36e97f2b-d49f-4245-baef-5e8fd49cdf5e",
   "metadata": {},
   "outputs": [],
   "source": []
  },
  {
   "cell_type": "code",
   "execution_count": null,
   "id": "bd4ed762-db53-4a7e-82dd-6db9ba2c4d24",
   "metadata": {},
   "outputs": [],
   "source": []
  },
  {
   "cell_type": "code",
   "execution_count": null,
   "id": "1560aafb-f984-4ed7-997d-9aa4a211e64f",
   "metadata": {},
   "outputs": [],
   "source": []
  },
  {
   "cell_type": "code",
   "execution_count": null,
   "id": "1a229108-131a-4463-86ab-0afc4426ee85",
   "metadata": {},
   "outputs": [],
   "source": []
  },
  {
   "cell_type": "code",
   "execution_count": null,
   "id": "cd3b6362-5643-4456-9209-dc1ac5e7da68",
   "metadata": {},
   "outputs": [],
   "source": []
  }
 ],
 "metadata": {
  "kernelspec": {
   "display_name": "Python 3",
   "language": "python",
   "name": "python3"
  },
  "language_info": {
   "codemirror_mode": {
    "name": "ipython",
    "version": 3
   },
   "file_extension": ".py",
   "mimetype": "text/x-python",
   "name": "python",
   "nbconvert_exporter": "python",
   "pygments_lexer": "ipython3",
   "version": "3.8.12"
  }
 },
 "nbformat": 4,
 "nbformat_minor": 5
}
