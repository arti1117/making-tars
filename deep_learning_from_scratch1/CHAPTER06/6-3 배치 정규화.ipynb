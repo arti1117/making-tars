{
 "cells": [
  {
   "cell_type": "code",
   "execution_count": 1,
   "id": "1339c310",
   "metadata": {},
   "outputs": [
    {
     "name": "stdout",
     "output_type": "stream",
     "text": [
      "============== 1/16 ==============\n",
      "epoch:0 | 0.116 - 0.112\n"
     ]
    },
    {
     "name": "stderr",
     "output_type": "stream",
     "text": [
      "../common/functions.py:34: RuntimeWarning: invalid value encountered in subtract\n",
      "  x = x - np.max(x, axis=0)\n"
     ]
    },
    {
     "name": "stdout",
     "output_type": "stream",
     "text": [
      "epoch:1 | 0.097 - 0.14\n",
      "epoch:2 | 0.097 - 0.179\n",
      "epoch:3 | 0.097 - 0.202\n",
      "epoch:4 | 0.097 - 0.214\n",
      "epoch:5 | 0.097 - 0.237\n",
      "epoch:6 | 0.097 - 0.26\n",
      "epoch:7 | 0.097 - 0.281\n",
      "epoch:8 | 0.097 - 0.286\n",
      "epoch:9 | 0.097 - 0.314\n",
      "epoch:10 | 0.097 - 0.327\n",
      "epoch:11 | 0.097 - 0.342\n",
      "epoch:12 | 0.097 - 0.373\n",
      "epoch:13 | 0.097 - 0.383\n",
      "epoch:14 | 0.097 - 0.403\n",
      "epoch:15 | 0.097 - 0.419\n",
      "epoch:16 | 0.097 - 0.435\n",
      "epoch:17 | 0.097 - 0.436\n",
      "epoch:18 | 0.097 - 0.458\n"
     ]
    },
    {
     "name": "stderr",
     "output_type": "stream",
     "text": [
      "No handles with labels found to put in legend.\n"
     ]
    },
    {
     "name": "stdout",
     "output_type": "stream",
     "text": [
      "epoch:19 | 0.097 - 0.474\n",
      "============== 2/16 ==============\n",
      "epoch:0 | 0.097 - 0.131\n"
     ]
    },
    {
     "name": "stderr",
     "output_type": "stream",
     "text": [
      "../common/multi_layer_net_extend.py:104: RuntimeWarning: overflow encountered in square\n",
      "  weight_decay += 0.5 * self.weight_decay_lambda * np.sum(W**2)\n",
      "../common/multi_layer_net_extend.py:104: RuntimeWarning: invalid value encountered in double_scalars\n",
      "  weight_decay += 0.5 * self.weight_decay_lambda * np.sum(W**2)\n"
     ]
    },
    {
     "name": "stdout",
     "output_type": "stream",
     "text": [
      "epoch:1 | 0.097 - 0.121\n",
      "epoch:2 | 0.097 - 0.159\n",
      "epoch:3 | 0.097 - 0.175\n",
      "epoch:4 | 0.097 - 0.21\n",
      "epoch:5 | 0.097 - 0.239\n",
      "epoch:6 | 0.097 - 0.269\n",
      "epoch:7 | 0.097 - 0.306\n",
      "epoch:8 | 0.097 - 0.332\n",
      "epoch:9 | 0.097 - 0.357\n",
      "epoch:10 | 0.097 - 0.371\n",
      "epoch:11 | 0.097 - 0.404\n",
      "epoch:12 | 0.097 - 0.415\n",
      "epoch:13 | 0.097 - 0.428\n",
      "epoch:14 | 0.097 - 0.445\n",
      "epoch:15 | 0.097 - 0.46\n",
      "epoch:16 | 0.097 - 0.473\n",
      "epoch:17 | 0.097 - 0.499\n",
      "epoch:18 | 0.097 - 0.506\n"
     ]
    },
    {
     "name": "stderr",
     "output_type": "stream",
     "text": [
      "No handles with labels found to put in legend.\n"
     ]
    },
    {
     "name": "stdout",
     "output_type": "stream",
     "text": [
      "epoch:19 | 0.097 - 0.516\n",
      "============== 3/16 ==============\n",
      "epoch:0 | 0.117 - 0.086\n",
      "epoch:1 | 0.369 - 0.108\n",
      "epoch:2 | 0.529 - 0.151\n",
      "epoch:3 | 0.609 - 0.182\n",
      "epoch:4 | 0.687 - 0.214\n",
      "epoch:5 | 0.737 - 0.246\n",
      "epoch:6 | 0.8 - 0.285\n",
      "epoch:7 | 0.839 - 0.323\n",
      "epoch:8 | 0.876 - 0.352\n",
      "epoch:9 | 0.901 - 0.375\n",
      "epoch:10 | 0.914 - 0.407\n",
      "epoch:11 | 0.936 - 0.452\n",
      "epoch:12 | 0.94 - 0.473\n",
      "epoch:13 | 0.951 - 0.501\n",
      "epoch:14 | 0.954 - 0.52\n",
      "epoch:15 | 0.967 - 0.538\n",
      "epoch:16 | 0.97 - 0.549\n",
      "epoch:17 | 0.976 - 0.575\n",
      "epoch:18 | 0.981 - 0.597\n",
      "epoch:19 | 0.985 - 0.609\n"
     ]
    },
    {
     "name": "stderr",
     "output_type": "stream",
     "text": [
      "No handles with labels found to put in legend.\n"
     ]
    },
    {
     "name": "stdout",
     "output_type": "stream",
     "text": [
      "============== 4/16 ==============\n",
      "epoch:0 | 0.156 - 0.083\n",
      "epoch:1 | 0.299 - 0.092\n",
      "epoch:2 | 0.424 - 0.16\n",
      "epoch:3 | 0.515 - 0.256\n",
      "epoch:4 | 0.587 - 0.325\n",
      "epoch:5 | 0.622 - 0.373\n",
      "epoch:6 | 0.669 - 0.423\n",
      "epoch:7 | 0.71 - 0.481\n",
      "epoch:8 | 0.72 - 0.533\n",
      "epoch:9 | 0.748 - 0.564\n",
      "epoch:10 | 0.763 - 0.595\n",
      "epoch:11 | 0.777 - 0.624\n",
      "epoch:12 | 0.801 - 0.656\n",
      "epoch:13 | 0.812 - 0.693\n",
      "epoch:14 | 0.825 - 0.713\n",
      "epoch:15 | 0.835 - 0.736\n",
      "epoch:16 | 0.843 - 0.761\n",
      "epoch:17 | 0.86 - 0.771\n",
      "epoch:18 | 0.858 - 0.787\n"
     ]
    },
    {
     "name": "stderr",
     "output_type": "stream",
     "text": [
      "No handles with labels found to put in legend.\n"
     ]
    },
    {
     "name": "stdout",
     "output_type": "stream",
     "text": [
      "epoch:19 | 0.878 - 0.798\n",
      "============== 5/16 ==============\n",
      "epoch:0 | 0.124 - 0.135\n",
      "epoch:1 | 0.13 - 0.149\n",
      "epoch:2 | 0.137 - 0.283\n",
      "epoch:3 | 0.142 - 0.393\n",
      "epoch:4 | 0.146 - 0.489\n",
      "epoch:5 | 0.15 - 0.579\n",
      "epoch:6 | 0.149 - 0.638\n",
      "epoch:7 | 0.142 - 0.678\n",
      "epoch:8 | 0.15 - 0.741\n",
      "epoch:9 | 0.163 - 0.766\n",
      "epoch:10 | 0.163 - 0.784\n",
      "epoch:11 | 0.165 - 0.801\n",
      "epoch:12 | 0.169 - 0.812\n",
      "epoch:13 | 0.175 - 0.83\n",
      "epoch:14 | 0.177 - 0.844\n",
      "epoch:15 | 0.179 - 0.862\n",
      "epoch:16 | 0.181 - 0.869\n",
      "epoch:17 | 0.188 - 0.88\n"
     ]
    },
    {
     "name": "stderr",
     "output_type": "stream",
     "text": [
      "No handles with labels found to put in legend.\n"
     ]
    },
    {
     "name": "stdout",
     "output_type": "stream",
     "text": [
      "epoch:18 | 0.194 - 0.886\n",
      "epoch:19 | 0.193 - 0.899\n",
      "============== 6/16 ==============\n",
      "epoch:0 | 0.105 - 0.077\n",
      "epoch:1 | 0.164 - 0.204\n",
      "epoch:2 | 0.122 - 0.47\n",
      "epoch:3 | 0.117 - 0.623\n",
      "epoch:4 | 0.117 - 0.704\n",
      "epoch:5 | 0.117 - 0.744\n",
      "epoch:6 | 0.117 - 0.772\n",
      "epoch:7 | 0.117 - 0.798\n",
      "epoch:8 | 0.117 - 0.814\n",
      "epoch:9 | 0.117 - 0.826\n",
      "epoch:10 | 0.117 - 0.841\n",
      "epoch:11 | 0.118 - 0.857\n",
      "epoch:12 | 0.117 - 0.875\n",
      "epoch:13 | 0.117 - 0.89\n",
      "epoch:14 | 0.117 - 0.903\n",
      "epoch:15 | 0.117 - 0.913\n",
      "epoch:16 | 0.117 - 0.923\n",
      "epoch:17 | 0.117 - 0.933\n",
      "epoch:18 | 0.117 - 0.94\n"
     ]
    },
    {
     "name": "stderr",
     "output_type": "stream",
     "text": [
      "No handles with labels found to put in legend.\n"
     ]
    },
    {
     "name": "stdout",
     "output_type": "stream",
     "text": [
      "epoch:19 | 0.117 - 0.947\n",
      "============== 7/16 ==============\n",
      "epoch:0 | 0.092 - 0.089\n",
      "epoch:1 | 0.117 - 0.296\n",
      "epoch:2 | 0.116 - 0.546\n",
      "epoch:3 | 0.116 - 0.68\n",
      "epoch:4 | 0.116 - 0.739\n",
      "epoch:5 | 0.116 - 0.791\n",
      "epoch:6 | 0.116 - 0.835\n",
      "epoch:7 | 0.116 - 0.854\n",
      "epoch:8 | 0.116 - 0.883\n",
      "epoch:9 | 0.116 - 0.906\n",
      "epoch:10 | 0.116 - 0.917\n",
      "epoch:11 | 0.116 - 0.935\n",
      "epoch:12 | 0.116 - 0.945\n",
      "epoch:13 | 0.116 - 0.955\n",
      "epoch:14 | 0.116 - 0.963\n",
      "epoch:15 | 0.116 - 0.971\n",
      "epoch:16 | 0.116 - 0.977\n",
      "epoch:17 | 0.116 - 0.981\n",
      "epoch:18 | 0.116 - 0.981\n"
     ]
    },
    {
     "name": "stderr",
     "output_type": "stream",
     "text": [
      "No handles with labels found to put in legend.\n"
     ]
    },
    {
     "name": "stdout",
     "output_type": "stream",
     "text": [
      "epoch:19 | 0.116 - 0.987\n",
      "============== 8/16 ==============\n",
      "epoch:0 | 0.099 - 0.139\n",
      "epoch:1 | 0.117 - 0.493\n",
      "epoch:2 | 0.117 - 0.668\n",
      "epoch:3 | 0.117 - 0.772\n",
      "epoch:4 | 0.117 - 0.849\n",
      "epoch:5 | 0.116 - 0.884\n",
      "epoch:6 | 0.116 - 0.913\n",
      "epoch:7 | 0.116 - 0.951\n",
      "epoch:8 | 0.116 - 0.965\n",
      "epoch:9 | 0.116 - 0.974\n",
      "epoch:10 | 0.116 - 0.984\n",
      "epoch:11 | 0.116 - 0.984\n",
      "epoch:12 | 0.116 - 0.989\n",
      "epoch:13 | 0.116 - 0.994\n",
      "epoch:14 | 0.116 - 0.997\n",
      "epoch:15 | 0.116 - 0.999\n",
      "epoch:16 | 0.116 - 0.999\n",
      "epoch:17 | 0.116 - 0.999\n",
      "epoch:18 | 0.116 - 1.0\n"
     ]
    },
    {
     "name": "stderr",
     "output_type": "stream",
     "text": [
      "No handles with labels found to put in legend.\n"
     ]
    },
    {
     "name": "stdout",
     "output_type": "stream",
     "text": [
      "epoch:19 | 0.116 - 1.0\n",
      "============== 9/16 ==============\n",
      "epoch:0 | 0.105 - 0.134\n",
      "epoch:1 | 0.117 - 0.442\n",
      "epoch:2 | 0.117 - 0.734\n",
      "epoch:3 | 0.117 - 0.811\n",
      "epoch:4 | 0.117 - 0.866\n",
      "epoch:5 | 0.117 - 0.882\n",
      "epoch:6 | 0.117 - 0.884\n",
      "epoch:7 | 0.117 - 0.929\n",
      "epoch:8 | 0.117 - 0.964\n",
      "epoch:9 | 0.117 - 0.983\n",
      "epoch:10 | 0.117 - 0.992\n",
      "epoch:11 | 0.117 - 0.994\n",
      "epoch:12 | 0.117 - 0.995\n",
      "epoch:13 | 0.116 - 0.995\n",
      "epoch:14 | 0.116 - 0.997\n",
      "epoch:15 | 0.116 - 0.998\n",
      "epoch:16 | 0.116 - 0.999\n",
      "epoch:17 | 0.116 - 0.999\n",
      "epoch:18 | 0.116 - 0.999\n"
     ]
    },
    {
     "name": "stderr",
     "output_type": "stream",
     "text": [
      "No handles with labels found to put in legend.\n"
     ]
    },
    {
     "name": "stdout",
     "output_type": "stream",
     "text": [
      "epoch:19 | 0.116 - 1.0\n",
      "============== 10/16 ==============\n",
      "epoch:0 | 0.116 - 0.15\n",
      "epoch:1 | 0.117 - 0.473\n",
      "epoch:2 | 0.117 - 0.746\n",
      "epoch:3 | 0.116 - 0.804\n",
      "epoch:4 | 0.116 - 0.862\n",
      "epoch:5 | 0.116 - 0.874\n",
      "epoch:6 | 0.116 - 0.919\n",
      "epoch:7 | 0.116 - 0.959\n",
      "epoch:8 | 0.117 - 0.983\n",
      "epoch:9 | 0.116 - 0.981\n",
      "epoch:10 | 0.116 - 0.99\n",
      "epoch:11 | 0.116 - 0.994\n",
      "epoch:12 | 0.116 - 0.994\n",
      "epoch:13 | 0.116 - 0.984\n",
      "epoch:14 | 0.116 - 0.998\n",
      "epoch:15 | 0.116 - 0.999\n",
      "epoch:16 | 0.116 - 0.999\n",
      "epoch:17 | 0.116 - 0.999\n",
      "epoch:18 | 0.116 - 0.999\n",
      "epoch:19 | 0.116 - 0.999\n"
     ]
    },
    {
     "name": "stderr",
     "output_type": "stream",
     "text": [
      "No handles with labels found to put in legend.\n"
     ]
    },
    {
     "name": "stdout",
     "output_type": "stream",
     "text": [
      "============== 11/16 ==============\n",
      "epoch:0 | 0.117 - 0.107\n",
      "epoch:1 | 0.099 - 0.631\n",
      "epoch:2 | 0.099 - 0.727\n",
      "epoch:3 | 0.117 - 0.75\n",
      "epoch:4 | 0.117 - 0.758\n",
      "epoch:5 | 0.117 - 0.764\n",
      "epoch:6 | 0.116 - 0.775\n",
      "epoch:7 | 0.116 - 0.858\n",
      "epoch:8 | 0.116 - 0.894\n",
      "epoch:9 | 0.117 - 0.964\n",
      "epoch:10 | 0.116 - 0.972\n",
      "epoch:11 | 0.116 - 0.981\n",
      "epoch:12 | 0.116 - 0.989\n",
      "epoch:13 | 0.116 - 0.988\n",
      "epoch:14 | 0.116 - 0.974\n",
      "epoch:15 | 0.116 - 0.995\n",
      "epoch:16 | 0.116 - 0.994\n",
      "epoch:17 | 0.116 - 0.995\n",
      "epoch:18 | 0.116 - 0.99\n"
     ]
    },
    {
     "name": "stderr",
     "output_type": "stream",
     "text": [
      "No handles with labels found to put in legend.\n"
     ]
    },
    {
     "name": "stdout",
     "output_type": "stream",
     "text": [
      "epoch:19 | 0.116 - 0.996\n",
      "============== 12/16 ==============\n",
      "epoch:0 | 0.116 - 0.203\n",
      "epoch:1 | 0.116 - 0.465\n",
      "epoch:2 | 0.116 - 0.434\n",
      "epoch:3 | 0.116 - 0.463\n",
      "epoch:4 | 0.116 - 0.594\n",
      "epoch:5 | 0.117 - 0.625\n",
      "epoch:6 | 0.117 - 0.671\n",
      "epoch:7 | 0.116 - 0.703\n",
      "epoch:8 | 0.117 - 0.713\n",
      "epoch:9 | 0.117 - 0.683\n",
      "epoch:10 | 0.117 - 0.732\n",
      "epoch:11 | 0.117 - 0.762\n",
      "epoch:12 | 0.117 - 0.791\n",
      "epoch:13 | 0.117 - 0.781\n",
      "epoch:14 | 0.117 - 0.794\n",
      "epoch:15 | 0.117 - 0.802\n",
      "epoch:16 | 0.117 - 0.786\n",
      "epoch:17 | 0.117 - 0.793\n",
      "epoch:18 | 0.117 - 0.81\n"
     ]
    },
    {
     "name": "stderr",
     "output_type": "stream",
     "text": [
      "No handles with labels found to put in legend.\n"
     ]
    },
    {
     "name": "stdout",
     "output_type": "stream",
     "text": [
      "epoch:19 | 0.117 - 0.814\n",
      "============== 13/16 ==============\n",
      "epoch:0 | 0.116 - 0.224\n",
      "epoch:1 | 0.105 - 0.46\n",
      "epoch:2 | 0.117 - 0.608\n",
      "epoch:3 | 0.116 - 0.594\n",
      "epoch:4 | 0.116 - 0.692\n",
      "epoch:5 | 0.116 - 0.724\n",
      "epoch:6 | 0.116 - 0.748\n",
      "epoch:7 | 0.117 - 0.775\n",
      "epoch:8 | 0.117 - 0.692\n",
      "epoch:9 | 0.116 - 0.755\n",
      "epoch:10 | 0.116 - 0.779\n",
      "epoch:11 | 0.116 - 0.785\n",
      "epoch:12 | 0.116 - 0.759\n",
      "epoch:13 | 0.117 - 0.786\n",
      "epoch:14 | 0.117 - 0.771\n",
      "epoch:15 | 0.117 - 0.795\n",
      "epoch:16 | 0.116 - 0.695\n",
      "epoch:17 | 0.116 - 0.793\n",
      "epoch:18 | 0.116 - 0.794\n"
     ]
    },
    {
     "name": "stderr",
     "output_type": "stream",
     "text": [
      "No handles with labels found to put in legend.\n"
     ]
    },
    {
     "name": "stdout",
     "output_type": "stream",
     "text": [
      "epoch:19 | 0.116 - 0.786\n",
      "============== 14/16 ==============\n",
      "epoch:0 | 0.105 - 0.234\n",
      "epoch:1 | 0.117 - 0.482\n",
      "epoch:2 | 0.117 - 0.584\n",
      "epoch:3 | 0.117 - 0.583\n",
      "epoch:4 | 0.116 - 0.593\n",
      "epoch:5 | 0.116 - 0.599\n",
      "epoch:6 | 0.116 - 0.608\n",
      "epoch:7 | 0.117 - 0.562\n",
      "epoch:8 | 0.116 - 0.448\n",
      "epoch:9 | 0.116 - 0.613\n",
      "epoch:10 | 0.117 - 0.615\n",
      "epoch:11 | 0.116 - 0.614\n",
      "epoch:12 | 0.117 - 0.614\n",
      "epoch:13 | 0.117 - 0.616\n",
      "epoch:14 | 0.117 - 0.619\n",
      "epoch:15 | 0.117 - 0.617\n",
      "epoch:16 | 0.117 - 0.621\n",
      "epoch:17 | 0.116 - 0.623\n",
      "epoch:18 | 0.117 - 0.669\n"
     ]
    },
    {
     "name": "stderr",
     "output_type": "stream",
     "text": [
      "No handles with labels found to put in legend.\n"
     ]
    },
    {
     "name": "stdout",
     "output_type": "stream",
     "text": [
      "epoch:19 | 0.117 - 0.714\n",
      "============== 15/16 ==============\n",
      "epoch:0 | 0.116 - 0.208\n",
      "epoch:1 | 0.116 - 0.315\n",
      "epoch:2 | 0.116 - 0.415\n",
      "epoch:3 | 0.116 - 0.412\n",
      "epoch:4 | 0.116 - 0.425\n",
      "epoch:5 | 0.116 - 0.424\n",
      "epoch:6 | 0.116 - 0.422\n",
      "epoch:7 | 0.116 - 0.427\n",
      "epoch:8 | 0.117 - 0.432\n",
      "epoch:9 | 0.116 - 0.429\n",
      "epoch:10 | 0.117 - 0.431\n",
      "epoch:11 | 0.117 - 0.43\n",
      "epoch:12 | 0.116 - 0.432\n",
      "epoch:13 | 0.117 - 0.432\n",
      "epoch:14 | 0.116 - 0.431\n",
      "epoch:15 | 0.116 - 0.432\n",
      "epoch:16 | 0.116 - 0.428\n",
      "epoch:17 | 0.116 - 0.432\n",
      "epoch:18 | 0.116 - 0.431\n",
      "epoch:19 | 0.116 - 0.432\n"
     ]
    },
    {
     "name": "stderr",
     "output_type": "stream",
     "text": [
      "No handles with labels found to put in legend.\n"
     ]
    },
    {
     "name": "stdout",
     "output_type": "stream",
     "text": [
      "============== 16/16 ==============\n",
      "epoch:0 | 0.105 - 0.105\n",
      "epoch:1 | 0.117 - 0.265\n",
      "epoch:2 | 0.116 - 0.31\n",
      "epoch:3 | 0.117 - 0.32\n",
      "epoch:4 | 0.117 - 0.316\n",
      "epoch:5 | 0.117 - 0.325\n",
      "epoch:6 | 0.117 - 0.417\n",
      "epoch:7 | 0.117 - 0.425\n",
      "epoch:8 | 0.117 - 0.399\n",
      "epoch:9 | 0.117 - 0.417\n",
      "epoch:10 | 0.117 - 0.419\n",
      "epoch:11 | 0.117 - 0.43\n",
      "epoch:12 | 0.117 - 0.427\n",
      "epoch:13 | 0.117 - 0.431\n",
      "epoch:14 | 0.117 - 0.431\n",
      "epoch:15 | 0.117 - 0.432\n",
      "epoch:16 | 0.117 - 0.432\n",
      "epoch:17 | 0.117 - 0.432\n",
      "epoch:18 | 0.117 - 0.432\n",
      "epoch:19 | 0.117 - 0.432\n"
     ]
    },
    {
     "data": {
      "image/png": "[encoded data removed]",
      "text/plain": [
       "<Figure size 432x288 with 16 Axes>"
      ]
     },
     "metadata": {
      "needs_background": "light"
     },
     "output_type": "display_data"
    }
   ],
   "source": [
    "from batch_norm_test import *"
   ]
  },
  {
   "cell_type": "code",
   "execution_count": null,
   "id": "c4a31981",
   "metadata": {},
   "outputs": [],
   "source": []
  }
 ],
 "metadata": {
  "kernelspec": {
   "display_name": "Python 3",
   "language": "python",
   "name": "python3"
  },
  "language_info": {
   "codemirror_mode": {
    "name": "ipython",
    "version": 3
   },
   "file_extension": ".py",
   "mimetype": "text/x-python",
   "name": "python",
   "nbconvert_exporter": "python",
   "pygments_lexer": "ipython3",
   "version": "3.8.2"
  }
 },
 "nbformat": 4,
 "nbformat_minor": 5
}
