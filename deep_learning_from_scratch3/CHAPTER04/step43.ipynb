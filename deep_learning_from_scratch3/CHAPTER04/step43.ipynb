{
 "cells": [
  {
   "cell_type": "code",
   "execution_count": 1,
   "id": "d42de078",
   "metadata": {},
   "outputs": [],
   "source": [
    "import numpy as np\n",
    "\n",
    "np.random.seed(0)\n",
    "x = np.random.rand(100, 1)\n",
    "y = np.sin(2 * np.pi * x) + np.random.rand(100, 1)"
   ]
  },
  {
   "cell_type": "code",
   "execution_count": 2,
   "id": "6228b66e",
   "metadata": {},
   "outputs": [
    {
     "data": {
      "image/png": "[encoded data removed]",
      "text/plain": [
       "<Figure size 432x288 with 1 Axes>"
      ]
     },
     "metadata": {
      "needs_background": "light"
     },
     "output_type": "display_data"
    }
   ],
   "source": [
    "import matplotlib.pyplot as plt\n",
    "\n",
    "plt.scatter(x, y)\n",
    "plt.show()"
   ]
  },
  {
   "cell_type": "code",
   "execution_count": 3,
   "id": "2799ae79",
   "metadata": {},
   "outputs": [],
   "source": [
    "import sys\n",
    "sys.path.append('..')\n",
    "from dezero import *"
   ]
  },
  {
   "cell_type": "code",
   "execution_count": 4,
   "id": "1f4f1db4",
   "metadata": {},
   "outputs": [],
   "source": [
    "y1 = F.sin(x)"
   ]
  },
  {
   "cell_type": "code",
   "execution_count": 5,
   "id": "07be2bcf",
   "metadata": {},
   "outputs": [],
   "source": [
    "y1.backward()"
   ]
  },
  {
   "cell_type": "code",
   "execution_count": 6,
   "id": "fd611d30",
   "metadata": {},
   "outputs": [
    {
     "name": "stdout",
     "output_type": "stream",
     "text": [
      "variable(2)\n"
     ]
    }
   ],
   "source": [
    "x1 = Variable(np.array(1))\n",
    "y1 = F.square(x1)\n",
    "y1.backward()\n",
    "print(x1.grad)"
   ]
  },
  {
   "cell_type": "code",
   "execution_count": 7,
   "id": "817a1404",
   "metadata": {},
   "outputs": [
    {
     "name": "stdout",
     "output_type": "stream",
     "text": [
      "variable(2.718281828459045)\n"
     ]
    }
   ],
   "source": [
    "x2 = Variable(np.array(1))\n",
    "y2 = F.exp(x2)\n",
    "y2.backward()\n",
    "print(x2.grad)"
   ]
  },
  {
   "cell_type": "code",
   "execution_count": 8,
   "id": "c414c7ed",
   "metadata": {},
   "outputs": [
    {
     "name": "stdout",
     "output_type": "stream",
     "text": [
      "variable(0.5)\n",
      "variable(0.25)\n"
     ]
    }
   ],
   "source": [
    "x3 = Variable(np.array(0))\n",
    "y3 = F.sigmoid(x3)\n",
    "print(y3)\n",
    "y3.backward()\n",
    "print(x3.grad)"
   ]
  },
  {
   "cell_type": "code",
   "execution_count": 9,
   "id": "67a8f27a",
   "metadata": {},
   "outputs": [
    {
     "name": "stdout",
     "output_type": "stream",
     "text": [
      "variable(0.5)\n",
      "variable(0.25)\n"
     ]
    }
   ],
   "source": [
    "y3a = F.sigmoid_simple(Variable(np.array(0)))\n",
    "print(y3a)\n",
    "y3g = y3a * (1 - y3a)\n",
    "print(y3g)"
   ]
  },
  {
   "cell_type": "code",
   "execution_count": 10,
   "id": "3d16424f",
   "metadata": {},
   "outputs": [],
   "source": [
    "I, H, O = 1, 10, 1\n",
    "W1 = Variable(0.01 * np.random.rand(I, H))\n",
    "b1 = Variable(np.zeros(H))\n",
    "W2 = Variable(0.01 * np.random.randn(H, O))\n",
    "b2 = Variable(np.zeros(O))"
   ]
  },
  {
   "cell_type": "code",
   "execution_count": 11,
   "id": "c1cd7f4c",
   "metadata": {},
   "outputs": [],
   "source": [
    "def predict(x):\n",
    "    y = F.linear(x, W1, b1)\n",
    "    y = F.sigmoid(y)\n",
    "    y = F.linear(y, W2, b2)\n",
    "    return y"
   ]
  },
  {
   "cell_type": "code",
   "execution_count": 12,
   "id": "f832d494",
   "metadata": {},
   "outputs": [],
   "source": [
    "lr = 0.2\n",
    "iters = 10000"
   ]
  },
  {
   "cell_type": "code",
   "execution_count": 13,
   "id": "d36639e7",
   "metadata": {},
   "outputs": [
    {
     "name": "stdout",
     "output_type": "stream",
     "text": [
      "variable(0.8475313866144301)\n",
      "variable(0.25232389884593825)\n",
      "variable(0.2500918056843659)\n",
      "variable(0.24601237495288772)\n",
      "variable(0.23309409381441137)\n",
      "variable(0.20212246335742423)\n",
      "variable(0.1445448518068143)\n",
      "variable(0.08640252517630508)\n",
      "variable(0.07825670987440754)\n",
      "variable(0.07763945840744242)\n"
     ]
    }
   ],
   "source": [
    "for i in range(iters):\n",
    "    y_pred = predict(x)\n",
    "    loss = F.mean_squared_error(y, y_pred)\n",
    "    \n",
    "    W1.cleargrad()\n",
    "    b1.cleargrad()\n",
    "    W2.cleargrad()\n",
    "    b2.cleargrad()\n",
    "    loss.backward()\n",
    "    \n",
    "    W1.data -= lr * W1.grad.data\n",
    "    b1.data -= lr * b1.grad.data\n",
    "    W2.data -= lr * W2.grad.data\n",
    "    b2.data -= lr * b2.grad.data\n",
    "    if i % 1000 == 0:\n",
    "        print(loss)"
   ]
  },
  {
   "cell_type": "code",
   "execution_count": 14,
   "id": "85b1a92e",
   "metadata": {},
   "outputs": [],
   "source": [
    "x = np.random.rand(100, 1)\n",
    "y = np.sin(2 * np.pi * x) + np.random.rand(100, 1)"
   ]
  },
  {
   "cell_type": "code",
   "execution_count": 15,
   "id": "2730ace9",
   "metadata": {},
   "outputs": [
    {
     "name": "stdout",
     "output_type": "stream",
     "text": [
      "[[ 0.63571971]\n",
      " [ 0.68143117]\n",
      " [ 0.72686704]\n",
      " [ 0.77197704]\n",
      " [ 0.8167069 ]\n",
      " [ 0.86099804]\n",
      " [ 0.90478723]\n",
      " [ 0.94800623]\n",
      " [ 0.99058143]\n",
      " [ 1.03243347]\n",
      " [ 1.07347685]\n",
      " [ 1.11361954]\n",
      " [ 1.15276258]\n",
      " [ 1.19079973]\n",
      " [ 1.22761708]\n",
      " [ 1.26309273]\n",
      " [ 1.29709653]\n",
      " [ 1.32948983]\n",
      " [ 1.36012539]\n",
      " [ 1.38884732]\n",
      " [ 1.41549121]\n",
      " [ 1.4398844 ]\n",
      " [ 1.46184648]\n",
      " [ 1.48118999]\n",
      " [ 1.49772139]\n",
      " [ 1.51124242]\n",
      " [ 1.52155173]\n",
      " [ 1.52844696]\n",
      " [ 1.53172724]\n",
      " [ 1.5311961 ]\n",
      " [ 1.52666492]\n",
      " [ 1.51795681]\n",
      " [ 1.50491092]\n",
      " [ 1.48738718]\n",
      " [ 1.46527134]\n",
      " [ 1.43848019]\n",
      " [ 1.40696691]\n",
      " [ 1.3707263 ]\n",
      " [ 1.32979959]\n",
      " [ 1.28427881]\n",
      " [ 1.2343103 ]\n",
      " [ 1.18009717]\n",
      " [ 1.12190037]\n",
      " [ 1.06003843]\n",
      " [ 0.99488534]\n",
      " [ 0.92686682]\n",
      " [ 0.85645475]\n",
      " [ 0.78416004]\n",
      " [ 0.71052396]\n",
      " [ 0.63610836]\n",
      " [ 0.56148506]\n",
      " [ 0.4872248 ]\n",
      " [ 0.41388635]\n",
      " [ 0.34200601]\n",
      " [ 0.27208802]\n",
      " [ 0.20459626]\n",
      " [ 0.13994741]\n",
      " [ 0.0785058 ]\n",
      " [ 0.02058003]\n",
      " [-0.0335787 ]\n",
      " [-0.0837766 ]\n",
      " [-0.12987584]\n",
      " [-0.17179188]\n",
      " [-0.20948971]\n",
      " [-0.24297944]\n",
      " [-0.27231127]\n",
      " [-0.29757034]\n",
      " [-0.31887133]\n",
      " [-0.3363533 ]\n",
      " [-0.35017472]\n",
      " [-0.3605088 ]\n",
      " [-0.36753932]\n",
      " [-0.37145682]\n",
      " [-0.37245532]\n",
      " [-0.37072948]\n",
      " [-0.36647219]\n",
      " [-0.35987266]\n",
      " [-0.35111479]\n",
      " [-0.34037599]\n",
      " [-0.32782623]\n",
      " [-0.31362741]\n",
      " [-0.29793292]\n",
      " [-0.28088744]\n",
      " [-0.26262684]\n",
      " [-0.24327828]\n",
      " [-0.22296031]\n",
      " [-0.20178319]\n",
      " [-0.17984914]\n",
      " [-0.15725269]\n",
      " [-0.13408108]\n",
      " [-0.11041464]\n",
      " [-0.08632717]\n",
      " [-0.06188641]\n",
      " [-0.03715433]\n",
      " [-0.01218762]\n",
      " [ 0.01296198]\n",
      " [ 0.03824734]\n",
      " [ 0.06362554]\n",
      " [ 0.08905762]\n",
      " [ 0.1145082 ]]\n"
     ]
    }
   ],
   "source": [
    "x1 = np.arange(0, 1, 0.01).reshape((100, 1))\n",
    "y1 = F.linear(F.sigmoid(F.linear(x1, W1, b1)), W2, b2)\n",
    "#print(y1.data)"
   ]
  },
  {
   "cell_type": "code",
   "execution_count": 16,
   "id": "be990a96",
   "metadata": {},
   "outputs": [
    {
     "data": {
      "image/png": "[encoded data removed]",
      "text/plain": [
       "<Figure size 432x288 with 1 Axes>"
      ]
     },
     "metadata": {
      "needs_background": "light"
     },
     "output_type": "display_data"
    }
   ],
   "source": [
    "plt.plot(x1, y1.data, color='red')\n",
    "plt.scatter(x, y)\n",
    "plt.show()"
   ]
  },
  {
   "cell_type": "code",
   "execution_count": null,
   "id": "fdefb14a",
   "metadata": {},
   "outputs": [],
   "source": []
  }
 ],
 "metadata": {
  "kernelspec": {
   "display_name": "Python 3",
   "language": "python",
   "name": "python3"
  },
  "language_info": {
   "codemirror_mode": {
    "name": "ipython",
    "version": 3
   },
   "file_extension": ".py",
   "mimetype": "text/x-python",
   "name": "python",
   "nbconvert_exporter": "python",
   "pygments_lexer": "ipython3",
   "version": "3.8.2"
  }
 },
 "nbformat": 4,
 "nbformat_minor": 5
}
