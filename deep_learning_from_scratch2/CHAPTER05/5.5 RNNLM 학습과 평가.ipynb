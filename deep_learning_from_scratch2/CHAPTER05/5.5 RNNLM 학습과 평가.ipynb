{
 "cells": [
  {
   "cell_type": "code",
   "execution_count": 1,
   "id": "c72d0c11",
   "metadata": {},
   "outputs": [],
   "source": [
    "import sys\n",
    "sys.path.append('..')\n",
    "import numpy as np\n",
    "from common.time_layers import *"
   ]
  },
  {
   "cell_type": "code",
   "execution_count": 2,
   "id": "95277a40",
   "metadata": {},
   "outputs": [],
   "source": [
    "class SimpleRnnlm:\n",
    "    def __init__(self, vocab_size, wordvec_size, hidden_size):\n",
    "        V, D, H = vocab_size, wordvec_size, hidden_size\n",
    "        rn = np.random.randn\n",
    "        \n",
    "        embed_W = (rn(V, D) / 100).astype('f')\n",
    "        rnn_Wx = (rn(D, H) / np.sqrt(D)).astype('f')\n",
    "        rnn_Wh = (rn(H, H) / np.sqrt(H)).astype('f')\n",
    "        rnn_b = np.zeros(H).astype('f')\n",
    "        affine_W = (rn(H, V) / np.sqrt(H)).astype('f')\n",
    "        affine_b = np.zeros(V).astype('f')\n",
    "        \n",
    "        self.layers = [\n",
    "            TimeEmbedding(embed_W),\n",
    "            TimeRNN(rnn_Wx, rnn_Wh, rnn_b, stateful=True),\n",
    "            TimeAffine(affine_W, affine_b)\n",
    "        ]\n",
    "        self.loss_layer = TimeSoftmaxWithLoss()\n",
    "        self.rnn_layer = self.layers[1]\n",
    "        \n",
    "        self.params, self.grads = [], []\n",
    "        for layer in self.layers:\n",
    "            self.params += layer.params\n",
    "            self.grads += layer.grads\n",
    "            \n",
    "    def forward(self, xs, ts):\n",
    "        for layer in self.layers:\n",
    "            xs = layer.forward(xs)\n",
    "            \n",
    "        loss = self.loss_layer.forward(xs, ts)\n",
    "        return loss\n",
    "    \n",
    "    def backward(self, dout=1):\n",
    "        dout = self.loss_layer.backward(dout)\n",
    "        for layer in reversed(self.layers):\n",
    "            dout = layer.backward(dout)\n",
    "        \n",
    "        return dout\n",
    "    \n",
    "    def reset_state(self):\n",
    "        self.rnn_layer.reset_state()"
   ]
  },
  {
   "cell_type": "code",
   "execution_count": 3,
   "id": "f591665e",
   "metadata": {},
   "outputs": [],
   "source": [
    "import matplotlib.pyplot as plt\n",
    "from common.optimizer import SGD\n",
    "from dataset import ptb"
   ]
  },
  {
   "cell_type": "code",
   "execution_count": 4,
   "id": "409d8619",
   "metadata": {},
   "outputs": [],
   "source": [
    "batch_size = 10\n",
    "wordvec_size = 100\n",
    "hidden_size = 100\n",
    "time_size = 5\n",
    "lr = .1\n",
    "max_epoch = 100"
   ]
  },
  {
   "cell_type": "code",
   "execution_count": 5,
   "id": "58eee809",
   "metadata": {},
   "outputs": [],
   "source": [
    "corpus, word_to_id, id_to_word = ptb.load_data('train')\n",
    "corpus_size = 1000\n",
    "corpus = corpus[:corpus_size]\n",
    "vocab_size = int(max(corpus) + 1)"
   ]
  },
  {
   "cell_type": "code",
   "execution_count": 6,
   "id": "b6d2aefb",
   "metadata": {},
   "outputs": [
    {
     "name": "stdout",
     "output_type": "stream",
     "text": [
      "corpus size: 1000, vocabulary size: 418\n"
     ]
    }
   ],
   "source": [
    "xs = corpus[:-1]\n",
    "ts = corpus[1:]\n",
    "data_size = len(xs)\n",
    "print('corpus size: %d, vocabulary size: %d' % (corpus_size, vocab_size))"
   ]
  },
  {
   "cell_type": "code",
   "execution_count": 7,
   "id": "ce53676e",
   "metadata": {},
   "outputs": [],
   "source": [
    "max_iters = data_size // (batch_size * time_size)\n",
    "time_idx = 0\n",
    "total_loss = 0\n",
    "loss_count = 0\n",
    "ppl_list = []"
   ]
  },
  {
   "cell_type": "code",
   "execution_count": 8,
   "id": "0a48b436",
   "metadata": {},
   "outputs": [],
   "source": [
    "model = SimpleRnnlm(vocab_size, wordvec_size, hidden_size)\n",
    "optimizer = SGD(lr)"
   ]
  },
  {
   "cell_type": "code",
   "execution_count": 9,
   "id": "6a40ddd3",
   "metadata": {},
   "outputs": [],
   "source": [
    "jump = (corpus_size - 1) // batch_size\n",
    "offsets = [i * jump for i in range(batch_size)]"
   ]
  },
  {
   "cell_type": "code",
   "execution_count": 10,
   "id": "df2324ce",
   "metadata": {
    "scrolled": true
   },
   "outputs": [
    {
     "name": "stdout",
     "output_type": "stream",
     "text": [
      "| epoch 1 | perplexity 368.78\n",
      "| epoch 2 | perplexity 246.65\n",
      "| epoch 3 | perplexity 221.68\n",
      "| epoch 4 | perplexity 213.35\n",
      "| epoch 5 | perplexity 204.25\n",
      "| epoch 6 | perplexity 201.80\n",
      "| epoch 7 | perplexity 197.60\n",
      "| epoch 8 | perplexity 196.69\n",
      "| epoch 9 | perplexity 191.62\n",
      "| epoch 10 | perplexity 191.78\n",
      "| epoch 11 | perplexity 188.76\n",
      "| epoch 12 | perplexity 192.23\n",
      "| epoch 13 | perplexity 189.02\n",
      "| epoch 14 | perplexity 190.57\n",
      "| epoch 15 | perplexity 189.36\n",
      "| epoch 16 | perplexity 185.95\n",
      "| epoch 17 | perplexity 184.10\n",
      "| epoch 18 | perplexity 181.16\n",
      "| epoch 19 | perplexity 181.42\n",
      "| epoch 20 | perplexity 182.51\n",
      "| epoch 21 | perplexity 180.72\n",
      "| epoch 22 | perplexity 176.07\n",
      "| epoch 23 | perplexity 173.55\n",
      "| epoch 24 | perplexity 173.90\n",
      "| epoch 25 | perplexity 171.83\n",
      "| epoch 26 | perplexity 173.28\n",
      "| epoch 27 | perplexity 167.98\n",
      "| epoch 28 | perplexity 163.89\n",
      "| epoch 29 | perplexity 160.29\n",
      "| epoch 30 | perplexity 158.58\n",
      "| epoch 31 | perplexity 156.33\n",
      "| epoch 32 | perplexity 151.24\n",
      "| epoch 33 | perplexity 149.65\n",
      "| epoch 34 | perplexity 147.18\n",
      "| epoch 35 | perplexity 143.30\n",
      "| epoch 36 | perplexity 137.62\n",
      "| epoch 37 | perplexity 133.23\n",
      "| epoch 38 | perplexity 131.18\n",
      "| epoch 39 | perplexity 125.19\n",
      "| epoch 40 | perplexity 123.11\n",
      "| epoch 41 | perplexity 122.54\n",
      "| epoch 42 | perplexity 114.26\n",
      "| epoch 43 | perplexity 108.71\n",
      "| epoch 44 | perplexity 104.42\n",
      "| epoch 45 | perplexity 102.08\n",
      "| epoch 46 | perplexity 99.54\n",
      "| epoch 47 | perplexity 93.01\n",
      "| epoch 48 | perplexity 89.89\n",
      "| epoch 49 | perplexity 85.49\n",
      "| epoch 50 | perplexity 82.53\n",
      "| epoch 51 | perplexity 76.55\n",
      "| epoch 52 | perplexity 74.20\n",
      "| epoch 53 | perplexity 72.24\n",
      "| epoch 54 | perplexity 67.61\n",
      "| epoch 55 | perplexity 65.08\n",
      "| epoch 56 | perplexity 60.80\n",
      "| epoch 57 | perplexity 58.22\n",
      "| epoch 58 | perplexity 55.54\n",
      "| epoch 59 | perplexity 52.64\n",
      "| epoch 60 | perplexity 49.67\n",
      "| epoch 61 | perplexity 47.02\n",
      "| epoch 62 | perplexity 45.77\n",
      "| epoch 63 | perplexity 41.61\n",
      "| epoch 64 | perplexity 39.67\n",
      "| epoch 65 | perplexity 39.35\n",
      "| epoch 66 | perplexity 36.67\n",
      "| epoch 67 | perplexity 35.04\n",
      "| epoch 68 | perplexity 31.58\n",
      "| epoch 69 | perplexity 31.22\n",
      "| epoch 70 | perplexity 29.57\n",
      "| epoch 71 | perplexity 27.71\n",
      "| epoch 72 | perplexity 25.48\n",
      "| epoch 73 | perplexity 25.21\n",
      "| epoch 74 | perplexity 24.10\n",
      "| epoch 75 | perplexity 23.11\n",
      "| epoch 76 | perplexity 20.70\n",
      "| epoch 77 | perplexity 19.91\n",
      "| epoch 78 | perplexity 18.51\n",
      "| epoch 79 | perplexity 17.43\n",
      "| epoch 80 | perplexity 16.88\n",
      "| epoch 81 | perplexity 16.44\n",
      "| epoch 82 | perplexity 15.44\n",
      "| epoch 83 | perplexity 14.71\n",
      "| epoch 84 | perplexity 14.08\n",
      "| epoch 85 | perplexity 13.20\n",
      "| epoch 86 | perplexity 12.86\n",
      "| epoch 87 | perplexity 12.33\n",
      "| epoch 88 | perplexity 11.09\n",
      "| epoch 89 | perplexity 10.71\n",
      "| epoch 90 | perplexity 10.62\n",
      "| epoch 91 | perplexity 10.08\n",
      "| epoch 92 | perplexity 9.53\n",
      "| epoch 93 | perplexity 8.77\n",
      "| epoch 94 | perplexity 8.42\n",
      "| epoch 95 | perplexity 7.88\n",
      "| epoch 96 | perplexity 7.76\n",
      "| epoch 97 | perplexity 7.19\n",
      "| epoch 98 | perplexity 7.02\n",
      "| epoch 99 | perplexity 6.96\n",
      "| epoch 100 | perplexity 6.16\n"
     ]
    }
   ],
   "source": [
    "for epoch in range(max_epoch):\n",
    "    for iter in range(max_iters):\n",
    "        batch_x = np.empty((batch_size, time_size), dtype='i')\n",
    "        batch_t = np.empty((batch_size, time_size), dtype='i')\n",
    "        for t in range(time_size):\n",
    "            for i, offset in enumerate(offsets):\n",
    "                batch_x[i, t] = xs[(offset + time_idx) % data_size]\n",
    "                batch_t[i, t] = ts[(offset + time_idx) % data_size]\n",
    "            time_idx += 1\n",
    "            \n",
    "        loss = model.forward(batch_x, batch_t)\n",
    "        model.backward()\n",
    "        optimizer.update(model.params, model.grads)\n",
    "        total_loss += loss\n",
    "        loss_count += 1\n",
    "        \n",
    "    ppl = np.exp(total_loss / loss_count)\n",
    "    print('| epoch %d | perplexity %.2f' % (epoch + 1, ppl))\n",
    "    \n",
    "    ppl_list.append(float(ppl))\n",
    "    total_loss, loss_count = 0, 0"
   ]
  },
  {
   "cell_type": "code",
   "execution_count": 12,
   "id": "48b973bf",
   "metadata": {},
   "outputs": [
    {
     "data": {
      "image/png": "[encoded data removed]",
      "text/plain": [
       "<Figure size 432x288 with 1 Axes>"
      ]
     },
     "metadata": {
      "needs_background": "light"
     },
     "output_type": "display_data"
    }
   ],
   "source": [
    "plt.plot(range(max_epoch), ppl_list)\n",
    "plt.show()"
   ]
  },
  {
   "cell_type": "code",
   "execution_count": null,
   "id": "63b4b30f",
   "metadata": {},
   "outputs": [],
   "source": []
  }
 ],
 "metadata": {
  "kernelspec": {
   "display_name": "Python 3",
   "language": "python",
   "name": "python3"
  },
  "language_info": {
   "codemirror_mode": {
    "name": "ipython",
    "version": 3
   },
   "file_extension": ".py",
   "mimetype": "text/x-python",
   "name": "python",
   "nbconvert_exporter": "python",
   "pygments_lexer": "ipython3",
   "version": "3.8.2"
  }
 },
 "nbformat": 4,
 "nbformat_minor": 5
}
