{
 "cells": [
  {
   "cell_type": "code",
   "execution_count": 1,
   "id": "0366048f",
   "metadata": {},
   "outputs": [],
   "source": [
    "import sys\n",
    "sys.path.append('..')\n",
    "import numpy as np\n",
    "from common.functions import softmax\n",
    "from rnnlm import Rnnlm\n",
    "from better_rnnlm import BetterRnnlm"
   ]
  },
  {
   "cell_type": "code",
   "execution_count": 2,
   "id": "003ae8ff",
   "metadata": {},
   "outputs": [],
   "source": [
    "class RnnlmGen(Rnnlm):\n",
    "    def generate(self, start_id, skip_ids=None, sample_size=100):\n",
    "        word_ids = [start_id]\n",
    "        \n",
    "        x = start_id\n",
    "        while len(word_ids) < sample_size:\n",
    "            x = np.array(x).reshape(1, 1)\n",
    "            score = self.predict(x)\n",
    "            p = softmax(score.flatten())\n",
    "            \n",
    "            sampled = np.random.choice(len(p), size=1, p=p)\n",
    "            if (skip_ids is None) or (sampled not in skip_ids):\n",
    "                x = sampled\n",
    "                word_ids.append(int(x))\n",
    "                \n",
    "        return word_ids"
   ]
  },
  {
   "cell_type": "code",
   "execution_count": 3,
   "id": "6d7eedf4",
   "metadata": {},
   "outputs": [],
   "source": [
    "from dataset import ptb\n",
    "\n",
    "corpus, word_to_id, id_to_word = ptb.load_data('train')\n",
    "vocab_size = len(word_to_id)\n",
    "corpus_size = len(corpus)\n",
    "\n",
    "model = RnnlmGen()\n",
    "model.load_params('Rnnlm.pkl')"
   ]
  },
  {
   "cell_type": "code",
   "execution_count": 4,
   "id": "97631804",
   "metadata": {},
   "outputs": [],
   "source": [
    "start_word = 'winter'\n",
    "start_id = word_to_id[start_word]\n",
    "skip_words = ['N', '<unk>', '$']\n",
    "skip_ids = [word_to_id[w] for w in skip_words]"
   ]
  },
  {
   "cell_type": "code",
   "execution_count": 5,
   "id": "01119138",
   "metadata": {},
   "outputs": [
    {
     "name": "stdout",
     "output_type": "stream",
     "text": [
      "winter.\n",
      " a test spokesman said.\n",
      " the merc will irving l. paul has said.\n",
      " the proposal will reduce its interest share through a nearly about to a common shares and help months without strong gains growth about doubled pont into their products and equity.\n",
      " we make a independent quantities of prints at the study is content.\n",
      " at sci earnings calculations far more.\n",
      " if we do n't think we expect a child stocks and the impact of quality fraudulent benefits.\n",
      " last year a grower spokesman said.\n",
      " but his hospital was rumors of our own\n"
     ]
    }
   ],
   "source": [
    "word_ids = model.generate(start_id, skip_ids)\n",
    "txt = ' '.join([id_to_word[i] for i in word_ids])\n",
    "txt = txt.replace(' <eos>', '.\\n')\n",
    "print(txt)"
   ]
  },
  {
   "cell_type": "code",
   "execution_count": 6,
   "id": "ed17c524",
   "metadata": {},
   "outputs": [
    {
     "name": "stdout",
     "output_type": "stream",
     "text": [
      "summer after all wrongdoing.\n",
      " those times in the case of new york city consultants need to suspect.\n",
      " over the past decade.\n",
      " voters have been held mitsubishi of the country 's fruit visitors.\n",
      " the fda 's earmarked it marked this spring that the beebes for the alcohol company were slashed as it approved behalf of american investigations ' billing efforts.\n",
      " the principles of prosecutors.\n",
      " matter low from the first phase of madrid in the state teacher has refused to remedy the judicial frenzy.\n",
      " it is also classic ratings for ruling the grants of rico\n",
      "--------------------------------------------------\n",
      "the meaning of life is looking for ways one of several banks to resume and after the end of a month.\n",
      " federal officials said the transaction could be restored after only next year.\n",
      " the higher date of resources and the air force of value ex-dividend said one of its five major companies featuring plastic film shows in the face of material and improved results.\n",
      " the company said the announcement is a new commissioner of this has been a retreat from high sales.\n",
      " the company is sitting out on the cost of other investment specialists to write out their operating staffs\n"
     ]
    }
   ],
   "source": [
    "from generate_better_text import *"
   ]
  }
 ],
 "metadata": {
  "kernelspec": {
   "display_name": "Python 3",
   "language": "python",
   "name": "python3"
  },
  "language_info": {
   "codemirror_mode": {
    "name": "ipython",
    "version": 3
   },
   "file_extension": ".py",
   "mimetype": "text/x-python",
   "name": "python",
   "nbconvert_exporter": "python",
   "pygments_lexer": "ipython3",
   "version": "3.8.2"
  }
 },
 "nbformat": 4,
 "nbformat_minor": 5
}
