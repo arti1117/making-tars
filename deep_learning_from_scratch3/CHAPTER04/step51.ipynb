{
 "cells": [
  {
   "cell_type": "code",
   "execution_count": 1,
   "id": "573c5522",
   "metadata": {},
   "outputs": [],
   "source": [
    "import sys\n",
    "sys.path.append('..')\n",
    "import numpy as np\n",
    "from dezero import *\n",
    "import math"
   ]
  },
  {
   "cell_type": "code",
   "execution_count": 2,
   "id": "4fe60edb",
   "metadata": {},
   "outputs": [],
   "source": [
    "max_epoch = 5\n",
    "batch_size = 100\n",
    "hidden_size = 1000"
   ]
  },
  {
   "cell_type": "code",
   "execution_count": 3,
   "id": "5ae605b2",
   "metadata": {},
   "outputs": [],
   "source": [
    "train_set = datasets.MNIST(train=True)\n",
    "test_set = datasets.MNIST(train=False)\n",
    "train_loader = DataLoader(train_set, batch_size)\n",
    "test_loader = DataLoader(test_set, batch_size, shuffle=False)"
   ]
  },
  {
   "cell_type": "code",
   "execution_count": 4,
   "id": "0c038de5",
   "metadata": {},
   "outputs": [],
   "source": [
    "model = MLP((hidden_size, 10))\n"
   ]
  },
  {
   "cell_type": "code",
   "execution_count": 5,
   "id": "f32e3ab8",
   "metadata": {},
   "outputs": [],
   "source": [
    "optimizer = optimizers.SGD().setup(model)"
   ]
  },
  {
   "cell_type": "code",
   "execution_count": 6,
   "id": "aa621abc",
   "metadata": {},
   "outputs": [
    {
     "name": "stdout",
     "output_type": "stream",
     "text": [
      "epoch 1, loss 1.91, accuracy 0.5563\n",
      "test loss 0.26, accuracy 0.1229\n",
      "epoch 2, loss 1.28, accuracy 0.7733\n",
      "test loss 0.17, accuracy 0.1365\n",
      "epoch 3, loss 0.92, accuracy 0.8213\n",
      "test loss 0.13, accuracy 0.1407\n",
      "epoch 4, loss 0.74, accuracy 0.8424\n",
      "test loss 0.11, accuracy 0.1432\n",
      "epoch 5, loss 0.63, accuracy 0.8555\n",
      "test loss 0.10, accuracy 0.1442\n"
     ]
    }
   ],
   "source": [
    "for epoch in range(max_epoch):\n",
    "    sum_loss, sum_acc = 0, 0\n",
    "    \n",
    "    for x, t in train_loader:        \n",
    "        y = model(x)\n",
    "        loss = F.softmax_cross_entropy(y, t)\n",
    "        acc = F.accuracy(y, t)\n",
    "        model.cleargrads()\n",
    "        loss.backward()\n",
    "        optimizer.update()\n",
    "        \n",
    "        sum_loss += float(loss.data) * len(t)\n",
    "        sum_acc += float(acc.data) * len(t)\n",
    "        \n",
    "    print('epoch %d, loss %.2f, accuracy %.4f' % \n",
    "          (epoch + 1, sum_loss / len(train_set), sum_acc / len(train_set)))\n",
    "    \n",
    "    sum_loss, sum_acc = 0, 0\n",
    "    with no_grad():\n",
    "        for x, t in test_loader:\n",
    "            y = model(x)\n",
    "            loss = F.softmax_cross_entropy(y, t)\n",
    "            acc = F.accuracy(y, t)\n",
    "            \n",
    "            sum_loss += float(loss.data) * len(t)\n",
    "            sum_acc += float(acc.data) * len(t)\n",
    "    \n",
    "    print('test loss %.2f, accuracy %.4f' % \n",
    "          (sum_loss / len(train_set), sum_acc / len(train_set)))"
   ]
  },
  {
   "cell_type": "code",
   "execution_count": 7,
   "id": "a90199d0",
   "metadata": {},
   "outputs": [],
   "source": [
    "model = MLP((hidden_size, hidden_size, 10), activation=F.relu)\n",
    "optimizer = optimizers.SGD().setup(model)"
   ]
  },
  {
   "cell_type": "code",
   "execution_count": 8,
   "id": "a4c4add0",
   "metadata": {},
   "outputs": [
    {
     "name": "stdout",
     "output_type": "stream",
     "text": [
      "epoch 1, loss 1.07, accuracy 0.7735\n",
      "test loss 0.08, accuracy 0.1466\n",
      "epoch 2, loss 0.42, accuracy 0.8883\n",
      "test loss 0.06, accuracy 0.1508\n",
      "epoch 3, loss 0.34, accuracy 0.9050\n",
      "test loss 0.05, accuracy 0.1525\n",
      "epoch 4, loss 0.30, accuracy 0.9141\n",
      "test loss 0.05, accuracy 0.1539\n",
      "epoch 5, loss 0.28, accuracy 0.9213\n",
      "test loss 0.04, accuracy 0.1546\n"
     ]
    }
   ],
   "source": [
    "for epoch in range(max_epoch):\n",
    "    sum_loss, sum_acc = 0, 0\n",
    "    \n",
    "    for x, t in train_loader:        \n",
    "        y = model(x)\n",
    "        loss = F.softmax_cross_entropy(y, t)\n",
    "        acc = F.accuracy(y, t)\n",
    "        model.cleargrads()\n",
    "        loss.backward()\n",
    "        optimizer.update()\n",
    "        \n",
    "        sum_loss += float(loss.data) * len(t)\n",
    "        sum_acc += float(acc.data) * len(t)\n",
    "        \n",
    "    print('epoch %d, loss %.2f, accuracy %.4f' % \n",
    "          (epoch + 1, sum_loss / len(train_set), sum_acc / len(train_set)))\n",
    "    \n",
    "    sum_loss, sum_acc = 0, 0\n",
    "    with no_grad():\n",
    "        for x, t in test_loader:\n",
    "            y = model(x)\n",
    "            loss = F.softmax_cross_entropy(y, t)\n",
    "            acc = F.accuracy(y, t)\n",
    "            \n",
    "            sum_loss += float(loss.data) * len(t)\n",
    "            sum_acc += float(acc.data) * len(t)\n",
    "    \n",
    "    print('test loss %.2f, accuracy %.4f' % \n",
    "          (sum_loss / len(train_set), sum_acc / len(train_set)))"
   ]
  }
 ],
 "metadata": {
  "kernelspec": {
   "display_name": "Python 3",
   "language": "python",
   "name": "python3"
  },
  "language_info": {
   "codemirror_mode": {
    "name": "ipython",
    "version": 3
   },
   "file_extension": ".py",
   "mimetype": "text/x-python",
   "name": "python",
   "nbconvert_exporter": "python",
   "pygments_lexer": "ipython3",
   "version": "3.8.2"
  }
 },
 "nbformat": 4,
 "nbformat_minor": 5
}
