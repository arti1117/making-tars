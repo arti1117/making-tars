{
 "cells": [
  {
   "cell_type": "code",
   "execution_count": 2,
   "id": "ca05f497",
   "metadata": {},
   "outputs": [
    {
     "name": "stdout",
     "output_type": "stream",
     "text": [
      "Collecting xgboost\n",
      "  Downloading xgboost-1.4.2-py3-none-manylinux2010_x86_64.whl (166.7 MB)\n",
      "\u001b[K     |████████████████████████████████| 166.7 MB 3.5 MB/s eta 0:00:011    |██████▍                         | 33.0 MB 1.0 MB/s eta 0:02:10\n",
      "\u001b[?25hRequirement already satisfied: numpy in /home/arti/snap/anaconda3/lib/python3.8/site-packages (from xgboost) (1.20.2)\n",
      "Requirement already satisfied: scipy in /home/arti/snap/anaconda3/lib/python3.8/site-packages (from xgboost) (1.7.1)\n",
      "Installing collected packages: xgboost\n",
      "Successfully installed xgboost-1.4.2\n"
     ]
    }
   ],
   "source": [
    "!pip install xgboost"
   ]
  },
  {
   "cell_type": "code",
   "execution_count": 3,
   "id": "cb948872",
   "metadata": {},
   "outputs": [],
   "source": [
    "import numpy as np\n",
    "import xgboost as xgb\n",
    "from sklearn.metrics import log_loss"
   ]
  },
  {
   "cell_type": "code",
   "execution_count": 11,
   "id": "d72949e0",
   "metadata": {},
   "outputs": [],
   "source": [
    "tr_x = np.array([[1, 2, 3, 4, 5], [2, 3, 4, 5, 6]])\n",
    "tr_y = np.array([[0], [1]])\n",
    "\n",
    "va_x = np.array([[5, 4, 3, 2, 1], [6, 5, 4, 3, 2]])\n",
    "va_y = np.array([[1], [0]])"
   ]
  },
  {
   "cell_type": "code",
   "execution_count": 12,
   "id": "fcdfaeb0",
   "metadata": {},
   "outputs": [],
   "source": [
    "dtrain = xgb.DMatrix(tr_x, label=tr_y)\n",
    "dvalid = xgb.DMatrix(va_x, label=va_y)"
   ]
  },
  {
   "cell_type": "code",
   "execution_count": 13,
   "id": "b5f6362e",
   "metadata": {},
   "outputs": [],
   "source": [
    "def logregobj(preds, dtrain):\n",
    "    labels = dtrain.get_label()\n",
    "    preds = 1.0 / (1.0 + np.exp(-preds))\n",
    "    grad = preds - labels\n",
    "    hess = preds * (1.0 - preds)\n",
    "    return grad, hess"
   ]
  },
  {
   "cell_type": "code",
   "execution_count": 14,
   "id": "b1786ae1",
   "metadata": {},
   "outputs": [],
   "source": [
    "def evalerror(preds, dtrain):\n",
    "    labels = dtrain.get_label()\n",
    "    return 'custom-error', float(sum(labels != (preds > 0.5))) / len(labels)"
   ]
  },
  {
   "cell_type": "code",
   "execution_count": 15,
   "id": "b2fd2c4c",
   "metadata": {},
   "outputs": [
    {
     "data": {
      "text/plain": [
       "array([0., 1.], dtype=float32)"
      ]
     },
     "execution_count": 15,
     "metadata": {},
     "output_type": "execute_result"
    }
   ],
   "source": [
    "dtrain.get_label()"
   ]
  },
  {
   "cell_type": "code",
   "execution_count": 16,
   "id": "4d5214ce",
   "metadata": {},
   "outputs": [],
   "source": [
    "params = {'verbosity':0, 'random_state': 71}\n",
    "num_round = 50\n",
    "watchlist = [(dtrain, 'train'), (dvalid, 'eval')]"
   ]
  },
  {
   "cell_type": "code",
   "execution_count": 17,
   "id": "17c7a30a",
   "metadata": {},
   "outputs": [
    {
     "name": "stdout",
     "output_type": "stream",
     "text": [
      "[0]\ttrain-rmse:0.50000\ttrain-custom-error:0.50000\teval-rmse:0.50000\teval-custom-error:0.50000\n",
      "[1]\ttrain-rmse:0.50000\ttrain-custom-error:0.50000\teval-rmse:0.50000\teval-custom-error:0.50000\n",
      "[2]\ttrain-rmse:0.50000\ttrain-custom-error:0.50000\teval-rmse:0.50000\teval-custom-error:0.50000\n",
      "[3]\ttrain-rmse:0.50000\ttrain-custom-error:0.50000\teval-rmse:0.50000\teval-custom-error:0.50000\n",
      "[4]\ttrain-rmse:0.50000\ttrain-custom-error:0.50000\teval-rmse:0.50000\teval-custom-error:0.50000\n",
      "[5]\ttrain-rmse:0.50000\ttrain-custom-error:0.50000\teval-rmse:0.50000\teval-custom-error:0.50000\n",
      "[6]\ttrain-rmse:0.50000\ttrain-custom-error:0.50000\teval-rmse:0.50000\teval-custom-error:0.50000\n",
      "[7]\ttrain-rmse:0.50000\ttrain-custom-error:0.50000\teval-rmse:0.50000\teval-custom-error:0.50000\n",
      "[8]\ttrain-rmse:0.50000\ttrain-custom-error:0.50000\teval-rmse:0.50000\teval-custom-error:0.50000\n",
      "[9]\ttrain-rmse:0.50000\ttrain-custom-error:0.50000\teval-rmse:0.50000\teval-custom-error:0.50000\n",
      "[10]\ttrain-rmse:0.50000\ttrain-custom-error:0.50000\teval-rmse:0.50000\teval-custom-error:0.50000\n",
      "[11]\ttrain-rmse:0.50000\ttrain-custom-error:0.50000\teval-rmse:0.50000\teval-custom-error:0.50000\n",
      "[12]\ttrain-rmse:0.50000\ttrain-custom-error:0.50000\teval-rmse:0.50000\teval-custom-error:0.50000\n",
      "[13]\ttrain-rmse:0.50000\ttrain-custom-error:0.50000\teval-rmse:0.50000\teval-custom-error:0.50000\n",
      "[14]\ttrain-rmse:0.50000\ttrain-custom-error:0.50000\teval-rmse:0.50000\teval-custom-error:0.50000\n",
      "[15]\ttrain-rmse:0.50000\ttrain-custom-error:0.50000\teval-rmse:0.50000\teval-custom-error:0.50000\n",
      "[16]\ttrain-rmse:0.50000\ttrain-custom-error:0.50000\teval-rmse:0.50000\teval-custom-error:0.50000\n",
      "[17]\ttrain-rmse:0.50000\ttrain-custom-error:0.50000\teval-rmse:0.50000\teval-custom-error:0.50000\n",
      "[18]\ttrain-rmse:0.50000\ttrain-custom-error:0.50000\teval-rmse:0.50000\teval-custom-error:0.50000\n",
      "[19]\ttrain-rmse:0.50000\ttrain-custom-error:0.50000\teval-rmse:0.50000\teval-custom-error:0.50000\n",
      "[20]\ttrain-rmse:0.50000\ttrain-custom-error:0.50000\teval-rmse:0.50000\teval-custom-error:0.50000\n",
      "[21]\ttrain-rmse:0.50000\ttrain-custom-error:0.50000\teval-rmse:0.50000\teval-custom-error:0.50000\n",
      "[22]\ttrain-rmse:0.50000\ttrain-custom-error:0.50000\teval-rmse:0.50000\teval-custom-error:0.50000\n",
      "[23]\ttrain-rmse:0.50000\ttrain-custom-error:0.50000\teval-rmse:0.50000\teval-custom-error:0.50000\n",
      "[24]\ttrain-rmse:0.50000\ttrain-custom-error:0.50000\teval-rmse:0.50000\teval-custom-error:0.50000\n",
      "[25]\ttrain-rmse:0.50000\ttrain-custom-error:0.50000\teval-rmse:0.50000\teval-custom-error:0.50000\n",
      "[26]\ttrain-rmse:0.50000\ttrain-custom-error:0.50000\teval-rmse:0.50000\teval-custom-error:0.50000\n",
      "[27]\ttrain-rmse:0.50000\ttrain-custom-error:0.50000\teval-rmse:0.50000\teval-custom-error:0.50000\n",
      "[28]\ttrain-rmse:0.50000\ttrain-custom-error:0.50000\teval-rmse:0.50000\teval-custom-error:0.50000\n",
      "[29]\ttrain-rmse:0.50000\ttrain-custom-error:0.50000\teval-rmse:0.50000\teval-custom-error:0.50000\n",
      "[30]\ttrain-rmse:0.50000\ttrain-custom-error:0.50000\teval-rmse:0.50000\teval-custom-error:0.50000\n",
      "[31]\ttrain-rmse:0.50000\ttrain-custom-error:0.50000\teval-rmse:0.50000\teval-custom-error:0.50000\n",
      "[32]\ttrain-rmse:0.50000\ttrain-custom-error:0.50000\teval-rmse:0.50000\teval-custom-error:0.50000\n",
      "[33]\ttrain-rmse:0.50000\ttrain-custom-error:0.50000\teval-rmse:0.50000\teval-custom-error:0.50000\n",
      "[34]\ttrain-rmse:0.50000\ttrain-custom-error:0.50000\teval-rmse:0.50000\teval-custom-error:0.50000\n",
      "[35]\ttrain-rmse:0.50000\ttrain-custom-error:0.50000\teval-rmse:0.50000\teval-custom-error:0.50000\n",
      "[36]\ttrain-rmse:0.50000\ttrain-custom-error:0.50000\teval-rmse:0.50000\teval-custom-error:0.50000\n",
      "[37]\ttrain-rmse:0.50000\ttrain-custom-error:0.50000\teval-rmse:0.50000\teval-custom-error:0.50000\n",
      "[38]\ttrain-rmse:0.50000\ttrain-custom-error:0.50000\teval-rmse:0.50000\teval-custom-error:0.50000\n",
      "[39]\ttrain-rmse:0.50000\ttrain-custom-error:0.50000\teval-rmse:0.50000\teval-custom-error:0.50000\n",
      "[40]\ttrain-rmse:0.50000\ttrain-custom-error:0.50000\teval-rmse:0.50000\teval-custom-error:0.50000\n",
      "[41]\ttrain-rmse:0.50000\ttrain-custom-error:0.50000\teval-rmse:0.50000\teval-custom-error:0.50000\n",
      "[42]\ttrain-rmse:0.50000\ttrain-custom-error:0.50000\teval-rmse:0.50000\teval-custom-error:0.50000\n",
      "[43]\ttrain-rmse:0.50000\ttrain-custom-error:0.50000\teval-rmse:0.50000\teval-custom-error:0.50000\n",
      "[44]\ttrain-rmse:0.50000\ttrain-custom-error:0.50000\teval-rmse:0.50000\teval-custom-error:0.50000\n",
      "[45]\ttrain-rmse:0.50000\ttrain-custom-error:0.50000\teval-rmse:0.50000\teval-custom-error:0.50000\n",
      "[46]\ttrain-rmse:0.50000\ttrain-custom-error:0.50000\teval-rmse:0.50000\teval-custom-error:0.50000\n",
      "[47]\ttrain-rmse:0.50000\ttrain-custom-error:0.50000\teval-rmse:0.50000\teval-custom-error:0.50000\n",
      "[48]\ttrain-rmse:0.50000\ttrain-custom-error:0.50000\teval-rmse:0.50000\teval-custom-error:0.50000\n",
      "[49]\ttrain-rmse:0.50000\ttrain-custom-error:0.50000\teval-rmse:0.50000\teval-custom-error:0.50000\n"
     ]
    }
   ],
   "source": [
    "bst = xgb.train(params, dtrain, num_round, watchlist, obj=logregobj, feval=evalerror)"
   ]
  },
  {
   "cell_type": "code",
   "execution_count": 18,
   "id": "bf7cf318",
   "metadata": {},
   "outputs": [
    {
     "name": "stdout",
     "output_type": "stream",
     "text": [
      "0.7240770310163498\n"
     ]
    }
   ],
   "source": [
    "pred_val = bst.predict(dvalid)\n",
    "pred = 1.0/(1.0 + np.exp(-pred_val))\n",
    "logloss = log_loss(va_y, pred)\n",
    "print(logloss)"
   ]
  },
  {
   "cell_type": "code",
   "execution_count": 20,
   "id": "843704a5",
   "metadata": {},
   "outputs": [
    {
     "name": "stdout",
     "output_type": "stream",
     "text": [
      "[0]\ttrain-logloss:0.69315\teval-logloss:0.69315\n",
      "[1]\ttrain-logloss:0.69315\teval-logloss:0.69315\n",
      "[2]\ttrain-logloss:0.69315\teval-logloss:0.69315\n",
      "[3]\ttrain-logloss:0.69315\teval-logloss:0.69315\n",
      "[4]\ttrain-logloss:0.69315\teval-logloss:0.69315\n",
      "[5]\ttrain-logloss:0.69315\teval-logloss:0.69315\n",
      "[6]\ttrain-logloss:0.69315\teval-logloss:0.69315\n",
      "[7]\ttrain-logloss:0.69315\teval-logloss:0.69315\n",
      "[8]\ttrain-logloss:0.69315\teval-logloss:0.69315\n",
      "[9]\ttrain-logloss:0.69315\teval-logloss:0.69315\n",
      "[10]\ttrain-logloss:0.69315\teval-logloss:0.69315\n",
      "[11]\ttrain-logloss:0.69315\teval-logloss:0.69315\n",
      "[12]\ttrain-logloss:0.69315\teval-logloss:0.69315\n",
      "[13]\ttrain-logloss:0.69315\teval-logloss:0.69315\n",
      "[14]\ttrain-logloss:0.69315\teval-logloss:0.69315\n",
      "[15]\ttrain-logloss:0.69315\teval-logloss:0.69315\n",
      "[16]\ttrain-logloss:0.69315\teval-logloss:0.69315\n",
      "[17]\ttrain-logloss:0.69315\teval-logloss:0.69315\n",
      "[18]\ttrain-logloss:0.69315\teval-logloss:0.69315\n",
      "[19]\ttrain-logloss:0.69315\teval-logloss:0.69315\n",
      "[20]\ttrain-logloss:0.69315\teval-logloss:0.69315\n",
      "[21]\ttrain-logloss:0.69315\teval-logloss:0.69315\n",
      "[22]\ttrain-logloss:0.69315\teval-logloss:0.69315\n",
      "[23]\ttrain-logloss:0.69315\teval-logloss:0.69315\n",
      "[24]\ttrain-logloss:0.69315\teval-logloss:0.69315\n",
      "[25]\ttrain-logloss:0.69315\teval-logloss:0.69315\n",
      "[26]\ttrain-logloss:0.69315\teval-logloss:0.69315\n",
      "[27]\ttrain-logloss:0.69315\teval-logloss:0.69315\n",
      "[28]\ttrain-logloss:0.69315\teval-logloss:0.69315\n",
      "[29]\ttrain-logloss:0.69315\teval-logloss:0.69315\n",
      "[30]\ttrain-logloss:0.69315\teval-logloss:0.69315\n",
      "[31]\ttrain-logloss:0.69315\teval-logloss:0.69315\n",
      "[32]\ttrain-logloss:0.69315\teval-logloss:0.69315\n",
      "[33]\ttrain-logloss:0.69315\teval-logloss:0.69315\n",
      "[34]\ttrain-logloss:0.69315\teval-logloss:0.69315\n",
      "[35]\ttrain-logloss:0.69315\teval-logloss:0.69315\n",
      "[36]\ttrain-logloss:0.69315\teval-logloss:0.69315\n",
      "[37]\ttrain-logloss:0.69315\teval-logloss:0.69315\n",
      "[38]\ttrain-logloss:0.69315\teval-logloss:0.69315\n",
      "[39]\ttrain-logloss:0.69315\teval-logloss:0.69315\n",
      "[40]\ttrain-logloss:0.69315\teval-logloss:0.69315\n",
      "[41]\ttrain-logloss:0.69315\teval-logloss:0.69315\n",
      "[42]\ttrain-logloss:0.69315\teval-logloss:0.69315\n",
      "[43]\ttrain-logloss:0.69315\teval-logloss:0.69315\n",
      "[44]\ttrain-logloss:0.69315\teval-logloss:0.69315\n",
      "[45]\ttrain-logloss:0.69315\teval-logloss:0.69315\n",
      "[46]\ttrain-logloss:0.69315\teval-logloss:0.69315\n",
      "[47]\ttrain-logloss:0.69315\teval-logloss:0.69315\n",
      "[48]\ttrain-logloss:0.69315\teval-logloss:0.69315\n",
      "[49]\ttrain-logloss:0.69315\teval-logloss:0.69315\n"
     ]
    }
   ],
   "source": [
    "params = {'silent': 1, 'random_state': 71, 'objective': 'binary:logistic'}\n",
    "bst = xgb.train(params, dtrain, num_round, watchlist)"
   ]
  },
  {
   "cell_type": "code",
   "execution_count": 21,
   "id": "4710d7df",
   "metadata": {},
   "outputs": [
    {
     "name": "stdout",
     "output_type": "stream",
     "text": [
      "0.6931471824645996\n"
     ]
    }
   ],
   "source": [
    "pred = bst.predict(dvalid)\n",
    "print(log_loss(va_y, pred))"
   ]
  },
  {
   "cell_type": "code",
   "execution_count": null,
   "id": "03f0eef6",
   "metadata": {},
   "outputs": [],
   "source": []
  }
 ],
 "metadata": {
  "kernelspec": {
   "display_name": "Python 3",
   "language": "python",
   "name": "python3"
  },
  "language_info": {
   "codemirror_mode": {
    "name": "ipython",
    "version": 3
   },
   "file_extension": ".py",
   "mimetype": "text/x-python",
   "name": "python",
   "nbconvert_exporter": "python",
   "pygments_lexer": "ipython3",
   "version": "3.8.2"
  }
 },
 "nbformat": 4,
 "nbformat_minor": 5
}
