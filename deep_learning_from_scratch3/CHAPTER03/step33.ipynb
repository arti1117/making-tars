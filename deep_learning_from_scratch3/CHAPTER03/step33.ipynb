{
 "cells": [
  {
   "cell_type": "code",
   "execution_count": 1,
   "id": "e5047671",
   "metadata": {},
   "outputs": [],
   "source": [
    "import sys\n",
    "sys.path.append('..')\n",
    "import numpy as np\n",
    "from dezero import Variable"
   ]
  },
  {
   "cell_type": "code",
   "execution_count": 2,
   "id": "5a2ee872",
   "metadata": {},
   "outputs": [],
   "source": [
    "def f(x):\n",
    "    return x ** 4 - 2 * x ** 2"
   ]
  },
  {
   "cell_type": "code",
   "execution_count": 3,
   "id": "ef2c3b7b",
   "metadata": {},
   "outputs": [
    {
     "name": "stdout",
     "output_type": "stream",
     "text": [
      "variable(24.0)\n"
     ]
    }
   ],
   "source": [
    "x = Variable(np.array(2.0))\n",
    "y = f(x)\n",
    "y.backward(create_graph=True)\n",
    "print(x.grad)"
   ]
  },
  {
   "cell_type": "code",
   "execution_count": 4,
   "id": "07e98ff6",
   "metadata": {},
   "outputs": [
    {
     "name": "stdout",
     "output_type": "stream",
     "text": [
      "variable(68.0)\n"
     ]
    }
   ],
   "source": [
    "gx = x.grad\n",
    "gx.backward()\n",
    "print(x.grad)"
   ]
  },
  {
   "cell_type": "code",
   "execution_count": 5,
   "id": "480ecd24",
   "metadata": {},
   "outputs": [
    {
     "name": "stdout",
     "output_type": "stream",
     "text": [
      "variable(24.0)\n",
      "variable(44.0)\n"
     ]
    }
   ],
   "source": [
    "x = Variable(np.array(2.0))\n",
    "y = f(x)\n",
    "y.backward(create_graph=True)\n",
    "print(x.grad)\n",
    "gx = x.grad\n",
    "x.cleargrad()\n",
    "gx.backward()\n",
    "print(x.grad)"
   ]
  },
  {
   "cell_type": "code",
   "execution_count": 6,
   "id": "978662a1",
   "metadata": {},
   "outputs": [
    {
     "name": "stdout",
     "output_type": "stream",
     "text": [
      "0 variable(2.0)\n",
      "1 variable(1.4545454545454546)\n",
      "2 variable(1.1510467893775467)\n",
      "3 variable(1.0253259289766978)\n",
      "4 variable(1.0009084519430513)\n",
      "5 variable(1.0000012353089454)\n",
      "6 variable(1.000000000002289)\n",
      "7 variable(1.0)\n",
      "8 variable(1.0)\n",
      "9 variable(1.0)\n"
     ]
    }
   ],
   "source": [
    "x = Variable(np.array(2.0))\n",
    "\n",
    "import copy\n",
    "xs, ys = [], []\n",
    "\n",
    "for i in range(10):\n",
    "    print(i, x)\n",
    "    \n",
    "    y = f(x)\n",
    "    x.cleargrad()\n",
    "    y.backward(create_graph=True)\n",
    "    \n",
    "    xs.append(copy.deepcopy(x.grad.data))\n",
    "    ys.append(copy.deepcopy(y.data))\n",
    "    \n",
    "    gx = x.grad\n",
    "    x.cleargrad()\n",
    "    gx.backward()\n",
    "    gx2 = x.grad\n",
    "    \n",
    "    x.data -= gx.data / gx2.data"
   ]
  },
  {
   "cell_type": "code",
   "execution_count": 7,
   "id": "db67340f",
   "metadata": {},
   "outputs": [
    {
     "name": "stdout",
     "output_type": "stream",
     "text": [
      "[array(24.), array(6.49135988), array(1.49594052), array(0.21036924), array(0.00727752), array(9.88248987e-06), array(1.83124627e-11), array(0.), array(0.), array(0.)]\n",
      "[array(8.), array(0.24479202), array(-0.89443433), array(-0.997369), array(-0.9999967), array(-1.), array(-1.), array(-1.), array(-1.), array(-1.)]\n"
     ]
    },
    {
     "data": {
      "image/png": "[encoded data removed]",
      "text/plain": [
       "<Figure size 432x288 with 1 Axes>"
      ]
     },
     "metadata": {
      "needs_background": "light"
     },
     "output_type": "display_data"
    }
   ],
   "source": [
    "import matplotlib.pyplot as plt\n",
    "\n",
    "print(xs)\n",
    "print(ys)\n",
    "\n",
    "plt.plot(xs, ys, marker='.')\n",
    "plt.show()"
   ]
  },
  {
   "cell_type": "code",
   "execution_count": null,
   "id": "475936d0",
   "metadata": {},
   "outputs": [],
   "source": []
  }
 ],
 "metadata": {
  "kernelspec": {
   "display_name": "Python 3",
   "language": "python",
   "name": "python3"
  },
  "language_info": {
   "codemirror_mode": {
    "name": "ipython",
    "version": 3
   },
   "file_extension": ".py",
   "mimetype": "text/x-python",
   "name": "python",
   "nbconvert_exporter": "python",
   "pygments_lexer": "ipython3",
   "version": "3.8.2"
  }
 },
 "nbformat": 4,
 "nbformat_minor": 5
}
