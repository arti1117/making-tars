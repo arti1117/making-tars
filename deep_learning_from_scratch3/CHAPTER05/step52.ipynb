{
 "cells": [
  {
   "cell_type": "code",
   "execution_count": 1,
   "id": "573c5522",
   "metadata": {},
   "outputs": [],
   "source": [
    "import sys\n",
    "sys.path.append('..')\n",
    "import time\n",
    "import dezero\n",
    "from dezero import *"
   ]
  },
  {
   "cell_type": "code",
   "execution_count": 2,
   "id": "4fe60edb",
   "metadata": {},
   "outputs": [],
   "source": [
    "max_epoch = 5\n",
    "batch_size = 100"
   ]
  },
  {
   "cell_type": "code",
   "execution_count": 3,
   "id": "5ae605b2",
   "metadata": {},
   "outputs": [],
   "source": [
    "train_set = datasets.MNIST(train=True)\n",
    "train_loader = DataLoader(train_set, batch_size)"
   ]
  },
  {
   "cell_type": "code",
   "execution_count": 4,
   "id": "0c038de5",
   "metadata": {},
   "outputs": [],
   "source": [
    "model = MLP((1000, 10))\n",
    "optimizer = optimizers.SGD().setup(model)"
   ]
  },
  {
   "cell_type": "code",
   "execution_count": 5,
   "id": "2353aa4d",
   "metadata": {},
   "outputs": [],
   "source": [
    "if dezero.cuda.gpu_enable:\n",
    "    train_loader.to_gpu()\n",
    "    model.to_gpu()"
   ]
  },
  {
   "cell_type": "code",
   "execution_count": 6,
   "id": "aa621abc",
   "metadata": {},
   "outputs": [
    {
     "name": "stdout",
     "output_type": "stream",
     "text": [
      "epoch 1, loss 1.9100, time 7.2945[sec]\n",
      "epoch 2, loss 1.2786, time 8.1628[sec]\n",
      "epoch 3, loss 0.9207, time 9.1207[sec]\n",
      "epoch 4, loss 0.7371, time 10.9102[sec]\n",
      "epoch 5, loss 0.6334, time 9.8751[sec]\n"
     ]
    }
   ],
   "source": [
    "for epoch in range(max_epoch):\n",
    "    start = time.time()\n",
    "    sum_loss = 0\n",
    "    \n",
    "    for x, t in train_loader:        \n",
    "        y = model(x)\n",
    "        loss = F.softmax_cross_entropy(y, t)\n",
    "        model.cleargrads()\n",
    "        loss.backward()\n",
    "        optimizer.update()\n",
    "        \n",
    "        sum_loss += float(loss.data) * len(t)\n",
    "        \n",
    "    elapsed_time = time.time() - start\n",
    "    print('epoch %d, loss %.4f, time %.4f[sec]' % \n",
    "          (epoch + 1, sum_loss / len(train_set), elapsed_time))"
   ]
  }
 ],
 "metadata": {
  "kernelspec": {
   "display_name": "Python 3",
   "language": "python",
   "name": "python3"
  },
  "language_info": {
   "codemirror_mode": {
    "name": "ipython",
    "version": 3
   },
   "file_extension": ".py",
   "mimetype": "text/x-python",
   "name": "python",
   "nbconvert_exporter": "python",
   "pygments_lexer": "ipython3",
   "version": "3.8.2"
  }
 },
 "nbformat": 4,
 "nbformat_minor": 5
}
