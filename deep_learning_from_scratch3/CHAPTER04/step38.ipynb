{
 "cells": [
  {
   "cell_type": "code",
   "execution_count": 1,
   "id": "571b7c6f",
   "metadata": {},
   "outputs": [],
   "source": [
    "import numpy as np"
   ]
  },
  {
   "cell_type": "code",
   "execution_count": 2,
   "id": "ce7d8cbd",
   "metadata": {},
   "outputs": [
    {
     "name": "stdout",
     "output_type": "stream",
     "text": [
      "[[1 2 3]\n",
      " [4 5 6]]\n",
      "[1 2 3 4 5 6]\n"
     ]
    }
   ],
   "source": [
    "x = np.array([[1, 2, 3], [4, 5, 6]])\n",
    "y = np.reshape(x, (6,))\n",
    "print(x)\n",
    "print(y)"
   ]
  },
  {
   "cell_type": "code",
   "execution_count": 3,
   "id": "0b9c8fbf",
   "metadata": {},
   "outputs": [],
   "source": [
    "import sys\n",
    "sys.path.append('..')\n",
    "from dezero import *"
   ]
  },
  {
   "cell_type": "code",
   "execution_count": 4,
   "id": "999ae57e",
   "metadata": {},
   "outputs": [
    {
     "name": "stdout",
     "output_type": "stream",
     "text": [
      "variable([[1 1 1]\n",
      "          [1 1 1]])\n",
      "[1 2 3 4 5 6]\n"
     ]
    }
   ],
   "source": [
    "x = Variable(np.array([[1, 2, 3], [4, 5, 6]]))\n",
    "y = F.reshape(x, (6, ))\n",
    "y.backward(retain_grad=True)\n",
    "print(x.grad)\n",
    "print(y.data)"
   ]
  },
  {
   "cell_type": "code",
   "execution_count": 5,
   "id": "1367efb5",
   "metadata": {},
   "outputs": [
    {
     "data": {
      "text/plain": [
       "variable([1 1 1 1 1 1])"
      ]
     },
     "execution_count": 5,
     "metadata": {},
     "output_type": "execute_result"
    }
   ],
   "source": [
    "y.grad"
   ]
  },
  {
   "cell_type": "code",
   "execution_count": 6,
   "id": "47a4e45e",
   "metadata": {},
   "outputs": [
    {
     "name": "stdout",
     "output_type": "stream",
     "text": [
      "variable([[[-1.4256155   0.17220567  1.65492797]\n",
      "           [ 0.68705273 -0.3677199   0.23277629]]])\n",
      "variable([[-1.4256155   0.17220567  1.65492797]\n",
      "          [ 0.68705273 -0.3677199   0.23277629]])\n"
     ]
    }
   ],
   "source": [
    "x = Variable(np.random.randn(1, 2, 3))\n",
    "y = x.reshape((2, 3))\n",
    "print(x)\n",
    "print(y)"
   ]
  },
  {
   "cell_type": "code",
   "execution_count": 7,
   "id": "89545374",
   "metadata": {},
   "outputs": [
    {
     "name": "stdout",
     "output_type": "stream",
     "text": [
      "variable([[-1.4256155   0.17220567  1.65492797]\n",
      "          [ 0.68705273 -0.3677199   0.23277629]])\n"
     ]
    }
   ],
   "source": [
    "y = x.reshape(2, 3)\n",
    "print(y)"
   ]
  },
  {
   "cell_type": "code",
   "execution_count": 8,
   "id": "a092d34f",
   "metadata": {},
   "outputs": [
    {
     "data": {
      "text/plain": [
       "3"
      ]
     },
     "execution_count": 8,
     "metadata": {},
     "output_type": "execute_result"
    }
   ],
   "source": [
    "x.ndim"
   ]
  },
  {
   "cell_type": "code",
   "execution_count": 9,
   "id": "5ddbe5a2",
   "metadata": {},
   "outputs": [
    {
     "data": {
      "text/plain": [
       "2"
      ]
     },
     "execution_count": 9,
     "metadata": {},
     "output_type": "execute_result"
    }
   ],
   "source": [
    "y.ndim"
   ]
  },
  {
   "cell_type": "code",
   "execution_count": 10,
   "id": "5d6b03fc",
   "metadata": {},
   "outputs": [
    {
     "name": "stdout",
     "output_type": "stream",
     "text": [
      "variable([[1 1 1]\n",
      "          [1 1 1]])\n"
     ]
    }
   ],
   "source": [
    "x = Variable(np.array([[1, 2, 3], [4, 5, 6]]))\n",
    "y = F.transpose(x)\n",
    "y.backward()\n",
    "print(x.grad)"
   ]
  },
  {
   "cell_type": "code",
   "execution_count": 11,
   "id": "1c5758d6",
   "metadata": {},
   "outputs": [
    {
     "name": "stdout",
     "output_type": "stream",
     "text": [
      "variable([[1 4]\n",
      "          [2 5]\n",
      "          [3 6]])\n",
      "variable([[1 4]\n",
      "          [2 5]\n",
      "          [3 6]])\n"
     ]
    }
   ],
   "source": [
    "print(x.transpose())\n",
    "print(x.T)"
   ]
  },
  {
   "cell_type": "code",
   "execution_count": 12,
   "id": "b303804d",
   "metadata": {},
   "outputs": [
    {
     "name": "stdout",
     "output_type": "stream",
     "text": [
      "[[[[ 1.01167442  1.09607123  0.37712408  0.51557592]\n",
      "   [ 0.31050144  2.11326129  0.15969902 -1.43627028]\n",
      "   [-1.45023954 -0.23517376 -0.922502   -0.02593086]]\n",
      "\n",
      "  [[-0.23581301  0.0032824  -0.0307489   0.18387629]\n",
      "   [-0.25088985 -0.71306596 -0.53675798 -1.28873635]\n",
      "   [ 0.94483704 -0.11455271 -0.82997991  0.05174141]]]]\n",
      "[[[[ 1.01167442  1.09607123  0.37712408  0.51557592]\n",
      "   [ 0.31050144  2.11326129  0.15969902 -1.43627028]\n",
      "   [-1.45023954 -0.23517376 -0.922502   -0.02593086]]]\n",
      "\n",
      "\n",
      " [[[-0.23581301  0.0032824  -0.0307489   0.18387629]\n",
      "   [-0.25088985 -0.71306596 -0.53675798 -1.28873635]\n",
      "   [ 0.94483704 -0.11455271 -0.82997991  0.05174141]]]]\n"
     ]
    }
   ],
   "source": [
    "A, B, C, D = 1, 2, 3, 4\n",
    "x = np.random.randn(A, B, C, D)\n",
    "print(x)\n",
    "y = x.transpose(1, 0, 2, 3)\n",
    "print(y)"
   ]
  },
  {
   "cell_type": "code",
   "execution_count": 13,
   "id": "f77404dd",
   "metadata": {},
   "outputs": [
    {
     "name": "stdout",
     "output_type": "stream",
     "text": [
      "[[[[ 1.01167442]\n",
      "   [-0.23581301]]\n",
      "\n",
      "  [[ 0.31050144]\n",
      "   [-0.25088985]]\n",
      "\n",
      "  [[-1.45023954]\n",
      "   [ 0.94483704]]]\n",
      "\n",
      "\n",
      " [[[ 1.09607123]\n",
      "   [ 0.0032824 ]]\n",
      "\n",
      "  [[ 2.11326129]\n",
      "   [-0.71306596]]\n",
      "\n",
      "  [[-0.23517376]\n",
      "   [-0.11455271]]]\n",
      "\n",
      "\n",
      " [[[ 0.37712408]\n",
      "   [-0.0307489 ]]\n",
      "\n",
      "  [[ 0.15969902]\n",
      "   [-0.53675798]]\n",
      "\n",
      "  [[-0.922502  ]\n",
      "   [-0.82997991]]]\n",
      "\n",
      "\n",
      " [[[ 0.51557592]\n",
      "   [ 0.18387629]]\n",
      "\n",
      "  [[-1.43627028]\n",
      "   [-1.28873635]]\n",
      "\n",
      "  [[-0.02593086]\n",
      "   [ 0.05174141]]]]\n"
     ]
    }
   ],
   "source": [
    "print(x.T)"
   ]
  },
  {
   "cell_type": "code",
   "execution_count": 14,
   "id": "032cdb70",
   "metadata": {},
   "outputs": [
    {
     "name": "stdout",
     "output_type": "stream",
     "text": [
      "(4, 3, 2, 1)\n"
     ]
    }
   ],
   "source": [
    "print(x.T.shape)"
   ]
  },
  {
   "cell_type": "code",
   "execution_count": null,
   "id": "ef5331bd",
   "metadata": {},
   "outputs": [],
   "source": []
  }
 ],
 "metadata": {
  "kernelspec": {
   "display_name": "Python 3",
   "language": "python",
   "name": "python3"
  },
  "language_info": {
   "codemirror_mode": {
    "name": "ipython",
    "version": 3
   },
   "file_extension": ".py",
   "mimetype": "text/x-python",
   "name": "python",
   "nbconvert_exporter": "python",
   "pygments_lexer": "ipython3",
   "version": "3.8.2"
  }
 },
 "nbformat": 4,
 "nbformat_minor": 5
}
