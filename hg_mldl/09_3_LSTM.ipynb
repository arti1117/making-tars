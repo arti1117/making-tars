{
  "nbformat": 4,
  "nbformat_minor": 0,
  "metadata": {
    "colab": {
      "name": "09_3_LSTM.ipynb",
      "provenance": [],
      "authorship_tag": "ABX9TyOa1vYKPc/QzY0ZDSkyZKHE",
      "include_colab_link": true
    },
    "kernelspec": {
      "name": "python3",
      "display_name": "Python 3"
    },
    "language_info": {
      "name": "python"
    },
    "accelerator": "GPU"
  },
  "cells": [
    {
      "cell_type": "markdown",
      "metadata": {
        "id": "view-in-github",
        "colab_type": "text"
      },
      "source": [
        "<a href=\"https://colab.research.google.com/github/arti1117/making-tars/blob/main/hg-mldl/09_3_LSTM.ipynb\" target=\"_parent\"><img src=\"https://colab.research.google.com/assets/colab-badge.svg\" alt=\"Open In Colab\"/></a>"
      ]
    },
    {
      "cell_type": "code",
      "execution_count": 1,
      "metadata": {
        "colab": {
          "base_uri": "https://localhost:8080/"
        },
        "id": "PLS6DZxxTRft",
        "outputId": "2a9062bc-ff62-4a6e-873c-51aae844a609"
      },
      "outputs": [
        {
          "output_type": "stream",
          "name": "stdout",
          "text": [
            "Downloading data from https://storage.googleapis.com/tensorflow/tf-keras-datasets/imdb.npz\n",
            "17465344/17464789 [==============================] - 0s 0us/step\n",
            "17473536/17464789 [==============================] - 0s 0us/step\n"
          ]
        }
      ],
      "source": [
        "from tensorflow.keras.datasets import imdb\n",
        "from sklearn.model_selection import train_test_split\n",
        "\n",
        "(train_input, train_target), (test_input, test_target) = imdb.load_data(\n",
        "    num_words=500\n",
        ")\n",
        "train_input, val_input, train_target, val_target = train_test_split(\n",
        "    train_input, train_target, test_size=0.2, random_state=42\n",
        ")"
      ]
    },
    {
      "cell_type": "code",
      "source": [
        "from tensorflow.keras.preprocessing.sequence import pad_sequences\n",
        "train_seq = pad_sequences(train_input, maxlen=100)\n",
        "val_seq = pad_sequences(val_input, maxlen=100)"
      ],
      "metadata": {
        "id": "u3D1cVUYUFl0"
      },
      "execution_count": 2,
      "outputs": []
    },
    {
      "cell_type": "code",
      "source": [
        "from tensorflow import keras\n",
        "model = keras.Sequential()\n",
        "model.add(keras.layers.Embedding(500, 16, input_length=100))\n",
        "model.add(keras.layers.LSTM(8))\n",
        "model.add(keras.layers.Dense(1, activation='sigmoid'))"
      ],
      "metadata": {
        "id": "m0LLqJDFUVKZ"
      },
      "execution_count": 3,
      "outputs": []
    },
    {
      "cell_type": "code",
      "source": [
        "model.summary()"
      ],
      "metadata": {
        "colab": {
          "base_uri": "https://localhost:8080/"
        },
        "id": "cFJW79qfUmnW",
        "outputId": "eb7052b7-884a-4256-bf8f-6f3a63df83d8"
      },
      "execution_count": 4,
      "outputs": [
        {
          "output_type": "stream",
          "name": "stdout",
          "text": [
            "Model: \"sequential\"\n",
            "_________________________________________________________________\n",
            " Layer (type)                Output Shape              Param #   \n",
            "=================================================================\n",
            " embedding (Embedding)       (None, 100, 16)           8000      \n",
            "                                                                 \n",
            " lstm (LSTM)                 (None, 8)                 800       \n",
            "                                                                 \n",
            " dense (Dense)               (None, 1)                 9         \n",
            "                                                                 \n",
            "=================================================================\n",
            "Total params: 8,809\n",
            "Trainable params: 8,809\n",
            "Non-trainable params: 0\n",
            "_________________________________________________________________\n"
          ]
        }
      ]
    },
    {
      "cell_type": "code",
      "source": [
        "rmsprop = keras.optimizers.RMSprop(learning_rate=1e-4)\n",
        "model.compile(optimizer=rmsprop, loss='binary_crossentropy',\n",
        "              metrics=['accuracy'])\n",
        "checkpoint_cb = keras.callbacks.ModelCheckpoint('best-lstm-model.h5',\n",
        "                                                save_best_only=True)\n",
        "early_stopping_cb = keras.callbacks.EarlyStopping(patience=3,\n",
        "                                                  restore_best_weights=True)"
      ],
      "metadata": {
        "id": "P9feIhc-UnoJ"
      },
      "execution_count": 5,
      "outputs": []
    },
    {
      "cell_type": "code",
      "source": [
        "history = model.fit(train_seq, train_target, epochs=100, batch_size=64,\n",
        "                    validation_data=(val_seq, val_target),\n",
        "                    callbacks=[checkpoint_cb, early_stopping_cb])"
      ],
      "metadata": {
        "colab": {
          "base_uri": "https://localhost:8080/"
        },
        "id": "Qit76VcsVxOI",
        "outputId": "cb70252d-a0d5-4bbc-ce80-b4b5cd447b10"
      },
      "execution_count": 6,
      "outputs": [
        {
          "output_type": "stream",
          "name": "stdout",
          "text": [
            "Epoch 1/100\n",
            "313/313 [==============================] - 11s 10ms/step - loss: 0.6925 - accuracy: 0.5341 - val_loss: 0.6916 - val_accuracy: 0.5874\n",
            "Epoch 2/100\n",
            "313/313 [==============================] - 3s 8ms/step - loss: 0.6896 - accuracy: 0.6165 - val_loss: 0.6872 - val_accuracy: 0.6304\n",
            "Epoch 3/100\n",
            "313/313 [==============================] - 3s 8ms/step - loss: 0.6788 - accuracy: 0.6702 - val_loss: 0.6649 - val_accuracy: 0.6926\n",
            "Epoch 4/100\n",
            "313/313 [==============================] - 3s 8ms/step - loss: 0.6273 - accuracy: 0.7086 - val_loss: 0.6058 - val_accuracy: 0.7162\n",
            "Epoch 5/100\n",
            "313/313 [==============================] - 3s 8ms/step - loss: 0.5912 - accuracy: 0.7266 - val_loss: 0.5852 - val_accuracy: 0.7376\n",
            "Epoch 6/100\n",
            "313/313 [==============================] - 3s 8ms/step - loss: 0.5724 - accuracy: 0.7413 - val_loss: 0.5682 - val_accuracy: 0.7462\n",
            "Epoch 7/100\n",
            "313/313 [==============================] - 3s 8ms/step - loss: 0.5550 - accuracy: 0.7553 - val_loss: 0.5598 - val_accuracy: 0.7382\n",
            "Epoch 8/100\n",
            "313/313 [==============================] - 3s 8ms/step - loss: 0.5401 - accuracy: 0.7643 - val_loss: 0.5397 - val_accuracy: 0.7624\n",
            "Epoch 9/100\n",
            "313/313 [==============================] - 3s 8ms/step - loss: 0.5258 - accuracy: 0.7721 - val_loss: 0.5261 - val_accuracy: 0.7646\n",
            "Epoch 10/100\n",
            "313/313 [==============================] - 3s 8ms/step - loss: 0.5119 - accuracy: 0.7797 - val_loss: 0.5137 - val_accuracy: 0.7728\n",
            "Epoch 11/100\n",
            "313/313 [==============================] - 3s 8ms/step - loss: 0.4987 - accuracy: 0.7844 - val_loss: 0.5010 - val_accuracy: 0.7772\n",
            "Epoch 12/100\n",
            "313/313 [==============================] - 3s 8ms/step - loss: 0.4863 - accuracy: 0.7916 - val_loss: 0.4955 - val_accuracy: 0.7746\n",
            "Epoch 13/100\n",
            "313/313 [==============================] - 3s 8ms/step - loss: 0.4753 - accuracy: 0.7969 - val_loss: 0.4839 - val_accuracy: 0.7852\n",
            "Epoch 14/100\n",
            "313/313 [==============================] - 3s 8ms/step - loss: 0.4667 - accuracy: 0.7994 - val_loss: 0.4781 - val_accuracy: 0.7868\n",
            "Epoch 15/100\n",
            "313/313 [==============================] - 3s 8ms/step - loss: 0.4594 - accuracy: 0.8006 - val_loss: 0.4714 - val_accuracy: 0.7858\n",
            "Epoch 16/100\n",
            "313/313 [==============================] - 3s 8ms/step - loss: 0.4533 - accuracy: 0.8027 - val_loss: 0.4678 - val_accuracy: 0.7900\n",
            "Epoch 17/100\n",
            "313/313 [==============================] - 3s 8ms/step - loss: 0.4483 - accuracy: 0.8044 - val_loss: 0.4630 - val_accuracy: 0.7898\n",
            "Epoch 18/100\n",
            "313/313 [==============================] - 3s 8ms/step - loss: 0.4435 - accuracy: 0.8062 - val_loss: 0.4589 - val_accuracy: 0.7960\n",
            "Epoch 19/100\n",
            "313/313 [==============================] - 3s 8ms/step - loss: 0.4400 - accuracy: 0.8080 - val_loss: 0.4564 - val_accuracy: 0.7958\n",
            "Epoch 20/100\n",
            "313/313 [==============================] - 3s 10ms/step - loss: 0.4364 - accuracy: 0.8080 - val_loss: 0.4535 - val_accuracy: 0.7984\n",
            "Epoch 21/100\n",
            "313/313 [==============================] - 3s 9ms/step - loss: 0.4336 - accuracy: 0.8090 - val_loss: 0.4537 - val_accuracy: 0.7964\n",
            "Epoch 22/100\n",
            "313/313 [==============================] - 3s 8ms/step - loss: 0.4305 - accuracy: 0.8108 - val_loss: 0.4538 - val_accuracy: 0.7966\n",
            "Epoch 23/100\n",
            "313/313 [==============================] - 3s 8ms/step - loss: 0.4284 - accuracy: 0.8102 - val_loss: 0.4472 - val_accuracy: 0.7990\n",
            "Epoch 24/100\n",
            "313/313 [==============================] - 3s 8ms/step - loss: 0.4264 - accuracy: 0.8109 - val_loss: 0.4459 - val_accuracy: 0.7970\n",
            "Epoch 25/100\n",
            "313/313 [==============================] - 3s 8ms/step - loss: 0.4244 - accuracy: 0.8120 - val_loss: 0.4457 - val_accuracy: 0.7976\n",
            "Epoch 26/100\n",
            "313/313 [==============================] - 3s 8ms/step - loss: 0.4225 - accuracy: 0.8123 - val_loss: 0.4437 - val_accuracy: 0.7984\n",
            "Epoch 27/100\n",
            "313/313 [==============================] - 3s 8ms/step - loss: 0.4210 - accuracy: 0.8117 - val_loss: 0.4424 - val_accuracy: 0.7966\n",
            "Epoch 28/100\n",
            "313/313 [==============================] - 3s 8ms/step - loss: 0.4197 - accuracy: 0.8130 - val_loss: 0.4446 - val_accuracy: 0.7988\n",
            "Epoch 29/100\n",
            "313/313 [==============================] - 3s 8ms/step - loss: 0.4186 - accuracy: 0.8135 - val_loss: 0.4409 - val_accuracy: 0.7990\n",
            "Epoch 30/100\n",
            "313/313 [==============================] - 3s 8ms/step - loss: 0.4176 - accuracy: 0.8137 - val_loss: 0.4406 - val_accuracy: 0.7988\n",
            "Epoch 31/100\n",
            "313/313 [==============================] - 3s 8ms/step - loss: 0.4164 - accuracy: 0.8137 - val_loss: 0.4407 - val_accuracy: 0.7970\n",
            "Epoch 32/100\n",
            "313/313 [==============================] - 3s 8ms/step - loss: 0.4154 - accuracy: 0.8131 - val_loss: 0.4377 - val_accuracy: 0.7970\n",
            "Epoch 33/100\n",
            "313/313 [==============================] - 3s 9ms/step - loss: 0.4142 - accuracy: 0.8146 - val_loss: 0.4374 - val_accuracy: 0.7970\n",
            "Epoch 34/100\n",
            "313/313 [==============================] - 5s 15ms/step - loss: 0.4135 - accuracy: 0.8134 - val_loss: 0.4377 - val_accuracy: 0.7966\n",
            "Epoch 35/100\n",
            "313/313 [==============================] - 4s 14ms/step - loss: 0.4126 - accuracy: 0.8138 - val_loss: 0.4361 - val_accuracy: 0.7970\n",
            "Epoch 36/100\n",
            "313/313 [==============================] - 4s 14ms/step - loss: 0.4119 - accuracy: 0.8148 - val_loss: 0.4355 - val_accuracy: 0.7986\n",
            "Epoch 37/100\n",
            "313/313 [==============================] - 4s 12ms/step - loss: 0.4110 - accuracy: 0.8151 - val_loss: 0.4347 - val_accuracy: 0.7980\n",
            "Epoch 38/100\n",
            "313/313 [==============================] - 3s 9ms/step - loss: 0.4104 - accuracy: 0.8145 - val_loss: 0.4372 - val_accuracy: 0.8000\n",
            "Epoch 39/100\n",
            "313/313 [==============================] - 3s 8ms/step - loss: 0.4097 - accuracy: 0.8145 - val_loss: 0.4402 - val_accuracy: 0.7994\n",
            "Epoch 40/100\n",
            "313/313 [==============================] - 3s 8ms/step - loss: 0.4091 - accuracy: 0.8155 - val_loss: 0.4354 - val_accuracy: 0.8010\n"
          ]
        }
      ]
    },
    {
      "cell_type": "code",
      "source": [
        "import matplotlib.pyplot as plt\n",
        "\n",
        "def plot_history(history):\n",
        "  plt.plot(history.history['loss'])\n",
        "  plt.plot(history.history['val_loss'])\n",
        "  plt.xlabel('epoch')\n",
        "  plt.ylabel('loss')\n",
        "  plt.legend(['train', 'val'])\n",
        "  plt.show()"
      ],
      "metadata": {
        "id": "iggsQYopV9FD"
      },
      "execution_count": 7,
      "outputs": []
    },
    {
      "cell_type": "code",
      "source": [
        "plot_history(history)"
      ],
      "metadata": {
        "colab": {
          "base_uri": "https://localhost:8080/",
          "height": 279
        },
        "id": "afZtS_FCWZn1",
        "outputId": "ffe6998f-5049-42bc-d3e6-fff8462b5645"
      },
      "execution_count": 8,
      "outputs": [
        {
          "output_type": "display_data",
          "data": {
            "text/plain": [
              "<Figure size 432x288 with 1 Axes>"
            ],
            "image/png": "[encoded data removed]"
          },
          "metadata": {
            "needs_background": "light"
          }
        }
      ]
    },
    {
      "cell_type": "code",
      "source": [
        "model2 = keras.Sequential()\n",
        "model2.add(keras.layers.Embedding(500, 16, input_length=100))\n",
        "model2.add(keras.layers.LSTM(8, dropout=0.3))\n",
        "model2.add(keras.layers.Dense(1, activation='sigmoid'))\n",
        "\n",
        "rmsprop = keras.optimizers.RMSprop(learning_rate=1e-4)\n",
        "model2.compile(optimizer=rmsprop, loss='binary_crossentropy',\n",
        "              metrics=['accuracy'])\n",
        "checkpoint_cb = keras.callbacks.ModelCheckpoint('best-dropout-model.h5',\n",
        "                                                save_best_only=True)\n",
        "early_stopping_cb = keras.callbacks.EarlyStopping(patience=3,\n",
        "                                                  restore_best_weights=True)\n",
        "\n",
        "history = model2.fit(train_seq, train_target, epochs=100, batch_size=64,\n",
        "                    validation_data=(val_seq, val_target),\n",
        "                    callbacks=[checkpoint_cb, early_stopping_cb])"
      ],
      "metadata": {
        "colab": {
          "base_uri": "https://localhost:8080/"
        },
        "id": "H3mUSDZGWeZW",
        "outputId": "799cedb1-c0e5-4870-b9ee-9fc83770e7a2"
      },
      "execution_count": 11,
      "outputs": [
        {
          "output_type": "stream",
          "name": "stdout",
          "text": [
            "Epoch 1/100\n",
            "313/313 [==============================] - 5s 10ms/step - loss: 0.6927 - accuracy: 0.5386 - val_loss: 0.6922 - val_accuracy: 0.5802\n",
            "Epoch 2/100\n",
            "313/313 [==============================] - 3s 8ms/step - loss: 0.6914 - accuracy: 0.5877 - val_loss: 0.6905 - val_accuracy: 0.6176\n",
            "Epoch 3/100\n",
            "313/313 [==============================] - 3s 8ms/step - loss: 0.6886 - accuracy: 0.6232 - val_loss: 0.6867 - val_accuracy: 0.6378\n",
            "Epoch 4/100\n",
            "313/313 [==============================] - 3s 8ms/step - loss: 0.6827 - accuracy: 0.6526 - val_loss: 0.6783 - val_accuracy: 0.6582\n",
            "Epoch 5/100\n",
            "313/313 [==============================] - 3s 8ms/step - loss: 0.6683 - accuracy: 0.6741 - val_loss: 0.6536 - val_accuracy: 0.6922\n",
            "Epoch 6/100\n",
            "313/313 [==============================] - 3s 8ms/step - loss: 0.6179 - accuracy: 0.7160 - val_loss: 0.5855 - val_accuracy: 0.7274\n",
            "Epoch 7/100\n",
            "313/313 [==============================] - 3s 8ms/step - loss: 0.5739 - accuracy: 0.7308 - val_loss: 0.5630 - val_accuracy: 0.7354\n",
            "Epoch 8/100\n",
            "313/313 [==============================] - 3s 8ms/step - loss: 0.5527 - accuracy: 0.7418 - val_loss: 0.5446 - val_accuracy: 0.7508\n",
            "Epoch 9/100\n",
            "313/313 [==============================] - 3s 8ms/step - loss: 0.5331 - accuracy: 0.7562 - val_loss: 0.5260 - val_accuracy: 0.7572\n",
            "Epoch 10/100\n",
            "313/313 [==============================] - 3s 8ms/step - loss: 0.5140 - accuracy: 0.7646 - val_loss: 0.5120 - val_accuracy: 0.7602\n",
            "Epoch 11/100\n",
            "313/313 [==============================] - 3s 8ms/step - loss: 0.4963 - accuracy: 0.7748 - val_loss: 0.4932 - val_accuracy: 0.7760\n",
            "Epoch 12/100\n",
            "313/313 [==============================] - 3s 8ms/step - loss: 0.4823 - accuracy: 0.7822 - val_loss: 0.4814 - val_accuracy: 0.7784\n",
            "Epoch 13/100\n",
            "313/313 [==============================] - 3s 8ms/step - loss: 0.4709 - accuracy: 0.7868 - val_loss: 0.4697 - val_accuracy: 0.7840\n",
            "Epoch 14/100\n",
            "313/313 [==============================] - 3s 8ms/step - loss: 0.4624 - accuracy: 0.7908 - val_loss: 0.4627 - val_accuracy: 0.7906\n",
            "Epoch 15/100\n",
            "313/313 [==============================] - 3s 8ms/step - loss: 0.4527 - accuracy: 0.7953 - val_loss: 0.4557 - val_accuracy: 0.7888\n",
            "Epoch 16/100\n",
            "313/313 [==============================] - 3s 8ms/step - loss: 0.4485 - accuracy: 0.7972 - val_loss: 0.4533 - val_accuracy: 0.7934\n",
            "Epoch 17/100\n",
            "313/313 [==============================] - 3s 8ms/step - loss: 0.4442 - accuracy: 0.7979 - val_loss: 0.4491 - val_accuracy: 0.7918\n",
            "Epoch 18/100\n",
            "313/313 [==============================] - 3s 8ms/step - loss: 0.4399 - accuracy: 0.8026 - val_loss: 0.4462 - val_accuracy: 0.7964\n",
            "Epoch 19/100\n",
            "313/313 [==============================] - 3s 8ms/step - loss: 0.4361 - accuracy: 0.8033 - val_loss: 0.4462 - val_accuracy: 0.7894\n",
            "Epoch 20/100\n",
            "313/313 [==============================] - 3s 8ms/step - loss: 0.4346 - accuracy: 0.8015 - val_loss: 0.4409 - val_accuracy: 0.7962\n",
            "Epoch 21/100\n",
            "313/313 [==============================] - 3s 8ms/step - loss: 0.4315 - accuracy: 0.8053 - val_loss: 0.4394 - val_accuracy: 0.7966\n",
            "Epoch 22/100\n",
            "313/313 [==============================] - 3s 8ms/step - loss: 0.4275 - accuracy: 0.8064 - val_loss: 0.4426 - val_accuracy: 0.7962\n",
            "Epoch 23/100\n",
            "313/313 [==============================] - 3s 9ms/step - loss: 0.4262 - accuracy: 0.8082 - val_loss: 0.4421 - val_accuracy: 0.7894\n",
            "Epoch 24/100\n",
            "313/313 [==============================] - 3s 8ms/step - loss: 0.4261 - accuracy: 0.8060 - val_loss: 0.4366 - val_accuracy: 0.7992\n",
            "Epoch 25/100\n",
            "313/313 [==============================] - 3s 8ms/step - loss: 0.4240 - accuracy: 0.8087 - val_loss: 0.4346 - val_accuracy: 0.7966\n",
            "Epoch 26/100\n",
            "313/313 [==============================] - 3s 8ms/step - loss: 0.4244 - accuracy: 0.8067 - val_loss: 0.4337 - val_accuracy: 0.7978\n",
            "Epoch 27/100\n",
            "313/313 [==============================] - 3s 8ms/step - loss: 0.4237 - accuracy: 0.8058 - val_loss: 0.4329 - val_accuracy: 0.7966\n",
            "Epoch 28/100\n",
            "313/313 [==============================] - 3s 8ms/step - loss: 0.4211 - accuracy: 0.8084 - val_loss: 0.4327 - val_accuracy: 0.7964\n",
            "Epoch 29/100\n",
            "313/313 [==============================] - 3s 8ms/step - loss: 0.4196 - accuracy: 0.8083 - val_loss: 0.4316 - val_accuracy: 0.7982\n",
            "Epoch 30/100\n",
            "313/313 [==============================] - 3s 8ms/step - loss: 0.4186 - accuracy: 0.8091 - val_loss: 0.4318 - val_accuracy: 0.7958\n",
            "Epoch 31/100\n",
            "313/313 [==============================] - 3s 8ms/step - loss: 0.4169 - accuracy: 0.8111 - val_loss: 0.4313 - val_accuracy: 0.8002\n",
            "Epoch 32/100\n",
            "313/313 [==============================] - 3s 8ms/step - loss: 0.4176 - accuracy: 0.8107 - val_loss: 0.4327 - val_accuracy: 0.8022\n",
            "Epoch 33/100\n",
            "313/313 [==============================] - 4s 12ms/step - loss: 0.4164 - accuracy: 0.8097 - val_loss: 0.4308 - val_accuracy: 0.7960\n",
            "Epoch 34/100\n",
            "313/313 [==============================] - 4s 13ms/step - loss: 0.4154 - accuracy: 0.8095 - val_loss: 0.4312 - val_accuracy: 0.8040\n",
            "Epoch 35/100\n",
            "313/313 [==============================] - 3s 8ms/step - loss: 0.4139 - accuracy: 0.8117 - val_loss: 0.4305 - val_accuracy: 0.7976\n",
            "Epoch 36/100\n",
            "313/313 [==============================] - 3s 8ms/step - loss: 0.4137 - accuracy: 0.8125 - val_loss: 0.4287 - val_accuracy: 0.7992\n",
            "Epoch 37/100\n",
            "313/313 [==============================] - 3s 8ms/step - loss: 0.4130 - accuracy: 0.8122 - val_loss: 0.4293 - val_accuracy: 0.8024\n",
            "Epoch 38/100\n",
            "313/313 [==============================] - 3s 8ms/step - loss: 0.4126 - accuracy: 0.8130 - val_loss: 0.4297 - val_accuracy: 0.8040\n",
            "Epoch 39/100\n",
            "313/313 [==============================] - 4s 12ms/step - loss: 0.4119 - accuracy: 0.8127 - val_loss: 0.4294 - val_accuracy: 0.8040\n"
          ]
        }
      ]
    },
    {
      "cell_type": "code",
      "source": [
        "plot_history(history)"
      ],
      "metadata": {
        "colab": {
          "base_uri": "https://localhost:8080/",
          "height": 279
        },
        "id": "YNT4tFAUwBzt",
        "outputId": "fd7cf8de-1463-4ca7-ff1f-9bb46bea100a"
      },
      "execution_count": 12,
      "outputs": [
        {
          "output_type": "display_data",
          "data": {
            "text/plain": [
              "<Figure size 432x288 with 1 Axes>"
            ],
            "image/png": "[encoded data removed]"
          },
          "metadata": {
            "needs_background": "light"
          }
        }
      ]
    },
    {
      "cell_type": "code",
      "source": [
        "model3 = keras.Sequential()\n",
        "model3.add(keras.layers.Embedding(500, 16, input_length=100))\n",
        "model3.add(keras.layers.LSTM(8, dropout=0.3, return_sequences=True))\n",
        "model3.add(keras.layers.LSTM(8, dropout=0.3))\n",
        "model3.add(keras.layers.Dense(1, activation='sigmoid'))\n",
        "\n",
        "rmsprop = keras.optimizers.RMSprop(learning_rate=1e-4)\n",
        "model3.compile(optimizer=rmsprop, loss='binary_crossentropy',\n",
        "              metrics=['accuracy'])\n",
        "checkpoint_cb = keras.callbacks.ModelCheckpoint('best-2rnn-model.h5',\n",
        "                                                save_best_only=True)\n",
        "early_stopping_cb = keras.callbacks.EarlyStopping(patience=3,\n",
        "                                                  restore_best_weights=True)\n",
        "\n",
        "history = model3.fit(train_seq, train_target, epochs=100, batch_size=64,\n",
        "                    validation_data=(val_seq, val_target),\n",
        "                    callbacks=[checkpoint_cb, early_stopping_cb])"
      ],
      "metadata": {
        "colab": {
          "base_uri": "https://localhost:8080/"
        },
        "id": "Ns2qm2ZUwEkt",
        "outputId": "024963ac-27ea-42a6-f894-e5f31125fa7e"
      },
      "execution_count": 13,
      "outputs": [
        {
          "output_type": "stream",
          "name": "stdout",
          "text": [
            "Epoch 1/100\n",
            "313/313 [==============================] - 13s 24ms/step - loss: 0.6929 - accuracy: 0.5124 - val_loss: 0.6924 - val_accuracy: 0.5586\n",
            "Epoch 2/100\n",
            "313/313 [==============================] - 4s 12ms/step - loss: 0.6911 - accuracy: 0.5803 - val_loss: 0.6895 - val_accuracy: 0.6226\n",
            "Epoch 3/100\n",
            "313/313 [==============================] - 4s 12ms/step - loss: 0.6843 - accuracy: 0.6321 - val_loss: 0.6769 - val_accuracy: 0.6550\n",
            "Epoch 4/100\n",
            "313/313 [==============================] - 4s 12ms/step - loss: 0.6540 - accuracy: 0.6741 - val_loss: 0.6191 - val_accuracy: 0.7014\n",
            "Epoch 5/100\n",
            "313/313 [==============================] - 4s 12ms/step - loss: 0.5798 - accuracy: 0.7121 - val_loss: 0.5515 - val_accuracy: 0.7290\n",
            "Epoch 6/100\n",
            "313/313 [==============================] - 4s 13ms/step - loss: 0.5396 - accuracy: 0.7387 - val_loss: 0.5253 - val_accuracy: 0.7470\n",
            "Epoch 7/100\n",
            "313/313 [==============================] - 4s 14ms/step - loss: 0.5216 - accuracy: 0.7501 - val_loss: 0.5138 - val_accuracy: 0.7552\n",
            "Epoch 8/100\n",
            "313/313 [==============================] - 4s 12ms/step - loss: 0.5061 - accuracy: 0.7599 - val_loss: 0.4981 - val_accuracy: 0.7632\n",
            "Epoch 9/100\n",
            "313/313 [==============================] - 4s 12ms/step - loss: 0.4935 - accuracy: 0.7687 - val_loss: 0.4903 - val_accuracy: 0.7632\n",
            "Epoch 10/100\n",
            "313/313 [==============================] - 4s 12ms/step - loss: 0.4832 - accuracy: 0.7753 - val_loss: 0.4791 - val_accuracy: 0.7734\n",
            "Epoch 11/100\n",
            "313/313 [==============================] - 4s 12ms/step - loss: 0.4741 - accuracy: 0.7808 - val_loss: 0.4736 - val_accuracy: 0.7736\n",
            "Epoch 12/100\n",
            "313/313 [==============================] - 4s 14ms/step - loss: 0.4695 - accuracy: 0.7813 - val_loss: 0.4689 - val_accuracy: 0.7786\n",
            "Epoch 13/100\n",
            "313/313 [==============================] - 4s 12ms/step - loss: 0.4636 - accuracy: 0.7858 - val_loss: 0.4650 - val_accuracy: 0.7804\n",
            "Epoch 14/100\n",
            "313/313 [==============================] - 4s 12ms/step - loss: 0.4598 - accuracy: 0.7883 - val_loss: 0.4651 - val_accuracy: 0.7832\n",
            "Epoch 15/100\n",
            "313/313 [==============================] - 4s 12ms/step - loss: 0.4578 - accuracy: 0.7897 - val_loss: 0.4589 - val_accuracy: 0.7882\n",
            "Epoch 16/100\n",
            "313/313 [==============================] - 4s 12ms/step - loss: 0.4513 - accuracy: 0.7933 - val_loss: 0.4561 - val_accuracy: 0.7886\n",
            "Epoch 17/100\n",
            "313/313 [==============================] - 4s 12ms/step - loss: 0.4511 - accuracy: 0.7934 - val_loss: 0.4561 - val_accuracy: 0.7882\n",
            "Epoch 18/100\n",
            "313/313 [==============================] - 4s 12ms/step - loss: 0.4462 - accuracy: 0.7950 - val_loss: 0.4544 - val_accuracy: 0.7930\n",
            "Epoch 19/100\n",
            "313/313 [==============================] - 4s 12ms/step - loss: 0.4452 - accuracy: 0.7954 - val_loss: 0.4512 - val_accuracy: 0.7900\n",
            "Epoch 20/100\n",
            "313/313 [==============================] - 4s 13ms/step - loss: 0.4445 - accuracy: 0.7978 - val_loss: 0.4500 - val_accuracy: 0.7926\n",
            "Epoch 21/100\n",
            "313/313 [==============================] - 4s 14ms/step - loss: 0.4424 - accuracy: 0.7972 - val_loss: 0.4570 - val_accuracy: 0.7836\n",
            "Epoch 22/100\n",
            "313/313 [==============================] - 4s 12ms/step - loss: 0.4399 - accuracy: 0.7977 - val_loss: 0.4473 - val_accuracy: 0.7900\n",
            "Epoch 23/100\n",
            "313/313 [==============================] - 4s 13ms/step - loss: 0.4383 - accuracy: 0.7991 - val_loss: 0.4455 - val_accuracy: 0.7936\n",
            "Epoch 24/100\n",
            "313/313 [==============================] - 4s 12ms/step - loss: 0.4357 - accuracy: 0.8024 - val_loss: 0.4468 - val_accuracy: 0.7902\n",
            "Epoch 25/100\n",
            "313/313 [==============================] - 4s 12ms/step - loss: 0.4329 - accuracy: 0.8044 - val_loss: 0.4432 - val_accuracy: 0.7956\n",
            "Epoch 26/100\n",
            "313/313 [==============================] - 4s 12ms/step - loss: 0.4333 - accuracy: 0.8026 - val_loss: 0.4469 - val_accuracy: 0.7906\n",
            "Epoch 27/100\n",
            "313/313 [==============================] - 4s 12ms/step - loss: 0.4329 - accuracy: 0.8024 - val_loss: 0.4410 - val_accuracy: 0.7958\n",
            "Epoch 28/100\n",
            "313/313 [==============================] - 4s 12ms/step - loss: 0.4313 - accuracy: 0.8034 - val_loss: 0.4407 - val_accuracy: 0.7970\n",
            "Epoch 29/100\n",
            "313/313 [==============================] - 4s 12ms/step - loss: 0.4303 - accuracy: 0.8038 - val_loss: 0.4399 - val_accuracy: 0.7968\n",
            "Epoch 30/100\n",
            "313/313 [==============================] - 4s 12ms/step - loss: 0.4265 - accuracy: 0.8058 - val_loss: 0.4383 - val_accuracy: 0.7962\n",
            "Epoch 31/100\n",
            "313/313 [==============================] - 4s 12ms/step - loss: 0.4258 - accuracy: 0.8079 - val_loss: 0.4386 - val_accuracy: 0.7964\n",
            "Epoch 32/100\n",
            "313/313 [==============================] - 4s 12ms/step - loss: 0.4267 - accuracy: 0.8066 - val_loss: 0.4397 - val_accuracy: 0.7972\n",
            "Epoch 33/100\n",
            "313/313 [==============================] - 4s 12ms/step - loss: 0.4260 - accuracy: 0.8041 - val_loss: 0.4366 - val_accuracy: 0.7974\n",
            "Epoch 34/100\n",
            "313/313 [==============================] - 4s 12ms/step - loss: 0.4257 - accuracy: 0.8048 - val_loss: 0.4363 - val_accuracy: 0.7982\n",
            "Epoch 35/100\n",
            "313/313 [==============================] - 4s 12ms/step - loss: 0.4220 - accuracy: 0.8062 - val_loss: 0.4376 - val_accuracy: 0.8004\n",
            "Epoch 36/100\n",
            "313/313 [==============================] - 4s 13ms/step - loss: 0.4229 - accuracy: 0.8092 - val_loss: 0.4354 - val_accuracy: 0.8006\n",
            "Epoch 37/100\n",
            "313/313 [==============================] - 4s 12ms/step - loss: 0.4196 - accuracy: 0.8098 - val_loss: 0.4372 - val_accuracy: 0.8004\n",
            "Epoch 38/100\n",
            "313/313 [==============================] - 4s 12ms/step - loss: 0.4212 - accuracy: 0.8099 - val_loss: 0.4362 - val_accuracy: 0.7992\n",
            "Epoch 39/100\n",
            "313/313 [==============================] - 4s 12ms/step - loss: 0.4208 - accuracy: 0.8076 - val_loss: 0.4348 - val_accuracy: 0.8024\n",
            "Epoch 40/100\n",
            "313/313 [==============================] - 4s 12ms/step - loss: 0.4194 - accuracy: 0.8099 - val_loss: 0.4447 - val_accuracy: 0.7884\n",
            "Epoch 41/100\n",
            "313/313 [==============================] - 4s 12ms/step - loss: 0.4184 - accuracy: 0.8099 - val_loss: 0.4329 - val_accuracy: 0.8012\n",
            "Epoch 42/100\n",
            "313/313 [==============================] - 4s 12ms/step - loss: 0.4195 - accuracy: 0.8105 - val_loss: 0.4349 - val_accuracy: 0.7998\n",
            "Epoch 43/100\n",
            "313/313 [==============================] - 4s 12ms/step - loss: 0.4184 - accuracy: 0.8098 - val_loss: 0.4341 - val_accuracy: 0.8018\n",
            "Epoch 44/100\n",
            "313/313 [==============================] - 4s 12ms/step - loss: 0.4177 - accuracy: 0.8095 - val_loss: 0.4350 - val_accuracy: 0.8012\n"
          ]
        }
      ]
    },
    {
      "cell_type": "code",
      "source": [
        "model3.summary()"
      ],
      "metadata": {
        "colab": {
          "base_uri": "https://localhost:8080/"
        },
        "id": "iOYqBW5Zxd15",
        "outputId": "2b06c665-eb74-4d8c-8922-331f02b46beb"
      },
      "execution_count": 14,
      "outputs": [
        {
          "output_type": "stream",
          "name": "stdout",
          "text": [
            "Model: \"sequential_3\"\n",
            "_________________________________________________________________\n",
            " Layer (type)                Output Shape              Param #   \n",
            "=================================================================\n",
            " embedding_3 (Embedding)     (None, 100, 16)           8000      \n",
            "                                                                 \n",
            " lstm_3 (LSTM)               (None, 100, 8)            800       \n",
            "                                                                 \n",
            " lstm_4 (LSTM)               (None, 8)                 544       \n",
            "                                                                 \n",
            " dense_3 (Dense)             (None, 1)                 9         \n",
            "                                                                 \n",
            "=================================================================\n",
            "Total params: 9,353\n",
            "Trainable params: 9,353\n",
            "Non-trainable params: 0\n",
            "_________________________________________________________________\n"
          ]
        }
      ]
    },
    {
      "cell_type": "code",
      "source": [
        "plot_history(history)"
      ],
      "metadata": {
        "colab": {
          "base_uri": "https://localhost:8080/",
          "height": 279
        },
        "id": "emp8qi_LxfQ7",
        "outputId": "131c7bcc-88a5-4197-80e0-9fc08552ea57"
      },
      "execution_count": 15,
      "outputs": [
        {
          "output_type": "display_data",
          "data": {
            "text/plain": [
              "<Figure size 432x288 with 1 Axes>"
            ],
            "image/png": "[encoded data removed]"
          },
          "metadata": {
            "needs_background": "light"
          }
        }
      ]
    },
    {
      "cell_type": "code",
      "source": [
        "model4 = keras.Sequential()\n",
        "model4.add(keras.layers.Embedding(500, 16, input_length=100))\n",
        "model4.add(keras.layers.GRU(8))\n",
        "model4.add(keras.layers.Dense(1, activation='sigmoid'))\n",
        "\n",
        "rmsprop = keras.optimizers.RMSprop(learning_rate=1e-4)\n",
        "model4.compile(optimizer=rmsprop, loss='binary_crossentropy',\n",
        "              metrics=['accuracy'])\n",
        "checkpoint_cb = keras.callbacks.ModelCheckpoint('best-gru-model.h5',\n",
        "                                                save_best_only=True)\n",
        "early_stopping_cb = keras.callbacks.EarlyStopping(patience=3,\n",
        "                                                  restore_best_weights=True)\n",
        "\n",
        "history = model4.fit(train_seq, train_target, epochs=100, batch_size=64,\n",
        "                    validation_data=(val_seq, val_target),\n",
        "                    callbacks=[checkpoint_cb, early_stopping_cb])"
      ],
      "metadata": {
        "colab": {
          "base_uri": "https://localhost:8080/"
        },
        "id": "vUiraVaJxgeP",
        "outputId": "e39ad249-33ca-4a82-ad57-9187913bcdfc"
      },
      "execution_count": 16,
      "outputs": [
        {
          "output_type": "stream",
          "name": "stdout",
          "text": [
            "Epoch 1/100\n",
            "313/313 [==============================] - 6s 11ms/step - loss: 0.6924 - accuracy: 0.5240 - val_loss: 0.6913 - val_accuracy: 0.5582\n",
            "Epoch 2/100\n",
            "313/313 [==============================] - 3s 10ms/step - loss: 0.6903 - accuracy: 0.5625 - val_loss: 0.6890 - val_accuracy: 0.5800\n",
            "Epoch 3/100\n",
            "313/313 [==============================] - 3s 10ms/step - loss: 0.6868 - accuracy: 0.5885 - val_loss: 0.6850 - val_accuracy: 0.5962\n",
            "Epoch 4/100\n",
            "313/313 [==============================] - 3s 10ms/step - loss: 0.6812 - accuracy: 0.6050 - val_loss: 0.6784 - val_accuracy: 0.6098\n",
            "Epoch 5/100\n",
            "313/313 [==============================] - 3s 8ms/step - loss: 0.6720 - accuracy: 0.6230 - val_loss: 0.6680 - val_accuracy: 0.6238\n",
            "Epoch 6/100\n",
            "313/313 [==============================] - 3s 8ms/step - loss: 0.6574 - accuracy: 0.6409 - val_loss: 0.6512 - val_accuracy: 0.6352\n",
            "Epoch 7/100\n",
            "313/313 [==============================] - 2s 8ms/step - loss: 0.6341 - accuracy: 0.6615 - val_loss: 0.6239 - val_accuracy: 0.6628\n",
            "Epoch 8/100\n",
            "313/313 [==============================] - 2s 8ms/step - loss: 0.5937 - accuracy: 0.6891 - val_loss: 0.5768 - val_accuracy: 0.7042\n",
            "Epoch 9/100\n",
            "313/313 [==============================] - 2s 8ms/step - loss: 0.5442 - accuracy: 0.7275 - val_loss: 0.5406 - val_accuracy: 0.7308\n",
            "Epoch 10/100\n",
            "313/313 [==============================] - 3s 8ms/step - loss: 0.5199 - accuracy: 0.7473 - val_loss: 0.5254 - val_accuracy: 0.7456\n",
            "Epoch 11/100\n",
            "313/313 [==============================] - 2s 8ms/step - loss: 0.5049 - accuracy: 0.7576 - val_loss: 0.5129 - val_accuracy: 0.7566\n",
            "Epoch 12/100\n",
            "313/313 [==============================] - 2s 8ms/step - loss: 0.4939 - accuracy: 0.7649 - val_loss: 0.5039 - val_accuracy: 0.7590\n",
            "Epoch 13/100\n",
            "313/313 [==============================] - 2s 8ms/step - loss: 0.4846 - accuracy: 0.7699 - val_loss: 0.4957 - val_accuracy: 0.7666\n",
            "Epoch 14/100\n",
            "313/313 [==============================] - 2s 8ms/step - loss: 0.4760 - accuracy: 0.7757 - val_loss: 0.4900 - val_accuracy: 0.7640\n",
            "Epoch 15/100\n",
            "313/313 [==============================] - 2s 8ms/step - loss: 0.4688 - accuracy: 0.7798 - val_loss: 0.4819 - val_accuracy: 0.7736\n",
            "Epoch 16/100\n",
            "313/313 [==============================] - 2s 8ms/step - loss: 0.4624 - accuracy: 0.7837 - val_loss: 0.4786 - val_accuracy: 0.7678\n",
            "Epoch 17/100\n",
            "313/313 [==============================] - 2s 8ms/step - loss: 0.4565 - accuracy: 0.7883 - val_loss: 0.4720 - val_accuracy: 0.7794\n",
            "Epoch 18/100\n",
            "313/313 [==============================] - 2s 8ms/step - loss: 0.4517 - accuracy: 0.7910 - val_loss: 0.4678 - val_accuracy: 0.7810\n",
            "Epoch 19/100\n",
            "313/313 [==============================] - 2s 8ms/step - loss: 0.4475 - accuracy: 0.7925 - val_loss: 0.4644 - val_accuracy: 0.7806\n",
            "Epoch 20/100\n",
            "313/313 [==============================] - 3s 8ms/step - loss: 0.4430 - accuracy: 0.7966 - val_loss: 0.4618 - val_accuracy: 0.7810\n",
            "Epoch 21/100\n",
            "313/313 [==============================] - 2s 8ms/step - loss: 0.4395 - accuracy: 0.7990 - val_loss: 0.4568 - val_accuracy: 0.7848\n",
            "Epoch 22/100\n",
            "313/313 [==============================] - 3s 8ms/step - loss: 0.4365 - accuracy: 0.7998 - val_loss: 0.4540 - val_accuracy: 0.7874\n",
            "Epoch 23/100\n",
            "313/313 [==============================] - 2s 8ms/step - loss: 0.4336 - accuracy: 0.8013 - val_loss: 0.4516 - val_accuracy: 0.7892\n",
            "Epoch 24/100\n",
            "313/313 [==============================] - 2s 8ms/step - loss: 0.4311 - accuracy: 0.8055 - val_loss: 0.4514 - val_accuracy: 0.7864\n",
            "Epoch 25/100\n",
            "313/313 [==============================] - 2s 8ms/step - loss: 0.4291 - accuracy: 0.8052 - val_loss: 0.4497 - val_accuracy: 0.7862\n",
            "Epoch 26/100\n",
            "313/313 [==============================] - 2s 8ms/step - loss: 0.4265 - accuracy: 0.8082 - val_loss: 0.4475 - val_accuracy: 0.7946\n",
            "Epoch 27/100\n",
            "313/313 [==============================] - 2s 8ms/step - loss: 0.4246 - accuracy: 0.8091 - val_loss: 0.4451 - val_accuracy: 0.7900\n",
            "Epoch 28/100\n",
            "313/313 [==============================] - 3s 8ms/step - loss: 0.4232 - accuracy: 0.8110 - val_loss: 0.4498 - val_accuracy: 0.7884\n",
            "Epoch 29/100\n",
            "313/313 [==============================] - 2s 8ms/step - loss: 0.4216 - accuracy: 0.8104 - val_loss: 0.4432 - val_accuracy: 0.7922\n",
            "Epoch 30/100\n",
            "313/313 [==============================] - 2s 8ms/step - loss: 0.4199 - accuracy: 0.8110 - val_loss: 0.4429 - val_accuracy: 0.7930\n",
            "Epoch 31/100\n",
            "313/313 [==============================] - 2s 8ms/step - loss: 0.4190 - accuracy: 0.8128 - val_loss: 0.4420 - val_accuracy: 0.7920\n",
            "Epoch 32/100\n",
            "313/313 [==============================] - 2s 8ms/step - loss: 0.4179 - accuracy: 0.8127 - val_loss: 0.4419 - val_accuracy: 0.7930\n",
            "Epoch 33/100\n",
            "313/313 [==============================] - 2s 8ms/step - loss: 0.4170 - accuracy: 0.8138 - val_loss: 0.4419 - val_accuracy: 0.7984\n",
            "Epoch 34/100\n",
            "313/313 [==============================] - 3s 8ms/step - loss: 0.4166 - accuracy: 0.8141 - val_loss: 0.4403 - val_accuracy: 0.7960\n",
            "Epoch 35/100\n",
            "313/313 [==============================] - 2s 8ms/step - loss: 0.4152 - accuracy: 0.8150 - val_loss: 0.4406 - val_accuracy: 0.7974\n",
            "Epoch 36/100\n",
            "313/313 [==============================] - 2s 8ms/step - loss: 0.4146 - accuracy: 0.8141 - val_loss: 0.4401 - val_accuracy: 0.7966\n",
            "Epoch 37/100\n",
            "313/313 [==============================] - 2s 8ms/step - loss: 0.4142 - accuracy: 0.8151 - val_loss: 0.4431 - val_accuracy: 0.7950\n",
            "Epoch 38/100\n",
            "313/313 [==============================] - 3s 8ms/step - loss: 0.4136 - accuracy: 0.8153 - val_loss: 0.4384 - val_accuracy: 0.7954\n",
            "Epoch 39/100\n",
            "313/313 [==============================] - 4s 11ms/step - loss: 0.4132 - accuracy: 0.8164 - val_loss: 0.4386 - val_accuracy: 0.7932\n",
            "Epoch 40/100\n",
            "313/313 [==============================] - 3s 9ms/step - loss: 0.4125 - accuracy: 0.8160 - val_loss: 0.4429 - val_accuracy: 0.7914\n",
            "Epoch 41/100\n",
            "313/313 [==============================] - 2s 8ms/step - loss: 0.4119 - accuracy: 0.8156 - val_loss: 0.4388 - val_accuracy: 0.7972\n"
          ]
        }
      ]
    },
    {
      "cell_type": "code",
      "source": [
        "model4.summary()"
      ],
      "metadata": {
        "colab": {
          "base_uri": "https://localhost:8080/"
        },
        "id": "7eCs-w900wI4",
        "outputId": "598015d7-deee-4c96-a366-8080f24c61b7"
      },
      "execution_count": 17,
      "outputs": [
        {
          "output_type": "stream",
          "name": "stdout",
          "text": [
            "Model: \"sequential_4\"\n",
            "_________________________________________________________________\n",
            " Layer (type)                Output Shape              Param #   \n",
            "=================================================================\n",
            " embedding_4 (Embedding)     (None, 100, 16)           8000      \n",
            "                                                                 \n",
            " gru (GRU)                   (None, 8)                 624       \n",
            "                                                                 \n",
            " dense_4 (Dense)             (None, 1)                 9         \n",
            "                                                                 \n",
            "=================================================================\n",
            "Total params: 8,633\n",
            "Trainable params: 8,633\n",
            "Non-trainable params: 0\n",
            "_________________________________________________________________\n"
          ]
        }
      ]
    },
    {
      "cell_type": "code",
      "source": [
        "plot_history(history)"
      ],
      "metadata": {
        "colab": {
          "base_uri": "https://localhost:8080/",
          "height": 279
        },
        "id": "-c1dwRIQ0xqx",
        "outputId": "b193087f-c3c2-4711-fb83-2b9676f6e75b"
      },
      "execution_count": 18,
      "outputs": [
        {
          "output_type": "display_data",
          "data": {
            "text/plain": [
              "<Figure size 432x288 with 1 Axes>"
            ],
            "image/png": "[encoded data removed]"
          },
          "metadata": {
            "needs_background": "light"
          }
        }
      ]
    },
    {
      "cell_type": "code",
      "source": [
        "test_seq = pad_sequences(test_input, maxlen=100)\n",
        "dropout_model = keras.models.load_model('best-dropout-model.h5')\n",
        "dropout_model.evaluate(test_seq, test_target)"
      ],
      "metadata": {
        "colab": {
          "base_uri": "https://localhost:8080/"
        },
        "id": "Az8lFfqs0zTR",
        "outputId": "11184444-d95b-4959-8300-2baa2a6ac7b1"
      },
      "execution_count": 19,
      "outputs": [
        {
          "output_type": "stream",
          "name": "stdout",
          "text": [
            "782/782 [==============================] - 5s 5ms/step - loss: 0.4268 - accuracy: 0.8007\n"
          ]
        },
        {
          "output_type": "execute_result",
          "data": {
            "text/plain": [
              "[0.4268094003200531, 0.8006799817085266]"
            ]
          },
          "metadata": {},
          "execution_count": 19
        }
      ]
    },
    {
      "cell_type": "code",
      "source": [
        ""
      ],
      "metadata": {
        "id": "Q-tusYg81hbo"
      },
      "execution_count": null,
      "outputs": []
    }
  ]
}