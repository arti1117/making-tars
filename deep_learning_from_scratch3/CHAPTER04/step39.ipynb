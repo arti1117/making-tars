{
 "cells": [
  {
   "cell_type": "code",
   "execution_count": 1,
   "id": "e5e5c736",
   "metadata": {},
   "outputs": [],
   "source": [
    "import sys\n",
    "sys.path.append('..')\n",
    "import numpy as np\n",
    "from dezero import *"
   ]
  },
  {
   "cell_type": "code",
   "execution_count": 2,
   "id": "db7bfb9d",
   "metadata": {},
   "outputs": [
    {
     "name": "stdout",
     "output_type": "stream",
     "text": [
      "variable(21)\n",
      "variable([1 1 1 1 1 1])\n"
     ]
    }
   ],
   "source": [
    "x = Variable(np.array([1, 2, 3, 4, 5, 6]))\n",
    "y = F.sum(x)\n",
    "y.backward()\n",
    "print(y)\n",
    "print(x.grad)"
   ]
  },
  {
   "cell_type": "code",
   "execution_count": 3,
   "id": "4e3b127e",
   "metadata": {},
   "outputs": [
    {
     "name": "stdout",
     "output_type": "stream",
     "text": [
      "variable(21)\n",
      "variable([[1 1 1]\n",
      "          [1 1 1]])\n"
     ]
    }
   ],
   "source": [
    "x = Variable(np.array([[1, 2, 3], [4, 5, 6]]))\n",
    "y = F.sum(x)\n",
    "y.backward()\n",
    "print(y)\n",
    "print(x.grad)"
   ]
  },
  {
   "cell_type": "code",
   "execution_count": 4,
   "id": "c4adb58c",
   "metadata": {},
   "outputs": [
    {
     "name": "stdout",
     "output_type": "stream",
     "text": [
      "[ 6 15]\n"
     ]
    }
   ],
   "source": [
    "x = np.array([[1, 2, 3], [4, 5, 6]])\n",
    "y = np.sum(x, axis=1)\n",
    "print(y)"
   ]
  },
  {
   "cell_type": "code",
   "execution_count": 5,
   "id": "c017d0c4",
   "metadata": {},
   "outputs": [
    {
     "name": "stdout",
     "output_type": "stream",
     "text": [
      "[[1 2 3]\n",
      " [4 5 6]]\n"
     ]
    }
   ],
   "source": [
    "print(x)"
   ]
  },
  {
   "cell_type": "code",
   "execution_count": 6,
   "id": "2bf06df6",
   "metadata": {},
   "outputs": [
    {
     "name": "stdout",
     "output_type": "stream",
     "text": [
      "[[21]]\n"
     ]
    }
   ],
   "source": [
    "y = np.sum(x, keepdims=True)\n",
    "print(y)\n"
   ]
  },
  {
   "cell_type": "code",
   "execution_count": 7,
   "id": "da4b411d",
   "metadata": {},
   "outputs": [
    {
     "data": {
      "text/plain": [
       "2"
      ]
     },
     "execution_count": 7,
     "metadata": {},
     "output_type": "execute_result"
    }
   ],
   "source": [
    "y.ndim"
   ]
  },
  {
   "cell_type": "code",
   "execution_count": 8,
   "id": "a273bb72",
   "metadata": {},
   "outputs": [
    {
     "name": "stdout",
     "output_type": "stream",
     "text": [
      "variable([5 7 9])\n",
      "variable([[1 1 1]\n",
      "          [1 1 1]])\n"
     ]
    }
   ],
   "source": [
    "x = Variable(np.array([[1, 2, 3], [4, 5, 6]]))\n",
    "y = F.sum(x, axis=0)\n",
    "y.backward()\n",
    "print(y)\n",
    "print(x.grad)"
   ]
  },
  {
   "cell_type": "code",
   "execution_count": 9,
   "id": "22deb700",
   "metadata": {},
   "outputs": [
    {
     "name": "stdout",
     "output_type": "stream",
     "text": [
      "variable([[[[-7.35133839e-01  1.16086458e+00  1.87928395e+00  2.38973637e-01\n",
      "             -4.40826060e-04]\n",
      "            [-6.29768795e-01  1.07688759e+00  1.32532883e+00  4.33745279e-01\n",
      "             -3.72575351e-01]\n",
      "            [ 1.32680204e+00 -1.69919533e+00  7.21733991e-02  5.46760712e-01\n",
      "              1.36699694e+00]\n",
      "            [-3.02763957e-02  2.37414992e-01  9.03803105e-01 -4.12862068e-01\n",
      "              1.54255368e+00]]\n",
      "         \n",
      "           [[ 9.53848853e-01  8.19246489e-01  1.40584483e-01  3.58341092e-01\n",
      "              1.90268880e+00]\n",
      "            [ 1.35036263e-01 -6.06480150e-01 -1.31894888e+00  1.15139191e-02\n",
      "             -1.85544804e+00]\n",
      "            [ 3.89699522e-01  1.93654262e-01 -8.09902736e-01 -1.56201499e-01\n",
      "              1.40822700e-01]\n",
      "            [ 8.38789945e-01 -4.74730358e-01 -5.94092893e-01 -2.61942569e-01\n",
      "              1.29073487e+00]]\n",
      "         \n",
      "           [[-7.45108927e-01  1.18940431e+00 -1.14774913e+00 -4.72364074e-01\n",
      "              2.10207688e-01]\n",
      "            [ 1.25622816e+00 -2.43964029e-01  2.04771217e-01  1.31402784e+00\n",
      "             -6.59548833e-01]\n",
      "            [ 2.05037132e+00  2.47579276e-01 -1.34776745e+00 -1.02997734e+00\n",
      "              1.40606385e+00]\n",
      "            [-6.93351350e-01  5.38810001e-01 -9.31092531e-01  2.63470028e-02\n",
      "             -8.93366748e-01]]]\n",
      "         \n",
      "         \n",
      "          [[[-6.76799433e-01 -5.45942910e-02  3.55461427e-01 -4.35249423e-01\n",
      "              2.15991820e-01]\n",
      "            [ 4.07996353e-01  7.50121561e-01  2.91405035e-01  4.54604347e-01\n",
      "             -1.55481695e+00]\n",
      "            [-3.63484939e-01 -6.22508705e-01 -3.17372089e-01  8.57796905e-01\n",
      "             -9.40591825e-01]\n",
      "            [ 2.53917430e-01  4.72803433e-01  1.46597528e+00 -1.82244653e+00\n",
      "              8.85256499e-01]]\n",
      "         \n",
      "           [[-1.24859238e-01 -2.11572441e+00 -4.70482798e-01  2.28827393e-01\n",
      "             -1.54777546e-01]\n",
      "            [ 6.75766586e-02 -1.29958782e-01  5.82293268e-01 -5.51365681e-01\n",
      "             -4.03351681e-02]\n",
      "            [ 9.29938053e-01  1.00772092e+00  9.69112887e-02  2.53514264e-01\n",
      "             -1.33778658e+00]\n",
      "            [-1.46735935e+00  4.47901178e-02  7.10239737e-01 -4.05566584e-02\n",
      "             -4.63132330e-01]]\n",
      "         \n",
      "           [[-1.85010355e+00 -5.17216969e-01 -3.52238423e-01  6.79074393e-01\n",
      "             -1.12003953e-01]\n",
      "            [-2.13533540e-01 -2.33099416e+00 -1.61802747e+00  1.16795330e+00\n",
      "              1.40190605e-01]\n",
      "            [ 1.31664319e+00  1.92135243e+00  5.71990483e-01 -1.09770571e+00\n",
      "              1.46479881e+00]\n",
      "            [-5.78191551e-01 -5.88562502e-01  4.04259001e-01 -6.17884522e-01\n",
      "              8.03965891e-01]]]])\n",
      "variable([[[[4.85077529]]]])\n"
     ]
    }
   ],
   "source": [
    "x = Variable(np.random.randn(2, 3, 4, 5))\n",
    "print(x)\n",
    "y = x.sum(keepdims=True)\n",
    "print(y)"
   ]
  },
  {
   "cell_type": "code",
   "execution_count": null,
   "id": "73615a4e",
   "metadata": {},
   "outputs": [],
   "source": []
  }
 ],
 "metadata": {
  "kernelspec": {
   "display_name": "Python 3",
   "language": "python",
   "name": "python3"
  },
  "language_info": {
   "codemirror_mode": {
    "name": "ipython",
    "version": 3
   },
   "file_extension": ".py",
   "mimetype": "text/x-python",
   "name": "python",
   "nbconvert_exporter": "python",
   "pygments_lexer": "ipython3",
   "version": "3.8.2"
  }
 },
 "nbformat": 4,
 "nbformat_minor": 5
}
