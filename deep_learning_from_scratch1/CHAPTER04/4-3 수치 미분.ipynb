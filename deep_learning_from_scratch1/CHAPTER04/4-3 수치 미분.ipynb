{
 "cells": [
  {
   "cell_type": "code",
   "execution_count": 1,
   "id": "547f4ea4",
   "metadata": {},
   "outputs": [],
   "source": [
    "import numpy as np\n",
    "from util import numerical_diff"
   ]
  },
  {
   "cell_type": "code",
   "execution_count": 2,
   "id": "7e2f3127",
   "metadata": {},
   "outputs": [],
   "source": [
    "def fuction_1(x):\n",
    "    return .01 * x ** 2 + .1 * x"
   ]
  },
  {
   "cell_type": "code",
   "execution_count": 3,
   "id": "8bcf4aef",
   "metadata": {},
   "outputs": [],
   "source": [
    "import matplotlib.pylab as plt"
   ]
  },
  {
   "cell_type": "code",
   "execution_count": 4,
   "id": "b74b1f06",
   "metadata": {},
   "outputs": [
    {
     "data": {
      "image/png": "[encoded data removed]",
      "text/plain": [
       "<Figure size 432x288 with 1 Axes>"
      ]
     },
     "metadata": {
      "needs_background": "light"
     },
     "output_type": "display_data"
    }
   ],
   "source": [
    "x = np.arange(0, 20, .1)\n",
    "y = fuction_1(x)\n",
    "plt.xlabel('x')\n",
    "plt.ylabel('y')\n",
    "plt.plot(x, y)\n",
    "plt.show()"
   ]
  },
  {
   "cell_type": "code",
   "execution_count": 5,
   "id": "7665ac88",
   "metadata": {},
   "outputs": [
    {
     "data": {
      "text/plain": [
       "0.1999999999990898"
      ]
     },
     "execution_count": 5,
     "metadata": {},
     "output_type": "execute_result"
    }
   ],
   "source": [
    "numerical_diff(fuction_1, 5)"
   ]
  },
  {
   "cell_type": "code",
   "execution_count": 6,
   "id": "2cb9554c",
   "metadata": {},
   "outputs": [
    {
     "data": {
      "text/plain": [
       "0.2999999999986347"
      ]
     },
     "execution_count": 6,
     "metadata": {},
     "output_type": "execute_result"
    }
   ],
   "source": [
    "numerical_diff(fuction_1, 10)"
   ]
  },
  {
   "cell_type": "code",
   "execution_count": 7,
   "id": "81563708",
   "metadata": {},
   "outputs": [],
   "source": [
    "def function_2(x):\n",
    "    return x[0] ** 2 + x[1] ** 2"
   ]
  },
  {
   "cell_type": "code",
   "execution_count": 8,
   "id": "831649b0",
   "metadata": {},
   "outputs": [
    {
     "data": {
      "text/plain": [
       "6.00000000000378"
      ]
     },
     "execution_count": 8,
     "metadata": {},
     "output_type": "execute_result"
    }
   ],
   "source": [
    "def func_tmp1(x0):\n",
    "    return x0*x0 + 4.0 ** 2\n",
    "\n",
    "numerical_diff(func_tmp1, 3.0)"
   ]
  },
  {
   "cell_type": "code",
   "execution_count": 9,
   "id": "c19d2f27",
   "metadata": {},
   "outputs": [
    {
     "data": {
      "text/plain": [
       "7.999999999999119"
      ]
     },
     "execution_count": 9,
     "metadata": {},
     "output_type": "execute_result"
    }
   ],
   "source": [
    "def func_tmp2(x1):\n",
    "    return 3 ** 2 + x1*x1\n",
    "\n",
    "numerical_diff(func_tmp2, 4)"
   ]
  },
  {
   "cell_type": "code",
   "execution_count": null,
   "id": "116e82ef",
   "metadata": {},
   "outputs": [],
   "source": []
  }
 ],
 "metadata": {
  "kernelspec": {
   "display_name": "Python 3",
   "language": "python",
   "name": "python3"
  },
  "language_info": {
   "codemirror_mode": {
    "name": "ipython",
    "version": 3
   },
   "file_extension": ".py",
   "mimetype": "text/x-python",
   "name": "python",
   "nbconvert_exporter": "python",
   "pygments_lexer": "ipython3",
   "version": "3.8.2"
  }
 },
 "nbformat": 4,
 "nbformat_minor": 5
}
