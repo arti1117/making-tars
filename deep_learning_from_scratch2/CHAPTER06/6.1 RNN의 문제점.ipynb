{
 "cells": [
  {
   "cell_type": "code",
   "execution_count": 1,
   "id": "49607c8c",
   "metadata": {},
   "outputs": [],
   "source": [
    "import numpy as np\n",
    "import matplotlib.pyplot as plt"
   ]
  },
  {
   "cell_type": "code",
   "execution_count": 2,
   "id": "8983f96f",
   "metadata": {},
   "outputs": [],
   "source": [
    "N = 2\n",
    "H = 3\n",
    "T = 20"
   ]
  },
  {
   "cell_type": "code",
   "execution_count": 3,
   "id": "400735ef",
   "metadata": {},
   "outputs": [],
   "source": [
    "dh = np.ones((N, H))\n",
    "np.random.seed(3)\n",
    "Wh = np.random.randn(H, H)"
   ]
  },
  {
   "cell_type": "code",
   "execution_count": 4,
   "id": "4746c8ac",
   "metadata": {},
   "outputs": [],
   "source": [
    "norm_list = []\n",
    "for t in range(T):\n",
    "    dh = np.matmul(dh, Wh.T)\n",
    "    norm = np.sqrt(np.sum(dh**2)) / N\n",
    "    norm_list.append(norm)"
   ]
  },
  {
   "cell_type": "code",
   "execution_count": 5,
   "id": "02910cdc",
   "metadata": {},
   "outputs": [
    {
     "data": {
      "text/plain": [
       "[<matplotlib.lines.Line2D at 0x7f606ea9f8e0>]"
      ]
     },
     "execution_count": 5,
     "metadata": {},
     "output_type": "execute_result"
    },
    {
     "data": {
      "image/png": "[encoded data removed]",
      "text/plain": [
       "<Figure size 432x288 with 1 Axes>"
      ]
     },
     "metadata": {
      "needs_background": "light"
     },
     "output_type": "display_data"
    }
   ],
   "source": [
    "plt.plot(range(T), norm_list)"
   ]
  },
  {
   "cell_type": "code",
   "execution_count": 6,
   "id": "47f784ea",
   "metadata": {},
   "outputs": [],
   "source": [
    "Wh = np.random.randn(H, H) * .5\n",
    "norm_list = []\n",
    "for t in range(T):\n",
    "    dh = np.matmul(dh, Wh.T)\n",
    "    norm = np.sqrt(np.sum(dh**2)) / N\n",
    "    norm_list.append(norm)"
   ]
  },
  {
   "cell_type": "code",
   "execution_count": 7,
   "id": "2e4117e2",
   "metadata": {},
   "outputs": [
    {
     "data": {
      "text/plain": [
       "[<matplotlib.lines.Line2D at 0x7f606e9a8280>]"
      ]
     },
     "execution_count": 7,
     "metadata": {},
     "output_type": "execute_result"
    },
    {
     "data": {
      "image/png": "[encoded data removed]",
      "text/plain": [
       "<Figure size 432x288 with 1 Axes>"
      ]
     },
     "metadata": {
      "needs_background": "light"
     },
     "output_type": "display_data"
    }
   ],
   "source": [
    "plt.plot(range(T), norm_list)"
   ]
  },
  {
   "cell_type": "code",
   "execution_count": 8,
   "id": "ea8c6a89",
   "metadata": {},
   "outputs": [],
   "source": [
    "dW1 = np.random.rand(3, 3) * 10\n",
    "dW2 = np.random.rand(3, 3) * 10\n",
    "grads = [dW1, dW2]\n",
    "max_norm = 5.0"
   ]
  },
  {
   "cell_type": "code",
   "execution_count": 10,
   "id": "6047481c",
   "metadata": {},
   "outputs": [],
   "source": [
    "def clip_grads(grads, max_norm):\n",
    "    total_norm = 0\n",
    "    for grad in grads:\n",
    "        total_norm += np.sum(grad ** 2)\n",
    "    total_norm = np.sqrt(total_norm)\n",
    "    \n",
    "    rate = max_norm / (total_norm + 1e-6)\n",
    "    if rate < 1:\n",
    "        for grad in grads:\n",
    "            grad *= rate"
   ]
  },
  {
   "cell_type": "code",
   "execution_count": 11,
   "id": "80afaec3",
   "metadata": {},
   "outputs": [
    {
     "data": {
      "text/plain": [
       "[array([[2.83525082, 6.93137918, 4.40453718],\n",
       "        [1.56867738, 5.44649018, 7.80314765],\n",
       "        [3.06363532, 2.21957884, 3.87971258]]),\n",
       " array([[9.3638365 , 9.75995422, 6.72383676],\n",
       "        [9.02834109, 8.45750871, 3.77994041],\n",
       "        [0.92217009, 6.53410903, 5.57840762]])]"
      ]
     },
     "execution_count": 11,
     "metadata": {},
     "output_type": "execute_result"
    }
   ],
   "source": [
    "grads"
   ]
  },
  {
   "cell_type": "code",
   "execution_count": 12,
   "id": "1d669fc3",
   "metadata": {},
   "outputs": [
    {
     "data": {
      "text/plain": [
       "[array([[0.54849516, 1.34091414, 0.85208239],\n",
       "        [0.30346943, 1.05365404, 1.50956263],\n",
       "        [0.59267742, 0.42938996, 0.75055213]]),\n",
       " array([[1.81148663, 1.88811783, 1.30076389],\n",
       "        [1.74658316, 1.63615244, 0.73125065],\n",
       "        [0.17839897, 1.26406   , 1.07917421]])]"
      ]
     },
     "execution_count": 12,
     "metadata": {},
     "output_type": "execute_result"
    }
   ],
   "source": [
    "clip_grads(grads, max_norm)\n",
    "grads"
   ]
  },
  {
   "cell_type": "code",
   "execution_count": 13,
   "id": "3303aac8",
   "metadata": {},
   "outputs": [
    {
     "data": {
      "text/plain": [
       "5.0"
      ]
     },
     "execution_count": 13,
     "metadata": {},
     "output_type": "execute_result"
    }
   ],
   "source": [
    "max_norm"
   ]
  },
  {
   "cell_type": "code",
   "execution_count": null,
   "id": "644db5e8",
   "metadata": {},
   "outputs": [],
   "source": []
  }
 ],
 "metadata": {
  "kernelspec": {
   "display_name": "Python 3",
   "language": "python",
   "name": "python3"
  },
  "language_info": {
   "codemirror_mode": {
    "name": "ipython",
    "version": 3
   },
   "file_extension": ".py",
   "mimetype": "text/x-python",
   "name": "python",
   "nbconvert_exporter": "python",
   "pygments_lexer": "ipython3",
   "version": "3.8.2"
  }
 },
 "nbformat": 4,
 "nbformat_minor": 5
}
