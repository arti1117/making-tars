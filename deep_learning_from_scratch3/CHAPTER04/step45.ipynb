{
 "cells": [
  {
   "cell_type": "code",
   "execution_count": 1,
   "id": "889ba457",
   "metadata": {},
   "outputs": [],
   "source": [
    "import sys\n",
    "sys.path.append('..')\n",
    "import numpy as np\n",
    "from dezero import *\n",
    "\n",
    "np.random.rand(100, 1)\n",
    "x = np.random.rand(100, 1)\n",
    "y = np.sin(2 * np.pi * x) + np.random.rand(100, 1)"
   ]
  },
  {
   "cell_type": "code",
   "execution_count": 2,
   "id": "74883317",
   "metadata": {},
   "outputs": [],
   "source": [
    "lr = 0.2\n",
    "max_iter = 10000\n",
    "hidden_size = 10"
   ]
  },
  {
   "cell_type": "code",
   "execution_count": 3,
   "id": "87d32243",
   "metadata": {},
   "outputs": [],
   "source": [
    "class TwoLayerNet(Model):\n",
    "    def __init__(self, hidden_size, out_size):\n",
    "        super().__init__()\n",
    "        self.l1 = L.Linear(hidden_size)\n",
    "        self.l2 = L.Linear(out_size)\n",
    "        \n",
    "    def forward(self, x):\n",
    "        return self.l2(F.sigmoid(self.l1(x)))"
   ]
  },
  {
   "cell_type": "code",
   "execution_count": 4,
   "id": "f78b1fd7",
   "metadata": {},
   "outputs": [],
   "source": [
    "model = TwoLayerNet(hidden_size, 1)"
   ]
  },
  {
   "cell_type": "code",
   "execution_count": 5,
   "id": "c174a638",
   "metadata": {},
   "outputs": [
    {
     "name": "stdout",
     "output_type": "stream",
     "text": [
      "variable(0.5348283505192445)\n",
      "variable(0.25786827323272976)\n",
      "variable(0.22410534268271864)\n",
      "variable(0.1426040882375943)\n",
      "variable(0.08842959734121637)\n",
      "variable(0.09678449562501075)\n",
      "variable(0.09233510025115388)\n",
      "variable(0.08255053997184167)\n",
      "variable(0.08195977908126521)\n",
      "variable(0.08149564195979689)\n"
     ]
    }
   ],
   "source": [
    "for i in range(max_iter):\n",
    "    y_pred = model(x)\n",
    "    loss = F.mean_squared_error(y, y_pred)\n",
    "    \n",
    "    model.cleargrads()\n",
    "    loss.backward()\n",
    "    \n",
    "    for p in model.params():\n",
    "        p.data -= lr * p.grad.data\n",
    "    if i % 1000 == 0:\n",
    "        print(loss)"
   ]
  },
  {
   "cell_type": "code",
   "execution_count": 6,
   "id": "1de2126c",
   "metadata": {},
   "outputs": [],
   "source": [
    "model = MLP((10, 1))"
   ]
  },
  {
   "cell_type": "code",
   "execution_count": 7,
   "id": "806c14ef",
   "metadata": {},
   "outputs": [
    {
     "name": "stdout",
     "output_type": "stream",
     "text": [
      "variable(1.6971647287775031)\n",
      "variable(0.2727534482268069)\n",
      "variable(0.26992468950450704)\n",
      "variable(0.25951101352856726)\n",
      "variable(0.21644075904625684)\n",
      "variable(0.1223271142857173)\n",
      "variable(0.08792850624045209)\n",
      "variable(0.08444334171258522)\n",
      "variable(0.08397166486876399)\n",
      "variable(0.08302154643121297)\n"
     ]
    }
   ],
   "source": [
    "for i in range(max_iter):\n",
    "    y_pred = model(x)\n",
    "    loss = F.mean_squared_error(y, y_pred)\n",
    "    \n",
    "    model.cleargrads()\n",
    "    loss.backward()\n",
    "    \n",
    "    for p in model.params():\n",
    "        p.data -= lr * p.grad.data\n",
    "    if i % 1000 == 0:\n",
    "        print(loss)"
   ]
  },
  {
   "cell_type": "code",
   "execution_count": null,
   "id": "7cce312d",
   "metadata": {},
   "outputs": [],
   "source": []
  }
 ],
 "metadata": {
  "kernelspec": {
   "display_name": "Python 3",
   "language": "python",
   "name": "python3"
  },
  "language_info": {
   "codemirror_mode": {
    "name": "ipython",
    "version": 3
   },
   "file_extension": ".py",
   "mimetype": "text/x-python",
   "name": "python",
   "nbconvert_exporter": "python",
   "pygments_lexer": "ipython3",
   "version": "3.8.2"
  }
 },
 "nbformat": 4,
 "nbformat_minor": 5
}
