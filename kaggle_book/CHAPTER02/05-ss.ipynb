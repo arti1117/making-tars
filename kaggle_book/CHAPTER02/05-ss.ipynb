{
 "cells": [
  {
   "cell_type": "code",
   "execution_count": 1,
   "id": "fcf4c609",
   "metadata": {},
   "outputs": [],
   "source": [
    "def fair(preds, dtrain):\n",
    "    x = preds - dtrain.get_labels()\n",
    "    c = 1.0\n",
    "    den = abs(x) + c\n",
    "    grad = c * x / den\n",
    "    hess = c * c / den ** 2\n",
    "    return grad, hess"
   ]
  },
  {
   "cell_type": "code",
   "execution_count": 2,
   "id": "258c71bf",
   "metadata": {},
   "outputs": [],
   "source": [
    "def psuedo_huber(preds, dtrain):\n",
    "    d = preds - dtrain.get_labels()\n",
    "    delta = 1.0\n",
    "    scale = 1 + (d / delta) ** 2\n",
    "    scale_sqrt = np.sqrt(scale)\n",
    "    grad = d / scale_sqrt\n",
    "    hess = 1 / scale / scale_sqrt\n",
    "    return grad, hess"
   ]
  },
  {
   "cell_type": "code",
   "execution_count": null,
   "id": "ceba0cb0",
   "metadata": {},
   "outputs": [],
   "source": []
  }
 ],
 "metadata": {
  "kernelspec": {
   "display_name": "Python 3",
   "language": "python",
   "name": "python3"
  },
  "language_info": {
   "codemirror_mode": {
    "name": "ipython",
    "version": 3
   },
   "file_extension": ".py",
   "mimetype": "text/x-python",
   "name": "python",
   "nbconvert_exporter": "python",
   "pygments_lexer": "ipython3",
   "version": "3.8.2"
  }
 },
 "nbformat": 4,
 "nbformat_minor": 5
}
