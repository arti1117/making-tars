{
 "cells": [
  {
   "cell_type": "code",
   "execution_count": 1,
   "id": "72548215",
   "metadata": {},
   "outputs": [],
   "source": [
    "import numpy as np\n",
    "import pandas as pd\n",
    "from sklearn.metrics import f1_score\n",
    "from scipy.optimize import minimize\n",
    "from sklearn.model_selection import KFold"
   ]
  },
  {
   "cell_type": "code",
   "execution_count": 2,
   "id": "83bf7932",
   "metadata": {},
   "outputs": [],
   "source": [
    "rand = np.random.RandomState(seed=71)\n",
    "train_y_prob = np.linspace(0, 1, 100000)"
   ]
  },
  {
   "cell_type": "code",
   "execution_count": 3,
   "id": "ec8d36fd",
   "metadata": {},
   "outputs": [],
   "source": [
    "train_y = pd.Series(rand.uniform(0, 1, train_y_prob.size) < train_y_prob)\n",
    "train_pred_prob = np.clip(train_y_prob * np.exp(rand.standard_normal(train_y_prob.shape) * 0.3), 0, 1)"
   ]
  },
  {
   "cell_type": "code",
   "execution_count": 4,
   "id": "ee5db2be",
   "metadata": {},
   "outputs": [],
   "source": [
    "thresholds = []\n",
    "scores_tr = []\n",
    "scores_va = []"
   ]
  },
  {
   "cell_type": "code",
   "execution_count": 5,
   "id": "07cb60bd",
   "metadata": {},
   "outputs": [],
   "source": [
    "kf = KFold(n_splits=4, random_state=71, shuffle=True)\n",
    "for i, (tr_idx, va_idx) in enumerate(kf.split(train_pred_prob)):\n",
    "    tr_pred_prob, va_pred_prob = train_pred_prob[tr_idx], train_pred_prob[va_idx]\n",
    "    tr_y, va_y = train_y.iloc[tr_idx], train_y.iloc[va_idx]\n",
    "    \n",
    "    def f1_opt(x):\n",
    "        return -f1_score(tr_y, tr_pred_prob >= x)\n",
    "    \n",
    "    result = minimize(f1_opt, x0=np.array([0.5]), method=\"Nelder-Mead\")\n",
    "    threshold = result['x'].item()\n",
    "    score_tr = f1_score(tr_y, tr_pred_prob >= threshold)\n",
    "    score_va = f1_score(va_y, va_pred_prob >= threshold)\n",
    "    \n",
    "    thresholds.append(threshold)\n",
    "    scores_tr.append(score_tr)\n",
    "    scores_va.append(score_va)"
   ]
  },
  {
   "cell_type": "code",
   "execution_count": 6,
   "id": "9c5ca4eb",
   "metadata": {},
   "outputs": [
    {
     "name": "stdout",
     "output_type": "stream",
     "text": [
      "0.32277832031249987\n"
     ]
    }
   ],
   "source": [
    "thresold_test = np.mean(thresholds)\n",
    "print(thresold_test)"
   ]
  },
  {
   "cell_type": "code",
   "execution_count": null,
   "id": "a41b995c",
   "metadata": {},
   "outputs": [],
   "source": []
  }
 ],
 "metadata": {
  "kernelspec": {
   "display_name": "Python 3",
   "language": "python",
   "name": "python3"
  },
  "language_info": {
   "codemirror_mode": {
    "name": "ipython",
    "version": 3
   },
   "file_extension": ".py",
   "mimetype": "text/x-python",
   "name": "python",
   "nbconvert_exporter": "python",
   "pygments_lexer": "ipython3",
   "version": "3.8.2"
  }
 },
 "nbformat": 4,
 "nbformat_minor": 5
}
